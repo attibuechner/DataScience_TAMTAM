{
 "cells": [
  {
   "cell_type": "markdown",
   "metadata": {},
   "source": [
    "# The datasets\n",
    "\n",
    "- https://data.worldbank.org/indicator/NY.GDP.MKTP.CD?end=2018&name_desc=false&start=2018&view=map This dataset contains worldwide yearly GDP data\n",
    "- https://climateknowledgeportal.worldbank.org/download-data These datasets contain worldwide data on monthly rainfall(mm), where one captures the years 1961-1990 and the second one covers the years 1991 to 2016"
   ]
  },
  {
   "cell_type": "code",
   "execution_count": 404,
   "metadata": {},
   "outputs": [],
   "source": [
    "# Import libraries, that are needed to fulfill analysis of the data\n",
    "import pandas as pd\n",
    "import numpy as np\n",
    "import csv\n",
    "import matplotlib.pyplot as plt"
   ]
  },
  {
   "cell_type": "code",
   "execution_count": 405,
   "metadata": {},
   "outputs": [],
   "source": [
    "# Import the merged dataset with weather and agricultural data, which was created in the first notebook\n",
    "weath_agr = pd.read_csv('weather_agricult.csv')"
   ]
  },
  {
   "cell_type": "code",
   "execution_count": 406,
   "metadata": {},
   "outputs": [],
   "source": [
    "# Import GDP dataset\n",
    "gdp = pd.read_csv('GDP_61_15_2.csv', delimiter=';', names=range(65))"
   ]
  },
  {
   "cell_type": "code",
   "execution_count": 407,
   "metadata": {},
   "outputs": [],
   "source": [
    "# Import rainfall datasets\n",
    "rain1 = pd.read_csv('rainfall_61_90.csv', names=range(6))\n",
    "rain2 = pd.read_csv('rainfall_91_16.csv', names=range(6))"
   ]
  },
  {
   "cell_type": "markdown",
   "metadata": {},
   "source": [
    "## Get overview of the merged dataset"
   ]
  },
  {
   "cell_type": "code",
   "execution_count": 408,
   "metadata": {
    "scrolled": true
   },
   "outputs": [
    {
     "data": {
      "text/html": [
       "<div>\n",
       "<style scoped>\n",
       "    .dataframe tbody tr th:only-of-type {\n",
       "        vertical-align: middle;\n",
       "    }\n",
       "\n",
       "    .dataframe tbody tr th {\n",
       "        vertical-align: top;\n",
       "    }\n",
       "\n",
       "    .dataframe thead th {\n",
       "        text-align: right;\n",
       "    }\n",
       "</style>\n",
       "<table border=\"1\" class=\"dataframe\">\n",
       "  <thead>\n",
       "    <tr style=\"text-align: right;\">\n",
       "      <th></th>\n",
       "      <th>Temperature(Celsius)</th>\n",
       "      <th>Year</th>\n",
       "      <th>Statistics</th>\n",
       "      <th>Country</th>\n",
       "      <th>Agricultural land in %</th>\n",
       "    </tr>\n",
       "  </thead>\n",
       "  <tbody>\n",
       "    <tr>\n",
       "      <th>0</th>\n",
       "      <td>1.39097</td>\n",
       "      <td>1961</td>\n",
       "      <td>Jan Average</td>\n",
       "      <td>Afghanistan</td>\n",
       "      <td>57.745918</td>\n",
       "    </tr>\n",
       "    <tr>\n",
       "      <th>1</th>\n",
       "      <td>0.90369</td>\n",
       "      <td>1961</td>\n",
       "      <td>Feb Average</td>\n",
       "      <td>Afghanistan</td>\n",
       "      <td>57.745918</td>\n",
       "    </tr>\n",
       "    <tr>\n",
       "      <th>2</th>\n",
       "      <td>8.00043</td>\n",
       "      <td>1961</td>\n",
       "      <td>Mar Average</td>\n",
       "      <td>Afghanistan</td>\n",
       "      <td>57.745918</td>\n",
       "    </tr>\n",
       "    <tr>\n",
       "      <th>3</th>\n",
       "      <td>12.35880</td>\n",
       "      <td>1961</td>\n",
       "      <td>Apr Average</td>\n",
       "      <td>Afghanistan</td>\n",
       "      <td>57.745918</td>\n",
       "    </tr>\n",
       "    <tr>\n",
       "      <th>4</th>\n",
       "      <td>19.26180</td>\n",
       "      <td>1961</td>\n",
       "      <td>May Average</td>\n",
       "      <td>Afghanistan</td>\n",
       "      <td>57.745918</td>\n",
       "    </tr>\n",
       "  </tbody>\n",
       "</table>\n",
       "</div>"
      ],
      "text/plain": [
       "   Temperature(Celsius)  Year    Statistics      Country  \\\n",
       "0               1.39097  1961   Jan Average  Afghanistan   \n",
       "1               0.90369  1961   Feb Average  Afghanistan   \n",
       "2               8.00043  1961   Mar Average  Afghanistan   \n",
       "3              12.35880  1961   Apr Average  Afghanistan   \n",
       "4              19.26180  1961   May Average  Afghanistan   \n",
       "\n",
       "   Agricultural land in %  \n",
       "0               57.745918  \n",
       "1               57.745918  \n",
       "2               57.745918  \n",
       "3               57.745918  \n",
       "4               57.745918  "
      ]
     },
     "execution_count": 408,
     "metadata": {},
     "output_type": "execute_result"
    }
   ],
   "source": [
    "# Look at the merged dataframe\n",
    "weath_agr.head()"
   ]
  },
  {
   "cell_type": "code",
   "execution_count": 409,
   "metadata": {},
   "outputs": [
    {
     "name": "stdout",
     "output_type": "stream",
     "text": [
      "<class 'pandas.core.frame.DataFrame'>\n",
      "RangeIndex: 86460 entries, 0 to 86459\n",
      "Data columns (total 5 columns):\n",
      " #   Column                  Non-Null Count  Dtype  \n",
      "---  ------                  --------------  -----  \n",
      " 0   Temperature(Celsius)    86460 non-null  float64\n",
      " 1   Year                    86460 non-null  int64  \n",
      " 2   Statistics              86460 non-null  object \n",
      " 3   Country                 86460 non-null  object \n",
      " 4   Agricultural land in %  79392 non-null  float64\n",
      "dtypes: float64(2), int64(1), object(2)\n",
      "memory usage: 3.3+ MB\n"
     ]
    }
   ],
   "source": [
    "# Get info of merged dataframe\n",
    "weath_agr.info()"
   ]
  },
  {
   "cell_type": "code",
   "execution_count": 410,
   "metadata": {},
   "outputs": [
    {
     "data": {
      "text/plain": [
       "7068"
      ]
     },
     "execution_count": 410,
     "metadata": {},
     "output_type": "execute_result"
    }
   ],
   "source": [
    "# Count null values in column Agricultural land in %\n",
    "weath_agr['Agricultural land in %'].isnull().sum()"
   ]
  },
  {
   "cell_type": "code",
   "execution_count": 411,
   "metadata": {},
   "outputs": [
    {
     "name": "stdout",
     "output_type": "stream",
     "text": [
      "       Temperature(Celsius)  Year    Statistics       Country  \\\n",
      "2520               -6.50600  1961   Jan Average       Armenia   \n",
      "2521               -4.90680  1961   Feb Average       Armenia   \n",
      "2522               -0.75270  1961   Mar Average       Armenia   \n",
      "2523                7.59543  1961   Apr Average       Armenia   \n",
      "2524               14.20820  1961   May Average       Armenia   \n",
      "...                     ...   ...           ...           ...   \n",
      "84847              33.74640  2006   Aug Average  Saudi Arabia   \n",
      "84848              31.13880  2006   Sep Average  Saudi Arabia   \n",
      "84849              27.27880  2006   Oct Average  Saudi Arabia   \n",
      "84850              20.50390  2006   Nov Average  Saudi Arabia   \n",
      "84851              14.86010  2006   Dec Average  Saudi Arabia   \n",
      "\n",
      "       Agricultural land in %  \n",
      "2520                      NaN  \n",
      "2521                      NaN  \n",
      "2522                      NaN  \n",
      "2523                      NaN  \n",
      "2524                      NaN  \n",
      "...                       ...  \n",
      "84847                     NaN  \n",
      "84848                     NaN  \n",
      "84849                     NaN  \n",
      "84850                     NaN  \n",
      "84851                     NaN  \n",
      "\n",
      "[7068 rows x 5 columns]\n"
     ]
    }
   ],
   "source": [
    "# Show rows with null values for agricultural land\n",
    "print(weath_agr[weath_agr['Agricultural land in %'].isnull()])"
   ]
  },
  {
   "cell_type": "code",
   "execution_count": 412,
   "metadata": {},
   "outputs": [],
   "source": [
    "# Create new dataset to check null values\n",
    "cntr_nan = weath_agr[weath_agr['Agricultural land in %'].isnull()]"
   ]
  },
  {
   "cell_type": "code",
   "execution_count": 413,
   "metadata": {},
   "outputs": [
    {
     "data": {
      "text/plain": [
       "['Armenia',\n",
       " 'Azerbaijan',\n",
       " 'Belarus',\n",
       " 'Belgium',\n",
       " 'Bosnia and Herzegovina',\n",
       " 'Croatia',\n",
       " 'Czech Republic',\n",
       " 'Eritrea',\n",
       " 'Estonia',\n",
       " 'Georgia',\n",
       " 'Kazakhstan',\n",
       " 'Kyrgyzstan',\n",
       " 'Latvia',\n",
       " 'Lithuania',\n",
       " 'Luxembourg',\n",
       " 'Marshall Islands',\n",
       " 'Palau',\n",
       " 'Saudi Arabia']"
      ]
     },
     "execution_count": 413,
     "metadata": {},
     "output_type": "execute_result"
    }
   ],
   "source": [
    "# Look at the countries with missing values for agricultural land\n",
    "cntr_nan_unique = cntr_nan['Country'].unique().tolist()\n",
    "cntr_nan_unique"
   ]
  },
  {
   "cell_type": "code",
   "execution_count": 414,
   "metadata": {},
   "outputs": [
    {
     "data": {
      "text/plain": [
       "18"
      ]
     },
     "execution_count": 414,
     "metadata": {},
     "output_type": "execute_result"
    }
   ],
   "source": [
    "# Check for how many countries null values exist\n",
    "len(cntr_nan_unique)"
   ]
  },
  {
   "cell_type": "code",
   "execution_count": 415,
   "metadata": {},
   "outputs": [
    {
     "data": {
      "text/html": [
       "<div>\n",
       "<style scoped>\n",
       "    .dataframe tbody tr th:only-of-type {\n",
       "        vertical-align: middle;\n",
       "    }\n",
       "\n",
       "    .dataframe tbody tr th {\n",
       "        vertical-align: top;\n",
       "    }\n",
       "\n",
       "    .dataframe thead th {\n",
       "        text-align: right;\n",
       "    }\n",
       "</style>\n",
       "<table border=\"1\" class=\"dataframe\">\n",
       "  <thead>\n",
       "    <tr style=\"text-align: right;\">\n",
       "      <th></th>\n",
       "      <th>Country</th>\n",
       "      <th>count</th>\n",
       "    </tr>\n",
       "  </thead>\n",
       "  <tbody>\n",
       "    <tr>\n",
       "      <th>0</th>\n",
       "      <td>Armenia</td>\n",
       "      <td>372</td>\n",
       "    </tr>\n",
       "    <tr>\n",
       "      <th>1</th>\n",
       "      <td>Azerbaijan</td>\n",
       "      <td>372</td>\n",
       "    </tr>\n",
       "    <tr>\n",
       "      <th>2</th>\n",
       "      <td>Belarus</td>\n",
       "      <td>372</td>\n",
       "    </tr>\n",
       "    <tr>\n",
       "      <th>3</th>\n",
       "      <td>Belgium</td>\n",
       "      <td>468</td>\n",
       "    </tr>\n",
       "    <tr>\n",
       "      <th>4</th>\n",
       "      <td>Bosnia and Herzegovina</td>\n",
       "      <td>372</td>\n",
       "    </tr>\n",
       "    <tr>\n",
       "      <th>5</th>\n",
       "      <td>Croatia</td>\n",
       "      <td>372</td>\n",
       "    </tr>\n",
       "    <tr>\n",
       "      <th>6</th>\n",
       "      <td>Czech Republic</td>\n",
       "      <td>384</td>\n",
       "    </tr>\n",
       "    <tr>\n",
       "      <th>7</th>\n",
       "      <td>Eritrea</td>\n",
       "      <td>384</td>\n",
       "    </tr>\n",
       "    <tr>\n",
       "      <th>8</th>\n",
       "      <td>Estonia</td>\n",
       "      <td>372</td>\n",
       "    </tr>\n",
       "    <tr>\n",
       "      <th>9</th>\n",
       "      <td>Georgia</td>\n",
       "      <td>372</td>\n",
       "    </tr>\n",
       "    <tr>\n",
       "      <th>10</th>\n",
       "      <td>Kazakhstan</td>\n",
       "      <td>372</td>\n",
       "    </tr>\n",
       "    <tr>\n",
       "      <th>11</th>\n",
       "      <td>Kyrgyzstan</td>\n",
       "      <td>372</td>\n",
       "    </tr>\n",
       "    <tr>\n",
       "      <th>12</th>\n",
       "      <td>Latvia</td>\n",
       "      <td>372</td>\n",
       "    </tr>\n",
       "    <tr>\n",
       "      <th>13</th>\n",
       "      <td>Lithuania</td>\n",
       "      <td>372</td>\n",
       "    </tr>\n",
       "    <tr>\n",
       "      <th>14</th>\n",
       "      <td>Luxembourg</td>\n",
       "      <td>468</td>\n",
       "    </tr>\n",
       "    <tr>\n",
       "      <th>15</th>\n",
       "      <td>Marshall Islands</td>\n",
       "      <td>360</td>\n",
       "    </tr>\n",
       "    <tr>\n",
       "      <th>16</th>\n",
       "      <td>Palau</td>\n",
       "      <td>360</td>\n",
       "    </tr>\n",
       "    <tr>\n",
       "      <th>17</th>\n",
       "      <td>Saudi Arabia</td>\n",
       "      <td>552</td>\n",
       "    </tr>\n",
       "  </tbody>\n",
       "</table>\n",
       "</div>"
      ],
      "text/plain": [
       "                   Country  count\n",
       "0                  Armenia    372\n",
       "1               Azerbaijan    372\n",
       "2                  Belarus    372\n",
       "3                  Belgium    468\n",
       "4   Bosnia and Herzegovina    372\n",
       "5                  Croatia    372\n",
       "6           Czech Republic    384\n",
       "7                  Eritrea    384\n",
       "8                  Estonia    372\n",
       "9                  Georgia    372\n",
       "10              Kazakhstan    372\n",
       "11              Kyrgyzstan    372\n",
       "12                  Latvia    372\n",
       "13               Lithuania    372\n",
       "14              Luxembourg    468\n",
       "15        Marshall Islands    360\n",
       "16                   Palau    360\n",
       "17            Saudi Arabia    552"
      ]
     },
     "execution_count": 415,
     "metadata": {},
     "output_type": "execute_result"
    }
   ],
   "source": [
    "# Check how many null values exist for each country to plan further action\n",
    "check_null = weath_agr[weath_agr.isna().any(axis=1)]\n",
    "country_nan = check_null['Agricultural land in %'].isnull().groupby([check_null['Country']]).sum().astype(int).reset_index(name='count')\n",
    "country_nan"
   ]
  },
  {
   "cell_type": "markdown",
   "metadata": {},
   "source": [
    "The analysis shows that there are too many null values for the countries listed, so that replacing these missing values would distort the results of the analysis too much.\n",
    "The countries concerned should therefore no longer be taken into account in the further analysis."
   ]
  },
  {
   "cell_type": "code",
   "execution_count": 416,
   "metadata": {},
   "outputs": [],
   "source": [
    "# Identification of the lines that must be deleted in order to be excluded from further analysis\n",
    "index_drop = weath_agr[weath_agr['Agricultural land in %'].isnull()].index"
   ]
  },
  {
   "cell_type": "code",
   "execution_count": 417,
   "metadata": {},
   "outputs": [
    {
     "data": {
      "text/plain": [
       "Int64Index([ 2520,  2521,  2522,  2523,  2524,  2525,  2526,  2527,  2528,\n",
       "             2529,\n",
       "            ...\n",
       "            84842, 84843, 84844, 84845, 84846, 84847, 84848, 84849, 84850,\n",
       "            84851],\n",
       "           dtype='int64', length=7068)"
      ]
     },
     "execution_count": 417,
     "metadata": {},
     "output_type": "execute_result"
    }
   ],
   "source": [
    "# Check whether the number of rows to be deleted matches the number of identified null values\n",
    "index_drop"
   ]
  },
  {
   "cell_type": "code",
   "execution_count": 418,
   "metadata": {},
   "outputs": [],
   "source": [
    "# Deleting the data affected by null values\n",
    "weath_agr.drop(index_drop , inplace=True)"
   ]
  },
  {
   "cell_type": "code",
   "execution_count": 419,
   "metadata": {},
   "outputs": [
    {
     "data": {
      "text/html": [
       "<div>\n",
       "<style scoped>\n",
       "    .dataframe tbody tr th:only-of-type {\n",
       "        vertical-align: middle;\n",
       "    }\n",
       "\n",
       "    .dataframe tbody tr th {\n",
       "        vertical-align: top;\n",
       "    }\n",
       "\n",
       "    .dataframe thead th {\n",
       "        text-align: right;\n",
       "    }\n",
       "</style>\n",
       "<table border=\"1\" class=\"dataframe\">\n",
       "  <thead>\n",
       "    <tr style=\"text-align: right;\">\n",
       "      <th></th>\n",
       "      <th>Temperature(Celsius)</th>\n",
       "      <th>Year</th>\n",
       "      <th>Statistics</th>\n",
       "      <th>Country</th>\n",
       "      <th>Agricultural land in %</th>\n",
       "    </tr>\n",
       "  </thead>\n",
       "  <tbody>\n",
       "    <tr>\n",
       "      <th>0</th>\n",
       "      <td>1.39097</td>\n",
       "      <td>1961</td>\n",
       "      <td>Jan Average</td>\n",
       "      <td>Afghanistan</td>\n",
       "      <td>57.745918</td>\n",
       "    </tr>\n",
       "    <tr>\n",
       "      <th>1</th>\n",
       "      <td>0.90369</td>\n",
       "      <td>1961</td>\n",
       "      <td>Feb Average</td>\n",
       "      <td>Afghanistan</td>\n",
       "      <td>57.745918</td>\n",
       "    </tr>\n",
       "    <tr>\n",
       "      <th>2</th>\n",
       "      <td>8.00043</td>\n",
       "      <td>1961</td>\n",
       "      <td>Mar Average</td>\n",
       "      <td>Afghanistan</td>\n",
       "      <td>57.745918</td>\n",
       "    </tr>\n",
       "    <tr>\n",
       "      <th>3</th>\n",
       "      <td>12.35880</td>\n",
       "      <td>1961</td>\n",
       "      <td>Apr Average</td>\n",
       "      <td>Afghanistan</td>\n",
       "      <td>57.745918</td>\n",
       "    </tr>\n",
       "    <tr>\n",
       "      <th>4</th>\n",
       "      <td>19.26180</td>\n",
       "      <td>1961</td>\n",
       "      <td>May Average</td>\n",
       "      <td>Afghanistan</td>\n",
       "      <td>57.745918</td>\n",
       "    </tr>\n",
       "  </tbody>\n",
       "</table>\n",
       "</div>"
      ],
      "text/plain": [
       "   Temperature(Celsius)  Year    Statistics      Country  \\\n",
       "0               1.39097  1961   Jan Average  Afghanistan   \n",
       "1               0.90369  1961   Feb Average  Afghanistan   \n",
       "2               8.00043  1961   Mar Average  Afghanistan   \n",
       "3              12.35880  1961   Apr Average  Afghanistan   \n",
       "4              19.26180  1961   May Average  Afghanistan   \n",
       "\n",
       "   Agricultural land in %  \n",
       "0               57.745918  \n",
       "1               57.745918  \n",
       "2               57.745918  \n",
       "3               57.745918  \n",
       "4               57.745918  "
      ]
     },
     "execution_count": 419,
     "metadata": {},
     "output_type": "execute_result"
    }
   ],
   "source": [
    "# Check\n",
    "weath_agr.head()"
   ]
  },
  {
   "cell_type": "code",
   "execution_count": 420,
   "metadata": {},
   "outputs": [],
   "source": [
    "# Create new dataset to check null values again\n",
    "cntr_nan1 = weath_agr[weath_agr['Agricultural land in %'].isnull()]"
   ]
  },
  {
   "cell_type": "code",
   "execution_count": 421,
   "metadata": {},
   "outputs": [
    {
     "data": {
      "text/plain": [
       "[]"
      ]
     },
     "execution_count": 421,
     "metadata": {},
     "output_type": "execute_result"
    }
   ],
   "source": [
    "# Check if deletion of countries affected by null values was successful\n",
    "cntr_nan_unique1 = cntr_nan1['Country'].unique().tolist()\n",
    "cntr_nan_unique1"
   ]
  },
  {
   "cell_type": "markdown",
   "metadata": {},
   "source": [
    "# GDP data"
   ]
  },
  {
   "cell_type": "markdown",
   "metadata": {},
   "source": [
    "## Get overview of the dataset and prepare it for merging: GDP data"
   ]
  },
  {
   "cell_type": "code",
   "execution_count": 422,
   "metadata": {},
   "outputs": [
    {
     "data": {
      "text/html": [
       "<div>\n",
       "<style scoped>\n",
       "    .dataframe tbody tr th:only-of-type {\n",
       "        vertical-align: middle;\n",
       "    }\n",
       "\n",
       "    .dataframe tbody tr th {\n",
       "        vertical-align: top;\n",
       "    }\n",
       "\n",
       "    .dataframe thead th {\n",
       "        text-align: right;\n",
       "    }\n",
       "</style>\n",
       "<table border=\"1\" class=\"dataframe\">\n",
       "  <thead>\n",
       "    <tr style=\"text-align: right;\">\n",
       "      <th></th>\n",
       "      <th>0</th>\n",
       "      <th>1</th>\n",
       "      <th>2</th>\n",
       "      <th>3</th>\n",
       "      <th>4</th>\n",
       "      <th>5</th>\n",
       "      <th>6</th>\n",
       "      <th>7</th>\n",
       "      <th>8</th>\n",
       "      <th>9</th>\n",
       "      <th>...</th>\n",
       "      <th>55</th>\n",
       "      <th>56</th>\n",
       "      <th>57</th>\n",
       "      <th>58</th>\n",
       "      <th>59</th>\n",
       "      <th>60</th>\n",
       "      <th>61</th>\n",
       "      <th>62</th>\n",
       "      <th>63</th>\n",
       "      <th>64</th>\n",
       "    </tr>\n",
       "  </thead>\n",
       "  <tbody>\n",
       "    <tr>\n",
       "      <th>0</th>\n",
       "      <td>Country Name</td>\n",
       "      <td>Country Code</td>\n",
       "      <td>Indicator Name</td>\n",
       "      <td>Indicator Code</td>\n",
       "      <td>1.960000e+03</td>\n",
       "      <td>1.961000e+03</td>\n",
       "      <td>1.962000e+03</td>\n",
       "      <td>1.963000e+03</td>\n",
       "      <td>1.964000e+03</td>\n",
       "      <td>1.965000e+03</td>\n",
       "      <td>...</td>\n",
       "      <td>2.011000e+03</td>\n",
       "      <td>2.012000e+03</td>\n",
       "      <td>2.013000e+03</td>\n",
       "      <td>2.014000e+03</td>\n",
       "      <td>2.015000e+03</td>\n",
       "      <td>2.016000e+03</td>\n",
       "      <td>2.017000e+03</td>\n",
       "      <td>2.018000e+03</td>\n",
       "      <td>2019.0</td>\n",
       "      <td>NaN</td>\n",
       "    </tr>\n",
       "    <tr>\n",
       "      <th>1</th>\n",
       "      <td>Aruba</td>\n",
       "      <td>ABW</td>\n",
       "      <td>GDP (current US$)</td>\n",
       "      <td>NY.GDP.MKTP.CD</td>\n",
       "      <td>NaN</td>\n",
       "      <td>NaN</td>\n",
       "      <td>NaN</td>\n",
       "      <td>NaN</td>\n",
       "      <td>NaN</td>\n",
       "      <td>NaN</td>\n",
       "      <td>...</td>\n",
       "      <td>2.549721e+09</td>\n",
       "      <td>2.534637e+09</td>\n",
       "      <td>2.581564e+09</td>\n",
       "      <td>2.649721e+09</td>\n",
       "      <td>2.691620e+09</td>\n",
       "      <td>2.646927e+09</td>\n",
       "      <td>2.700559e+09</td>\n",
       "      <td>NaN</td>\n",
       "      <td>NaN</td>\n",
       "      <td>NaN</td>\n",
       "    </tr>\n",
       "    <tr>\n",
       "      <th>2</th>\n",
       "      <td>Afghanistan</td>\n",
       "      <td>AFG</td>\n",
       "      <td>GDP (current US$)</td>\n",
       "      <td>NY.GDP.MKTP.CD</td>\n",
       "      <td>5.377778e+08</td>\n",
       "      <td>5.488889e+08</td>\n",
       "      <td>5.466667e+08</td>\n",
       "      <td>7.511112e+08</td>\n",
       "      <td>8.000000e+08</td>\n",
       "      <td>1.006667e+09</td>\n",
       "      <td>...</td>\n",
       "      <td>1.780428e+10</td>\n",
       "      <td>2.000162e+10</td>\n",
       "      <td>2.056105e+10</td>\n",
       "      <td>2.048487e+10</td>\n",
       "      <td>1.990711e+10</td>\n",
       "      <td>1.936264e+10</td>\n",
       "      <td>2.019176e+10</td>\n",
       "      <td>1.936297e+10</td>\n",
       "      <td>NaN</td>\n",
       "      <td>NaN</td>\n",
       "    </tr>\n",
       "    <tr>\n",
       "      <th>3</th>\n",
       "      <td>Angola</td>\n",
       "      <td>AGO</td>\n",
       "      <td>GDP (current US$)</td>\n",
       "      <td>NY.GDP.MKTP.CD</td>\n",
       "      <td>NaN</td>\n",
       "      <td>NaN</td>\n",
       "      <td>NaN</td>\n",
       "      <td>NaN</td>\n",
       "      <td>NaN</td>\n",
       "      <td>NaN</td>\n",
       "      <td>...</td>\n",
       "      <td>1.117897e+11</td>\n",
       "      <td>1.280529e+11</td>\n",
       "      <td>1.367099e+11</td>\n",
       "      <td>1.457122e+11</td>\n",
       "      <td>1.161936e+11</td>\n",
       "      <td>1.011239e+11</td>\n",
       "      <td>1.221238e+11</td>\n",
       "      <td>1.057510e+11</td>\n",
       "      <td>NaN</td>\n",
       "      <td>NaN</td>\n",
       "    </tr>\n",
       "    <tr>\n",
       "      <th>4</th>\n",
       "      <td>Albania</td>\n",
       "      <td>ALB</td>\n",
       "      <td>GDP (current US$)</td>\n",
       "      <td>NY.GDP.MKTP.CD</td>\n",
       "      <td>NaN</td>\n",
       "      <td>NaN</td>\n",
       "      <td>NaN</td>\n",
       "      <td>NaN</td>\n",
       "      <td>NaN</td>\n",
       "      <td>NaN</td>\n",
       "      <td>...</td>\n",
       "      <td>1.289087e+10</td>\n",
       "      <td>1.231978e+10</td>\n",
       "      <td>1.277628e+10</td>\n",
       "      <td>1.322824e+10</td>\n",
       "      <td>1.138693e+10</td>\n",
       "      <td>1.186135e+10</td>\n",
       "      <td>1.302506e+10</td>\n",
       "      <td>1.510250e+10</td>\n",
       "      <td>NaN</td>\n",
       "      <td>NaN</td>\n",
       "    </tr>\n",
       "  </tbody>\n",
       "</table>\n",
       "<p>5 rows × 65 columns</p>\n",
       "</div>"
      ],
      "text/plain": [
       "             0             1                  2               3   \\\n",
       "0  Country Name  Country Code     Indicator Name  Indicator Code   \n",
       "1         Aruba           ABW  GDP (current US$)  NY.GDP.MKTP.CD   \n",
       "2   Afghanistan           AFG  GDP (current US$)  NY.GDP.MKTP.CD   \n",
       "3        Angola           AGO  GDP (current US$)  NY.GDP.MKTP.CD   \n",
       "4       Albania           ALB  GDP (current US$)  NY.GDP.MKTP.CD   \n",
       "\n",
       "             4             5             6             7             8   \\\n",
       "0  1.960000e+03  1.961000e+03  1.962000e+03  1.963000e+03  1.964000e+03   \n",
       "1           NaN           NaN           NaN           NaN           NaN   \n",
       "2  5.377778e+08  5.488889e+08  5.466667e+08  7.511112e+08  8.000000e+08   \n",
       "3           NaN           NaN           NaN           NaN           NaN   \n",
       "4           NaN           NaN           NaN           NaN           NaN   \n",
       "\n",
       "             9   ...            55            56            57            58  \\\n",
       "0  1.965000e+03  ...  2.011000e+03  2.012000e+03  2.013000e+03  2.014000e+03   \n",
       "1           NaN  ...  2.549721e+09  2.534637e+09  2.581564e+09  2.649721e+09   \n",
       "2  1.006667e+09  ...  1.780428e+10  2.000162e+10  2.056105e+10  2.048487e+10   \n",
       "3           NaN  ...  1.117897e+11  1.280529e+11  1.367099e+11  1.457122e+11   \n",
       "4           NaN  ...  1.289087e+10  1.231978e+10  1.277628e+10  1.322824e+10   \n",
       "\n",
       "             59            60            61            62      63  64  \n",
       "0  2.015000e+03  2.016000e+03  2.017000e+03  2.018000e+03  2019.0 NaN  \n",
       "1  2.691620e+09  2.646927e+09  2.700559e+09           NaN     NaN NaN  \n",
       "2  1.990711e+10  1.936264e+10  2.019176e+10  1.936297e+10     NaN NaN  \n",
       "3  1.161936e+11  1.011239e+11  1.221238e+11  1.057510e+11     NaN NaN  \n",
       "4  1.138693e+10  1.186135e+10  1.302506e+10  1.510250e+10     NaN NaN  \n",
       "\n",
       "[5 rows x 65 columns]"
      ]
     },
     "execution_count": 422,
     "metadata": {},
     "output_type": "execute_result"
    }
   ],
   "source": [
    "# Look at 5 first rows\n",
    "gdp.head()"
   ]
  },
  {
   "cell_type": "code",
   "execution_count": 423,
   "metadata": {},
   "outputs": [
    {
     "data": {
      "text/html": [
       "<div>\n",
       "<style scoped>\n",
       "    .dataframe tbody tr th:only-of-type {\n",
       "        vertical-align: middle;\n",
       "    }\n",
       "\n",
       "    .dataframe tbody tr th {\n",
       "        vertical-align: top;\n",
       "    }\n",
       "\n",
       "    .dataframe thead th {\n",
       "        text-align: right;\n",
       "    }\n",
       "</style>\n",
       "<table border=\"1\" class=\"dataframe\">\n",
       "  <thead>\n",
       "    <tr style=\"text-align: right;\">\n",
       "      <th></th>\n",
       "      <th>Country Name</th>\n",
       "      <th>Country Code</th>\n",
       "      <th>Indicator Name</th>\n",
       "      <th>Indicator Code</th>\n",
       "      <th>1960.0</th>\n",
       "      <th>1961.0</th>\n",
       "      <th>1962.0</th>\n",
       "      <th>1963.0</th>\n",
       "      <th>1964.0</th>\n",
       "      <th>1965.0</th>\n",
       "      <th>...</th>\n",
       "      <th>2011.0</th>\n",
       "      <th>2012.0</th>\n",
       "      <th>2013.0</th>\n",
       "      <th>2014.0</th>\n",
       "      <th>2015.0</th>\n",
       "      <th>2016.0</th>\n",
       "      <th>2017.0</th>\n",
       "      <th>2018.0</th>\n",
       "      <th>2019.0</th>\n",
       "      <th>NaN</th>\n",
       "    </tr>\n",
       "  </thead>\n",
       "  <tbody>\n",
       "    <tr>\n",
       "      <th>0</th>\n",
       "      <td>Country Name</td>\n",
       "      <td>Country Code</td>\n",
       "      <td>Indicator Name</td>\n",
       "      <td>Indicator Code</td>\n",
       "      <td>1.960000e+03</td>\n",
       "      <td>1.961000e+03</td>\n",
       "      <td>1.962000e+03</td>\n",
       "      <td>1.963000e+03</td>\n",
       "      <td>1.964000e+03</td>\n",
       "      <td>1.965000e+03</td>\n",
       "      <td>...</td>\n",
       "      <td>2.011000e+03</td>\n",
       "      <td>2.012000e+03</td>\n",
       "      <td>2.013000e+03</td>\n",
       "      <td>2.014000e+03</td>\n",
       "      <td>2.015000e+03</td>\n",
       "      <td>2.016000e+03</td>\n",
       "      <td>2.017000e+03</td>\n",
       "      <td>2.018000e+03</td>\n",
       "      <td>2019.0</td>\n",
       "      <td>NaN</td>\n",
       "    </tr>\n",
       "    <tr>\n",
       "      <th>1</th>\n",
       "      <td>Aruba</td>\n",
       "      <td>ABW</td>\n",
       "      <td>GDP (current US$)</td>\n",
       "      <td>NY.GDP.MKTP.CD</td>\n",
       "      <td>NaN</td>\n",
       "      <td>NaN</td>\n",
       "      <td>NaN</td>\n",
       "      <td>NaN</td>\n",
       "      <td>NaN</td>\n",
       "      <td>NaN</td>\n",
       "      <td>...</td>\n",
       "      <td>2.549721e+09</td>\n",
       "      <td>2.534637e+09</td>\n",
       "      <td>2.581564e+09</td>\n",
       "      <td>2.649721e+09</td>\n",
       "      <td>2.691620e+09</td>\n",
       "      <td>2.646927e+09</td>\n",
       "      <td>2.700559e+09</td>\n",
       "      <td>NaN</td>\n",
       "      <td>NaN</td>\n",
       "      <td>NaN</td>\n",
       "    </tr>\n",
       "    <tr>\n",
       "      <th>2</th>\n",
       "      <td>Afghanistan</td>\n",
       "      <td>AFG</td>\n",
       "      <td>GDP (current US$)</td>\n",
       "      <td>NY.GDP.MKTP.CD</td>\n",
       "      <td>5.377778e+08</td>\n",
       "      <td>5.488889e+08</td>\n",
       "      <td>5.466667e+08</td>\n",
       "      <td>7.511112e+08</td>\n",
       "      <td>8.000000e+08</td>\n",
       "      <td>1.006667e+09</td>\n",
       "      <td>...</td>\n",
       "      <td>1.780428e+10</td>\n",
       "      <td>2.000162e+10</td>\n",
       "      <td>2.056105e+10</td>\n",
       "      <td>2.048487e+10</td>\n",
       "      <td>1.990711e+10</td>\n",
       "      <td>1.936264e+10</td>\n",
       "      <td>2.019176e+10</td>\n",
       "      <td>1.936297e+10</td>\n",
       "      <td>NaN</td>\n",
       "      <td>NaN</td>\n",
       "    </tr>\n",
       "    <tr>\n",
       "      <th>3</th>\n",
       "      <td>Angola</td>\n",
       "      <td>AGO</td>\n",
       "      <td>GDP (current US$)</td>\n",
       "      <td>NY.GDP.MKTP.CD</td>\n",
       "      <td>NaN</td>\n",
       "      <td>NaN</td>\n",
       "      <td>NaN</td>\n",
       "      <td>NaN</td>\n",
       "      <td>NaN</td>\n",
       "      <td>NaN</td>\n",
       "      <td>...</td>\n",
       "      <td>1.117897e+11</td>\n",
       "      <td>1.280529e+11</td>\n",
       "      <td>1.367099e+11</td>\n",
       "      <td>1.457122e+11</td>\n",
       "      <td>1.161936e+11</td>\n",
       "      <td>1.011239e+11</td>\n",
       "      <td>1.221238e+11</td>\n",
       "      <td>1.057510e+11</td>\n",
       "      <td>NaN</td>\n",
       "      <td>NaN</td>\n",
       "    </tr>\n",
       "    <tr>\n",
       "      <th>4</th>\n",
       "      <td>Albania</td>\n",
       "      <td>ALB</td>\n",
       "      <td>GDP (current US$)</td>\n",
       "      <td>NY.GDP.MKTP.CD</td>\n",
       "      <td>NaN</td>\n",
       "      <td>NaN</td>\n",
       "      <td>NaN</td>\n",
       "      <td>NaN</td>\n",
       "      <td>NaN</td>\n",
       "      <td>NaN</td>\n",
       "      <td>...</td>\n",
       "      <td>1.289087e+10</td>\n",
       "      <td>1.231978e+10</td>\n",
       "      <td>1.277628e+10</td>\n",
       "      <td>1.322824e+10</td>\n",
       "      <td>1.138693e+10</td>\n",
       "      <td>1.186135e+10</td>\n",
       "      <td>1.302506e+10</td>\n",
       "      <td>1.510250e+10</td>\n",
       "      <td>NaN</td>\n",
       "      <td>NaN</td>\n",
       "    </tr>\n",
       "    <tr>\n",
       "      <th>...</th>\n",
       "      <td>...</td>\n",
       "      <td>...</td>\n",
       "      <td>...</td>\n",
       "      <td>...</td>\n",
       "      <td>...</td>\n",
       "      <td>...</td>\n",
       "      <td>...</td>\n",
       "      <td>...</td>\n",
       "      <td>...</td>\n",
       "      <td>...</td>\n",
       "      <td>...</td>\n",
       "      <td>...</td>\n",
       "      <td>...</td>\n",
       "      <td>...</td>\n",
       "      <td>...</td>\n",
       "      <td>...</td>\n",
       "      <td>...</td>\n",
       "      <td>...</td>\n",
       "      <td>...</td>\n",
       "      <td>...</td>\n",
       "      <td>...</td>\n",
       "    </tr>\n",
       "    <tr>\n",
       "      <th>260</th>\n",
       "      <td>Kosovo</td>\n",
       "      <td>XKX</td>\n",
       "      <td>GDP (current US$)</td>\n",
       "      <td>NY.GDP.MKTP.CD</td>\n",
       "      <td>NaN</td>\n",
       "      <td>NaN</td>\n",
       "      <td>NaN</td>\n",
       "      <td>NaN</td>\n",
       "      <td>NaN</td>\n",
       "      <td>NaN</td>\n",
       "      <td>...</td>\n",
       "      <td>6.692431e+09</td>\n",
       "      <td>6.499760e+09</td>\n",
       "      <td>7.071982e+09</td>\n",
       "      <td>7.386883e+09</td>\n",
       "      <td>6.440068e+09</td>\n",
       "      <td>6.714727e+09</td>\n",
       "      <td>7.227700e+09</td>\n",
       "      <td>7.938991e+09</td>\n",
       "      <td>NaN</td>\n",
       "      <td>NaN</td>\n",
       "    </tr>\n",
       "    <tr>\n",
       "      <th>261</th>\n",
       "      <td>Yemen, Rep.</td>\n",
       "      <td>YEM</td>\n",
       "      <td>GDP (current US$)</td>\n",
       "      <td>NY.GDP.MKTP.CD</td>\n",
       "      <td>NaN</td>\n",
       "      <td>NaN</td>\n",
       "      <td>NaN</td>\n",
       "      <td>NaN</td>\n",
       "      <td>NaN</td>\n",
       "      <td>NaN</td>\n",
       "      <td>...</td>\n",
       "      <td>3.272642e+10</td>\n",
       "      <td>3.540134e+10</td>\n",
       "      <td>4.041523e+10</td>\n",
       "      <td>4.322859e+10</td>\n",
       "      <td>4.262833e+10</td>\n",
       "      <td>3.096824e+10</td>\n",
       "      <td>2.681870e+10</td>\n",
       "      <td>2.691440e+10</td>\n",
       "      <td>NaN</td>\n",
       "      <td>NaN</td>\n",
       "    </tr>\n",
       "    <tr>\n",
       "      <th>262</th>\n",
       "      <td>South Africa</td>\n",
       "      <td>ZAF</td>\n",
       "      <td>GDP (current US$)</td>\n",
       "      <td>NY.GDP.MKTP.CD</td>\n",
       "      <td>7.575397e+09</td>\n",
       "      <td>7.972997e+09</td>\n",
       "      <td>8.497997e+09</td>\n",
       "      <td>9.423396e+09</td>\n",
       "      <td>1.037400e+10</td>\n",
       "      <td>1.133440e+10</td>\n",
       "      <td>...</td>\n",
       "      <td>4.164189e+11</td>\n",
       "      <td>3.963327e+11</td>\n",
       "      <td>3.668294e+11</td>\n",
       "      <td>3.509046e+11</td>\n",
       "      <td>3.176205e+11</td>\n",
       "      <td>2.963573e+11</td>\n",
       "      <td>3.495541e+11</td>\n",
       "      <td>3.682889e+11</td>\n",
       "      <td>NaN</td>\n",
       "      <td>NaN</td>\n",
       "    </tr>\n",
       "    <tr>\n",
       "      <th>263</th>\n",
       "      <td>Zambia</td>\n",
       "      <td>ZMB</td>\n",
       "      <td>GDP (current US$)</td>\n",
       "      <td>NY.GDP.MKTP.CD</td>\n",
       "      <td>7.130000e+08</td>\n",
       "      <td>6.962857e+08</td>\n",
       "      <td>6.931429e+08</td>\n",
       "      <td>7.187143e+08</td>\n",
       "      <td>8.394286e+08</td>\n",
       "      <td>1.082857e+09</td>\n",
       "      <td>...</td>\n",
       "      <td>2.346010e+10</td>\n",
       "      <td>2.550337e+10</td>\n",
       "      <td>2.804546e+10</td>\n",
       "      <td>2.715063e+10</td>\n",
       "      <td>2.124335e+10</td>\n",
       "      <td>2.095475e+10</td>\n",
       "      <td>2.586814e+10</td>\n",
       "      <td>2.672007e+10</td>\n",
       "      <td>NaN</td>\n",
       "      <td>NaN</td>\n",
       "    </tr>\n",
       "    <tr>\n",
       "      <th>264</th>\n",
       "      <td>Zimbabwe</td>\n",
       "      <td>ZWE</td>\n",
       "      <td>GDP (current US$)</td>\n",
       "      <td>NY.GDP.MKTP.CD</td>\n",
       "      <td>1.052990e+09</td>\n",
       "      <td>1.096647e+09</td>\n",
       "      <td>1.117602e+09</td>\n",
       "      <td>1.159512e+09</td>\n",
       "      <td>1.217138e+09</td>\n",
       "      <td>1.311436e+09</td>\n",
       "      <td>...</td>\n",
       "      <td>1.410192e+10</td>\n",
       "      <td>1.711485e+10</td>\n",
       "      <td>1.909102e+10</td>\n",
       "      <td>1.949552e+10</td>\n",
       "      <td>1.996312e+10</td>\n",
       "      <td>2.054868e+10</td>\n",
       "      <td>2.281301e+10</td>\n",
       "      <td>3.100052e+10</td>\n",
       "      <td>NaN</td>\n",
       "      <td>NaN</td>\n",
       "    </tr>\n",
       "  </tbody>\n",
       "</table>\n",
       "<p>265 rows × 65 columns</p>\n",
       "</div>"
      ],
      "text/plain": [
       "0    Country Name  Country Code     Indicator Name  Indicator Code  \\\n",
       "0    Country Name  Country Code     Indicator Name  Indicator Code   \n",
       "1           Aruba           ABW  GDP (current US$)  NY.GDP.MKTP.CD   \n",
       "2     Afghanistan           AFG  GDP (current US$)  NY.GDP.MKTP.CD   \n",
       "3          Angola           AGO  GDP (current US$)  NY.GDP.MKTP.CD   \n",
       "4         Albania           ALB  GDP (current US$)  NY.GDP.MKTP.CD   \n",
       "..            ...           ...                ...             ...   \n",
       "260        Kosovo           XKX  GDP (current US$)  NY.GDP.MKTP.CD   \n",
       "261   Yemen, Rep.           YEM  GDP (current US$)  NY.GDP.MKTP.CD   \n",
       "262  South Africa           ZAF  GDP (current US$)  NY.GDP.MKTP.CD   \n",
       "263        Zambia           ZMB  GDP (current US$)  NY.GDP.MKTP.CD   \n",
       "264      Zimbabwe           ZWE  GDP (current US$)  NY.GDP.MKTP.CD   \n",
       "\n",
       "0          1960.0        1961.0        1962.0        1963.0        1964.0  \\\n",
       "0    1.960000e+03  1.961000e+03  1.962000e+03  1.963000e+03  1.964000e+03   \n",
       "1             NaN           NaN           NaN           NaN           NaN   \n",
       "2    5.377778e+08  5.488889e+08  5.466667e+08  7.511112e+08  8.000000e+08   \n",
       "3             NaN           NaN           NaN           NaN           NaN   \n",
       "4             NaN           NaN           NaN           NaN           NaN   \n",
       "..            ...           ...           ...           ...           ...   \n",
       "260           NaN           NaN           NaN           NaN           NaN   \n",
       "261           NaN           NaN           NaN           NaN           NaN   \n",
       "262  7.575397e+09  7.972997e+09  8.497997e+09  9.423396e+09  1.037400e+10   \n",
       "263  7.130000e+08  6.962857e+08  6.931429e+08  7.187143e+08  8.394286e+08   \n",
       "264  1.052990e+09  1.096647e+09  1.117602e+09  1.159512e+09  1.217138e+09   \n",
       "\n",
       "0          1965.0  ...        2011.0        2012.0        2013.0  \\\n",
       "0    1.965000e+03  ...  2.011000e+03  2.012000e+03  2.013000e+03   \n",
       "1             NaN  ...  2.549721e+09  2.534637e+09  2.581564e+09   \n",
       "2    1.006667e+09  ...  1.780428e+10  2.000162e+10  2.056105e+10   \n",
       "3             NaN  ...  1.117897e+11  1.280529e+11  1.367099e+11   \n",
       "4             NaN  ...  1.289087e+10  1.231978e+10  1.277628e+10   \n",
       "..            ...  ...           ...           ...           ...   \n",
       "260           NaN  ...  6.692431e+09  6.499760e+09  7.071982e+09   \n",
       "261           NaN  ...  3.272642e+10  3.540134e+10  4.041523e+10   \n",
       "262  1.133440e+10  ...  4.164189e+11  3.963327e+11  3.668294e+11   \n",
       "263  1.082857e+09  ...  2.346010e+10  2.550337e+10  2.804546e+10   \n",
       "264  1.311436e+09  ...  1.410192e+10  1.711485e+10  1.909102e+10   \n",
       "\n",
       "0          2014.0        2015.0        2016.0        2017.0        2018.0  \\\n",
       "0    2.014000e+03  2.015000e+03  2.016000e+03  2.017000e+03  2.018000e+03   \n",
       "1    2.649721e+09  2.691620e+09  2.646927e+09  2.700559e+09           NaN   \n",
       "2    2.048487e+10  1.990711e+10  1.936264e+10  2.019176e+10  1.936297e+10   \n",
       "3    1.457122e+11  1.161936e+11  1.011239e+11  1.221238e+11  1.057510e+11   \n",
       "4    1.322824e+10  1.138693e+10  1.186135e+10  1.302506e+10  1.510250e+10   \n",
       "..            ...           ...           ...           ...           ...   \n",
       "260  7.386883e+09  6.440068e+09  6.714727e+09  7.227700e+09  7.938991e+09   \n",
       "261  4.322859e+10  4.262833e+10  3.096824e+10  2.681870e+10  2.691440e+10   \n",
       "262  3.509046e+11  3.176205e+11  2.963573e+11  3.495541e+11  3.682889e+11   \n",
       "263  2.715063e+10  2.124335e+10  2.095475e+10  2.586814e+10  2.672007e+10   \n",
       "264  1.949552e+10  1.996312e+10  2.054868e+10  2.281301e+10  3.100052e+10   \n",
       "\n",
       "0    2019.0  NaN  \n",
       "0    2019.0  NaN  \n",
       "1       NaN  NaN  \n",
       "2       NaN  NaN  \n",
       "3       NaN  NaN  \n",
       "4       NaN  NaN  \n",
       "..      ...  ...  \n",
       "260     NaN  NaN  \n",
       "261     NaN  NaN  \n",
       "262     NaN  NaN  \n",
       "263     NaN  NaN  \n",
       "264     NaN  NaN  \n",
       "\n",
       "[265 rows x 65 columns]"
      ]
     },
     "execution_count": 423,
     "metadata": {},
     "output_type": "execute_result"
    }
   ],
   "source": [
    "# Get a header\n",
    "gdp.columns = gdp.iloc[0]\n",
    "gdp.reset_index(drop=True)"
   ]
  },
  {
   "cell_type": "code",
   "execution_count": 424,
   "metadata": {},
   "outputs": [],
   "source": [
    "# Delete first row (copy of header)\n",
    "gdp.drop([0], inplace=True)"
   ]
  },
  {
   "cell_type": "code",
   "execution_count": 425,
   "metadata": {},
   "outputs": [],
   "source": [
    "# Drop columns that are not needed for further analysis\n",
    "gdp.drop(['Country Code', 'Indicator Code', 'Indicator Name'], axis=1, inplace=True)"
   ]
  },
  {
   "cell_type": "code",
   "execution_count": 426,
   "metadata": {
    "scrolled": true
   },
   "outputs": [
    {
     "data": {
      "text/html": [
       "<div>\n",
       "<style scoped>\n",
       "    .dataframe tbody tr th:only-of-type {\n",
       "        vertical-align: middle;\n",
       "    }\n",
       "\n",
       "    .dataframe tbody tr th {\n",
       "        vertical-align: top;\n",
       "    }\n",
       "\n",
       "    .dataframe thead th {\n",
       "        text-align: right;\n",
       "    }\n",
       "</style>\n",
       "<table border=\"1\" class=\"dataframe\">\n",
       "  <thead>\n",
       "    <tr style=\"text-align: right;\">\n",
       "      <th></th>\n",
       "      <th>Country</th>\n",
       "      <th>1960.0</th>\n",
       "      <th>1961.0</th>\n",
       "      <th>1962.0</th>\n",
       "      <th>1963.0</th>\n",
       "      <th>1964.0</th>\n",
       "      <th>1965.0</th>\n",
       "      <th>1966.0</th>\n",
       "      <th>1967.0</th>\n",
       "      <th>1968.0</th>\n",
       "      <th>...</th>\n",
       "      <th>2011.0</th>\n",
       "      <th>2012.0</th>\n",
       "      <th>2013.0</th>\n",
       "      <th>2014.0</th>\n",
       "      <th>2015.0</th>\n",
       "      <th>2016.0</th>\n",
       "      <th>2017.0</th>\n",
       "      <th>2018.0</th>\n",
       "      <th>2019.0</th>\n",
       "      <th>NaN</th>\n",
       "    </tr>\n",
       "  </thead>\n",
       "  <tbody>\n",
       "    <tr>\n",
       "      <th>1</th>\n",
       "      <td>Aruba</td>\n",
       "      <td>NaN</td>\n",
       "      <td>NaN</td>\n",
       "      <td>NaN</td>\n",
       "      <td>NaN</td>\n",
       "      <td>NaN</td>\n",
       "      <td>NaN</td>\n",
       "      <td>NaN</td>\n",
       "      <td>NaN</td>\n",
       "      <td>NaN</td>\n",
       "      <td>...</td>\n",
       "      <td>2.549721e+09</td>\n",
       "      <td>2.534637e+09</td>\n",
       "      <td>2.581564e+09</td>\n",
       "      <td>2.649721e+09</td>\n",
       "      <td>2.691620e+09</td>\n",
       "      <td>2.646927e+09</td>\n",
       "      <td>2.700559e+09</td>\n",
       "      <td>NaN</td>\n",
       "      <td>NaN</td>\n",
       "      <td>NaN</td>\n",
       "    </tr>\n",
       "    <tr>\n",
       "      <th>2</th>\n",
       "      <td>Afghanistan</td>\n",
       "      <td>5.377778e+08</td>\n",
       "      <td>5.488889e+08</td>\n",
       "      <td>5.466667e+08</td>\n",
       "      <td>7.511112e+08</td>\n",
       "      <td>8.000000e+08</td>\n",
       "      <td>1.006667e+09</td>\n",
       "      <td>1.400000e+09</td>\n",
       "      <td>1.673333e+09</td>\n",
       "      <td>1.373333e+09</td>\n",
       "      <td>...</td>\n",
       "      <td>1.780428e+10</td>\n",
       "      <td>2.000162e+10</td>\n",
       "      <td>2.056105e+10</td>\n",
       "      <td>2.048487e+10</td>\n",
       "      <td>1.990711e+10</td>\n",
       "      <td>1.936264e+10</td>\n",
       "      <td>2.019176e+10</td>\n",
       "      <td>1.936297e+10</td>\n",
       "      <td>NaN</td>\n",
       "      <td>NaN</td>\n",
       "    </tr>\n",
       "    <tr>\n",
       "      <th>3</th>\n",
       "      <td>Angola</td>\n",
       "      <td>NaN</td>\n",
       "      <td>NaN</td>\n",
       "      <td>NaN</td>\n",
       "      <td>NaN</td>\n",
       "      <td>NaN</td>\n",
       "      <td>NaN</td>\n",
       "      <td>NaN</td>\n",
       "      <td>NaN</td>\n",
       "      <td>NaN</td>\n",
       "      <td>...</td>\n",
       "      <td>1.117897e+11</td>\n",
       "      <td>1.280529e+11</td>\n",
       "      <td>1.367099e+11</td>\n",
       "      <td>1.457122e+11</td>\n",
       "      <td>1.161936e+11</td>\n",
       "      <td>1.011239e+11</td>\n",
       "      <td>1.221238e+11</td>\n",
       "      <td>1.057510e+11</td>\n",
       "      <td>NaN</td>\n",
       "      <td>NaN</td>\n",
       "    </tr>\n",
       "    <tr>\n",
       "      <th>4</th>\n",
       "      <td>Albania</td>\n",
       "      <td>NaN</td>\n",
       "      <td>NaN</td>\n",
       "      <td>NaN</td>\n",
       "      <td>NaN</td>\n",
       "      <td>NaN</td>\n",
       "      <td>NaN</td>\n",
       "      <td>NaN</td>\n",
       "      <td>NaN</td>\n",
       "      <td>NaN</td>\n",
       "      <td>...</td>\n",
       "      <td>1.289087e+10</td>\n",
       "      <td>1.231978e+10</td>\n",
       "      <td>1.277628e+10</td>\n",
       "      <td>1.322824e+10</td>\n",
       "      <td>1.138693e+10</td>\n",
       "      <td>1.186135e+10</td>\n",
       "      <td>1.302506e+10</td>\n",
       "      <td>1.510250e+10</td>\n",
       "      <td>NaN</td>\n",
       "      <td>NaN</td>\n",
       "    </tr>\n",
       "    <tr>\n",
       "      <th>5</th>\n",
       "      <td>Andorra</td>\n",
       "      <td>NaN</td>\n",
       "      <td>NaN</td>\n",
       "      <td>NaN</td>\n",
       "      <td>NaN</td>\n",
       "      <td>NaN</td>\n",
       "      <td>NaN</td>\n",
       "      <td>NaN</td>\n",
       "      <td>NaN</td>\n",
       "      <td>NaN</td>\n",
       "      <td>...</td>\n",
       "      <td>3.442063e+09</td>\n",
       "      <td>3.164615e+09</td>\n",
       "      <td>3.281585e+09</td>\n",
       "      <td>3.350736e+09</td>\n",
       "      <td>2.811489e+09</td>\n",
       "      <td>2.877312e+09</td>\n",
       "      <td>3.013387e+09</td>\n",
       "      <td>3.236544e+09</td>\n",
       "      <td>NaN</td>\n",
       "      <td>NaN</td>\n",
       "    </tr>\n",
       "  </tbody>\n",
       "</table>\n",
       "<p>5 rows × 62 columns</p>\n",
       "</div>"
      ],
      "text/plain": [
       "0      Country        1960.0        1961.0        1962.0        1963.0  \\\n",
       "1        Aruba           NaN           NaN           NaN           NaN   \n",
       "2  Afghanistan  5.377778e+08  5.488889e+08  5.466667e+08  7.511112e+08   \n",
       "3       Angola           NaN           NaN           NaN           NaN   \n",
       "4      Albania           NaN           NaN           NaN           NaN   \n",
       "5      Andorra           NaN           NaN           NaN           NaN   \n",
       "\n",
       "0        1964.0        1965.0        1966.0        1967.0        1968.0  ...  \\\n",
       "1           NaN           NaN           NaN           NaN           NaN  ...   \n",
       "2  8.000000e+08  1.006667e+09  1.400000e+09  1.673333e+09  1.373333e+09  ...   \n",
       "3           NaN           NaN           NaN           NaN           NaN  ...   \n",
       "4           NaN           NaN           NaN           NaN           NaN  ...   \n",
       "5           NaN           NaN           NaN           NaN           NaN  ...   \n",
       "\n",
       "0        2011.0        2012.0        2013.0        2014.0        2015.0  \\\n",
       "1  2.549721e+09  2.534637e+09  2.581564e+09  2.649721e+09  2.691620e+09   \n",
       "2  1.780428e+10  2.000162e+10  2.056105e+10  2.048487e+10  1.990711e+10   \n",
       "3  1.117897e+11  1.280529e+11  1.367099e+11  1.457122e+11  1.161936e+11   \n",
       "4  1.289087e+10  1.231978e+10  1.277628e+10  1.322824e+10  1.138693e+10   \n",
       "5  3.442063e+09  3.164615e+09  3.281585e+09  3.350736e+09  2.811489e+09   \n",
       "\n",
       "0        2016.0        2017.0        2018.0  2019.0  NaN  \n",
       "1  2.646927e+09  2.700559e+09           NaN     NaN  NaN  \n",
       "2  1.936264e+10  2.019176e+10  1.936297e+10     NaN  NaN  \n",
       "3  1.011239e+11  1.221238e+11  1.057510e+11     NaN  NaN  \n",
       "4  1.186135e+10  1.302506e+10  1.510250e+10     NaN  NaN  \n",
       "5  2.877312e+09  3.013387e+09  3.236544e+09     NaN  NaN  \n",
       "\n",
       "[5 rows x 62 columns]"
      ]
     },
     "execution_count": 426,
     "metadata": {},
     "output_type": "execute_result"
    }
   ],
   "source": [
    "# Rename column country for consistency\n",
    "gdp.rename(columns={\"Country Name\": \"Country\"}, inplace=True)\n",
    "gdp.head()"
   ]
  },
  {
   "cell_type": "code",
   "execution_count": 427,
   "metadata": {},
   "outputs": [
    {
     "name": "stdout",
     "output_type": "stream",
     "text": [
      "<class 'pandas.core.frame.DataFrame'>\n",
      "Int64Index: 264 entries, 1 to 264\n",
      "Data columns (total 62 columns):\n",
      " #   Column   Non-Null Count  Dtype  \n",
      "---  ------   --------------  -----  \n",
      " 0   Country  264 non-null    object \n",
      " 1   1960.0   132 non-null    float64\n",
      " 2   1961.0   132 non-null    float64\n",
      " 3   1962.0   134 non-null    float64\n",
      " 4   1963.0   134 non-null    float64\n",
      " 5   1964.0   134 non-null    float64\n",
      " 6   1965.0   144 non-null    float64\n",
      " 7   1966.0   148 non-null    float64\n",
      " 8   1967.0   151 non-null    float64\n",
      " 9   1968.0   155 non-null    float64\n",
      " 10  1969.0   155 non-null    float64\n",
      " 11  1970.0   165 non-null    float64\n",
      " 12  1971.0   166 non-null    float64\n",
      " 13  1972.0   166 non-null    float64\n",
      " 14  1973.0   166 non-null    float64\n",
      " 15  1974.0   167 non-null    float64\n",
      " 16  1975.0   171 non-null    float64\n",
      " 17  1976.0   172 non-null    float64\n",
      " 18  1977.0   176 non-null    float64\n",
      " 19  1978.0   175 non-null    float64\n",
      " 20  1979.0   176 non-null    float64\n",
      " 21  1980.0   186 non-null    float64\n",
      " 22  1981.0   189 non-null    float64\n",
      " 23  1982.0   190 non-null    float64\n",
      " 24  1983.0   191 non-null    float64\n",
      " 25  1984.0   192 non-null    float64\n",
      " 26  1985.0   194 non-null    float64\n",
      " 27  1986.0   196 non-null    float64\n",
      " 28  1987.0   200 non-null    float64\n",
      " 29  1988.0   206 non-null    float64\n",
      " 30  1989.0   206 non-null    float64\n",
      " 31  1990.0   223 non-null    float64\n",
      " 32  1991.0   222 non-null    float64\n",
      " 33  1992.0   223 non-null    float64\n",
      " 34  1993.0   228 non-null    float64\n",
      " 35  1994.0   230 non-null    float64\n",
      " 36  1995.0   236 non-null    float64\n",
      " 37  1996.0   236 non-null    float64\n",
      " 38  1997.0   236 non-null    float64\n",
      " 39  1998.0   238 non-null    float64\n",
      " 40  1999.0   239 non-null    float64\n",
      " 41  2000.0   245 non-null    float64\n",
      " 42  2001.0   245 non-null    float64\n",
      " 43  2002.0   250 non-null    float64\n",
      " 44  2003.0   250 non-null    float64\n",
      " 45  2004.0   251 non-null    float64\n",
      " 46  2005.0   252 non-null    float64\n",
      " 47  2006.0   252 non-null    float64\n",
      " 48  2007.0   253 non-null    float64\n",
      " 49  2008.0   252 non-null    float64\n",
      " 50  2009.0   252 non-null    float64\n",
      " 51  2010.0   252 non-null    float64\n",
      " 52  2011.0   253 non-null    float64\n",
      " 53  2012.0   252 non-null    float64\n",
      " 54  2013.0   253 non-null    float64\n",
      " 55  2014.0   252 non-null    float64\n",
      " 56  2015.0   251 non-null    float64\n",
      " 57  2016.0   250 non-null    float64\n",
      " 58  2017.0   247 non-null    float64\n",
      " 59  2018.0   239 non-null    float64\n",
      " 60  2019.0   0 non-null      float64\n",
      " 61  nan      0 non-null      float64\n",
      "dtypes: float64(61), object(1)\n",
      "memory usage: 129.9+ KB\n"
     ]
    }
   ],
   "source": [
    "# Get info about dataset\n",
    "gdp.info()"
   ]
  },
  {
   "cell_type": "code",
   "execution_count": 428,
   "metadata": {},
   "outputs": [],
   "source": [
    "# Categorize 'Country'\n",
    "gdp['Country'] = gdp['Country'].astype('category')"
   ]
  },
  {
   "cell_type": "code",
   "execution_count": 429,
   "metadata": {},
   "outputs": [],
   "source": [
    "# Change the shape of dataframe\n",
    "gdp_ro = gdp.melt(id_vars=[\"Country\"], \n",
    "        var_name=\"Year\",\n",
    "        value_name=\"GDP\")\n",
    "# Reorder the data, first by country, then by year\n",
    "gdp_ro.sort_values(by=['Country', 'Year'], inplace=True)"
   ]
  },
  {
   "cell_type": "code",
   "execution_count": 430,
   "metadata": {
    "scrolled": true
   },
   "outputs": [
    {
     "data": {
      "text/html": [
       "<div>\n",
       "<style scoped>\n",
       "    .dataframe tbody tr th:only-of-type {\n",
       "        vertical-align: middle;\n",
       "    }\n",
       "\n",
       "    .dataframe tbody tr th {\n",
       "        vertical-align: top;\n",
       "    }\n",
       "\n",
       "    .dataframe thead th {\n",
       "        text-align: right;\n",
       "    }\n",
       "</style>\n",
       "<table border=\"1\" class=\"dataframe\">\n",
       "  <thead>\n",
       "    <tr style=\"text-align: right;\">\n",
       "      <th></th>\n",
       "      <th>Country</th>\n",
       "      <th>Year</th>\n",
       "      <th>GDP</th>\n",
       "    </tr>\n",
       "  </thead>\n",
       "  <tbody>\n",
       "    <tr>\n",
       "      <th>1</th>\n",
       "      <td>Afghanistan</td>\n",
       "      <td>1960</td>\n",
       "      <td>5.377778e+08</td>\n",
       "    </tr>\n",
       "    <tr>\n",
       "      <th>265</th>\n",
       "      <td>Afghanistan</td>\n",
       "      <td>1961</td>\n",
       "      <td>5.488889e+08</td>\n",
       "    </tr>\n",
       "    <tr>\n",
       "      <th>529</th>\n",
       "      <td>Afghanistan</td>\n",
       "      <td>1962</td>\n",
       "      <td>5.466667e+08</td>\n",
       "    </tr>\n",
       "    <tr>\n",
       "      <th>793</th>\n",
       "      <td>Afghanistan</td>\n",
       "      <td>1963</td>\n",
       "      <td>7.511112e+08</td>\n",
       "    </tr>\n",
       "    <tr>\n",
       "      <th>1057</th>\n",
       "      <td>Afghanistan</td>\n",
       "      <td>1964</td>\n",
       "      <td>8.000000e+08</td>\n",
       "    </tr>\n",
       "    <tr>\n",
       "      <th>...</th>\n",
       "      <td>...</td>\n",
       "      <td>...</td>\n",
       "      <td>...</td>\n",
       "    </tr>\n",
       "    <tr>\n",
       "      <th>15047</th>\n",
       "      <td>Zimbabwe</td>\n",
       "      <td>2016</td>\n",
       "      <td>2.054868e+10</td>\n",
       "    </tr>\n",
       "    <tr>\n",
       "      <th>15311</th>\n",
       "      <td>Zimbabwe</td>\n",
       "      <td>2017</td>\n",
       "      <td>2.281301e+10</td>\n",
       "    </tr>\n",
       "    <tr>\n",
       "      <th>15575</th>\n",
       "      <td>Zimbabwe</td>\n",
       "      <td>2018</td>\n",
       "      <td>3.100052e+10</td>\n",
       "    </tr>\n",
       "    <tr>\n",
       "      <th>15839</th>\n",
       "      <td>Zimbabwe</td>\n",
       "      <td>2019</td>\n",
       "      <td>NaN</td>\n",
       "    </tr>\n",
       "    <tr>\n",
       "      <th>16103</th>\n",
       "      <td>Zimbabwe</td>\n",
       "      <td>NaN</td>\n",
       "      <td>NaN</td>\n",
       "    </tr>\n",
       "  </tbody>\n",
       "</table>\n",
       "<p>16104 rows × 3 columns</p>\n",
       "</div>"
      ],
      "text/plain": [
       "           Country  Year           GDP\n",
       "1      Afghanistan  1960  5.377778e+08\n",
       "265    Afghanistan  1961  5.488889e+08\n",
       "529    Afghanistan  1962  5.466667e+08\n",
       "793    Afghanistan  1963  7.511112e+08\n",
       "1057   Afghanistan  1964  8.000000e+08\n",
       "...            ...   ...           ...\n",
       "15047     Zimbabwe  2016  2.054868e+10\n",
       "15311     Zimbabwe  2017  2.281301e+10\n",
       "15575     Zimbabwe  2018  3.100052e+10\n",
       "15839     Zimbabwe  2019           NaN\n",
       "16103     Zimbabwe   NaN           NaN\n",
       "\n",
       "[16104 rows x 3 columns]"
      ]
     },
     "execution_count": 430,
     "metadata": {},
     "output_type": "execute_result"
    }
   ],
   "source": [
    "# Check result\n",
    "gdp_ro"
   ]
  },
  {
   "cell_type": "code",
   "execution_count": 431,
   "metadata": {},
   "outputs": [
    {
     "data": {
      "text/html": [
       "<div>\n",
       "<style scoped>\n",
       "    .dataframe tbody tr th:only-of-type {\n",
       "        vertical-align: middle;\n",
       "    }\n",
       "\n",
       "    .dataframe tbody tr th {\n",
       "        vertical-align: top;\n",
       "    }\n",
       "\n",
       "    .dataframe thead th {\n",
       "        text-align: right;\n",
       "    }\n",
       "</style>\n",
       "<table border=\"1\" class=\"dataframe\">\n",
       "  <thead>\n",
       "    <tr style=\"text-align: right;\">\n",
       "      <th></th>\n",
       "      <th>Country</th>\n",
       "      <th>Year</th>\n",
       "      <th>GDP</th>\n",
       "    </tr>\n",
       "  </thead>\n",
       "  <tbody>\n",
       "    <tr>\n",
       "      <th>0</th>\n",
       "      <td>Afghanistan</td>\n",
       "      <td>1960</td>\n",
       "      <td>5.377778e+08</td>\n",
       "    </tr>\n",
       "    <tr>\n",
       "      <th>1</th>\n",
       "      <td>Afghanistan</td>\n",
       "      <td>1961</td>\n",
       "      <td>5.488889e+08</td>\n",
       "    </tr>\n",
       "    <tr>\n",
       "      <th>2</th>\n",
       "      <td>Afghanistan</td>\n",
       "      <td>1962</td>\n",
       "      <td>5.466667e+08</td>\n",
       "    </tr>\n",
       "    <tr>\n",
       "      <th>3</th>\n",
       "      <td>Afghanistan</td>\n",
       "      <td>1963</td>\n",
       "      <td>7.511112e+08</td>\n",
       "    </tr>\n",
       "    <tr>\n",
       "      <th>4</th>\n",
       "      <td>Afghanistan</td>\n",
       "      <td>1964</td>\n",
       "      <td>8.000000e+08</td>\n",
       "    </tr>\n",
       "    <tr>\n",
       "      <th>...</th>\n",
       "      <td>...</td>\n",
       "      <td>...</td>\n",
       "      <td>...</td>\n",
       "    </tr>\n",
       "    <tr>\n",
       "      <th>16099</th>\n",
       "      <td>Zimbabwe</td>\n",
       "      <td>2016</td>\n",
       "      <td>2.054868e+10</td>\n",
       "    </tr>\n",
       "    <tr>\n",
       "      <th>16100</th>\n",
       "      <td>Zimbabwe</td>\n",
       "      <td>2017</td>\n",
       "      <td>2.281301e+10</td>\n",
       "    </tr>\n",
       "    <tr>\n",
       "      <th>16101</th>\n",
       "      <td>Zimbabwe</td>\n",
       "      <td>2018</td>\n",
       "      <td>3.100052e+10</td>\n",
       "    </tr>\n",
       "    <tr>\n",
       "      <th>16102</th>\n",
       "      <td>Zimbabwe</td>\n",
       "      <td>2019</td>\n",
       "      <td>NaN</td>\n",
       "    </tr>\n",
       "    <tr>\n",
       "      <th>16103</th>\n",
       "      <td>Zimbabwe</td>\n",
       "      <td>NaN</td>\n",
       "      <td>NaN</td>\n",
       "    </tr>\n",
       "  </tbody>\n",
       "</table>\n",
       "<p>16104 rows × 3 columns</p>\n",
       "</div>"
      ],
      "text/plain": [
       "           Country  Year           GDP\n",
       "0      Afghanistan  1960  5.377778e+08\n",
       "1      Afghanistan  1961  5.488889e+08\n",
       "2      Afghanistan  1962  5.466667e+08\n",
       "3      Afghanistan  1963  7.511112e+08\n",
       "4      Afghanistan  1964  8.000000e+08\n",
       "...            ...   ...           ...\n",
       "16099     Zimbabwe  2016  2.054868e+10\n",
       "16100     Zimbabwe  2017  2.281301e+10\n",
       "16101     Zimbabwe  2018  3.100052e+10\n",
       "16102     Zimbabwe  2019           NaN\n",
       "16103     Zimbabwe   NaN           NaN\n",
       "\n",
       "[16104 rows x 3 columns]"
      ]
     },
     "execution_count": 431,
     "metadata": {},
     "output_type": "execute_result"
    }
   ],
   "source": [
    "# Again reset index\n",
    "gdp_ro.reset_index(drop=True)"
   ]
  },
  {
   "cell_type": "code",
   "execution_count": 432,
   "metadata": {},
   "outputs": [
    {
     "data": {
      "text/plain": [
       "264"
      ]
     },
     "execution_count": 432,
     "metadata": {},
     "output_type": "execute_result"
    }
   ],
   "source": [
    "# Count countries\n",
    "cntr_count = gdp_ro['Country'].unique().tolist()\n",
    "len(cntr_count)"
   ]
  },
  {
   "cell_type": "code",
   "execution_count": 433,
   "metadata": {},
   "outputs": [
    {
     "name": "stdout",
     "output_type": "stream",
     "text": [
      "<class 'pandas.core.frame.DataFrame'>\n",
      "Int64Index: 16104 entries, 1 to 16103\n",
      "Data columns (total 3 columns):\n",
      " #   Column   Non-Null Count  Dtype   \n",
      "---  ------   --------------  -----   \n",
      " 0   Country  16104 non-null  category\n",
      " 1   Year     15840 non-null  object  \n",
      " 2   GDP      12131 non-null  float64 \n",
      "dtypes: category(1), float64(1), object(1)\n",
      "memory usage: 421.0+ KB\n"
     ]
    }
   ],
   "source": [
    "gdp_ro.info()"
   ]
  },
  {
   "cell_type": "markdown",
   "metadata": {},
   "source": [
    "### Handle null values"
   ]
  },
  {
   "cell_type": "code",
   "execution_count": 434,
   "metadata": {},
   "outputs": [
    {
     "data": {
      "text/plain": [
       "3973"
      ]
     },
     "execution_count": 434,
     "metadata": {},
     "output_type": "execute_result"
    }
   ],
   "source": [
    "# Count null values in column GDP\n",
    "gdp_ro['GDP'].isnull().sum()"
   ]
  },
  {
   "cell_type": "code",
   "execution_count": 435,
   "metadata": {},
   "outputs": [
    {
     "name": "stdout",
     "output_type": "stream",
     "text": [
      "           Country  Year  GDP\n",
      "5809   Afghanistan  1982  NaN\n",
      "6073   Afghanistan  1983  NaN\n",
      "6337   Afghanistan  1984  NaN\n",
      "6601   Afghanistan  1985  NaN\n",
      "6865   Afghanistan  1986  NaN\n",
      "...            ...   ...  ...\n",
      "16100  Yemen, Rep.   NaN  NaN\n",
      "15838       Zambia  2019  NaN\n",
      "16102       Zambia   NaN  NaN\n",
      "15839     Zimbabwe  2019  NaN\n",
      "16103     Zimbabwe   NaN  NaN\n",
      "\n",
      "[3973 rows x 3 columns]\n"
     ]
    }
   ],
   "source": [
    "# Show rows with null values for GDP\n",
    "print(gdp_ro[gdp_ro['GDP'].isnull()])"
   ]
  },
  {
   "cell_type": "code",
   "execution_count": 436,
   "metadata": {},
   "outputs": [],
   "source": [
    "# Create new dataset to check null values\n",
    "cntr_nan_gdp = gdp_ro[gdp_ro['GDP'].isnull()]"
   ]
  },
  {
   "cell_type": "code",
   "execution_count": 437,
   "metadata": {},
   "outputs": [
    {
     "data": {
      "text/plain": [
       "['Afghanistan',\n",
       " 'Albania',\n",
       " 'Algeria',\n",
       " 'American Samoa',\n",
       " 'Andorra',\n",
       " 'Angola',\n",
       " 'Antigua and Barbuda',\n",
       " 'Arab World',\n",
       " 'Argentina',\n",
       " 'Armenia',\n",
       " 'Aruba',\n",
       " 'Australia',\n",
       " 'Austria',\n",
       " 'Azerbaijan',\n",
       " 'Bahamas, The',\n",
       " 'Bahrain',\n",
       " 'Bangladesh',\n",
       " 'Barbados',\n",
       " 'Belarus',\n",
       " 'Belgium',\n",
       " 'Belize',\n",
       " 'Benin',\n",
       " 'Bermuda',\n",
       " 'Bhutan',\n",
       " 'Bolivia',\n",
       " 'Bosnia and Herzegovina',\n",
       " 'Botswana',\n",
       " 'Brazil',\n",
       " 'British Virgin Islands',\n",
       " 'Brunei Darussalam',\n",
       " 'Bulgaria',\n",
       " 'Burkina Faso',\n",
       " 'Burundi',\n",
       " 'Cabo Verde',\n",
       " 'Cambodia',\n",
       " 'Cameroon',\n",
       " 'Canada',\n",
       " 'Caribbean small states',\n",
       " 'Cayman Islands',\n",
       " 'Central African Republic',\n",
       " 'Central Europe and the Baltics',\n",
       " 'Chad',\n",
       " 'Channel Islands',\n",
       " 'Chile',\n",
       " 'China',\n",
       " 'Colombia',\n",
       " 'Comoros',\n",
       " 'Congo, Dem. Rep.',\n",
       " 'Congo, Rep.',\n",
       " 'Costa Rica',\n",
       " \"Cote d'Ivoire\",\n",
       " 'Croatia',\n",
       " 'Cuba',\n",
       " 'Curacao',\n",
       " 'Cyprus',\n",
       " 'Czech Republic',\n",
       " 'Denmark',\n",
       " 'Djibouti',\n",
       " 'Dominica',\n",
       " 'Dominican Republic',\n",
       " 'Early-demographic dividend',\n",
       " 'East Asia & Pacific',\n",
       " 'East Asia & Pacific (IDA & IBRD countries)',\n",
       " 'East Asia & Pacific (excluding high income)',\n",
       " 'Ecuador',\n",
       " 'Egypt, Arab Rep.',\n",
       " 'El Salvador',\n",
       " 'Equatorial Guinea',\n",
       " 'Eritrea',\n",
       " 'Estonia',\n",
       " 'Eswatini',\n",
       " 'Ethiopia',\n",
       " 'Euro area',\n",
       " 'Europe & Central Asia',\n",
       " 'Europe & Central Asia (IDA & IBRD countries)',\n",
       " 'Europe & Central Asia (excluding high income)',\n",
       " 'European Union',\n",
       " 'Faroe Islands',\n",
       " 'Fiji',\n",
       " 'Finland',\n",
       " 'Fragile and conflict affected situations',\n",
       " 'France',\n",
       " 'French Polynesia',\n",
       " 'Gabon',\n",
       " 'Gambia, The',\n",
       " 'Georgia',\n",
       " 'Germany',\n",
       " 'Ghana',\n",
       " 'Gibraltar',\n",
       " 'Greece',\n",
       " 'Greenland',\n",
       " 'Grenada',\n",
       " 'Guam',\n",
       " 'Guatemala',\n",
       " 'Guinea',\n",
       " 'Guinea-Bissau',\n",
       " 'Guyana',\n",
       " 'Haiti',\n",
       " 'Heavily indebted poor countries (HIPC)',\n",
       " 'High income',\n",
       " 'Honduras',\n",
       " 'Hong Kong SAR, China',\n",
       " 'Hungary',\n",
       " 'IBRD only',\n",
       " 'IDA & IBRD total',\n",
       " 'IDA blend',\n",
       " 'IDA only',\n",
       " 'IDA total',\n",
       " 'Iceland',\n",
       " 'India',\n",
       " 'Indonesia',\n",
       " 'Iran, Islamic Rep.',\n",
       " 'Iraq',\n",
       " 'Ireland',\n",
       " 'Isle of Man',\n",
       " 'Israel',\n",
       " 'Italy',\n",
       " 'Jamaica',\n",
       " 'Japan',\n",
       " 'Jordan',\n",
       " 'Kazakhstan',\n",
       " 'Kenya',\n",
       " 'Kiribati',\n",
       " 'Korea, Dem. People’s Rep.',\n",
       " 'Korea, Rep.',\n",
       " 'Kosovo',\n",
       " 'Kuwait',\n",
       " 'Kyrgyz Republic',\n",
       " 'Lao PDR',\n",
       " 'Late-demographic dividend',\n",
       " 'Latin America & Caribbean',\n",
       " 'Latin America & Caribbean (excluding high income)',\n",
       " 'Latin America & the Caribbean (IDA & IBRD countries)',\n",
       " 'Latvia',\n",
       " 'Least developed countries: UN classification',\n",
       " 'Lebanon',\n",
       " 'Lesotho',\n",
       " 'Liberia',\n",
       " 'Libya',\n",
       " 'Liechtenstein',\n",
       " 'Lithuania',\n",
       " 'Low & middle income',\n",
       " 'Low income',\n",
       " 'Lower middle income',\n",
       " 'Luxembourg',\n",
       " 'Macao SAR, China',\n",
       " 'Madagascar',\n",
       " 'Malawi',\n",
       " 'Malaysia',\n",
       " 'Maldives',\n",
       " 'Mali',\n",
       " 'Malta',\n",
       " 'Marshall Islands',\n",
       " 'Mauritania',\n",
       " 'Mauritius',\n",
       " 'Mexico',\n",
       " 'Micronesia, Fed. Sts.',\n",
       " 'Middle East & North Africa',\n",
       " 'Middle East & North Africa (IDA & IBRD countries)',\n",
       " 'Middle East & North Africa (excluding high income)',\n",
       " 'Middle income',\n",
       " 'Moldova',\n",
       " 'Monaco',\n",
       " 'Mongolia',\n",
       " 'Montenegro',\n",
       " 'Morocco',\n",
       " 'Mozambique',\n",
       " 'Myanmar',\n",
       " 'Namibia',\n",
       " 'Nauru',\n",
       " 'Nepal',\n",
       " 'Netherlands',\n",
       " 'New Caledonia',\n",
       " 'New Zealand',\n",
       " 'Nicaragua',\n",
       " 'Niger',\n",
       " 'Nigeria',\n",
       " 'North America',\n",
       " 'North Macedonia',\n",
       " 'Northern Mariana Islands',\n",
       " 'Norway',\n",
       " 'Not classified',\n",
       " 'OECD members',\n",
       " 'Oman',\n",
       " 'Other small states',\n",
       " 'Pacific island small states',\n",
       " 'Pakistan',\n",
       " 'Palau',\n",
       " 'Panama',\n",
       " 'Papua New Guinea',\n",
       " 'Paraguay',\n",
       " 'Peru',\n",
       " 'Philippines',\n",
       " 'Poland',\n",
       " 'Portugal',\n",
       " 'Post-demographic dividend',\n",
       " 'Pre-demographic dividend',\n",
       " 'Puerto Rico',\n",
       " 'Qatar',\n",
       " 'Romania',\n",
       " 'Russian Federation',\n",
       " 'Rwanda',\n",
       " 'Samoa',\n",
       " 'San Marino',\n",
       " 'Sao Tome and Principe',\n",
       " 'Saudi Arabia',\n",
       " 'Senegal',\n",
       " 'Serbia',\n",
       " 'Seychelles',\n",
       " 'Sierra Leone',\n",
       " 'Singapore',\n",
       " 'Sint Maarten (Dutch part)',\n",
       " 'Slovak Republic',\n",
       " 'Slovenia',\n",
       " 'Small states',\n",
       " 'Solomon Islands',\n",
       " 'Somalia',\n",
       " 'South Africa',\n",
       " 'South Asia',\n",
       " 'South Asia (IDA & IBRD)',\n",
       " 'South Sudan',\n",
       " 'Spain',\n",
       " 'Sri Lanka',\n",
       " 'St. Kitts and Nevis',\n",
       " 'St. Lucia',\n",
       " 'St. Martin (French part)',\n",
       " 'St. Vincent and the Grenadines',\n",
       " 'Sub-Saharan Africa',\n",
       " 'Sub-Saharan Africa (IDA & IBRD countries)',\n",
       " 'Sub-Saharan Africa (excluding high income)',\n",
       " 'Sudan',\n",
       " 'Suriname',\n",
       " 'Sweden',\n",
       " 'Switzerland',\n",
       " 'Syrian Arab Republic',\n",
       " 'Tajikistan',\n",
       " 'Tanzania',\n",
       " 'Thailand',\n",
       " 'Timor-Leste',\n",
       " 'Togo',\n",
       " 'Tonga',\n",
       " 'Trinidad and Tobago',\n",
       " 'Tunisia',\n",
       " 'Turkey',\n",
       " 'Turkmenistan',\n",
       " 'Turks and Caicos Islands',\n",
       " 'Tuvalu',\n",
       " 'Uganda',\n",
       " 'Ukraine',\n",
       " 'United Arab Emirates',\n",
       " 'United Kingdom',\n",
       " 'United States',\n",
       " 'Upper middle income',\n",
       " 'Uruguay',\n",
       " 'Uzbekistan',\n",
       " 'Vanuatu',\n",
       " 'Venezuela, RB',\n",
       " 'Vietnam',\n",
       " 'Virgin Islands (U.S.)',\n",
       " 'West Bank and Gaza',\n",
       " 'World',\n",
       " 'Yemen, Rep.',\n",
       " 'Zambia',\n",
       " 'Zimbabwe']"
      ]
     },
     "execution_count": 437,
     "metadata": {},
     "output_type": "execute_result"
    }
   ],
   "source": [
    "# Look at the countries with missing values for GDP\n",
    "cntr_nan_unique_gdp = cntr_nan_gdp['Country'].unique().tolist()\n",
    "cntr_nan_unique_gdp"
   ]
  },
  {
   "cell_type": "code",
   "execution_count": 438,
   "metadata": {},
   "outputs": [
    {
     "data": {
      "text/plain": [
       "264"
      ]
     },
     "execution_count": 438,
     "metadata": {},
     "output_type": "execute_result"
    }
   ],
   "source": [
    "# Check for how many countries null values exist\n",
    "len(cntr_nan_unique_gdp)"
   ]
  },
  {
   "cell_type": "markdown",
   "metadata": {},
   "source": [
    "The problem at this point is that the dataset does not contain complete GDP data for the observation period for any single country. An assumption must therefore be made, as up to how many null values, the data of a country is no longer meaningful."
   ]
  },
  {
   "cell_type": "code",
   "execution_count": 439,
   "metadata": {},
   "outputs": [
    {
     "data": {
      "text/html": [
       "<div>\n",
       "<style scoped>\n",
       "    .dataframe tbody tr th:only-of-type {\n",
       "        vertical-align: middle;\n",
       "    }\n",
       "\n",
       "    .dataframe tbody tr th {\n",
       "        vertical-align: top;\n",
       "    }\n",
       "\n",
       "    .dataframe thead th {\n",
       "        text-align: right;\n",
       "    }\n",
       "</style>\n",
       "<table border=\"1\" class=\"dataframe\">\n",
       "  <thead>\n",
       "    <tr style=\"text-align: right;\">\n",
       "      <th></th>\n",
       "      <th>Country</th>\n",
       "      <th>count</th>\n",
       "    </tr>\n",
       "  </thead>\n",
       "  <tbody>\n",
       "    <tr>\n",
       "      <th>0</th>\n",
       "      <td>Afghanistan</td>\n",
       "      <td>22</td>\n",
       "    </tr>\n",
       "    <tr>\n",
       "      <th>1</th>\n",
       "      <td>Albania</td>\n",
       "      <td>26</td>\n",
       "    </tr>\n",
       "    <tr>\n",
       "      <th>2</th>\n",
       "      <td>Algeria</td>\n",
       "      <td>2</td>\n",
       "    </tr>\n",
       "    <tr>\n",
       "      <th>3</th>\n",
       "      <td>American Samoa</td>\n",
       "      <td>44</td>\n",
       "    </tr>\n",
       "    <tr>\n",
       "      <th>4</th>\n",
       "      <td>Andorra</td>\n",
       "      <td>12</td>\n",
       "    </tr>\n",
       "    <tr>\n",
       "      <th>...</th>\n",
       "      <td>...</td>\n",
       "      <td>...</td>\n",
       "    </tr>\n",
       "    <tr>\n",
       "      <th>259</th>\n",
       "      <td>West Bank and Gaza</td>\n",
       "      <td>36</td>\n",
       "    </tr>\n",
       "    <tr>\n",
       "      <th>260</th>\n",
       "      <td>World</td>\n",
       "      <td>2</td>\n",
       "    </tr>\n",
       "    <tr>\n",
       "      <th>261</th>\n",
       "      <td>Yemen, Rep.</td>\n",
       "      <td>32</td>\n",
       "    </tr>\n",
       "    <tr>\n",
       "      <th>262</th>\n",
       "      <td>Zambia</td>\n",
       "      <td>2</td>\n",
       "    </tr>\n",
       "    <tr>\n",
       "      <th>263</th>\n",
       "      <td>Zimbabwe</td>\n",
       "      <td>2</td>\n",
       "    </tr>\n",
       "  </tbody>\n",
       "</table>\n",
       "<p>264 rows × 2 columns</p>\n",
       "</div>"
      ],
      "text/plain": [
       "                Country  count\n",
       "0           Afghanistan     22\n",
       "1               Albania     26\n",
       "2               Algeria      2\n",
       "3        American Samoa     44\n",
       "4               Andorra     12\n",
       "..                  ...    ...\n",
       "259  West Bank and Gaza     36\n",
       "260               World      2\n",
       "261         Yemen, Rep.     32\n",
       "262              Zambia      2\n",
       "263            Zimbabwe      2\n",
       "\n",
       "[264 rows x 2 columns]"
      ]
     },
     "execution_count": 439,
     "metadata": {},
     "output_type": "execute_result"
    }
   ],
   "source": [
    "# Check how many null values exist for each country to plan further action\n",
    "check_null_gdp = gdp_ro[gdp_ro.isna().any(axis=1)]\n",
    "country_nan_gdp = check_null_gdp['GDP'].isnull().groupby([check_null_gdp['Country']]).sum().astype(int).reset_index(name='count')\n",
    "country_nan_gdp"
   ]
  },
  {
   "cell_type": "markdown",
   "metadata": {},
   "source": [
    "###  Assumption:  Countries with more than 15 null values would distort the analysis results and will not be taken into account for further analysis and will be deleted."
   ]
  },
  {
   "cell_type": "code",
   "execution_count": 440,
   "metadata": {},
   "outputs": [
    {
     "data": {
      "text/html": [
       "<div>\n",
       "<style scoped>\n",
       "    .dataframe tbody tr th:only-of-type {\n",
       "        vertical-align: middle;\n",
       "    }\n",
       "\n",
       "    .dataframe tbody tr th {\n",
       "        vertical-align: top;\n",
       "    }\n",
       "\n",
       "    .dataframe thead th {\n",
       "        text-align: right;\n",
       "    }\n",
       "</style>\n",
       "<table border=\"1\" class=\"dataframe\">\n",
       "  <thead>\n",
       "    <tr style=\"text-align: right;\">\n",
       "      <th></th>\n",
       "      <th>Country</th>\n",
       "      <th>count</th>\n",
       "    </tr>\n",
       "  </thead>\n",
       "  <tbody>\n",
       "    <tr>\n",
       "      <th>0</th>\n",
       "      <td>Afghanistan</td>\n",
       "      <td>22</td>\n",
       "    </tr>\n",
       "    <tr>\n",
       "      <th>1</th>\n",
       "      <td>Albania</td>\n",
       "      <td>26</td>\n",
       "    </tr>\n",
       "    <tr>\n",
       "      <th>3</th>\n",
       "      <td>American Samoa</td>\n",
       "      <td>44</td>\n",
       "    </tr>\n",
       "    <tr>\n",
       "      <th>5</th>\n",
       "      <td>Angola</td>\n",
       "      <td>22</td>\n",
       "    </tr>\n",
       "    <tr>\n",
       "      <th>6</th>\n",
       "      <td>Antigua and Barbuda</td>\n",
       "      <td>19</td>\n",
       "    </tr>\n",
       "    <tr>\n",
       "      <th>...</th>\n",
       "      <td>...</td>\n",
       "      <td>...</td>\n",
       "    </tr>\n",
       "    <tr>\n",
       "      <th>255</th>\n",
       "      <td>Vanuatu</td>\n",
       "      <td>21</td>\n",
       "    </tr>\n",
       "    <tr>\n",
       "      <th>257</th>\n",
       "      <td>Vietnam</td>\n",
       "      <td>27</td>\n",
       "    </tr>\n",
       "    <tr>\n",
       "      <th>258</th>\n",
       "      <td>Virgin Islands (U.S.)</td>\n",
       "      <td>45</td>\n",
       "    </tr>\n",
       "    <tr>\n",
       "      <th>259</th>\n",
       "      <td>West Bank and Gaza</td>\n",
       "      <td>36</td>\n",
       "    </tr>\n",
       "    <tr>\n",
       "      <th>261</th>\n",
       "      <td>Yemen, Rep.</td>\n",
       "      <td>32</td>\n",
       "    </tr>\n",
       "  </tbody>\n",
       "</table>\n",
       "<p>104 rows × 2 columns</p>\n",
       "</div>"
      ],
      "text/plain": [
       "                   Country  count\n",
       "0              Afghanistan     22\n",
       "1                  Albania     26\n",
       "3           American Samoa     44\n",
       "5                   Angola     22\n",
       "6      Antigua and Barbuda     19\n",
       "..                     ...    ...\n",
       "255                Vanuatu     21\n",
       "257                Vietnam     27\n",
       "258  Virgin Islands (U.S.)     45\n",
       "259     West Bank and Gaza     36\n",
       "261            Yemen, Rep.     32\n",
       "\n",
       "[104 rows x 2 columns]"
      ]
     },
     "execution_count": 440,
     "metadata": {},
     "output_type": "execute_result"
    }
   ],
   "source": [
    "# Identification of countries with more than 15 null values\n",
    "countries_drop = country_nan_gdp[country_nan_gdp['count'] > 15]\n",
    "countries_drop"
   ]
  },
  {
   "cell_type": "markdown",
   "metadata": {},
   "source": [
    "104 countries have more than 15 null values and are excluded from further analysis."
   ]
  },
  {
   "cell_type": "code",
   "execution_count": 441,
   "metadata": {},
   "outputs": [
    {
     "data": {
      "text/plain": [
       "Int64Index([    1,   265,   529,   793,  1057,  1321,  1585,  1849,  2113,\n",
       "             2377,\n",
       "            ...\n",
       "            13724, 13988, 14252, 14516, 14780, 15044, 15308, 15572, 15836,\n",
       "            16100],\n",
       "           dtype='int64', length=6344)"
      ]
     },
     "execution_count": 441,
     "metadata": {},
     "output_type": "execute_result"
    }
   ],
   "source": [
    "# Identification of the lines that must be deleted in order to be excluded from further analysis\n",
    "index_drop = gdp_ro[gdp_ro['Country'].isin(countries_drop['Country'])].index\n",
    "index_drop"
   ]
  },
  {
   "cell_type": "code",
   "execution_count": 442,
   "metadata": {},
   "outputs": [],
   "source": [
    "# Deleting the data affected by too many null values\n",
    "gdp_ro.drop(index_drop, inplace=True)"
   ]
  },
  {
   "cell_type": "code",
   "execution_count": 443,
   "metadata": {},
   "outputs": [
    {
     "data": {
      "text/html": [
       "<div>\n",
       "<style scoped>\n",
       "    .dataframe tbody tr th:only-of-type {\n",
       "        vertical-align: middle;\n",
       "    }\n",
       "\n",
       "    .dataframe tbody tr th {\n",
       "        vertical-align: top;\n",
       "    }\n",
       "\n",
       "    .dataframe thead th {\n",
       "        text-align: right;\n",
       "    }\n",
       "</style>\n",
       "<table border=\"1\" class=\"dataframe\">\n",
       "  <thead>\n",
       "    <tr style=\"text-align: right;\">\n",
       "      <th></th>\n",
       "      <th>Country</th>\n",
       "      <th>Year</th>\n",
       "      <th>GDP</th>\n",
       "    </tr>\n",
       "  </thead>\n",
       "  <tbody>\n",
       "    <tr>\n",
       "      <th>58</th>\n",
       "      <td>Algeria</td>\n",
       "      <td>1960</td>\n",
       "      <td>2.723649e+09</td>\n",
       "    </tr>\n",
       "    <tr>\n",
       "      <th>322</th>\n",
       "      <td>Algeria</td>\n",
       "      <td>1961</td>\n",
       "      <td>2.434777e+09</td>\n",
       "    </tr>\n",
       "    <tr>\n",
       "      <th>586</th>\n",
       "      <td>Algeria</td>\n",
       "      <td>1962</td>\n",
       "      <td>2.001469e+09</td>\n",
       "    </tr>\n",
       "    <tr>\n",
       "      <th>850</th>\n",
       "      <td>Algeria</td>\n",
       "      <td>1963</td>\n",
       "      <td>2.703015e+09</td>\n",
       "    </tr>\n",
       "    <tr>\n",
       "      <th>1114</th>\n",
       "      <td>Algeria</td>\n",
       "      <td>1964</td>\n",
       "      <td>2.909352e+09</td>\n",
       "    </tr>\n",
       "  </tbody>\n",
       "</table>\n",
       "</div>"
      ],
      "text/plain": [
       "      Country  Year           GDP\n",
       "58    Algeria  1960  2.723649e+09\n",
       "322   Algeria  1961  2.434777e+09\n",
       "586   Algeria  1962  2.001469e+09\n",
       "850   Algeria  1963  2.703015e+09\n",
       "1114  Algeria  1964  2.909352e+09"
      ]
     },
     "execution_count": 443,
     "metadata": {},
     "output_type": "execute_result"
    }
   ],
   "source": [
    "# Check\n",
    "gdp_ro.head()"
   ]
  },
  {
   "cell_type": "code",
   "execution_count": 444,
   "metadata": {},
   "outputs": [
    {
     "name": "stdout",
     "output_type": "stream",
     "text": [
      "<class 'pandas.core.frame.DataFrame'>\n",
      "Int64Index: 9760 entries, 58 to 16103\n",
      "Data columns (total 3 columns):\n",
      " #   Column   Non-Null Count  Dtype   \n",
      "---  ------   --------------  -----   \n",
      " 0   Country  9760 non-null   category\n",
      " 1   Year     9600 non-null   object  \n",
      " 2   GDP      9182 non-null   float64 \n",
      "dtypes: category(1), float64(1), object(1)\n",
      "memory usage: 259.9+ KB\n"
     ]
    }
   ],
   "source": [
    "# Check\n",
    "gdp_ro.info()"
   ]
  },
  {
   "cell_type": "code",
   "execution_count": 445,
   "metadata": {},
   "outputs": [
    {
     "data": {
      "text/plain": [
       "160"
      ]
     },
     "execution_count": 445,
     "metadata": {},
     "output_type": "execute_result"
    }
   ],
   "source": [
    "# To validate previous statements, check how many countries are now included in the data set\n",
    "cntr_count1 = gdp_ro['Country'].unique().tolist()\n",
    "len(cntr_count1)"
   ]
  },
  {
   "cell_type": "markdown",
   "metadata": {},
   "source": [
    "### Handling the remaining null values in the GDP dataset\n",
    "- Assumption: There is now a maximum of 15 null values per country. We assume that these values can be filled up with the data of the previous or subsequent years of the respective country without distorting the results too much."
   ]
  },
  {
   "cell_type": "code",
   "execution_count": 446,
   "metadata": {},
   "outputs": [
    {
     "data": {
      "text/html": [
       "<div>\n",
       "<style scoped>\n",
       "    .dataframe tbody tr th:only-of-type {\n",
       "        vertical-align: middle;\n",
       "    }\n",
       "\n",
       "    .dataframe tbody tr th {\n",
       "        vertical-align: top;\n",
       "    }\n",
       "\n",
       "    .dataframe thead th {\n",
       "        text-align: right;\n",
       "    }\n",
       "</style>\n",
       "<table border=\"1\" class=\"dataframe\">\n",
       "  <thead>\n",
       "    <tr style=\"text-align: right;\">\n",
       "      <th></th>\n",
       "      <th>Country</th>\n",
       "      <th>Year</th>\n",
       "      <th>GDP</th>\n",
       "    </tr>\n",
       "  </thead>\n",
       "  <tbody>\n",
       "    <tr>\n",
       "      <th>58</th>\n",
       "      <td>Algeria</td>\n",
       "      <td>1960</td>\n",
       "      <td>2.723649e+09</td>\n",
       "    </tr>\n",
       "    <tr>\n",
       "      <th>322</th>\n",
       "      <td>Algeria</td>\n",
       "      <td>1961</td>\n",
       "      <td>2.434777e+09</td>\n",
       "    </tr>\n",
       "    <tr>\n",
       "      <th>586</th>\n",
       "      <td>Algeria</td>\n",
       "      <td>1962</td>\n",
       "      <td>2.001469e+09</td>\n",
       "    </tr>\n",
       "    <tr>\n",
       "      <th>850</th>\n",
       "      <td>Algeria</td>\n",
       "      <td>1963</td>\n",
       "      <td>2.703015e+09</td>\n",
       "    </tr>\n",
       "    <tr>\n",
       "      <th>1114</th>\n",
       "      <td>Algeria</td>\n",
       "      <td>1964</td>\n",
       "      <td>2.909352e+09</td>\n",
       "    </tr>\n",
       "  </tbody>\n",
       "</table>\n",
       "</div>"
      ],
      "text/plain": [
       "      Country  Year           GDP\n",
       "58    Algeria  1960  2.723649e+09\n",
       "322   Algeria  1961  2.434777e+09\n",
       "586   Algeria  1962  2.001469e+09\n",
       "850   Algeria  1963  2.703015e+09\n",
       "1114  Algeria  1964  2.909352e+09"
      ]
     },
     "execution_count": 446,
     "metadata": {},
     "output_type": "execute_result"
    }
   ],
   "source": [
    "gdp_ro.head()"
   ]
  },
  {
   "cell_type": "code",
   "execution_count": 447,
   "metadata": {},
   "outputs": [
    {
     "data": {
      "text/plain": [
       "578"
      ]
     },
     "execution_count": 447,
     "metadata": {},
     "output_type": "execute_result"
    }
   ],
   "source": [
    "# Again count null values in column GDP\n",
    "gdp_ro['GDP'].isnull().sum()"
   ]
  },
  {
   "cell_type": "code",
   "execution_count": 448,
   "metadata": {},
   "outputs": [],
   "source": [
    "# Filling the missing values first with the data of the previous years\n",
    "gdp_ro = gdp_ro.fillna(method='ffill')"
   ]
  },
  {
   "cell_type": "code",
   "execution_count": 449,
   "metadata": {},
   "outputs": [
    {
     "data": {
      "text/html": [
       "<div>\n",
       "<style scoped>\n",
       "    .dataframe tbody tr th:only-of-type {\n",
       "        vertical-align: middle;\n",
       "    }\n",
       "\n",
       "    .dataframe tbody tr th {\n",
       "        vertical-align: top;\n",
       "    }\n",
       "\n",
       "    .dataframe thead th {\n",
       "        text-align: right;\n",
       "    }\n",
       "</style>\n",
       "<table border=\"1\" class=\"dataframe\">\n",
       "  <thead>\n",
       "    <tr style=\"text-align: right;\">\n",
       "      <th></th>\n",
       "      <th>Country</th>\n",
       "      <th>Year</th>\n",
       "      <th>GDP</th>\n",
       "    </tr>\n",
       "  </thead>\n",
       "  <tbody>\n",
       "    <tr>\n",
       "      <th>15047</th>\n",
       "      <td>Zimbabwe</td>\n",
       "      <td>2016.0</td>\n",
       "      <td>2.054868e+10</td>\n",
       "    </tr>\n",
       "    <tr>\n",
       "      <th>15311</th>\n",
       "      <td>Zimbabwe</td>\n",
       "      <td>2017.0</td>\n",
       "      <td>2.281301e+10</td>\n",
       "    </tr>\n",
       "    <tr>\n",
       "      <th>15575</th>\n",
       "      <td>Zimbabwe</td>\n",
       "      <td>2018.0</td>\n",
       "      <td>3.100052e+10</td>\n",
       "    </tr>\n",
       "    <tr>\n",
       "      <th>15839</th>\n",
       "      <td>Zimbabwe</td>\n",
       "      <td>2019.0</td>\n",
       "      <td>3.100052e+10</td>\n",
       "    </tr>\n",
       "    <tr>\n",
       "      <th>16103</th>\n",
       "      <td>Zimbabwe</td>\n",
       "      <td>2019.0</td>\n",
       "      <td>3.100052e+10</td>\n",
       "    </tr>\n",
       "  </tbody>\n",
       "</table>\n",
       "</div>"
      ],
      "text/plain": [
       "        Country    Year           GDP\n",
       "15047  Zimbabwe  2016.0  2.054868e+10\n",
       "15311  Zimbabwe  2017.0  2.281301e+10\n",
       "15575  Zimbabwe  2018.0  3.100052e+10\n",
       "15839  Zimbabwe  2019.0  3.100052e+10\n",
       "16103  Zimbabwe  2019.0  3.100052e+10"
      ]
     },
     "execution_count": 449,
     "metadata": {},
     "output_type": "execute_result"
    }
   ],
   "source": [
    "# Check\n",
    "gdp_ro.tail()"
   ]
  },
  {
   "cell_type": "code",
   "execution_count": 450,
   "metadata": {},
   "outputs": [
    {
     "data": {
      "text/plain": [
       "0"
      ]
     },
     "execution_count": 450,
     "metadata": {},
     "output_type": "execute_result"
    }
   ],
   "source": [
    "# Again count null values in column GDP\n",
    "gdp_ro['GDP'].isnull().sum()"
   ]
  },
  {
   "cell_type": "markdown",
   "metadata": {},
   "source": [
    "All null values were adjusted."
   ]
  },
  {
   "cell_type": "code",
   "execution_count": 451,
   "metadata": {},
   "outputs": [
    {
     "data": {
      "text/plain": [
       "<matplotlib.axes._subplots.AxesSubplot at 0x7f88396b3390>"
      ]
     },
     "execution_count": 451,
     "metadata": {},
     "output_type": "execute_result"
    },
    {
     "data": {
      "image/png": "[encoded data removed]",
      "text/plain": [
       "<Figure size 432x288 with 1 Axes>"
      ]
     },
     "metadata": {
      "needs_background": "light"
     },
     "output_type": "display_data"
    }
   ],
   "source": [
    "# Get overview about development of the gdp over time\n",
    "gdp_plot = gdp_ro.groupby(['Year']).mean()\n",
    "gdp_plot.plot()"
   ]
  },
  {
   "cell_type": "markdown",
   "metadata": {},
   "source": [
    "- A clear increase in GDP can be observed over time, especially from 2000 until 2015"
   ]
  },
  {
   "cell_type": "markdown",
   "metadata": {},
   "source": [
    "# Merge both datasets \n",
    "- merged dataset with weather data and agricultural land data\n",
    "- GDP data"
   ]
  },
  {
   "cell_type": "markdown",
   "metadata": {},
   "source": [
    "The datasets mentioned above are merged using the key parameters 'Country' and 'Year'"
   ]
  },
  {
   "cell_type": "code",
   "execution_count": 452,
   "metadata": {},
   "outputs": [],
   "source": [
    "# merge the two datasets, inner join by default\n",
    "df_weath_agr_gdp = pd.merge(weath_agr, gdp_ro, on=['Country', 'Year'])"
   ]
  },
  {
   "cell_type": "code",
   "execution_count": 453,
   "metadata": {},
   "outputs": [
    {
     "data": {
      "text/html": [
       "<div>\n",
       "<style scoped>\n",
       "    .dataframe tbody tr th:only-of-type {\n",
       "        vertical-align: middle;\n",
       "    }\n",
       "\n",
       "    .dataframe tbody tr th {\n",
       "        vertical-align: top;\n",
       "    }\n",
       "\n",
       "    .dataframe thead th {\n",
       "        text-align: right;\n",
       "    }\n",
       "</style>\n",
       "<table border=\"1\" class=\"dataframe\">\n",
       "  <thead>\n",
       "    <tr style=\"text-align: right;\">\n",
       "      <th></th>\n",
       "      <th>Temperature(Celsius)</th>\n",
       "      <th>Year</th>\n",
       "      <th>Statistics</th>\n",
       "      <th>Country</th>\n",
       "      <th>Agricultural land in %</th>\n",
       "      <th>GDP</th>\n",
       "    </tr>\n",
       "  </thead>\n",
       "  <tbody>\n",
       "    <tr>\n",
       "      <th>0</th>\n",
       "      <td>11.3273</td>\n",
       "      <td>1961</td>\n",
       "      <td>Jan Average</td>\n",
       "      <td>Algeria</td>\n",
       "      <td>19.091505</td>\n",
       "      <td>2.434777e+09</td>\n",
       "    </tr>\n",
       "    <tr>\n",
       "      <th>1</th>\n",
       "      <td>14.8065</td>\n",
       "      <td>1961</td>\n",
       "      <td>Feb Average</td>\n",
       "      <td>Algeria</td>\n",
       "      <td>19.091505</td>\n",
       "      <td>2.434777e+09</td>\n",
       "    </tr>\n",
       "    <tr>\n",
       "      <th>2</th>\n",
       "      <td>17.6368</td>\n",
       "      <td>1961</td>\n",
       "      <td>Mar Average</td>\n",
       "      <td>Algeria</td>\n",
       "      <td>19.091505</td>\n",
       "      <td>2.434777e+09</td>\n",
       "    </tr>\n",
       "    <tr>\n",
       "      <th>3</th>\n",
       "      <td>23.0749</td>\n",
       "      <td>1961</td>\n",
       "      <td>Apr Average</td>\n",
       "      <td>Algeria</td>\n",
       "      <td>19.091505</td>\n",
       "      <td>2.434777e+09</td>\n",
       "    </tr>\n",
       "    <tr>\n",
       "      <th>4</th>\n",
       "      <td>28.1311</td>\n",
       "      <td>1961</td>\n",
       "      <td>May Average</td>\n",
       "      <td>Algeria</td>\n",
       "      <td>19.091505</td>\n",
       "      <td>2.434777e+09</td>\n",
       "    </tr>\n",
       "  </tbody>\n",
       "</table>\n",
       "</div>"
      ],
      "text/plain": [
       "   Temperature(Celsius)  Year    Statistics  Country  Agricultural land in %  \\\n",
       "0               11.3273  1961   Jan Average  Algeria               19.091505   \n",
       "1               14.8065  1961   Feb Average  Algeria               19.091505   \n",
       "2               17.6368  1961   Mar Average  Algeria               19.091505   \n",
       "3               23.0749  1961   Apr Average  Algeria               19.091505   \n",
       "4               28.1311  1961   May Average  Algeria               19.091505   \n",
       "\n",
       "            GDP  \n",
       "0  2.434777e+09  \n",
       "1  2.434777e+09  \n",
       "2  2.434777e+09  \n",
       "3  2.434777e+09  \n",
       "4  2.434777e+09  "
      ]
     },
     "execution_count": 453,
     "metadata": {},
     "output_type": "execute_result"
    }
   ],
   "source": [
    "df_weath_agr_gdp.head()"
   ]
  },
  {
   "cell_type": "code",
   "execution_count": 454,
   "metadata": {},
   "outputs": [
    {
     "data": {
      "text/plain": [
       "{'Algeria',\n",
       " 'Andorra',\n",
       " 'Argentina',\n",
       " 'Australia',\n",
       " 'Austria',\n",
       " 'Bangladesh',\n",
       " 'Belgium',\n",
       " 'Belize',\n",
       " 'Benin',\n",
       " 'Botswana',\n",
       " 'Brazil',\n",
       " 'Burkina Faso',\n",
       " 'Burundi',\n",
       " 'Cameroon',\n",
       " 'Canada',\n",
       " 'Central African Republic',\n",
       " 'Chile',\n",
       " 'China',\n",
       " 'Colombia',\n",
       " 'Costa Rica',\n",
       " \"Cote d'Ivoire\",\n",
       " 'Cuba',\n",
       " 'Denmark',\n",
       " 'Dominican Republic',\n",
       " 'Ecuador',\n",
       " 'Equatorial Guinea',\n",
       " 'Fiji',\n",
       " 'Finland',\n",
       " 'France',\n",
       " 'Gabon',\n",
       " 'Germany',\n",
       " 'Ghana',\n",
       " 'Greece',\n",
       " 'Guatemala',\n",
       " 'Guinea-Bissau',\n",
       " 'Guyana',\n",
       " 'Haiti',\n",
       " 'Honduras',\n",
       " 'Iceland',\n",
       " 'India',\n",
       " 'Indonesia',\n",
       " 'Ireland',\n",
       " 'Israel',\n",
       " 'Italy',\n",
       " 'Jamaica',\n",
       " 'Japan',\n",
       " 'Jordan',\n",
       " 'Kenya',\n",
       " 'Kiribati',\n",
       " 'Kuwait',\n",
       " 'Lesotho',\n",
       " 'Liechtenstein',\n",
       " 'Luxembourg',\n",
       " 'Madagascar',\n",
       " 'Malawi',\n",
       " 'Malaysia',\n",
       " 'Mali',\n",
       " 'Malta',\n",
       " 'Mauritania',\n",
       " 'Mexico',\n",
       " 'Morocco',\n",
       " 'Nepal',\n",
       " 'Netherlands',\n",
       " 'New Zealand',\n",
       " 'Nicaragua',\n",
       " 'Niger',\n",
       " 'Nigeria',\n",
       " 'Norway',\n",
       " 'Oman',\n",
       " 'Pakistan',\n",
       " 'Panama',\n",
       " 'Papua New Guinea',\n",
       " 'Paraguay',\n",
       " 'Peru',\n",
       " 'Philippines',\n",
       " 'Portugal',\n",
       " 'Qatar',\n",
       " 'Rwanda',\n",
       " 'Saudi Arabia',\n",
       " 'Spain',\n",
       " 'Sri Lanka',\n",
       " 'Switzerland',\n",
       " 'United Kingdom'}"
      ]
     },
     "execution_count": 454,
     "metadata": {},
     "output_type": "execute_result"
    }
   ],
   "source": [
    "countries_total = set(df_weath_agr_gdp['Country'].unique().tolist())\n",
    "countries_total"
   ]
  },
  {
   "cell_type": "code",
   "execution_count": 455,
   "metadata": {},
   "outputs": [
    {
     "data": {
      "text/plain": [
       "83"
      ]
     },
     "execution_count": 455,
     "metadata": {},
     "output_type": "execute_result"
    }
   ],
   "source": [
    "len(countries_total)"
   ]
  },
  {
   "cell_type": "code",
   "execution_count": 456,
   "metadata": {},
   "outputs": [
    {
     "data": {
      "text/html": [
       "<div>\n",
       "<style scoped>\n",
       "    .dataframe tbody tr th:only-of-type {\n",
       "        vertical-align: middle;\n",
       "    }\n",
       "\n",
       "    .dataframe tbody tr th {\n",
       "        vertical-align: top;\n",
       "    }\n",
       "\n",
       "    .dataframe thead th {\n",
       "        text-align: right;\n",
       "    }\n",
       "</style>\n",
       "<table border=\"1\" class=\"dataframe\">\n",
       "  <thead>\n",
       "    <tr style=\"text-align: right;\">\n",
       "      <th></th>\n",
       "      <th>Temperature(Celsius)</th>\n",
       "      <th>Year</th>\n",
       "      <th>Statistics</th>\n",
       "      <th>Country</th>\n",
       "      <th>Agricultural land in %</th>\n",
       "      <th>GDP</th>\n",
       "    </tr>\n",
       "  </thead>\n",
       "  <tbody>\n",
       "    <tr>\n",
       "      <th>0</th>\n",
       "      <td>11.32730</td>\n",
       "      <td>1961</td>\n",
       "      <td>Jan Average</td>\n",
       "      <td>Algeria</td>\n",
       "      <td>19.091505</td>\n",
       "      <td>2.434777e+09</td>\n",
       "    </tr>\n",
       "    <tr>\n",
       "      <th>1</th>\n",
       "      <td>14.80650</td>\n",
       "      <td>1961</td>\n",
       "      <td>Feb Average</td>\n",
       "      <td>Algeria</td>\n",
       "      <td>19.091505</td>\n",
       "      <td>2.434777e+09</td>\n",
       "    </tr>\n",
       "    <tr>\n",
       "      <th>2</th>\n",
       "      <td>17.63680</td>\n",
       "      <td>1961</td>\n",
       "      <td>Mar Average</td>\n",
       "      <td>Algeria</td>\n",
       "      <td>19.091505</td>\n",
       "      <td>2.434777e+09</td>\n",
       "    </tr>\n",
       "    <tr>\n",
       "      <th>3</th>\n",
       "      <td>23.07490</td>\n",
       "      <td>1961</td>\n",
       "      <td>Apr Average</td>\n",
       "      <td>Algeria</td>\n",
       "      <td>19.091505</td>\n",
       "      <td>2.434777e+09</td>\n",
       "    </tr>\n",
       "    <tr>\n",
       "      <th>4</th>\n",
       "      <td>28.13110</td>\n",
       "      <td>1961</td>\n",
       "      <td>May Average</td>\n",
       "      <td>Algeria</td>\n",
       "      <td>19.091505</td>\n",
       "      <td>2.434777e+09</td>\n",
       "    </tr>\n",
       "    <tr>\n",
       "      <th>...</th>\n",
       "      <td>...</td>\n",
       "      <td>...</td>\n",
       "      <td>...</td>\n",
       "      <td>...</td>\n",
       "      <td>...</td>\n",
       "      <td>...</td>\n",
       "    </tr>\n",
       "    <tr>\n",
       "      <th>53287</th>\n",
       "      <td>14.87570</td>\n",
       "      <td>2015</td>\n",
       "      <td>Aug Average</td>\n",
       "      <td>United Kingdom</td>\n",
       "      <td>70.838672</td>\n",
       "      <td>2.928591e+12</td>\n",
       "    </tr>\n",
       "    <tr>\n",
       "      <th>53288</th>\n",
       "      <td>11.92190</td>\n",
       "      <td>2015</td>\n",
       "      <td>Sep Average</td>\n",
       "      <td>United Kingdom</td>\n",
       "      <td>70.838672</td>\n",
       "      <td>2.928591e+12</td>\n",
       "    </tr>\n",
       "    <tr>\n",
       "      <th>53289</th>\n",
       "      <td>9.93445</td>\n",
       "      <td>2015</td>\n",
       "      <td>Oct Average</td>\n",
       "      <td>United Kingdom</td>\n",
       "      <td>70.838672</td>\n",
       "      <td>2.928591e+12</td>\n",
       "    </tr>\n",
       "    <tr>\n",
       "      <th>53290</th>\n",
       "      <td>8.04995</td>\n",
       "      <td>2015</td>\n",
       "      <td>Nov Average</td>\n",
       "      <td>United Kingdom</td>\n",
       "      <td>70.838672</td>\n",
       "      <td>2.928591e+12</td>\n",
       "    </tr>\n",
       "    <tr>\n",
       "      <th>53291</th>\n",
       "      <td>7.05677</td>\n",
       "      <td>2015</td>\n",
       "      <td>Dec Average</td>\n",
       "      <td>United Kingdom</td>\n",
       "      <td>70.838672</td>\n",
       "      <td>2.928591e+12</td>\n",
       "    </tr>\n",
       "  </tbody>\n",
       "</table>\n",
       "<p>53292 rows × 6 columns</p>\n",
       "</div>"
      ],
      "text/plain": [
       "       Temperature(Celsius)  Year    Statistics         Country  \\\n",
       "0                  11.32730  1961   Jan Average         Algeria   \n",
       "1                  14.80650  1961   Feb Average         Algeria   \n",
       "2                  17.63680  1961   Mar Average         Algeria   \n",
       "3                  23.07490  1961   Apr Average         Algeria   \n",
       "4                  28.13110  1961   May Average         Algeria   \n",
       "...                     ...   ...           ...             ...   \n",
       "53287              14.87570  2015   Aug Average  United Kingdom   \n",
       "53288              11.92190  2015   Sep Average  United Kingdom   \n",
       "53289               9.93445  2015   Oct Average  United Kingdom   \n",
       "53290               8.04995  2015   Nov Average  United Kingdom   \n",
       "53291               7.05677  2015   Dec Average  United Kingdom   \n",
       "\n",
       "       Agricultural land in %           GDP  \n",
       "0                   19.091505  2.434777e+09  \n",
       "1                   19.091505  2.434777e+09  \n",
       "2                   19.091505  2.434777e+09  \n",
       "3                   19.091505  2.434777e+09  \n",
       "4                   19.091505  2.434777e+09  \n",
       "...                       ...           ...  \n",
       "53287               70.838672  2.928591e+12  \n",
       "53288               70.838672  2.928591e+12  \n",
       "53289               70.838672  2.928591e+12  \n",
       "53290               70.838672  2.928591e+12  \n",
       "53291               70.838672  2.928591e+12  \n",
       "\n",
       "[53292 rows x 6 columns]"
      ]
     },
     "execution_count": 456,
     "metadata": {},
     "output_type": "execute_result"
    }
   ],
   "source": [
    "# Reset index\n",
    "df_weath_agr_gdp.reset_index(drop=True)"
   ]
  },
  {
   "cell_type": "markdown",
   "metadata": {},
   "source": [
    "# Rainfall data"
   ]
  },
  {
   "cell_type": "markdown",
   "metadata": {},
   "source": [
    "## Get overview of dataset and prepare it for merging: rainfall data"
   ]
  },
  {
   "cell_type": "code",
   "execution_count": 457,
   "metadata": {},
   "outputs": [
    {
     "data": {
      "text/html": [
       "<div>\n",
       "<style scoped>\n",
       "    .dataframe tbody tr th:only-of-type {\n",
       "        vertical-align: middle;\n",
       "    }\n",
       "\n",
       "    .dataframe tbody tr th {\n",
       "        vertical-align: top;\n",
       "    }\n",
       "\n",
       "    .dataframe thead th {\n",
       "        text-align: right;\n",
       "    }\n",
       "</style>\n",
       "<table border=\"1\" class=\"dataframe\">\n",
       "  <thead>\n",
       "    <tr style=\"text-align: right;\">\n",
       "      <th></th>\n",
       "      <th>0</th>\n",
       "      <th>1</th>\n",
       "      <th>2</th>\n",
       "      <th>3</th>\n",
       "      <th>4</th>\n",
       "      <th>5</th>\n",
       "    </tr>\n",
       "  </thead>\n",
       "  <tbody>\n",
       "    <tr>\n",
       "      <th>0</th>\n",
       "      <td>Rainfall - (MM)</td>\n",
       "      <td>Year</td>\n",
       "      <td>Statistics</td>\n",
       "      <td>Country</td>\n",
       "      <td>ISO3</td>\n",
       "      <td>NaN</td>\n",
       "    </tr>\n",
       "    <tr>\n",
       "      <th>1</th>\n",
       "      <td>45.6999</td>\n",
       "      <td>1961</td>\n",
       "      <td>Jan Average</td>\n",
       "      <td>Afghanistan</td>\n",
       "      <td>AFG</td>\n",
       "      <td>NaN</td>\n",
       "    </tr>\n",
       "    <tr>\n",
       "      <th>2</th>\n",
       "      <td>36.3156</td>\n",
       "      <td>1961</td>\n",
       "      <td>Feb Average</td>\n",
       "      <td>Afghanistan</td>\n",
       "      <td>AFG</td>\n",
       "      <td>NaN</td>\n",
       "    </tr>\n",
       "    <tr>\n",
       "      <th>3</th>\n",
       "      <td>67.186</td>\n",
       "      <td>1961</td>\n",
       "      <td>Mar Average</td>\n",
       "      <td>Afghanistan</td>\n",
       "      <td>AFG</td>\n",
       "      <td>NaN</td>\n",
       "    </tr>\n",
       "    <tr>\n",
       "      <th>4</th>\n",
       "      <td>83.5753</td>\n",
       "      <td>1961</td>\n",
       "      <td>Apr Average</td>\n",
       "      <td>Afghanistan</td>\n",
       "      <td>AFG</td>\n",
       "      <td>NaN</td>\n",
       "    </tr>\n",
       "  </tbody>\n",
       "</table>\n",
       "</div>"
      ],
      "text/plain": [
       "                 0      1             2             3      4    5\n",
       "0  Rainfall - (MM)   Year    Statistics       Country   ISO3  NaN\n",
       "1          45.6999   1961   Jan Average   Afghanistan    AFG  NaN\n",
       "2          36.3156   1961   Feb Average   Afghanistan    AFG  NaN\n",
       "3           67.186   1961   Mar Average   Afghanistan    AFG  NaN\n",
       "4          83.5753   1961   Apr Average   Afghanistan    AFG  NaN"
      ]
     },
     "execution_count": 457,
     "metadata": {},
     "output_type": "execute_result"
    }
   ],
   "source": [
    "# Look at first dataset\n",
    "rain1.head()"
   ]
  },
  {
   "cell_type": "code",
   "execution_count": 458,
   "metadata": {},
   "outputs": [
    {
     "data": {
      "text/html": [
       "<div>\n",
       "<style scoped>\n",
       "    .dataframe tbody tr th:only-of-type {\n",
       "        vertical-align: middle;\n",
       "    }\n",
       "\n",
       "    .dataframe tbody tr th {\n",
       "        vertical-align: top;\n",
       "    }\n",
       "\n",
       "    .dataframe thead th {\n",
       "        text-align: right;\n",
       "    }\n",
       "</style>\n",
       "<table border=\"1\" class=\"dataframe\">\n",
       "  <thead>\n",
       "    <tr style=\"text-align: right;\">\n",
       "      <th></th>\n",
       "      <th>Rainfall - (MM)</th>\n",
       "      <th>Year</th>\n",
       "      <th>Statistics</th>\n",
       "      <th>Country</th>\n",
       "      <th>ISO3</th>\n",
       "      <th>NaN</th>\n",
       "    </tr>\n",
       "  </thead>\n",
       "  <tbody>\n",
       "    <tr>\n",
       "      <th>0</th>\n",
       "      <td>45.6999</td>\n",
       "      <td>1961</td>\n",
       "      <td>Jan Average</td>\n",
       "      <td>Afghanistan</td>\n",
       "      <td>AFG</td>\n",
       "      <td>NaN</td>\n",
       "    </tr>\n",
       "    <tr>\n",
       "      <th>1</th>\n",
       "      <td>36.3156</td>\n",
       "      <td>1961</td>\n",
       "      <td>Feb Average</td>\n",
       "      <td>Afghanistan</td>\n",
       "      <td>AFG</td>\n",
       "      <td>NaN</td>\n",
       "    </tr>\n",
       "    <tr>\n",
       "      <th>2</th>\n",
       "      <td>67.186</td>\n",
       "      <td>1961</td>\n",
       "      <td>Mar Average</td>\n",
       "      <td>Afghanistan</td>\n",
       "      <td>AFG</td>\n",
       "      <td>NaN</td>\n",
       "    </tr>\n",
       "    <tr>\n",
       "      <th>3</th>\n",
       "      <td>83.5753</td>\n",
       "      <td>1961</td>\n",
       "      <td>Apr Average</td>\n",
       "      <td>Afghanistan</td>\n",
       "      <td>AFG</td>\n",
       "      <td>NaN</td>\n",
       "    </tr>\n",
       "    <tr>\n",
       "      <th>4</th>\n",
       "      <td>20.042</td>\n",
       "      <td>1961</td>\n",
       "      <td>May Average</td>\n",
       "      <td>Afghanistan</td>\n",
       "      <td>AFG</td>\n",
       "      <td>NaN</td>\n",
       "    </tr>\n",
       "  </tbody>\n",
       "</table>\n",
       "</div>"
      ],
      "text/plain": [
       "0 Rainfall - (MM)   Year    Statistics       Country  ISO3  NaN\n",
       "0         45.6999   1961   Jan Average   Afghanistan   AFG  NaN\n",
       "1         36.3156   1961   Feb Average   Afghanistan   AFG  NaN\n",
       "2          67.186   1961   Mar Average   Afghanistan   AFG  NaN\n",
       "3         83.5753   1961   Apr Average   Afghanistan   AFG  NaN\n",
       "4          20.042   1961   May Average   Afghanistan   AFG  NaN"
      ]
     },
     "execution_count": 458,
     "metadata": {},
     "output_type": "execute_result"
    }
   ],
   "source": [
    "# Define header for first dataset\n",
    "headers = rain1.iloc[0]\n",
    "rain1 = pd.DataFrame(rain1.values[1:], columns=headers)\n",
    "rain1.head()"
   ]
  },
  {
   "cell_type": "code",
   "execution_count": 459,
   "metadata": {},
   "outputs": [
    {
     "data": {
      "text/html": [
       "<div>\n",
       "<style scoped>\n",
       "    .dataframe tbody tr th:only-of-type {\n",
       "        vertical-align: middle;\n",
       "    }\n",
       "\n",
       "    .dataframe tbody tr th {\n",
       "        vertical-align: top;\n",
       "    }\n",
       "\n",
       "    .dataframe thead th {\n",
       "        text-align: right;\n",
       "    }\n",
       "</style>\n",
       "<table border=\"1\" class=\"dataframe\">\n",
       "  <thead>\n",
       "    <tr style=\"text-align: right;\">\n",
       "      <th></th>\n",
       "      <th>Rainfall(MM)</th>\n",
       "      <th>Year</th>\n",
       "      <th>Statistics</th>\n",
       "      <th>Country</th>\n",
       "      <th>ISO3</th>\n",
       "      <th>NaN</th>\n",
       "    </tr>\n",
       "  </thead>\n",
       "  <tbody>\n",
       "    <tr>\n",
       "      <th>0</th>\n",
       "      <td>45.6999</td>\n",
       "      <td>1961</td>\n",
       "      <td>Jan Average</td>\n",
       "      <td>Afghanistan</td>\n",
       "      <td>AFG</td>\n",
       "      <td>NaN</td>\n",
       "    </tr>\n",
       "    <tr>\n",
       "      <th>1</th>\n",
       "      <td>36.3156</td>\n",
       "      <td>1961</td>\n",
       "      <td>Feb Average</td>\n",
       "      <td>Afghanistan</td>\n",
       "      <td>AFG</td>\n",
       "      <td>NaN</td>\n",
       "    </tr>\n",
       "    <tr>\n",
       "      <th>2</th>\n",
       "      <td>67.186</td>\n",
       "      <td>1961</td>\n",
       "      <td>Mar Average</td>\n",
       "      <td>Afghanistan</td>\n",
       "      <td>AFG</td>\n",
       "      <td>NaN</td>\n",
       "    </tr>\n",
       "    <tr>\n",
       "      <th>3</th>\n",
       "      <td>83.5753</td>\n",
       "      <td>1961</td>\n",
       "      <td>Apr Average</td>\n",
       "      <td>Afghanistan</td>\n",
       "      <td>AFG</td>\n",
       "      <td>NaN</td>\n",
       "    </tr>\n",
       "    <tr>\n",
       "      <th>4</th>\n",
       "      <td>20.042</td>\n",
       "      <td>1961</td>\n",
       "      <td>May Average</td>\n",
       "      <td>Afghanistan</td>\n",
       "      <td>AFG</td>\n",
       "      <td>NaN</td>\n",
       "    </tr>\n",
       "  </tbody>\n",
       "</table>\n",
       "</div>"
      ],
      "text/plain": [
       "0 Rainfall(MM)   Year    Statistics       Country  ISO3  NaN\n",
       "0      45.6999   1961   Jan Average   Afghanistan   AFG  NaN\n",
       "1      36.3156   1961   Feb Average   Afghanistan   AFG  NaN\n",
       "2       67.186   1961   Mar Average   Afghanistan   AFG  NaN\n",
       "3      83.5753   1961   Apr Average   Afghanistan   AFG  NaN\n",
       "4       20.042   1961   May Average   Afghanistan   AFG  NaN"
      ]
     },
     "execution_count": 459,
     "metadata": {},
     "output_type": "execute_result"
    }
   ],
   "source": [
    "# Rename columns\n",
    "rain1.rename(columns={\"Rainfall - (MM)\": \"Rainfall(MM)\", \" Country\" : \"Country\", \" Statistics\" : \"Statistics\", \" Year\" : \"Year\"}, inplace=True)\n",
    "rain1.head()"
   ]
  },
  {
   "cell_type": "code",
   "execution_count": 460,
   "metadata": {},
   "outputs": [
    {
     "data": {
      "text/plain": [
       "['Rainfall(MM)', 'Year', 'Statistics', 'Country', ' ISO3', nan]"
      ]
     },
     "execution_count": 460,
     "metadata": {},
     "output_type": "execute_result"
    }
   ],
   "source": [
    "# Check columns\n",
    "rain1.columns.values.tolist()"
   ]
  },
  {
   "cell_type": "code",
   "execution_count": 461,
   "metadata": {},
   "outputs": [
    {
     "name": "stdout",
     "output_type": "stream",
     "text": [
      "['Afghanistan', 'Albania', 'Algeria', 'Andorra', 'Angola', 'Antigua and Barbuda', 'Argentina', 'Armenia', 'Australia', 'Austria', 'Azerbaijan', 'Bahamas', 'Bahrain', 'Bangladesh', 'Barbados', 'Belarus', 'Belgium', 'Belize', 'Benin', 'Bhutan', 'Bolivia', 'Bosnia and Herzegovina', 'Botswana', 'Brazil', 'Brunei', 'Bulgaria', 'Burkina Faso', 'Burundi', 'Cambodia', 'Cameroon', 'Canada', 'Cape Verde', 'Central African Republic', 'Chad', 'Chile', 'China', 'Colombia', 'Comoros', 'Congo (Democratic Republic of the)', 'Congo (Republic of the)', 'Costa Rica', \"Cote d'Ivoire\", 'Croatia', 'Cuba', 'Cyprus', 'Czech Republic', 'Denmark', 'Djibouti', 'Dominica', 'Dominican Republic', 'Ecuador', 'Egypt', 'El Salvador', 'Equatorial Guinea', 'Eritrea', 'Estonia', 'Ethiopia', 'Faroe Islands', 'Federated States of Micronesia', 'Fiji', 'Finland', 'France', 'Gabon', 'Gambia', 'Georgia', 'Germany', 'Ghana', 'Greece', 'Greenland', 'Grenada', 'Guatemala', 'Guinea', 'Guinea-Bissau', 'Guyana', 'Haiti', 'Honduras', 'Hungary', 'Iceland', 'India', 'Indonesia', 'Iran', 'Iraq', 'Ireland', 'Israel', 'Italy', 'Jamaica', 'Japan', 'Jordan', 'Kazakhstan', 'Kenya', 'Kiribati', 'Korea', 'Kuwait', 'Kyrgyzstan', 'Laos', 'Latvia', 'Lebanon', 'Lesotho', 'Liberia', 'Libya', 'Liechtenstein', 'Lithuania', 'Luxembourg', 'Macedonia', 'Madagascar', 'Malawi', 'Malaysia', 'Maldives', 'Mali', 'Malta', 'Marshall Islands', 'Mauritania', 'Mauritius', 'Mexico', 'Moldova', 'Monaco', 'Mongolia', 'Morocco', 'Mozambique', 'Myanmar (Burma)', 'Namibia', 'Nepal', 'Netherlands', 'New Caledonia', 'New Zealand', 'Nicaragua', 'Niger', 'Nigeria', 'Northern Mariana Islands', 'Norway', 'Oman', 'Pakistan', 'Palau', 'Panama', 'Papua New Guinea', 'Paraguay', 'Peru', 'Philippines', 'Poland', 'Portugal', 'Puerto Rico', 'Qatar', 'Republic of Montenegro', 'Republic of Serbia', 'Romania', 'Russia', 'Rwanda', 'Samoa', 'Sao Tome and Principe', 'Saudi Arabia', 'Senegal', 'Seychelles', 'Sierra Leone', 'Singapore', 'Slovakia', 'Slovenia', 'Solomon Islands', 'Somalia', 'South Africa', 'South Sudan', 'Spain', 'Sri Lanka', 'St. Kitts and Nevis', 'St. Lucia', 'St. Vincent and the Grenadines', 'Sudan', 'Suriname', 'Swaziland', 'Sweden', 'Switzerland', 'Syria', 'Tajikistan', 'Tanzania', 'Thailand', 'Timor Leste', 'Togo', 'Tonga', 'Trinidad and Tobago', 'Tunisia', 'Turkey', 'Turkmenistan', 'Tuvalu', 'Uganda', 'Ukraine', 'United Arab Emirates', 'United Kingdom', 'United States', 'Uruguay', 'Uzbekistan', 'Vanuatu', 'Venezuela', 'Vietnam', 'Yemen', 'Zambia', 'Zimbabwe']\n"
     ]
    }
   ],
   "source": [
    "# Get rid of blanks in strings in column 'Year' and 'Rainfall(MM)' and 'Country'\n",
    "rain1['Year'] = rain1['Year'].str.strip()\n",
    "rain1['Rainfall(MM)'] = rain1['Rainfall(MM)'].str.strip()\n",
    "rain1['Country'] = rain1['Country'].str.strip()\n",
    "\n",
    "# Check if it worked for column 'Country'\n",
    "print(rain1['Country'].unique().tolist())"
   ]
  },
  {
   "cell_type": "code",
   "execution_count": 462,
   "metadata": {},
   "outputs": [],
   "source": [
    "# Delete column ISO3, because we don't need it\n",
    "rain1.drop([' ISO3'], axis=1, inplace=True)"
   ]
  },
  {
   "cell_type": "code",
   "execution_count": 463,
   "metadata": {},
   "outputs": [],
   "source": [
    "# Delete NaN, majority is Null values\n",
    "rain1.drop([np.nan], axis=1, inplace=True)"
   ]
  },
  {
   "cell_type": "code",
   "execution_count": 464,
   "metadata": {},
   "outputs": [
    {
     "data": {
      "text/html": [
       "<div>\n",
       "<style scoped>\n",
       "    .dataframe tbody tr th:only-of-type {\n",
       "        vertical-align: middle;\n",
       "    }\n",
       "\n",
       "    .dataframe tbody tr th {\n",
       "        vertical-align: top;\n",
       "    }\n",
       "\n",
       "    .dataframe thead th {\n",
       "        text-align: right;\n",
       "    }\n",
       "</style>\n",
       "<table border=\"1\" class=\"dataframe\">\n",
       "  <thead>\n",
       "    <tr style=\"text-align: right;\">\n",
       "      <th></th>\n",
       "      <th>Rainfall(MM)</th>\n",
       "      <th>Year</th>\n",
       "      <th>Statistics</th>\n",
       "      <th>Country</th>\n",
       "    </tr>\n",
       "  </thead>\n",
       "  <tbody>\n",
       "    <tr>\n",
       "      <th>0</th>\n",
       "      <td>45.6999</td>\n",
       "      <td>1961</td>\n",
       "      <td>Jan Average</td>\n",
       "      <td>Afghanistan</td>\n",
       "    </tr>\n",
       "    <tr>\n",
       "      <th>1</th>\n",
       "      <td>36.3156</td>\n",
       "      <td>1961</td>\n",
       "      <td>Feb Average</td>\n",
       "      <td>Afghanistan</td>\n",
       "    </tr>\n",
       "    <tr>\n",
       "      <th>2</th>\n",
       "      <td>67.186</td>\n",
       "      <td>1961</td>\n",
       "      <td>Mar Average</td>\n",
       "      <td>Afghanistan</td>\n",
       "    </tr>\n",
       "    <tr>\n",
       "      <th>3</th>\n",
       "      <td>83.5753</td>\n",
       "      <td>1961</td>\n",
       "      <td>Apr Average</td>\n",
       "      <td>Afghanistan</td>\n",
       "    </tr>\n",
       "    <tr>\n",
       "      <th>4</th>\n",
       "      <td>20.042</td>\n",
       "      <td>1961</td>\n",
       "      <td>May Average</td>\n",
       "      <td>Afghanistan</td>\n",
       "    </tr>\n",
       "  </tbody>\n",
       "</table>\n",
       "</div>"
      ],
      "text/plain": [
       "0 Rainfall(MM)  Year    Statistics      Country\n",
       "0      45.6999  1961   Jan Average  Afghanistan\n",
       "1      36.3156  1961   Feb Average  Afghanistan\n",
       "2       67.186  1961   Mar Average  Afghanistan\n",
       "3      83.5753  1961   Apr Average  Afghanistan\n",
       "4       20.042  1961   May Average  Afghanistan"
      ]
     },
     "execution_count": 464,
     "metadata": {},
     "output_type": "execute_result"
    }
   ],
   "source": [
    "# Check if it worked\n",
    "rain1.head()"
   ]
  },
  {
   "cell_type": "code",
   "execution_count": 465,
   "metadata": {},
   "outputs": [
    {
     "data": {
      "text/plain": [
       "0\n",
       "Rainfall(MM)     float64\n",
       "Year               int64\n",
       "Statistics        object\n",
       "Country         category\n",
       "dtype: object"
      ]
     },
     "execution_count": 465,
     "metadata": {},
     "output_type": "execute_result"
    }
   ],
   "source": [
    "# Change datatypes\n",
    "rain1['Year'] = rain1['Year'].astype('int')\n",
    "rain1['Rainfall(MM)'] = rain1['Rainfall(MM)'].astype('float')\n",
    "rain1['Country'] = rain1['Country'].astype('category')\n",
    "\n",
    "# Show changes\n",
    "rain1.dtypes"
   ]
  },
  {
   "cell_type": "code",
   "execution_count": 466,
   "metadata": {},
   "outputs": [
    {
     "data": {
      "text/html": [
       "<div>\n",
       "<style scoped>\n",
       "    .dataframe tbody tr th:only-of-type {\n",
       "        vertical-align: middle;\n",
       "    }\n",
       "\n",
       "    .dataframe tbody tr th {\n",
       "        vertical-align: top;\n",
       "    }\n",
       "\n",
       "    .dataframe thead th {\n",
       "        text-align: right;\n",
       "    }\n",
       "</style>\n",
       "<table border=\"1\" class=\"dataframe\">\n",
       "  <thead>\n",
       "    <tr style=\"text-align: right;\">\n",
       "      <th></th>\n",
       "      <th>0</th>\n",
       "      <th>1</th>\n",
       "      <th>2</th>\n",
       "      <th>3</th>\n",
       "      <th>4</th>\n",
       "      <th>5</th>\n",
       "    </tr>\n",
       "  </thead>\n",
       "  <tbody>\n",
       "    <tr>\n",
       "      <th>0</th>\n",
       "      <td>Rainfall - (MM)</td>\n",
       "      <td>Year</td>\n",
       "      <td>Statistics</td>\n",
       "      <td>Country</td>\n",
       "      <td>ISO3</td>\n",
       "      <td>NaN</td>\n",
       "    </tr>\n",
       "    <tr>\n",
       "      <th>1</th>\n",
       "      <td>64.7765</td>\n",
       "      <td>1991</td>\n",
       "      <td>Jan Average</td>\n",
       "      <td>Afghanistan</td>\n",
       "      <td>AFG</td>\n",
       "      <td>NaN</td>\n",
       "    </tr>\n",
       "    <tr>\n",
       "      <th>2</th>\n",
       "      <td>59.4025</td>\n",
       "      <td>1991</td>\n",
       "      <td>Feb Average</td>\n",
       "      <td>Afghanistan</td>\n",
       "      <td>AFG</td>\n",
       "      <td>NaN</td>\n",
       "    </tr>\n",
       "    <tr>\n",
       "      <th>3</th>\n",
       "      <td>119.625</td>\n",
       "      <td>1991</td>\n",
       "      <td>Mar Average</td>\n",
       "      <td>Afghanistan</td>\n",
       "      <td>AFG</td>\n",
       "      <td>NaN</td>\n",
       "    </tr>\n",
       "    <tr>\n",
       "      <th>4</th>\n",
       "      <td>51.8025</td>\n",
       "      <td>1991</td>\n",
       "      <td>Apr Average</td>\n",
       "      <td>Afghanistan</td>\n",
       "      <td>AFG</td>\n",
       "      <td>NaN</td>\n",
       "    </tr>\n",
       "  </tbody>\n",
       "</table>\n",
       "</div>"
      ],
      "text/plain": [
       "                 0      1             2             3      4    5\n",
       "0  Rainfall - (MM)   Year    Statistics       Country   ISO3  NaN\n",
       "1          64.7765   1991   Jan Average   Afghanistan    AFG  NaN\n",
       "2          59.4025   1991   Feb Average   Afghanistan    AFG  NaN\n",
       "3          119.625   1991   Mar Average   Afghanistan    AFG  NaN\n",
       "4          51.8025   1991   Apr Average   Afghanistan    AFG  NaN"
      ]
     },
     "execution_count": 466,
     "metadata": {},
     "output_type": "execute_result"
    }
   ],
   "source": [
    "# Look at second dataset\n",
    "rain2.head()"
   ]
  },
  {
   "cell_type": "code",
   "execution_count": 467,
   "metadata": {},
   "outputs": [
    {
     "data": {
      "text/html": [
       "<div>\n",
       "<style scoped>\n",
       "    .dataframe tbody tr th:only-of-type {\n",
       "        vertical-align: middle;\n",
       "    }\n",
       "\n",
       "    .dataframe tbody tr th {\n",
       "        vertical-align: top;\n",
       "    }\n",
       "\n",
       "    .dataframe thead th {\n",
       "        text-align: right;\n",
       "    }\n",
       "</style>\n",
       "<table border=\"1\" class=\"dataframe\">\n",
       "  <thead>\n",
       "    <tr style=\"text-align: right;\">\n",
       "      <th></th>\n",
       "      <th>Rainfall - (MM)</th>\n",
       "      <th>Year</th>\n",
       "      <th>Statistics</th>\n",
       "      <th>Country</th>\n",
       "      <th>ISO3</th>\n",
       "      <th>NaN</th>\n",
       "    </tr>\n",
       "  </thead>\n",
       "  <tbody>\n",
       "    <tr>\n",
       "      <th>0</th>\n",
       "      <td>64.7765</td>\n",
       "      <td>1991</td>\n",
       "      <td>Jan Average</td>\n",
       "      <td>Afghanistan</td>\n",
       "      <td>AFG</td>\n",
       "      <td>NaN</td>\n",
       "    </tr>\n",
       "    <tr>\n",
       "      <th>1</th>\n",
       "      <td>59.4025</td>\n",
       "      <td>1991</td>\n",
       "      <td>Feb Average</td>\n",
       "      <td>Afghanistan</td>\n",
       "      <td>AFG</td>\n",
       "      <td>NaN</td>\n",
       "    </tr>\n",
       "    <tr>\n",
       "      <th>2</th>\n",
       "      <td>119.625</td>\n",
       "      <td>1991</td>\n",
       "      <td>Mar Average</td>\n",
       "      <td>Afghanistan</td>\n",
       "      <td>AFG</td>\n",
       "      <td>NaN</td>\n",
       "    </tr>\n",
       "    <tr>\n",
       "      <th>3</th>\n",
       "      <td>51.8025</td>\n",
       "      <td>1991</td>\n",
       "      <td>Apr Average</td>\n",
       "      <td>Afghanistan</td>\n",
       "      <td>AFG</td>\n",
       "      <td>NaN</td>\n",
       "    </tr>\n",
       "    <tr>\n",
       "      <th>4</th>\n",
       "      <td>57.2438</td>\n",
       "      <td>1991</td>\n",
       "      <td>May Average</td>\n",
       "      <td>Afghanistan</td>\n",
       "      <td>AFG</td>\n",
       "      <td>NaN</td>\n",
       "    </tr>\n",
       "  </tbody>\n",
       "</table>\n",
       "</div>"
      ],
      "text/plain": [
       "0 Rainfall - (MM)   Year    Statistics       Country  ISO3  NaN\n",
       "0         64.7765   1991   Jan Average   Afghanistan   AFG  NaN\n",
       "1         59.4025   1991   Feb Average   Afghanistan   AFG  NaN\n",
       "2         119.625   1991   Mar Average   Afghanistan   AFG  NaN\n",
       "3         51.8025   1991   Apr Average   Afghanistan   AFG  NaN\n",
       "4         57.2438   1991   May Average   Afghanistan   AFG  NaN"
      ]
     },
     "execution_count": 467,
     "metadata": {},
     "output_type": "execute_result"
    }
   ],
   "source": [
    "# Define header for second dataset\n",
    "headers = rain2.iloc[0]\n",
    "rain2 = pd.DataFrame(rain2.values[1:], columns=headers)\n",
    "rain2.head()"
   ]
  },
  {
   "cell_type": "code",
   "execution_count": 468,
   "metadata": {},
   "outputs": [
    {
     "data": {
      "text/html": [
       "<div>\n",
       "<style scoped>\n",
       "    .dataframe tbody tr th:only-of-type {\n",
       "        vertical-align: middle;\n",
       "    }\n",
       "\n",
       "    .dataframe tbody tr th {\n",
       "        vertical-align: top;\n",
       "    }\n",
       "\n",
       "    .dataframe thead th {\n",
       "        text-align: right;\n",
       "    }\n",
       "</style>\n",
       "<table border=\"1\" class=\"dataframe\">\n",
       "  <thead>\n",
       "    <tr style=\"text-align: right;\">\n",
       "      <th></th>\n",
       "      <th>Rainfall(MM)</th>\n",
       "      <th>Year</th>\n",
       "      <th>Statistics</th>\n",
       "      <th>Country</th>\n",
       "      <th>ISO3</th>\n",
       "      <th>NaN</th>\n",
       "    </tr>\n",
       "  </thead>\n",
       "  <tbody>\n",
       "    <tr>\n",
       "      <th>0</th>\n",
       "      <td>64.7765</td>\n",
       "      <td>1991</td>\n",
       "      <td>Jan Average</td>\n",
       "      <td>Afghanistan</td>\n",
       "      <td>AFG</td>\n",
       "      <td>NaN</td>\n",
       "    </tr>\n",
       "    <tr>\n",
       "      <th>1</th>\n",
       "      <td>59.4025</td>\n",
       "      <td>1991</td>\n",
       "      <td>Feb Average</td>\n",
       "      <td>Afghanistan</td>\n",
       "      <td>AFG</td>\n",
       "      <td>NaN</td>\n",
       "    </tr>\n",
       "    <tr>\n",
       "      <th>2</th>\n",
       "      <td>119.625</td>\n",
       "      <td>1991</td>\n",
       "      <td>Mar Average</td>\n",
       "      <td>Afghanistan</td>\n",
       "      <td>AFG</td>\n",
       "      <td>NaN</td>\n",
       "    </tr>\n",
       "    <tr>\n",
       "      <th>3</th>\n",
       "      <td>51.8025</td>\n",
       "      <td>1991</td>\n",
       "      <td>Apr Average</td>\n",
       "      <td>Afghanistan</td>\n",
       "      <td>AFG</td>\n",
       "      <td>NaN</td>\n",
       "    </tr>\n",
       "    <tr>\n",
       "      <th>4</th>\n",
       "      <td>57.2438</td>\n",
       "      <td>1991</td>\n",
       "      <td>May Average</td>\n",
       "      <td>Afghanistan</td>\n",
       "      <td>AFG</td>\n",
       "      <td>NaN</td>\n",
       "    </tr>\n",
       "  </tbody>\n",
       "</table>\n",
       "</div>"
      ],
      "text/plain": [
       "0 Rainfall(MM)   Year    Statistics       Country  ISO3  NaN\n",
       "0      64.7765   1991   Jan Average   Afghanistan   AFG  NaN\n",
       "1      59.4025   1991   Feb Average   Afghanistan   AFG  NaN\n",
       "2      119.625   1991   Mar Average   Afghanistan   AFG  NaN\n",
       "3      51.8025   1991   Apr Average   Afghanistan   AFG  NaN\n",
       "4      57.2438   1991   May Average   Afghanistan   AFG  NaN"
      ]
     },
     "execution_count": 468,
     "metadata": {},
     "output_type": "execute_result"
    }
   ],
   "source": [
    "# Rename columns\n",
    "rain2.rename(columns={\"Rainfall - (MM)\": \"Rainfall(MM)\", \" Country\" : \"Country\", \" Statistics\" : \"Statistics\", \" Year\" : \"Year\"}, inplace=True)\n",
    "rain2.head()"
   ]
  },
  {
   "cell_type": "code",
   "execution_count": 469,
   "metadata": {},
   "outputs": [
    {
     "data": {
      "text/plain": [
       "['Rainfall(MM)', 'Year', 'Statistics', 'Country', ' ISO3', nan]"
      ]
     },
     "execution_count": 469,
     "metadata": {},
     "output_type": "execute_result"
    }
   ],
   "source": [
    "# Check columns\n",
    "rain2.columns.values.tolist()"
   ]
  },
  {
   "cell_type": "code",
   "execution_count": 470,
   "metadata": {},
   "outputs": [
    {
     "name": "stdout",
     "output_type": "stream",
     "text": [
      "['Afghanistan', 'Albania', 'Algeria', 'Andorra', 'Angola', 'Antigua and Barbuda', 'Argentina', 'Armenia', 'Australia', 'Austria', 'Azerbaijan', 'Bahamas', 'Bahrain', 'Bangladesh', 'Barbados', 'Belarus', 'Belgium', 'Belize', 'Benin', 'Bhutan', 'Bolivia', 'Bosnia and Herzegovina', 'Botswana', 'Brazil', 'Brunei', 'Bulgaria', 'Burkina Faso', 'Burundi', 'Cambodia', 'Cameroon', 'Canada', 'Cape Verde', 'Central African Republic', 'Chad', 'Chile', 'China', 'Colombia', 'Comoros', 'Congo (Democratic Republic of the)', 'Congo (Republic of the)', 'Costa Rica', \"Cote d'Ivoire\", 'Croatia', 'Cuba', 'Cyprus', 'Czech Republic', 'Denmark', 'Djibouti', 'Dominica', 'Dominican Republic', 'Ecuador', 'Egypt', 'El Salvador', 'Equatorial Guinea', 'Eritrea', 'Estonia', 'Ethiopia', 'Faroe Islands', 'Federated States of Micronesia', 'Fiji', 'Finland', 'France', 'Gabon', 'Gambia', 'Georgia', 'Germany', 'Ghana', 'Greece', 'Greenland', 'Grenada', 'Guatemala', 'Guinea', 'Guinea-Bissau', 'Guyana', 'Haiti', 'Honduras', 'Hungary', 'Iceland', 'India', 'Indonesia', 'Iran', 'Iraq', 'Ireland', 'Israel', 'Italy', 'Jamaica', 'Japan', 'Jordan', 'Kazakhstan', 'Kenya', 'Kiribati', 'Korea', 'Kuwait', 'Kyrgyzstan', 'Laos', 'Latvia', 'Lebanon', 'Lesotho', 'Liberia', 'Libya', 'Liechtenstein', 'Lithuania', 'Luxembourg', 'Macedonia', 'Madagascar', 'Malawi', 'Malaysia', 'Maldives', 'Mali', 'Malta', 'Marshall Islands', 'Mauritania', 'Mauritius', 'Mexico', 'Moldova', 'Monaco', 'Mongolia', 'Morocco', 'Mozambique', 'Myanmar (Burma)', 'Namibia', 'Nepal', 'Netherlands', 'New Caledonia', 'New Zealand', 'Nicaragua', 'Niger', 'Nigeria', 'Northern Mariana Islands', 'Norway', 'Oman', 'Pakistan', 'Palau', 'Panama', 'Papua New Guinea', 'Paraguay', 'Peru', 'Philippines', 'Poland', 'Portugal', 'Puerto Rico', 'Qatar', 'Republic of Montenegro', 'Republic of Serbia', 'Romania', 'Russia', 'Rwanda', 'Samoa', 'Sao Tome and Principe', 'Saudi Arabia', 'Senegal', 'Seychelles', 'Sierra Leone', 'Singapore', 'Slovakia', 'Slovenia', 'Solomon Islands', 'Somalia', 'South Africa', 'South Sudan', 'Spain', 'Sri Lanka', 'St. Kitts and Nevis', 'St. Lucia', 'St. Vincent and the Grenadines', 'Sudan', 'Suriname', 'Swaziland', 'Sweden', 'Switzerland', 'Syria', 'Tajikistan', 'Tanzania', 'Thailand', 'Timor Leste', 'Togo', 'Tonga', 'Trinidad and Tobago', 'Tunisia', 'Turkey', 'Turkmenistan', 'Tuvalu', 'Uganda', 'Ukraine', 'United Arab Emirates', 'United Kingdom', 'United States', 'Uruguay', 'Uzbekistan', 'Vanuatu', 'Venezuela', 'Vietnam', 'Yemen', 'Zambia', 'Zimbabwe']\n"
     ]
    }
   ],
   "source": [
    "# Get rid of blanks in strings in column 'Year' and 'Rainfall(MM)' and 'Country'\n",
    "rain2['Year'] = rain2['Year'].str.strip()\n",
    "rain2['Rainfall(MM)'] = rain2['Rainfall(MM)'].str.strip()\n",
    "rain2['Country'] = rain2['Country'].str.strip()\n",
    "\n",
    "# Check if it worked for column 'Country'\n",
    "print(rain2['Country'].unique().tolist())"
   ]
  },
  {
   "cell_type": "code",
   "execution_count": 471,
   "metadata": {},
   "outputs": [],
   "source": [
    "# Delete column ISO3, because we don't need it for further analysis\n",
    "rain2.drop([' ISO3'], axis=1, inplace=True)"
   ]
  },
  {
   "cell_type": "code",
   "execution_count": 472,
   "metadata": {},
   "outputs": [],
   "source": [
    "# Delete NaN, majority is Null values\n",
    "rain2.drop([np.nan], axis=1, inplace=True)"
   ]
  },
  {
   "cell_type": "code",
   "execution_count": 473,
   "metadata": {},
   "outputs": [
    {
     "data": {
      "text/html": [
       "<div>\n",
       "<style scoped>\n",
       "    .dataframe tbody tr th:only-of-type {\n",
       "        vertical-align: middle;\n",
       "    }\n",
       "\n",
       "    .dataframe tbody tr th {\n",
       "        vertical-align: top;\n",
       "    }\n",
       "\n",
       "    .dataframe thead th {\n",
       "        text-align: right;\n",
       "    }\n",
       "</style>\n",
       "<table border=\"1\" class=\"dataframe\">\n",
       "  <thead>\n",
       "    <tr style=\"text-align: right;\">\n",
       "      <th></th>\n",
       "      <th>Rainfall(MM)</th>\n",
       "      <th>Year</th>\n",
       "      <th>Statistics</th>\n",
       "      <th>Country</th>\n",
       "    </tr>\n",
       "  </thead>\n",
       "  <tbody>\n",
       "    <tr>\n",
       "      <th>0</th>\n",
       "      <td>64.7765</td>\n",
       "      <td>1991</td>\n",
       "      <td>Jan Average</td>\n",
       "      <td>Afghanistan</td>\n",
       "    </tr>\n",
       "    <tr>\n",
       "      <th>1</th>\n",
       "      <td>59.4025</td>\n",
       "      <td>1991</td>\n",
       "      <td>Feb Average</td>\n",
       "      <td>Afghanistan</td>\n",
       "    </tr>\n",
       "    <tr>\n",
       "      <th>2</th>\n",
       "      <td>119.625</td>\n",
       "      <td>1991</td>\n",
       "      <td>Mar Average</td>\n",
       "      <td>Afghanistan</td>\n",
       "    </tr>\n",
       "    <tr>\n",
       "      <th>3</th>\n",
       "      <td>51.8025</td>\n",
       "      <td>1991</td>\n",
       "      <td>Apr Average</td>\n",
       "      <td>Afghanistan</td>\n",
       "    </tr>\n",
       "    <tr>\n",
       "      <th>4</th>\n",
       "      <td>57.2438</td>\n",
       "      <td>1991</td>\n",
       "      <td>May Average</td>\n",
       "      <td>Afghanistan</td>\n",
       "    </tr>\n",
       "  </tbody>\n",
       "</table>\n",
       "</div>"
      ],
      "text/plain": [
       "0 Rainfall(MM)  Year    Statistics      Country\n",
       "0      64.7765  1991   Jan Average  Afghanistan\n",
       "1      59.4025  1991   Feb Average  Afghanistan\n",
       "2      119.625  1991   Mar Average  Afghanistan\n",
       "3      51.8025  1991   Apr Average  Afghanistan\n",
       "4      57.2438  1991   May Average  Afghanistan"
      ]
     },
     "execution_count": 473,
     "metadata": {},
     "output_type": "execute_result"
    }
   ],
   "source": [
    "# Check if it worked\n",
    "rain2.head()"
   ]
  },
  {
   "cell_type": "code",
   "execution_count": 474,
   "metadata": {},
   "outputs": [
    {
     "name": "stdout",
     "output_type": "stream",
     "text": [
      "Int64Index([  300,   301,   302,   303,   304,   305,   306,   307,   308,\n",
      "              309,\n",
      "            ...\n",
      "            61142, 61143, 61144, 61145, 61146, 61147, 61148, 61149, 61150,\n",
      "            61151],\n",
      "           dtype='int64', length=2352)\n"
     ]
    }
   ],
   "source": [
    "# Drop rows with entries of 2016 (we only observe a time frame 1961-2015)\n",
    "indexNames = rain2[ rain2['Year']=='2016'].index\n",
    "rain2.drop(indexNames, inplace=True)\n",
    "print(indexNames)"
   ]
  },
  {
   "cell_type": "code",
   "execution_count": 475,
   "metadata": {},
   "outputs": [
    {
     "data": {
      "text/html": [
       "<div>\n",
       "<style scoped>\n",
       "    .dataframe tbody tr th:only-of-type {\n",
       "        vertical-align: middle;\n",
       "    }\n",
       "\n",
       "    .dataframe tbody tr th {\n",
       "        vertical-align: top;\n",
       "    }\n",
       "\n",
       "    .dataframe thead th {\n",
       "        text-align: right;\n",
       "    }\n",
       "</style>\n",
       "<table border=\"1\" class=\"dataframe\">\n",
       "  <thead>\n",
       "    <tr style=\"text-align: right;\">\n",
       "      <th></th>\n",
       "      <th>Rainfall(MM)</th>\n",
       "      <th>Year</th>\n",
       "      <th>Statistics</th>\n",
       "      <th>Country</th>\n",
       "    </tr>\n",
       "  </thead>\n",
       "  <tbody>\n",
       "    <tr>\n",
       "      <th>61135</th>\n",
       "      <td>0.01121</td>\n",
       "      <td>2015</td>\n",
       "      <td>Aug Average</td>\n",
       "      <td>Zimbabwe</td>\n",
       "    </tr>\n",
       "    <tr>\n",
       "      <th>61136</th>\n",
       "      <td>8.89114</td>\n",
       "      <td>2015</td>\n",
       "      <td>Sep Average</td>\n",
       "      <td>Zimbabwe</td>\n",
       "    </tr>\n",
       "    <tr>\n",
       "      <th>61137</th>\n",
       "      <td>3.11293</td>\n",
       "      <td>2015</td>\n",
       "      <td>Oct Average</td>\n",
       "      <td>Zimbabwe</td>\n",
       "    </tr>\n",
       "    <tr>\n",
       "      <th>61138</th>\n",
       "      <td>44.9079</td>\n",
       "      <td>2015</td>\n",
       "      <td>Nov Average</td>\n",
       "      <td>Zimbabwe</td>\n",
       "    </tr>\n",
       "    <tr>\n",
       "      <th>61139</th>\n",
       "      <td>71.8511</td>\n",
       "      <td>2015</td>\n",
       "      <td>Dec Average</td>\n",
       "      <td>Zimbabwe</td>\n",
       "    </tr>\n",
       "  </tbody>\n",
       "</table>\n",
       "</div>"
      ],
      "text/plain": [
       "0     Rainfall(MM)  Year    Statistics   Country\n",
       "61135      0.01121  2015   Aug Average  Zimbabwe\n",
       "61136      8.89114  2015   Sep Average  Zimbabwe\n",
       "61137      3.11293  2015   Oct Average  Zimbabwe\n",
       "61138      44.9079  2015   Nov Average  Zimbabwe\n",
       "61139      71.8511  2015   Dec Average  Zimbabwe"
      ]
     },
     "execution_count": 475,
     "metadata": {},
     "output_type": "execute_result"
    }
   ],
   "source": [
    "# Check if it worked\n",
    "rain2.tail()"
   ]
  },
  {
   "cell_type": "code",
   "execution_count": 476,
   "metadata": {},
   "outputs": [
    {
     "data": {
      "text/plain": [
       "0\n",
       "Rainfall(MM)     float64\n",
       "Year               int64\n",
       "Statistics        object\n",
       "Country         category\n",
       "dtype: object"
      ]
     },
     "execution_count": 476,
     "metadata": {},
     "output_type": "execute_result"
    }
   ],
   "source": [
    "# Change datatypes\n",
    "rain2['Year'] = rain2['Year'].astype('int')\n",
    "rain2['Rainfall(MM)'] = rain2['Rainfall(MM)'].astype('float')\n",
    "rain2['Country'] = rain2['Country'].astype('category')\n",
    "\n",
    "# Show changes\n",
    "rain2.dtypes"
   ]
  },
  {
   "cell_type": "code",
   "execution_count": 477,
   "metadata": {},
   "outputs": [
    {
     "name": "stdout",
     "output_type": "stream",
     "text": [
      "0      Rainfall(MM)  Year    Statistics      Country\n",
      "0          45.69990  1961   Jan Average  Afghanistan\n",
      "1          36.31560  1961   Feb Average  Afghanistan\n",
      "2          67.18600  1961   Mar Average  Afghanistan\n",
      "3          83.57530  1961   Apr Average  Afghanistan\n",
      "4          20.04200  1961   May Average  Afghanistan\n",
      "...             ...   ...           ...          ...\n",
      "61135       0.01121  2015   Aug Average     Zimbabwe\n",
      "61136       8.89114  2015   Sep Average     Zimbabwe\n",
      "61137       3.11293  2015   Oct Average     Zimbabwe\n",
      "61138      44.90790  2015   Nov Average     Zimbabwe\n",
      "61139      71.85110  2015   Dec Average     Zimbabwe\n",
      "\n",
      "[129360 rows x 4 columns]\n"
     ]
    }
   ],
   "source": [
    "# Concat rain1 and rain2\n",
    "rain = pd.concat([rain1,rain2])\n",
    "print(rain)"
   ]
  },
  {
   "cell_type": "code",
   "execution_count": 478,
   "metadata": {},
   "outputs": [
    {
     "data": {
      "text/html": [
       "<div>\n",
       "<style scoped>\n",
       "    .dataframe tbody tr th:only-of-type {\n",
       "        vertical-align: middle;\n",
       "    }\n",
       "\n",
       "    .dataframe tbody tr th {\n",
       "        vertical-align: top;\n",
       "    }\n",
       "\n",
       "    .dataframe thead th {\n",
       "        text-align: right;\n",
       "    }\n",
       "</style>\n",
       "<table border=\"1\" class=\"dataframe\">\n",
       "  <thead>\n",
       "    <tr style=\"text-align: right;\">\n",
       "      <th></th>\n",
       "      <th>Rainfall(MM)</th>\n",
       "      <th>Year</th>\n",
       "      <th>Statistics</th>\n",
       "      <th>Country</th>\n",
       "    </tr>\n",
       "  </thead>\n",
       "  <tbody>\n",
       "    <tr>\n",
       "      <th>0</th>\n",
       "      <td>45.69990</td>\n",
       "      <td>1961</td>\n",
       "      <td>Jan Average</td>\n",
       "      <td>Afghanistan</td>\n",
       "    </tr>\n",
       "    <tr>\n",
       "      <th>1</th>\n",
       "      <td>36.31560</td>\n",
       "      <td>1961</td>\n",
       "      <td>Feb Average</td>\n",
       "      <td>Afghanistan</td>\n",
       "    </tr>\n",
       "    <tr>\n",
       "      <th>2</th>\n",
       "      <td>67.18600</td>\n",
       "      <td>1961</td>\n",
       "      <td>Mar Average</td>\n",
       "      <td>Afghanistan</td>\n",
       "    </tr>\n",
       "    <tr>\n",
       "      <th>3</th>\n",
       "      <td>83.57530</td>\n",
       "      <td>1961</td>\n",
       "      <td>Apr Average</td>\n",
       "      <td>Afghanistan</td>\n",
       "    </tr>\n",
       "    <tr>\n",
       "      <th>4</th>\n",
       "      <td>20.04200</td>\n",
       "      <td>1961</td>\n",
       "      <td>May Average</td>\n",
       "      <td>Afghanistan</td>\n",
       "    </tr>\n",
       "    <tr>\n",
       "      <th>...</th>\n",
       "      <td>...</td>\n",
       "      <td>...</td>\n",
       "      <td>...</td>\n",
       "      <td>...</td>\n",
       "    </tr>\n",
       "    <tr>\n",
       "      <th>129355</th>\n",
       "      <td>0.01121</td>\n",
       "      <td>2015</td>\n",
       "      <td>Aug Average</td>\n",
       "      <td>Zimbabwe</td>\n",
       "    </tr>\n",
       "    <tr>\n",
       "      <th>129356</th>\n",
       "      <td>8.89114</td>\n",
       "      <td>2015</td>\n",
       "      <td>Sep Average</td>\n",
       "      <td>Zimbabwe</td>\n",
       "    </tr>\n",
       "    <tr>\n",
       "      <th>129357</th>\n",
       "      <td>3.11293</td>\n",
       "      <td>2015</td>\n",
       "      <td>Oct Average</td>\n",
       "      <td>Zimbabwe</td>\n",
       "    </tr>\n",
       "    <tr>\n",
       "      <th>129358</th>\n",
       "      <td>44.90790</td>\n",
       "      <td>2015</td>\n",
       "      <td>Nov Average</td>\n",
       "      <td>Zimbabwe</td>\n",
       "    </tr>\n",
       "    <tr>\n",
       "      <th>129359</th>\n",
       "      <td>71.85110</td>\n",
       "      <td>2015</td>\n",
       "      <td>Dec Average</td>\n",
       "      <td>Zimbabwe</td>\n",
       "    </tr>\n",
       "  </tbody>\n",
       "</table>\n",
       "<p>129360 rows × 4 columns</p>\n",
       "</div>"
      ],
      "text/plain": [
       "0       Rainfall(MM)  Year    Statistics      Country\n",
       "0           45.69990  1961   Jan Average  Afghanistan\n",
       "1           36.31560  1961   Feb Average  Afghanistan\n",
       "2           67.18600  1961   Mar Average  Afghanistan\n",
       "3           83.57530  1961   Apr Average  Afghanistan\n",
       "4           20.04200  1961   May Average  Afghanistan\n",
       "...              ...   ...           ...          ...\n",
       "129355       0.01121  2015   Aug Average     Zimbabwe\n",
       "129356       8.89114  2015   Sep Average     Zimbabwe\n",
       "129357       3.11293  2015   Oct Average     Zimbabwe\n",
       "129358      44.90790  2015   Nov Average     Zimbabwe\n",
       "129359      71.85110  2015   Dec Average     Zimbabwe\n",
       "\n",
       "[129360 rows x 4 columns]"
      ]
     },
     "execution_count": 478,
     "metadata": {},
     "output_type": "execute_result"
    }
   ],
   "source": [
    "# Reset index after concat\n",
    "rain.reset_index(drop=True)"
   ]
  },
  {
   "cell_type": "code",
   "execution_count": 479,
   "metadata": {},
   "outputs": [
    {
     "data": {
      "text/plain": [
       "0\n",
       "Rainfall(MM)     float64\n",
       "Year               int64\n",
       "Statistics        object\n",
       "Country         category\n",
       "dtype: object"
      ]
     },
     "execution_count": 479,
     "metadata": {},
     "output_type": "execute_result"
    }
   ],
   "source": [
    "# Check datatypes\n",
    "rain.dtypes"
   ]
  },
  {
   "cell_type": "code",
   "execution_count": 480,
   "metadata": {},
   "outputs": [
    {
     "name": "stdout",
     "output_type": "stream",
     "text": [
      "<class 'pandas.core.frame.DataFrame'>\n",
      "Int64Index: 129360 entries, 0 to 61139\n",
      "Data columns (total 4 columns):\n",
      " #   Column        Non-Null Count   Dtype   \n",
      "---  ------        --------------   -----   \n",
      " 0   Rainfall(MM)  129360 non-null  float64 \n",
      " 1   Year          129360 non-null  int64   \n",
      " 2   Statistics    129360 non-null  object  \n",
      " 3   Country       129360 non-null  category\n",
      "dtypes: category(1), float64(1), int64(1), object(1)\n",
      "memory usage: 4.2+ MB\n"
     ]
    }
   ],
   "source": [
    "# Get info about rain dataset\n",
    "rain.info()"
   ]
  },
  {
   "cell_type": "code",
   "execution_count": 481,
   "metadata": {},
   "outputs": [
    {
     "data": {
      "text/plain": [
       "0\n",
       "Rainfall(MM)    0\n",
       "Year            0\n",
       "Statistics      0\n",
       "Country         0\n",
       "dtype: int64"
      ]
     },
     "execution_count": 481,
     "metadata": {},
     "output_type": "execute_result"
    }
   ],
   "source": [
    "# Count null values\n",
    "rain.isnull().sum()"
   ]
  },
  {
   "cell_type": "code",
   "execution_count": 482,
   "metadata": {},
   "outputs": [],
   "source": [
    "# Drop columns that are not needed\n",
    "rain.drop('Statistics', axis=1, inplace=True)"
   ]
  },
  {
   "cell_type": "code",
   "execution_count": 483,
   "metadata": {},
   "outputs": [
    {
     "data": {
      "text/html": [
       "<div>\n",
       "<style scoped>\n",
       "    .dataframe tbody tr th:only-of-type {\n",
       "        vertical-align: middle;\n",
       "    }\n",
       "\n",
       "    .dataframe tbody tr th {\n",
       "        vertical-align: top;\n",
       "    }\n",
       "\n",
       "    .dataframe thead th {\n",
       "        text-align: right;\n",
       "    }\n",
       "</style>\n",
       "<table border=\"1\" class=\"dataframe\">\n",
       "  <thead>\n",
       "    <tr style=\"text-align: right;\">\n",
       "      <th></th>\n",
       "      <th>Rainfall(MM)</th>\n",
       "      <th>Year</th>\n",
       "      <th>Country</th>\n",
       "    </tr>\n",
       "  </thead>\n",
       "  <tbody>\n",
       "    <tr>\n",
       "      <th>0</th>\n",
       "      <td>45.69990</td>\n",
       "      <td>1961</td>\n",
       "      <td>Afghanistan</td>\n",
       "    </tr>\n",
       "    <tr>\n",
       "      <th>1</th>\n",
       "      <td>36.31560</td>\n",
       "      <td>1961</td>\n",
       "      <td>Afghanistan</td>\n",
       "    </tr>\n",
       "    <tr>\n",
       "      <th>2</th>\n",
       "      <td>67.18600</td>\n",
       "      <td>1961</td>\n",
       "      <td>Afghanistan</td>\n",
       "    </tr>\n",
       "    <tr>\n",
       "      <th>3</th>\n",
       "      <td>83.57530</td>\n",
       "      <td>1961</td>\n",
       "      <td>Afghanistan</td>\n",
       "    </tr>\n",
       "    <tr>\n",
       "      <th>4</th>\n",
       "      <td>20.04200</td>\n",
       "      <td>1961</td>\n",
       "      <td>Afghanistan</td>\n",
       "    </tr>\n",
       "    <tr>\n",
       "      <th>...</th>\n",
       "      <td>...</td>\n",
       "      <td>...</td>\n",
       "      <td>...</td>\n",
       "    </tr>\n",
       "    <tr>\n",
       "      <th>129355</th>\n",
       "      <td>0.01121</td>\n",
       "      <td>2015</td>\n",
       "      <td>Zimbabwe</td>\n",
       "    </tr>\n",
       "    <tr>\n",
       "      <th>129356</th>\n",
       "      <td>8.89114</td>\n",
       "      <td>2015</td>\n",
       "      <td>Zimbabwe</td>\n",
       "    </tr>\n",
       "    <tr>\n",
       "      <th>129357</th>\n",
       "      <td>3.11293</td>\n",
       "      <td>2015</td>\n",
       "      <td>Zimbabwe</td>\n",
       "    </tr>\n",
       "    <tr>\n",
       "      <th>129358</th>\n",
       "      <td>44.90790</td>\n",
       "      <td>2015</td>\n",
       "      <td>Zimbabwe</td>\n",
       "    </tr>\n",
       "    <tr>\n",
       "      <th>129359</th>\n",
       "      <td>71.85110</td>\n",
       "      <td>2015</td>\n",
       "      <td>Zimbabwe</td>\n",
       "    </tr>\n",
       "  </tbody>\n",
       "</table>\n",
       "<p>129360 rows × 3 columns</p>\n",
       "</div>"
      ],
      "text/plain": [
       "0       Rainfall(MM)  Year      Country\n",
       "0           45.69990  1961  Afghanistan\n",
       "1           36.31560  1961  Afghanistan\n",
       "2           67.18600  1961  Afghanistan\n",
       "3           83.57530  1961  Afghanistan\n",
       "4           20.04200  1961  Afghanistan\n",
       "...              ...   ...          ...\n",
       "129355       0.01121  2015     Zimbabwe\n",
       "129356       8.89114  2015     Zimbabwe\n",
       "129357       3.11293  2015     Zimbabwe\n",
       "129358      44.90790  2015     Zimbabwe\n",
       "129359      71.85110  2015     Zimbabwe\n",
       "\n",
       "[129360 rows x 3 columns]"
      ]
     },
     "execution_count": 483,
     "metadata": {},
     "output_type": "execute_result"
    }
   ],
   "source": [
    "# Reset index\n",
    "rain.reset_index(drop=True)"
   ]
  },
  {
   "cell_type": "code",
   "execution_count": 484,
   "metadata": {},
   "outputs": [
    {
     "data": {
      "text/plain": [
       "Temperature(Celsius)      float64\n",
       "Year                        int64\n",
       "Statistics                 object\n",
       "Country                    object\n",
       "Agricultural land in %    float64\n",
       "GDP                       float64\n",
       "dtype: object"
      ]
     },
     "execution_count": 484,
     "metadata": {},
     "output_type": "execute_result"
    }
   ],
   "source": [
    "# Look at datatypes of first dataset\n",
    "df_weath_agr_gdp.dtypes"
   ]
  },
  {
   "cell_type": "code",
   "execution_count": 485,
   "metadata": {},
   "outputs": [
    {
     "data": {
      "text/plain": [
       "Temperature(Celsius)       float64\n",
       "Year                         int64\n",
       "Statistics                  object\n",
       "Country                   category\n",
       "Agricultural land in %     float64\n",
       "GDP                        float64\n",
       "dtype: object"
      ]
     },
     "execution_count": 485,
     "metadata": {},
     "output_type": "execute_result"
    }
   ],
   "source": [
    "# Change datatype of 'Country'\n",
    "df_weath_agr_gdp['Country'] = df_weath_agr_gdp['Country'].astype('category')\n",
    "\n",
    "# Show changes\n",
    "df_weath_agr_gdp.dtypes"
   ]
  },
  {
   "cell_type": "code",
   "execution_count": 486,
   "metadata": {},
   "outputs": [
    {
     "data": {
      "text/plain": [
       "0\n",
       "Rainfall(MM)     float64\n",
       "Year               int64\n",
       "Country         category\n",
       "dtype: object"
      ]
     },
     "execution_count": 486,
     "metadata": {},
     "output_type": "execute_result"
    }
   ],
   "source": [
    "# Look at datatypes of second dataset (rainfall)\n",
    "rain.dtypes"
   ]
  },
  {
   "cell_type": "code",
   "execution_count": 487,
   "metadata": {},
   "outputs": [
    {
     "data": {
      "text/plain": [
       "<matplotlib.axes._subplots.AxesSubplot at 0x7f8837882bd0>"
      ]
     },
     "execution_count": 487,
     "metadata": {},
     "output_type": "execute_result"
    },
    {
     "data": {
      "image/png": "[encoded data removed]",
      "text/plain": [
       "<Figure size 432x288 with 1 Axes>"
      ]
     },
     "metadata": {
      "needs_background": "light"
     },
     "output_type": "display_data"
    }
   ],
   "source": [
    "# Get overview about development of the data over the observed period\n",
    "rain_plot = rain.groupby(['Year']).mean()\n",
    "rain_plot.plot()"
   ]
  },
  {
   "cell_type": "markdown",
   "metadata": {},
   "source": [
    "- Rainfall underlies strong seasonal variability such no clear trend can be stated"
   ]
  },
  {
   "cell_type": "markdown",
   "metadata": {},
   "source": [
    "# Merge rainfall data with GDP and weather/agricultural land data"
   ]
  },
  {
   "cell_type": "markdown",
   "metadata": {},
   "source": [
    "- The datasets mentioned above are merged using the key parameters 'Country' and 'Year'"
   ]
  },
  {
   "cell_type": "code",
   "execution_count": 488,
   "metadata": {},
   "outputs": [],
   "source": [
    "# Merge rain data with weather_agric/gdp\n",
    "df_total = pd.merge(df_weath_agr_gdp, rain, on=['Country','Year'])"
   ]
  },
  {
   "cell_type": "code",
   "execution_count": 489,
   "metadata": {},
   "outputs": [
    {
     "data": {
      "text/html": [
       "<div>\n",
       "<style scoped>\n",
       "    .dataframe tbody tr th:only-of-type {\n",
       "        vertical-align: middle;\n",
       "    }\n",
       "\n",
       "    .dataframe tbody tr th {\n",
       "        vertical-align: top;\n",
       "    }\n",
       "\n",
       "    .dataframe thead th {\n",
       "        text-align: right;\n",
       "    }\n",
       "</style>\n",
       "<table border=\"1\" class=\"dataframe\">\n",
       "  <thead>\n",
       "    <tr style=\"text-align: right;\">\n",
       "      <th></th>\n",
       "      <th>Temperature(Celsius)</th>\n",
       "      <th>Year</th>\n",
       "      <th>Statistics</th>\n",
       "      <th>Country</th>\n",
       "      <th>Agricultural land in %</th>\n",
       "      <th>GDP</th>\n",
       "      <th>Rainfall(MM)</th>\n",
       "    </tr>\n",
       "  </thead>\n",
       "  <tbody>\n",
       "    <tr>\n",
       "      <th>0</th>\n",
       "      <td>11.3273</td>\n",
       "      <td>1961</td>\n",
       "      <td>Jan Average</td>\n",
       "      <td>Algeria</td>\n",
       "      <td>19.091505</td>\n",
       "      <td>2.434777e+09</td>\n",
       "      <td>17.62290</td>\n",
       "    </tr>\n",
       "    <tr>\n",
       "      <th>1</th>\n",
       "      <td>11.3273</td>\n",
       "      <td>1961</td>\n",
       "      <td>Jan Average</td>\n",
       "      <td>Algeria</td>\n",
       "      <td>19.091505</td>\n",
       "      <td>2.434777e+09</td>\n",
       "      <td>1.52570</td>\n",
       "    </tr>\n",
       "    <tr>\n",
       "      <th>2</th>\n",
       "      <td>11.3273</td>\n",
       "      <td>1961</td>\n",
       "      <td>Jan Average</td>\n",
       "      <td>Algeria</td>\n",
       "      <td>19.091505</td>\n",
       "      <td>2.434777e+09</td>\n",
       "      <td>3.98158</td>\n",
       "    </tr>\n",
       "    <tr>\n",
       "      <th>3</th>\n",
       "      <td>11.3273</td>\n",
       "      <td>1961</td>\n",
       "      <td>Jan Average</td>\n",
       "      <td>Algeria</td>\n",
       "      <td>19.091505</td>\n",
       "      <td>2.434777e+09</td>\n",
       "      <td>3.69641</td>\n",
       "    </tr>\n",
       "    <tr>\n",
       "      <th>4</th>\n",
       "      <td>11.3273</td>\n",
       "      <td>1961</td>\n",
       "      <td>Jan Average</td>\n",
       "      <td>Algeria</td>\n",
       "      <td>19.091505</td>\n",
       "      <td>2.434777e+09</td>\n",
       "      <td>1.25563</td>\n",
       "    </tr>\n",
       "  </tbody>\n",
       "</table>\n",
       "</div>"
      ],
      "text/plain": [
       "   Temperature(Celsius)  Year    Statistics  Country  Agricultural land in %  \\\n",
       "0               11.3273  1961   Jan Average  Algeria               19.091505   \n",
       "1               11.3273  1961   Jan Average  Algeria               19.091505   \n",
       "2               11.3273  1961   Jan Average  Algeria               19.091505   \n",
       "3               11.3273  1961   Jan Average  Algeria               19.091505   \n",
       "4               11.3273  1961   Jan Average  Algeria               19.091505   \n",
       "\n",
       "            GDP  Rainfall(MM)  \n",
       "0  2.434777e+09      17.62290  \n",
       "1  2.434777e+09       1.52570  \n",
       "2  2.434777e+09       3.98158  \n",
       "3  2.434777e+09       3.69641  \n",
       "4  2.434777e+09       1.25563  "
      ]
     },
     "execution_count": 489,
     "metadata": {},
     "output_type": "execute_result"
    }
   ],
   "source": [
    "# Check\n",
    "df_total.head()"
   ]
  },
  {
   "cell_type": "code",
   "execution_count": 490,
   "metadata": {},
   "outputs": [],
   "source": [
    "# Recalculate unit of GDP\n",
    "df_total['GDP'] = df_total['GDP'].div(1000000000)"
   ]
  },
  {
   "cell_type": "code",
   "execution_count": 491,
   "metadata": {},
   "outputs": [],
   "source": [
    "# Rename column GDP\n",
    "df_total.rename(columns={\"GDP\": \"GDP in billion $US\"}, inplace=True)"
   ]
  },
  {
   "cell_type": "code",
   "execution_count": 492,
   "metadata": {},
   "outputs": [],
   "source": [
    "# Reorder the Columns\n",
    "df_total = df_total[[\"Country\", \"Year\", \"Statistics\", \"Temperature(Celsius)\",\"Rainfall(MM)\", \"Agricultural land in %\", \"GDP in billion $US\"]]"
   ]
  },
  {
   "cell_type": "code",
   "execution_count": 493,
   "metadata": {},
   "outputs": [
    {
     "data": {
      "text/html": [
       "<div>\n",
       "<style scoped>\n",
       "    .dataframe tbody tr th:only-of-type {\n",
       "        vertical-align: middle;\n",
       "    }\n",
       "\n",
       "    .dataframe tbody tr th {\n",
       "        vertical-align: top;\n",
       "    }\n",
       "\n",
       "    .dataframe thead th {\n",
       "        text-align: right;\n",
       "    }\n",
       "</style>\n",
       "<table border=\"1\" class=\"dataframe\">\n",
       "  <thead>\n",
       "    <tr style=\"text-align: right;\">\n",
       "      <th></th>\n",
       "      <th>Country</th>\n",
       "      <th>Year</th>\n",
       "      <th>Statistics</th>\n",
       "      <th>Temperature(Celsius)</th>\n",
       "      <th>Rainfall(MM)</th>\n",
       "      <th>Agricultural land in %</th>\n",
       "      <th>GDP in billion $US</th>\n",
       "    </tr>\n",
       "  </thead>\n",
       "  <tbody>\n",
       "    <tr>\n",
       "      <th>0</th>\n",
       "      <td>Algeria</td>\n",
       "      <td>1961</td>\n",
       "      <td>Jan Average</td>\n",
       "      <td>11.3273</td>\n",
       "      <td>17.62290</td>\n",
       "      <td>19.091505</td>\n",
       "      <td>2.434777</td>\n",
       "    </tr>\n",
       "    <tr>\n",
       "      <th>1</th>\n",
       "      <td>Algeria</td>\n",
       "      <td>1961</td>\n",
       "      <td>Jan Average</td>\n",
       "      <td>11.3273</td>\n",
       "      <td>1.52570</td>\n",
       "      <td>19.091505</td>\n",
       "      <td>2.434777</td>\n",
       "    </tr>\n",
       "    <tr>\n",
       "      <th>2</th>\n",
       "      <td>Algeria</td>\n",
       "      <td>1961</td>\n",
       "      <td>Jan Average</td>\n",
       "      <td>11.3273</td>\n",
       "      <td>3.98158</td>\n",
       "      <td>19.091505</td>\n",
       "      <td>2.434777</td>\n",
       "    </tr>\n",
       "    <tr>\n",
       "      <th>3</th>\n",
       "      <td>Algeria</td>\n",
       "      <td>1961</td>\n",
       "      <td>Jan Average</td>\n",
       "      <td>11.3273</td>\n",
       "      <td>3.69641</td>\n",
       "      <td>19.091505</td>\n",
       "      <td>2.434777</td>\n",
       "    </tr>\n",
       "    <tr>\n",
       "      <th>4</th>\n",
       "      <td>Algeria</td>\n",
       "      <td>1961</td>\n",
       "      <td>Jan Average</td>\n",
       "      <td>11.3273</td>\n",
       "      <td>1.25563</td>\n",
       "      <td>19.091505</td>\n",
       "      <td>2.434777</td>\n",
       "    </tr>\n",
       "  </tbody>\n",
       "</table>\n",
       "</div>"
      ],
      "text/plain": [
       "   Country  Year    Statistics  Temperature(Celsius)  Rainfall(MM)  \\\n",
       "0  Algeria  1961   Jan Average               11.3273      17.62290   \n",
       "1  Algeria  1961   Jan Average               11.3273       1.52570   \n",
       "2  Algeria  1961   Jan Average               11.3273       3.98158   \n",
       "3  Algeria  1961   Jan Average               11.3273       3.69641   \n",
       "4  Algeria  1961   Jan Average               11.3273       1.25563   \n",
       "\n",
       "   Agricultural land in %  GDP in billion $US  \n",
       "0               19.091505            2.434777  \n",
       "1               19.091505            2.434777  \n",
       "2               19.091505            2.434777  \n",
       "3               19.091505            2.434777  \n",
       "4               19.091505            2.434777  "
      ]
     },
     "execution_count": 493,
     "metadata": {},
     "output_type": "execute_result"
    }
   ],
   "source": [
    "# Check if everything worked\n",
    "df_total.head()"
   ]
  },
  {
   "cell_type": "code",
   "execution_count": 494,
   "metadata": {},
   "outputs": [
    {
     "data": {
      "text/plain": [
       "Country                    object\n",
       "Year                        int64\n",
       "Statistics                 object\n",
       "Temperature(Celsius)      float64\n",
       "Rainfall(MM)              float64\n",
       "Agricultural land in %    float64\n",
       "GDP in billion $US        float64\n",
       "dtype: object"
      ]
     },
     "execution_count": 494,
     "metadata": {},
     "output_type": "execute_result"
    }
   ],
   "source": [
    "# Check datatypes\n",
    "df_total.dtypes"
   ]
  },
  {
   "cell_type": "markdown",
   "metadata": {},
   "source": [
    "# Calculation of all variables on an annual basis\n",
    "- only annual values are available for GDP and agricultural land\n",
    "- the annual average is also calculated for temperature and rainfall on the basis of monthly values\n",
    "- in addition, the minimum and maximum temperatures per year are determined for each country\n",
    "- new columns are added to the total data set"
   ]
  },
  {
   "cell_type": "code",
   "execution_count": 495,
   "metadata": {},
   "outputs": [],
   "source": [
    "# Calculate average annual temperature\n",
    "temp_avg = df_total.groupby(['Country', 'Year'])['Temperature(Celsius)'].mean().reset_index().rename(columns={'Temperature(Celsius)':'Temperature(Avg.)'})"
   ]
  },
  {
   "cell_type": "code",
   "execution_count": 496,
   "metadata": {},
   "outputs": [
    {
     "name": "stdout",
     "output_type": "stream",
     "text": [
      "             Country  Year  Temperature(Avg.)\n",
      "0            Algeria  1961          22.821850\n",
      "1            Algeria  1962          22.531092\n",
      "2            Algeria  1963          22.573142\n",
      "3            Algeria  1964          22.629875\n",
      "4            Algeria  1965          22.416617\n",
      "...              ...   ...                ...\n",
      "4436  United Kingdom  2011           9.437954\n",
      "4437  United Kingdom  2012           8.766578\n",
      "4438  United Kingdom  2013           8.887475\n",
      "4439  United Kingdom  2014           9.809685\n",
      "4440  United Kingdom  2015           9.087434\n",
      "\n",
      "[4441 rows x 3 columns]\n"
     ]
    }
   ],
   "source": [
    "# Check if it worked\n",
    "print(temp_avg)"
   ]
  },
  {
   "cell_type": "code",
   "execution_count": 497,
   "metadata": {},
   "outputs": [],
   "source": [
    "# Calculate average annual rainfall\n",
    "rain_avg = df_total.groupby(['Country', 'Year'])['Rainfall(MM)'].mean().reset_index().rename(columns={'Rainfall(MM)':'Rainfall(Avg.)'})"
   ]
  },
  {
   "cell_type": "code",
   "execution_count": 498,
   "metadata": {},
   "outputs": [
    {
     "name": "stdout",
     "output_type": "stream",
     "text": [
      "             Country  Year  Rainfall(Avg.)\n",
      "0            Algeria  1961        4.962476\n",
      "1            Algeria  1962        7.942018\n",
      "2            Algeria  1963        7.836509\n",
      "3            Algeria  1964        6.863724\n",
      "4            Algeria  1965        6.552506\n",
      "...              ...   ...             ...\n",
      "4436  United Kingdom  2011      100.165300\n",
      "4437  United Kingdom  2012      118.742758\n",
      "4438  United Kingdom  2013       98.119100\n",
      "4439  United Kingdom  2014      116.344358\n",
      "4440  United Kingdom  2015      110.174583\n",
      "\n",
      "[4441 rows x 3 columns]\n"
     ]
    }
   ],
   "source": [
    "# Check if it worked\n",
    "print(rain_avg)"
   ]
  },
  {
   "cell_type": "code",
   "execution_count": 499,
   "metadata": {},
   "outputs": [],
   "source": [
    "# Calculate minimum temperature per year for each country\n",
    "temp_min = df_total.groupby(['Country', 'Year'])['Temperature(Celsius)'].min().reset_index().rename(columns={'Temperature(Celsius)':'Temperature(Min)'})"
   ]
  },
  {
   "cell_type": "code",
   "execution_count": 500,
   "metadata": {},
   "outputs": [],
   "source": [
    "# # Calculate maximum temperature per year for each country\n",
    "temp_max = df_total.groupby(['Country', 'Year'])['Temperature(Celsius)'].max().reset_index().rename(columns={'Temperature(Celsius)':'Temperature(Max)'})"
   ]
  },
  {
   "cell_type": "code",
   "execution_count": 501,
   "metadata": {},
   "outputs": [
    {
     "name": "stdout",
     "output_type": "stream",
     "text": [
      "             Country  Year  Temperature(Min)\n",
      "0            Algeria  1961          11.32730\n",
      "1            Algeria  1962          12.38910\n",
      "2            Algeria  1963          13.52160\n",
      "3            Algeria  1964          11.83190\n",
      "4            Algeria  1965          12.14610\n",
      "...              ...   ...               ...\n",
      "4436  United Kingdom  2011           3.03013\n",
      "4437  United Kingdom  2012           4.09456\n",
      "4438  United Kingdom  2013           2.95438\n",
      "4439  United Kingdom  2014           4.38727\n",
      "4440  United Kingdom  2015           3.48429\n",
      "\n",
      "[4441 rows x 3 columns]\n"
     ]
    }
   ],
   "source": [
    "# Check\n",
    "print(temp_min)"
   ]
  },
  {
   "cell_type": "code",
   "execution_count": 502,
   "metadata": {},
   "outputs": [
    {
     "name": "stdout",
     "output_type": "stream",
     "text": [
      "             Country  Year  Temperature(Max)\n",
      "0            Algeria  1961           32.8581\n",
      "1            Algeria  1962           32.6300\n",
      "2            Algeria  1963           32.6186\n",
      "3            Algeria  1964           32.3364\n",
      "4            Algeria  1965           32.7202\n",
      "...              ...   ...               ...\n",
      "4436  United Kingdom  2011           14.0481\n",
      "4437  United Kingdom  2012           15.3931\n",
      "4438  United Kingdom  2013           16.4975\n",
      "4439  United Kingdom  2014           16.3148\n",
      "4440  United Kingdom  2015           14.8757\n",
      "\n",
      "[4441 rows x 3 columns]\n"
     ]
    }
   ],
   "source": [
    "# Check\n",
    "print(temp_max)"
   ]
  },
  {
   "cell_type": "code",
   "execution_count": 503,
   "metadata": {},
   "outputs": [],
   "source": [
    "# Add new columns to existing dataframe\n",
    "df_total = df_total.merge(temp_avg, on=['Country', 'Year'], how='inner').merge(rain_avg, on=['Country', 'Year'], how='inner').merge(temp_min, on=['Country', 'Year'], how='inner').merge(temp_max, on=['Country', 'Year'], how='inner')"
   ]
  },
  {
   "cell_type": "code",
   "execution_count": 504,
   "metadata": {},
   "outputs": [
    {
     "data": {
      "text/html": [
       "<div>\n",
       "<style scoped>\n",
       "    .dataframe tbody tr th:only-of-type {\n",
       "        vertical-align: middle;\n",
       "    }\n",
       "\n",
       "    .dataframe tbody tr th {\n",
       "        vertical-align: top;\n",
       "    }\n",
       "\n",
       "    .dataframe thead th {\n",
       "        text-align: right;\n",
       "    }\n",
       "</style>\n",
       "<table border=\"1\" class=\"dataframe\">\n",
       "  <thead>\n",
       "    <tr style=\"text-align: right;\">\n",
       "      <th></th>\n",
       "      <th>Country</th>\n",
       "      <th>Year</th>\n",
       "      <th>Statistics</th>\n",
       "      <th>Temperature(Celsius)</th>\n",
       "      <th>Rainfall(MM)</th>\n",
       "      <th>Agricultural land in %</th>\n",
       "      <th>GDP in billion $US</th>\n",
       "      <th>Temperature(Avg.)</th>\n",
       "      <th>Rainfall(Avg.)</th>\n",
       "      <th>Temperature(Min)</th>\n",
       "      <th>Temperature(Max)</th>\n",
       "    </tr>\n",
       "  </thead>\n",
       "  <tbody>\n",
       "    <tr>\n",
       "      <th>0</th>\n",
       "      <td>Algeria</td>\n",
       "      <td>1961</td>\n",
       "      <td>Jan Average</td>\n",
       "      <td>11.3273</td>\n",
       "      <td>17.62290</td>\n",
       "      <td>19.091505</td>\n",
       "      <td>2.434777</td>\n",
       "      <td>22.82185</td>\n",
       "      <td>4.962476</td>\n",
       "      <td>11.3273</td>\n",
       "      <td>32.8581</td>\n",
       "    </tr>\n",
       "    <tr>\n",
       "      <th>1</th>\n",
       "      <td>Algeria</td>\n",
       "      <td>1961</td>\n",
       "      <td>Jan Average</td>\n",
       "      <td>11.3273</td>\n",
       "      <td>1.52570</td>\n",
       "      <td>19.091505</td>\n",
       "      <td>2.434777</td>\n",
       "      <td>22.82185</td>\n",
       "      <td>4.962476</td>\n",
       "      <td>11.3273</td>\n",
       "      <td>32.8581</td>\n",
       "    </tr>\n",
       "    <tr>\n",
       "      <th>2</th>\n",
       "      <td>Algeria</td>\n",
       "      <td>1961</td>\n",
       "      <td>Jan Average</td>\n",
       "      <td>11.3273</td>\n",
       "      <td>3.98158</td>\n",
       "      <td>19.091505</td>\n",
       "      <td>2.434777</td>\n",
       "      <td>22.82185</td>\n",
       "      <td>4.962476</td>\n",
       "      <td>11.3273</td>\n",
       "      <td>32.8581</td>\n",
       "    </tr>\n",
       "    <tr>\n",
       "      <th>3</th>\n",
       "      <td>Algeria</td>\n",
       "      <td>1961</td>\n",
       "      <td>Jan Average</td>\n",
       "      <td>11.3273</td>\n",
       "      <td>3.69641</td>\n",
       "      <td>19.091505</td>\n",
       "      <td>2.434777</td>\n",
       "      <td>22.82185</td>\n",
       "      <td>4.962476</td>\n",
       "      <td>11.3273</td>\n",
       "      <td>32.8581</td>\n",
       "    </tr>\n",
       "    <tr>\n",
       "      <th>4</th>\n",
       "      <td>Algeria</td>\n",
       "      <td>1961</td>\n",
       "      <td>Jan Average</td>\n",
       "      <td>11.3273</td>\n",
       "      <td>1.25563</td>\n",
       "      <td>19.091505</td>\n",
       "      <td>2.434777</td>\n",
       "      <td>22.82185</td>\n",
       "      <td>4.962476</td>\n",
       "      <td>11.3273</td>\n",
       "      <td>32.8581</td>\n",
       "    </tr>\n",
       "    <tr>\n",
       "      <th>5</th>\n",
       "      <td>Algeria</td>\n",
       "      <td>1961</td>\n",
       "      <td>Jan Average</td>\n",
       "      <td>11.3273</td>\n",
       "      <td>5.61612</td>\n",
       "      <td>19.091505</td>\n",
       "      <td>2.434777</td>\n",
       "      <td>22.82185</td>\n",
       "      <td>4.962476</td>\n",
       "      <td>11.3273</td>\n",
       "      <td>32.8581</td>\n",
       "    </tr>\n",
       "    <tr>\n",
       "      <th>6</th>\n",
       "      <td>Algeria</td>\n",
       "      <td>1961</td>\n",
       "      <td>Jan Average</td>\n",
       "      <td>11.3273</td>\n",
       "      <td>2.60456</td>\n",
       "      <td>19.091505</td>\n",
       "      <td>2.434777</td>\n",
       "      <td>22.82185</td>\n",
       "      <td>4.962476</td>\n",
       "      <td>11.3273</td>\n",
       "      <td>32.8581</td>\n",
       "    </tr>\n",
       "    <tr>\n",
       "      <th>7</th>\n",
       "      <td>Algeria</td>\n",
       "      <td>1961</td>\n",
       "      <td>Jan Average</td>\n",
       "      <td>11.3273</td>\n",
       "      <td>3.69136</td>\n",
       "      <td>19.091505</td>\n",
       "      <td>2.434777</td>\n",
       "      <td>22.82185</td>\n",
       "      <td>4.962476</td>\n",
       "      <td>11.3273</td>\n",
       "      <td>32.8581</td>\n",
       "    </tr>\n",
       "    <tr>\n",
       "      <th>8</th>\n",
       "      <td>Algeria</td>\n",
       "      <td>1961</td>\n",
       "      <td>Jan Average</td>\n",
       "      <td>11.3273</td>\n",
       "      <td>1.76060</td>\n",
       "      <td>19.091505</td>\n",
       "      <td>2.434777</td>\n",
       "      <td>22.82185</td>\n",
       "      <td>4.962476</td>\n",
       "      <td>11.3273</td>\n",
       "      <td>32.8581</td>\n",
       "    </tr>\n",
       "    <tr>\n",
       "      <th>9</th>\n",
       "      <td>Algeria</td>\n",
       "      <td>1961</td>\n",
       "      <td>Jan Average</td>\n",
       "      <td>11.3273</td>\n",
       "      <td>6.68129</td>\n",
       "      <td>19.091505</td>\n",
       "      <td>2.434777</td>\n",
       "      <td>22.82185</td>\n",
       "      <td>4.962476</td>\n",
       "      <td>11.3273</td>\n",
       "      <td>32.8581</td>\n",
       "    </tr>\n",
       "    <tr>\n",
       "      <th>10</th>\n",
       "      <td>Algeria</td>\n",
       "      <td>1961</td>\n",
       "      <td>Jan Average</td>\n",
       "      <td>11.3273</td>\n",
       "      <td>6.46398</td>\n",
       "      <td>19.091505</td>\n",
       "      <td>2.434777</td>\n",
       "      <td>22.82185</td>\n",
       "      <td>4.962476</td>\n",
       "      <td>11.3273</td>\n",
       "      <td>32.8581</td>\n",
       "    </tr>\n",
       "    <tr>\n",
       "      <th>11</th>\n",
       "      <td>Algeria</td>\n",
       "      <td>1961</td>\n",
       "      <td>Jan Average</td>\n",
       "      <td>11.3273</td>\n",
       "      <td>4.64958</td>\n",
       "      <td>19.091505</td>\n",
       "      <td>2.434777</td>\n",
       "      <td>22.82185</td>\n",
       "      <td>4.962476</td>\n",
       "      <td>11.3273</td>\n",
       "      <td>32.8581</td>\n",
       "    </tr>\n",
       "    <tr>\n",
       "      <th>12</th>\n",
       "      <td>Algeria</td>\n",
       "      <td>1961</td>\n",
       "      <td>Feb Average</td>\n",
       "      <td>14.8065</td>\n",
       "      <td>17.62290</td>\n",
       "      <td>19.091505</td>\n",
       "      <td>2.434777</td>\n",
       "      <td>22.82185</td>\n",
       "      <td>4.962476</td>\n",
       "      <td>11.3273</td>\n",
       "      <td>32.8581</td>\n",
       "    </tr>\n",
       "    <tr>\n",
       "      <th>13</th>\n",
       "      <td>Algeria</td>\n",
       "      <td>1961</td>\n",
       "      <td>Feb Average</td>\n",
       "      <td>14.8065</td>\n",
       "      <td>1.52570</td>\n",
       "      <td>19.091505</td>\n",
       "      <td>2.434777</td>\n",
       "      <td>22.82185</td>\n",
       "      <td>4.962476</td>\n",
       "      <td>11.3273</td>\n",
       "      <td>32.8581</td>\n",
       "    </tr>\n",
       "    <tr>\n",
       "      <th>14</th>\n",
       "      <td>Algeria</td>\n",
       "      <td>1961</td>\n",
       "      <td>Feb Average</td>\n",
       "      <td>14.8065</td>\n",
       "      <td>3.98158</td>\n",
       "      <td>19.091505</td>\n",
       "      <td>2.434777</td>\n",
       "      <td>22.82185</td>\n",
       "      <td>4.962476</td>\n",
       "      <td>11.3273</td>\n",
       "      <td>32.8581</td>\n",
       "    </tr>\n",
       "    <tr>\n",
       "      <th>15</th>\n",
       "      <td>Algeria</td>\n",
       "      <td>1961</td>\n",
       "      <td>Feb Average</td>\n",
       "      <td>14.8065</td>\n",
       "      <td>3.69641</td>\n",
       "      <td>19.091505</td>\n",
       "      <td>2.434777</td>\n",
       "      <td>22.82185</td>\n",
       "      <td>4.962476</td>\n",
       "      <td>11.3273</td>\n",
       "      <td>32.8581</td>\n",
       "    </tr>\n",
       "    <tr>\n",
       "      <th>16</th>\n",
       "      <td>Algeria</td>\n",
       "      <td>1961</td>\n",
       "      <td>Feb Average</td>\n",
       "      <td>14.8065</td>\n",
       "      <td>1.25563</td>\n",
       "      <td>19.091505</td>\n",
       "      <td>2.434777</td>\n",
       "      <td>22.82185</td>\n",
       "      <td>4.962476</td>\n",
       "      <td>11.3273</td>\n",
       "      <td>32.8581</td>\n",
       "    </tr>\n",
       "    <tr>\n",
       "      <th>17</th>\n",
       "      <td>Algeria</td>\n",
       "      <td>1961</td>\n",
       "      <td>Feb Average</td>\n",
       "      <td>14.8065</td>\n",
       "      <td>5.61612</td>\n",
       "      <td>19.091505</td>\n",
       "      <td>2.434777</td>\n",
       "      <td>22.82185</td>\n",
       "      <td>4.962476</td>\n",
       "      <td>11.3273</td>\n",
       "      <td>32.8581</td>\n",
       "    </tr>\n",
       "    <tr>\n",
       "      <th>18</th>\n",
       "      <td>Algeria</td>\n",
       "      <td>1961</td>\n",
       "      <td>Feb Average</td>\n",
       "      <td>14.8065</td>\n",
       "      <td>2.60456</td>\n",
       "      <td>19.091505</td>\n",
       "      <td>2.434777</td>\n",
       "      <td>22.82185</td>\n",
       "      <td>4.962476</td>\n",
       "      <td>11.3273</td>\n",
       "      <td>32.8581</td>\n",
       "    </tr>\n",
       "    <tr>\n",
       "      <th>19</th>\n",
       "      <td>Algeria</td>\n",
       "      <td>1961</td>\n",
       "      <td>Feb Average</td>\n",
       "      <td>14.8065</td>\n",
       "      <td>3.69136</td>\n",
       "      <td>19.091505</td>\n",
       "      <td>2.434777</td>\n",
       "      <td>22.82185</td>\n",
       "      <td>4.962476</td>\n",
       "      <td>11.3273</td>\n",
       "      <td>32.8581</td>\n",
       "    </tr>\n",
       "    <tr>\n",
       "      <th>20</th>\n",
       "      <td>Algeria</td>\n",
       "      <td>1961</td>\n",
       "      <td>Feb Average</td>\n",
       "      <td>14.8065</td>\n",
       "      <td>1.76060</td>\n",
       "      <td>19.091505</td>\n",
       "      <td>2.434777</td>\n",
       "      <td>22.82185</td>\n",
       "      <td>4.962476</td>\n",
       "      <td>11.3273</td>\n",
       "      <td>32.8581</td>\n",
       "    </tr>\n",
       "    <tr>\n",
       "      <th>21</th>\n",
       "      <td>Algeria</td>\n",
       "      <td>1961</td>\n",
       "      <td>Feb Average</td>\n",
       "      <td>14.8065</td>\n",
       "      <td>6.68129</td>\n",
       "      <td>19.091505</td>\n",
       "      <td>2.434777</td>\n",
       "      <td>22.82185</td>\n",
       "      <td>4.962476</td>\n",
       "      <td>11.3273</td>\n",
       "      <td>32.8581</td>\n",
       "    </tr>\n",
       "    <tr>\n",
       "      <th>22</th>\n",
       "      <td>Algeria</td>\n",
       "      <td>1961</td>\n",
       "      <td>Feb Average</td>\n",
       "      <td>14.8065</td>\n",
       "      <td>6.46398</td>\n",
       "      <td>19.091505</td>\n",
       "      <td>2.434777</td>\n",
       "      <td>22.82185</td>\n",
       "      <td>4.962476</td>\n",
       "      <td>11.3273</td>\n",
       "      <td>32.8581</td>\n",
       "    </tr>\n",
       "    <tr>\n",
       "      <th>23</th>\n",
       "      <td>Algeria</td>\n",
       "      <td>1961</td>\n",
       "      <td>Feb Average</td>\n",
       "      <td>14.8065</td>\n",
       "      <td>4.64958</td>\n",
       "      <td>19.091505</td>\n",
       "      <td>2.434777</td>\n",
       "      <td>22.82185</td>\n",
       "      <td>4.962476</td>\n",
       "      <td>11.3273</td>\n",
       "      <td>32.8581</td>\n",
       "    </tr>\n",
       "  </tbody>\n",
       "</table>\n",
       "</div>"
      ],
      "text/plain": [
       "    Country  Year    Statistics  Temperature(Celsius)  Rainfall(MM)  \\\n",
       "0   Algeria  1961   Jan Average               11.3273      17.62290   \n",
       "1   Algeria  1961   Jan Average               11.3273       1.52570   \n",
       "2   Algeria  1961   Jan Average               11.3273       3.98158   \n",
       "3   Algeria  1961   Jan Average               11.3273       3.69641   \n",
       "4   Algeria  1961   Jan Average               11.3273       1.25563   \n",
       "5   Algeria  1961   Jan Average               11.3273       5.61612   \n",
       "6   Algeria  1961   Jan Average               11.3273       2.60456   \n",
       "7   Algeria  1961   Jan Average               11.3273       3.69136   \n",
       "8   Algeria  1961   Jan Average               11.3273       1.76060   \n",
       "9   Algeria  1961   Jan Average               11.3273       6.68129   \n",
       "10  Algeria  1961   Jan Average               11.3273       6.46398   \n",
       "11  Algeria  1961   Jan Average               11.3273       4.64958   \n",
       "12  Algeria  1961   Feb Average               14.8065      17.62290   \n",
       "13  Algeria  1961   Feb Average               14.8065       1.52570   \n",
       "14  Algeria  1961   Feb Average               14.8065       3.98158   \n",
       "15  Algeria  1961   Feb Average               14.8065       3.69641   \n",
       "16  Algeria  1961   Feb Average               14.8065       1.25563   \n",
       "17  Algeria  1961   Feb Average               14.8065       5.61612   \n",
       "18  Algeria  1961   Feb Average               14.8065       2.60456   \n",
       "19  Algeria  1961   Feb Average               14.8065       3.69136   \n",
       "20  Algeria  1961   Feb Average               14.8065       1.76060   \n",
       "21  Algeria  1961   Feb Average               14.8065       6.68129   \n",
       "22  Algeria  1961   Feb Average               14.8065       6.46398   \n",
       "23  Algeria  1961   Feb Average               14.8065       4.64958   \n",
       "\n",
       "    Agricultural land in %  GDP in billion $US  Temperature(Avg.)  \\\n",
       "0                19.091505            2.434777           22.82185   \n",
       "1                19.091505            2.434777           22.82185   \n",
       "2                19.091505            2.434777           22.82185   \n",
       "3                19.091505            2.434777           22.82185   \n",
       "4                19.091505            2.434777           22.82185   \n",
       "5                19.091505            2.434777           22.82185   \n",
       "6                19.091505            2.434777           22.82185   \n",
       "7                19.091505            2.434777           22.82185   \n",
       "8                19.091505            2.434777           22.82185   \n",
       "9                19.091505            2.434777           22.82185   \n",
       "10               19.091505            2.434777           22.82185   \n",
       "11               19.091505            2.434777           22.82185   \n",
       "12               19.091505            2.434777           22.82185   \n",
       "13               19.091505            2.434777           22.82185   \n",
       "14               19.091505            2.434777           22.82185   \n",
       "15               19.091505            2.434777           22.82185   \n",
       "16               19.091505            2.434777           22.82185   \n",
       "17               19.091505            2.434777           22.82185   \n",
       "18               19.091505            2.434777           22.82185   \n",
       "19               19.091505            2.434777           22.82185   \n",
       "20               19.091505            2.434777           22.82185   \n",
       "21               19.091505            2.434777           22.82185   \n",
       "22               19.091505            2.434777           22.82185   \n",
       "23               19.091505            2.434777           22.82185   \n",
       "\n",
       "    Rainfall(Avg.)  Temperature(Min)  Temperature(Max)  \n",
       "0         4.962476           11.3273           32.8581  \n",
       "1         4.962476           11.3273           32.8581  \n",
       "2         4.962476           11.3273           32.8581  \n",
       "3         4.962476           11.3273           32.8581  \n",
       "4         4.962476           11.3273           32.8581  \n",
       "5         4.962476           11.3273           32.8581  \n",
       "6         4.962476           11.3273           32.8581  \n",
       "7         4.962476           11.3273           32.8581  \n",
       "8         4.962476           11.3273           32.8581  \n",
       "9         4.962476           11.3273           32.8581  \n",
       "10        4.962476           11.3273           32.8581  \n",
       "11        4.962476           11.3273           32.8581  \n",
       "12        4.962476           11.3273           32.8581  \n",
       "13        4.962476           11.3273           32.8581  \n",
       "14        4.962476           11.3273           32.8581  \n",
       "15        4.962476           11.3273           32.8581  \n",
       "16        4.962476           11.3273           32.8581  \n",
       "17        4.962476           11.3273           32.8581  \n",
       "18        4.962476           11.3273           32.8581  \n",
       "19        4.962476           11.3273           32.8581  \n",
       "20        4.962476           11.3273           32.8581  \n",
       "21        4.962476           11.3273           32.8581  \n",
       "22        4.962476           11.3273           32.8581  \n",
       "23        4.962476           11.3273           32.8581  "
      ]
     },
     "execution_count": 504,
     "metadata": {},
     "output_type": "execute_result"
    }
   ],
   "source": [
    "# Check correctness for the first two years\n",
    "df_total.head(24)"
   ]
  },
  {
   "cell_type": "code",
   "execution_count": 505,
   "metadata": {},
   "outputs": [
    {
     "data": {
      "text/html": [
       "<div>\n",
       "<style scoped>\n",
       "    .dataframe tbody tr th:only-of-type {\n",
       "        vertical-align: middle;\n",
       "    }\n",
       "\n",
       "    .dataframe tbody tr th {\n",
       "        vertical-align: top;\n",
       "    }\n",
       "\n",
       "    .dataframe thead th {\n",
       "        text-align: right;\n",
       "    }\n",
       "</style>\n",
       "<table border=\"1\" class=\"dataframe\">\n",
       "  <thead>\n",
       "    <tr style=\"text-align: right;\">\n",
       "      <th></th>\n",
       "      <th>Country</th>\n",
       "      <th>Year</th>\n",
       "      <th>Statistics</th>\n",
       "      <th>Temperature(Celsius)</th>\n",
       "      <th>Rainfall(MM)</th>\n",
       "      <th>Agricultural land in %</th>\n",
       "      <th>GDP in billion $US</th>\n",
       "      <th>Temperature(Avg.)</th>\n",
       "      <th>Rainfall(Avg.)</th>\n",
       "      <th>Temperature(Min)</th>\n",
       "      <th>Temperature(Max)</th>\n",
       "    </tr>\n",
       "  </thead>\n",
       "  <tbody>\n",
       "    <tr>\n",
       "      <th>639480</th>\n",
       "      <td>United Kingdom</td>\n",
       "      <td>2015</td>\n",
       "      <td>Nov Average</td>\n",
       "      <td>8.04995</td>\n",
       "      <td>140.5190</td>\n",
       "      <td>70.838672</td>\n",
       "      <td>2928.591002</td>\n",
       "      <td>9.087434</td>\n",
       "      <td>110.174583</td>\n",
       "      <td>3.48429</td>\n",
       "      <td>14.8757</td>\n",
       "    </tr>\n",
       "    <tr>\n",
       "      <th>639481</th>\n",
       "      <td>United Kingdom</td>\n",
       "      <td>2015</td>\n",
       "      <td>Nov Average</td>\n",
       "      <td>8.04995</td>\n",
       "      <td>74.6518</td>\n",
       "      <td>70.838672</td>\n",
       "      <td>2928.591002</td>\n",
       "      <td>9.087434</td>\n",
       "      <td>110.174583</td>\n",
       "      <td>3.48429</td>\n",
       "      <td>14.8757</td>\n",
       "    </tr>\n",
       "    <tr>\n",
       "      <th>639482</th>\n",
       "      <td>United Kingdom</td>\n",
       "      <td>2015</td>\n",
       "      <td>Nov Average</td>\n",
       "      <td>8.04995</td>\n",
       "      <td>89.9526</td>\n",
       "      <td>70.838672</td>\n",
       "      <td>2928.591002</td>\n",
       "      <td>9.087434</td>\n",
       "      <td>110.174583</td>\n",
       "      <td>3.48429</td>\n",
       "      <td>14.8757</td>\n",
       "    </tr>\n",
       "    <tr>\n",
       "      <th>639483</th>\n",
       "      <td>United Kingdom</td>\n",
       "      <td>2015</td>\n",
       "      <td>Nov Average</td>\n",
       "      <td>8.04995</td>\n",
       "      <td>47.1568</td>\n",
       "      <td>70.838672</td>\n",
       "      <td>2928.591002</td>\n",
       "      <td>9.087434</td>\n",
       "      <td>110.174583</td>\n",
       "      <td>3.48429</td>\n",
       "      <td>14.8757</td>\n",
       "    </tr>\n",
       "    <tr>\n",
       "      <th>639484</th>\n",
       "      <td>United Kingdom</td>\n",
       "      <td>2015</td>\n",
       "      <td>Nov Average</td>\n",
       "      <td>8.04995</td>\n",
       "      <td>114.1350</td>\n",
       "      <td>70.838672</td>\n",
       "      <td>2928.591002</td>\n",
       "      <td>9.087434</td>\n",
       "      <td>110.174583</td>\n",
       "      <td>3.48429</td>\n",
       "      <td>14.8757</td>\n",
       "    </tr>\n",
       "    <tr>\n",
       "      <th>639485</th>\n",
       "      <td>United Kingdom</td>\n",
       "      <td>2015</td>\n",
       "      <td>Nov Average</td>\n",
       "      <td>8.04995</td>\n",
       "      <td>56.7888</td>\n",
       "      <td>70.838672</td>\n",
       "      <td>2928.591002</td>\n",
       "      <td>9.087434</td>\n",
       "      <td>110.174583</td>\n",
       "      <td>3.48429</td>\n",
       "      <td>14.8757</td>\n",
       "    </tr>\n",
       "    <tr>\n",
       "      <th>639486</th>\n",
       "      <td>United Kingdom</td>\n",
       "      <td>2015</td>\n",
       "      <td>Nov Average</td>\n",
       "      <td>8.04995</td>\n",
       "      <td>115.7340</td>\n",
       "      <td>70.838672</td>\n",
       "      <td>2928.591002</td>\n",
       "      <td>9.087434</td>\n",
       "      <td>110.174583</td>\n",
       "      <td>3.48429</td>\n",
       "      <td>14.8757</td>\n",
       "    </tr>\n",
       "    <tr>\n",
       "      <th>639487</th>\n",
       "      <td>United Kingdom</td>\n",
       "      <td>2015</td>\n",
       "      <td>Nov Average</td>\n",
       "      <td>8.04995</td>\n",
       "      <td>114.4410</td>\n",
       "      <td>70.838672</td>\n",
       "      <td>2928.591002</td>\n",
       "      <td>9.087434</td>\n",
       "      <td>110.174583</td>\n",
       "      <td>3.48429</td>\n",
       "      <td>14.8757</td>\n",
       "    </tr>\n",
       "    <tr>\n",
       "      <th>639488</th>\n",
       "      <td>United Kingdom</td>\n",
       "      <td>2015</td>\n",
       "      <td>Nov Average</td>\n",
       "      <td>8.04995</td>\n",
       "      <td>72.6955</td>\n",
       "      <td>70.838672</td>\n",
       "      <td>2928.591002</td>\n",
       "      <td>9.087434</td>\n",
       "      <td>110.174583</td>\n",
       "      <td>3.48429</td>\n",
       "      <td>14.8757</td>\n",
       "    </tr>\n",
       "    <tr>\n",
       "      <th>639489</th>\n",
       "      <td>United Kingdom</td>\n",
       "      <td>2015</td>\n",
       "      <td>Nov Average</td>\n",
       "      <td>8.04995</td>\n",
       "      <td>91.1255</td>\n",
       "      <td>70.838672</td>\n",
       "      <td>2928.591002</td>\n",
       "      <td>9.087434</td>\n",
       "      <td>110.174583</td>\n",
       "      <td>3.48429</td>\n",
       "      <td>14.8757</td>\n",
       "    </tr>\n",
       "    <tr>\n",
       "      <th>639490</th>\n",
       "      <td>United Kingdom</td>\n",
       "      <td>2015</td>\n",
       "      <td>Nov Average</td>\n",
       "      <td>8.04995</td>\n",
       "      <td>180.3510</td>\n",
       "      <td>70.838672</td>\n",
       "      <td>2928.591002</td>\n",
       "      <td>9.087434</td>\n",
       "      <td>110.174583</td>\n",
       "      <td>3.48429</td>\n",
       "      <td>14.8757</td>\n",
       "    </tr>\n",
       "    <tr>\n",
       "      <th>639491</th>\n",
       "      <td>United Kingdom</td>\n",
       "      <td>2015</td>\n",
       "      <td>Nov Average</td>\n",
       "      <td>8.04995</td>\n",
       "      <td>224.5440</td>\n",
       "      <td>70.838672</td>\n",
       "      <td>2928.591002</td>\n",
       "      <td>9.087434</td>\n",
       "      <td>110.174583</td>\n",
       "      <td>3.48429</td>\n",
       "      <td>14.8757</td>\n",
       "    </tr>\n",
       "    <tr>\n",
       "      <th>639492</th>\n",
       "      <td>United Kingdom</td>\n",
       "      <td>2015</td>\n",
       "      <td>Dec Average</td>\n",
       "      <td>7.05677</td>\n",
       "      <td>140.5190</td>\n",
       "      <td>70.838672</td>\n",
       "      <td>2928.591002</td>\n",
       "      <td>9.087434</td>\n",
       "      <td>110.174583</td>\n",
       "      <td>3.48429</td>\n",
       "      <td>14.8757</td>\n",
       "    </tr>\n",
       "    <tr>\n",
       "      <th>639493</th>\n",
       "      <td>United Kingdom</td>\n",
       "      <td>2015</td>\n",
       "      <td>Dec Average</td>\n",
       "      <td>7.05677</td>\n",
       "      <td>74.6518</td>\n",
       "      <td>70.838672</td>\n",
       "      <td>2928.591002</td>\n",
       "      <td>9.087434</td>\n",
       "      <td>110.174583</td>\n",
       "      <td>3.48429</td>\n",
       "      <td>14.8757</td>\n",
       "    </tr>\n",
       "    <tr>\n",
       "      <th>639494</th>\n",
       "      <td>United Kingdom</td>\n",
       "      <td>2015</td>\n",
       "      <td>Dec Average</td>\n",
       "      <td>7.05677</td>\n",
       "      <td>89.9526</td>\n",
       "      <td>70.838672</td>\n",
       "      <td>2928.591002</td>\n",
       "      <td>9.087434</td>\n",
       "      <td>110.174583</td>\n",
       "      <td>3.48429</td>\n",
       "      <td>14.8757</td>\n",
       "    </tr>\n",
       "    <tr>\n",
       "      <th>639495</th>\n",
       "      <td>United Kingdom</td>\n",
       "      <td>2015</td>\n",
       "      <td>Dec Average</td>\n",
       "      <td>7.05677</td>\n",
       "      <td>47.1568</td>\n",
       "      <td>70.838672</td>\n",
       "      <td>2928.591002</td>\n",
       "      <td>9.087434</td>\n",
       "      <td>110.174583</td>\n",
       "      <td>3.48429</td>\n",
       "      <td>14.8757</td>\n",
       "    </tr>\n",
       "    <tr>\n",
       "      <th>639496</th>\n",
       "      <td>United Kingdom</td>\n",
       "      <td>2015</td>\n",
       "      <td>Dec Average</td>\n",
       "      <td>7.05677</td>\n",
       "      <td>114.1350</td>\n",
       "      <td>70.838672</td>\n",
       "      <td>2928.591002</td>\n",
       "      <td>9.087434</td>\n",
       "      <td>110.174583</td>\n",
       "      <td>3.48429</td>\n",
       "      <td>14.8757</td>\n",
       "    </tr>\n",
       "    <tr>\n",
       "      <th>639497</th>\n",
       "      <td>United Kingdom</td>\n",
       "      <td>2015</td>\n",
       "      <td>Dec Average</td>\n",
       "      <td>7.05677</td>\n",
       "      <td>56.7888</td>\n",
       "      <td>70.838672</td>\n",
       "      <td>2928.591002</td>\n",
       "      <td>9.087434</td>\n",
       "      <td>110.174583</td>\n",
       "      <td>3.48429</td>\n",
       "      <td>14.8757</td>\n",
       "    </tr>\n",
       "    <tr>\n",
       "      <th>639498</th>\n",
       "      <td>United Kingdom</td>\n",
       "      <td>2015</td>\n",
       "      <td>Dec Average</td>\n",
       "      <td>7.05677</td>\n",
       "      <td>115.7340</td>\n",
       "      <td>70.838672</td>\n",
       "      <td>2928.591002</td>\n",
       "      <td>9.087434</td>\n",
       "      <td>110.174583</td>\n",
       "      <td>3.48429</td>\n",
       "      <td>14.8757</td>\n",
       "    </tr>\n",
       "    <tr>\n",
       "      <th>639499</th>\n",
       "      <td>United Kingdom</td>\n",
       "      <td>2015</td>\n",
       "      <td>Dec Average</td>\n",
       "      <td>7.05677</td>\n",
       "      <td>114.4410</td>\n",
       "      <td>70.838672</td>\n",
       "      <td>2928.591002</td>\n",
       "      <td>9.087434</td>\n",
       "      <td>110.174583</td>\n",
       "      <td>3.48429</td>\n",
       "      <td>14.8757</td>\n",
       "    </tr>\n",
       "    <tr>\n",
       "      <th>639500</th>\n",
       "      <td>United Kingdom</td>\n",
       "      <td>2015</td>\n",
       "      <td>Dec Average</td>\n",
       "      <td>7.05677</td>\n",
       "      <td>72.6955</td>\n",
       "      <td>70.838672</td>\n",
       "      <td>2928.591002</td>\n",
       "      <td>9.087434</td>\n",
       "      <td>110.174583</td>\n",
       "      <td>3.48429</td>\n",
       "      <td>14.8757</td>\n",
       "    </tr>\n",
       "    <tr>\n",
       "      <th>639501</th>\n",
       "      <td>United Kingdom</td>\n",
       "      <td>2015</td>\n",
       "      <td>Dec Average</td>\n",
       "      <td>7.05677</td>\n",
       "      <td>91.1255</td>\n",
       "      <td>70.838672</td>\n",
       "      <td>2928.591002</td>\n",
       "      <td>9.087434</td>\n",
       "      <td>110.174583</td>\n",
       "      <td>3.48429</td>\n",
       "      <td>14.8757</td>\n",
       "    </tr>\n",
       "    <tr>\n",
       "      <th>639502</th>\n",
       "      <td>United Kingdom</td>\n",
       "      <td>2015</td>\n",
       "      <td>Dec Average</td>\n",
       "      <td>7.05677</td>\n",
       "      <td>180.3510</td>\n",
       "      <td>70.838672</td>\n",
       "      <td>2928.591002</td>\n",
       "      <td>9.087434</td>\n",
       "      <td>110.174583</td>\n",
       "      <td>3.48429</td>\n",
       "      <td>14.8757</td>\n",
       "    </tr>\n",
       "    <tr>\n",
       "      <th>639503</th>\n",
       "      <td>United Kingdom</td>\n",
       "      <td>2015</td>\n",
       "      <td>Dec Average</td>\n",
       "      <td>7.05677</td>\n",
       "      <td>224.5440</td>\n",
       "      <td>70.838672</td>\n",
       "      <td>2928.591002</td>\n",
       "      <td>9.087434</td>\n",
       "      <td>110.174583</td>\n",
       "      <td>3.48429</td>\n",
       "      <td>14.8757</td>\n",
       "    </tr>\n",
       "  </tbody>\n",
       "</table>\n",
       "</div>"
      ],
      "text/plain": [
       "               Country  Year    Statistics  Temperature(Celsius)  \\\n",
       "639480  United Kingdom  2015   Nov Average               8.04995   \n",
       "639481  United Kingdom  2015   Nov Average               8.04995   \n",
       "639482  United Kingdom  2015   Nov Average               8.04995   \n",
       "639483  United Kingdom  2015   Nov Average               8.04995   \n",
       "639484  United Kingdom  2015   Nov Average               8.04995   \n",
       "639485  United Kingdom  2015   Nov Average               8.04995   \n",
       "639486  United Kingdom  2015   Nov Average               8.04995   \n",
       "639487  United Kingdom  2015   Nov Average               8.04995   \n",
       "639488  United Kingdom  2015   Nov Average               8.04995   \n",
       "639489  United Kingdom  2015   Nov Average               8.04995   \n",
       "639490  United Kingdom  2015   Nov Average               8.04995   \n",
       "639491  United Kingdom  2015   Nov Average               8.04995   \n",
       "639492  United Kingdom  2015   Dec Average               7.05677   \n",
       "639493  United Kingdom  2015   Dec Average               7.05677   \n",
       "639494  United Kingdom  2015   Dec Average               7.05677   \n",
       "639495  United Kingdom  2015   Dec Average               7.05677   \n",
       "639496  United Kingdom  2015   Dec Average               7.05677   \n",
       "639497  United Kingdom  2015   Dec Average               7.05677   \n",
       "639498  United Kingdom  2015   Dec Average               7.05677   \n",
       "639499  United Kingdom  2015   Dec Average               7.05677   \n",
       "639500  United Kingdom  2015   Dec Average               7.05677   \n",
       "639501  United Kingdom  2015   Dec Average               7.05677   \n",
       "639502  United Kingdom  2015   Dec Average               7.05677   \n",
       "639503  United Kingdom  2015   Dec Average               7.05677   \n",
       "\n",
       "        Rainfall(MM)  Agricultural land in %  GDP in billion $US  \\\n",
       "639480      140.5190               70.838672         2928.591002   \n",
       "639481       74.6518               70.838672         2928.591002   \n",
       "639482       89.9526               70.838672         2928.591002   \n",
       "639483       47.1568               70.838672         2928.591002   \n",
       "639484      114.1350               70.838672         2928.591002   \n",
       "639485       56.7888               70.838672         2928.591002   \n",
       "639486      115.7340               70.838672         2928.591002   \n",
       "639487      114.4410               70.838672         2928.591002   \n",
       "639488       72.6955               70.838672         2928.591002   \n",
       "639489       91.1255               70.838672         2928.591002   \n",
       "639490      180.3510               70.838672         2928.591002   \n",
       "639491      224.5440               70.838672         2928.591002   \n",
       "639492      140.5190               70.838672         2928.591002   \n",
       "639493       74.6518               70.838672         2928.591002   \n",
       "639494       89.9526               70.838672         2928.591002   \n",
       "639495       47.1568               70.838672         2928.591002   \n",
       "639496      114.1350               70.838672         2928.591002   \n",
       "639497       56.7888               70.838672         2928.591002   \n",
       "639498      115.7340               70.838672         2928.591002   \n",
       "639499      114.4410               70.838672         2928.591002   \n",
       "639500       72.6955               70.838672         2928.591002   \n",
       "639501       91.1255               70.838672         2928.591002   \n",
       "639502      180.3510               70.838672         2928.591002   \n",
       "639503      224.5440               70.838672         2928.591002   \n",
       "\n",
       "        Temperature(Avg.)  Rainfall(Avg.)  Temperature(Min)  Temperature(Max)  \n",
       "639480           9.087434      110.174583           3.48429           14.8757  \n",
       "639481           9.087434      110.174583           3.48429           14.8757  \n",
       "639482           9.087434      110.174583           3.48429           14.8757  \n",
       "639483           9.087434      110.174583           3.48429           14.8757  \n",
       "639484           9.087434      110.174583           3.48429           14.8757  \n",
       "639485           9.087434      110.174583           3.48429           14.8757  \n",
       "639486           9.087434      110.174583           3.48429           14.8757  \n",
       "639487           9.087434      110.174583           3.48429           14.8757  \n",
       "639488           9.087434      110.174583           3.48429           14.8757  \n",
       "639489           9.087434      110.174583           3.48429           14.8757  \n",
       "639490           9.087434      110.174583           3.48429           14.8757  \n",
       "639491           9.087434      110.174583           3.48429           14.8757  \n",
       "639492           9.087434      110.174583           3.48429           14.8757  \n",
       "639493           9.087434      110.174583           3.48429           14.8757  \n",
       "639494           9.087434      110.174583           3.48429           14.8757  \n",
       "639495           9.087434      110.174583           3.48429           14.8757  \n",
       "639496           9.087434      110.174583           3.48429           14.8757  \n",
       "639497           9.087434      110.174583           3.48429           14.8757  \n",
       "639498           9.087434      110.174583           3.48429           14.8757  \n",
       "639499           9.087434      110.174583           3.48429           14.8757  \n",
       "639500           9.087434      110.174583           3.48429           14.8757  \n",
       "639501           9.087434      110.174583           3.48429           14.8757  \n",
       "639502           9.087434      110.174583           3.48429           14.8757  \n",
       "639503           9.087434      110.174583           3.48429           14.8757  "
      ]
     },
     "execution_count": 505,
     "metadata": {},
     "output_type": "execute_result"
    }
   ],
   "source": [
    "# Check correctness for the last two years\n",
    "df_total.tail(24)"
   ]
  },
  {
   "cell_type": "markdown",
   "metadata": {},
   "source": [
    "# Some statistics for more information about the data\n",
    "- outlier\n",
    "- development over time / time series comparison\n",
    "- relationships between data\n",
    "- statistics especially for Germany"
   ]
  },
  {
   "cell_type": "markdown",
   "metadata": {},
   "source": [
    "### Outlier"
   ]
  },
  {
   "cell_type": "code",
   "execution_count": 506,
   "metadata": {},
   "outputs": [
    {
     "data": {
      "text/plain": [
       "{'whiskers': [<matplotlib.lines.Line2D at 0x7f882859e590>,\n",
       "  <matplotlib.lines.Line2D at 0x7f882859ead0>],\n",
       " 'caps': [<matplotlib.lines.Line2D at 0x7f882859efd0>,\n",
       "  <matplotlib.lines.Line2D at 0x7f88285a4510>],\n",
       " 'boxes': [<matplotlib.lines.Line2D at 0x7f88285958d0>],\n",
       " 'medians': [<matplotlib.lines.Line2D at 0x7f88285a4a50>],\n",
       " 'fliers': [<matplotlib.lines.Line2D at 0x7f88285a4f50>],\n",
       " 'means': []}"
      ]
     },
     "execution_count": 506,
     "metadata": {},
     "output_type": "execute_result"
    },
    {
     "data": {
      "image/png": "[encoded data removed]",
      "text/plain": [
       "<Figure size 432x288 with 1 Axes>"
      ]
     },
     "metadata": {
      "needs_background": "light"
     },
     "output_type": "display_data"
    }
   ],
   "source": [
    "# Check outliers in the temperature data\n",
    "plt.boxplot(df_total['Temperature(Celsius)'])"
   ]
  },
  {
   "cell_type": "markdown",
   "metadata": {},
   "source": [
    "- a lot of outliers in the lower range of the temperature scala"
   ]
  },
  {
   "cell_type": "code",
   "execution_count": 507,
   "metadata": {
    "scrolled": true
   },
   "outputs": [
    {
     "data": {
      "text/plain": [
       "{'whiskers': [<matplotlib.lines.Line2D at 0x7f882b563ad0>,\n",
       "  <matplotlib.lines.Line2D at 0x7f882b555e50>],\n",
       " 'caps': [<matplotlib.lines.Line2D at 0x7f882b569550>,\n",
       "  <matplotlib.lines.Line2D at 0x7f882b569a50>],\n",
       " 'boxes': [<matplotlib.lines.Line2D at 0x7f882b555e10>],\n",
       " 'medians': [<matplotlib.lines.Line2D at 0x7f882b569f90>],\n",
       " 'fliers': [<matplotlib.lines.Line2D at 0x7f882863a4d0>],\n",
       " 'means': []}"
      ]
     },
     "execution_count": 507,
     "metadata": {},
     "output_type": "execute_result"
    },
    {
     "data": {
      "image/png": "[encoded data removed]",
      "text/plain": [
       "<Figure size 432x288 with 1 Axes>"
      ]
     },
     "metadata": {
      "needs_background": "light"
     },
     "output_type": "display_data"
    }
   ],
   "source": [
    "# Check outliers in the rainfall data\n",
    "plt.boxplot(df_total['Rainfall(MM)'])"
   ]
  },
  {
   "cell_type": "markdown",
   "metadata": {},
   "source": [
    "- as expected the rainfall data has  alot of outliers, because the data has a high variance"
   ]
  },
  {
   "cell_type": "code",
   "execution_count": 508,
   "metadata": {},
   "outputs": [
    {
     "data": {
      "text/plain": [
       "{'whiskers': [<matplotlib.lines.Line2D at 0x7f8828767590>,\n",
       "  <matplotlib.lines.Line2D at 0x7f8828767ad0>],\n",
       " 'caps': [<matplotlib.lines.Line2D at 0x7f8828767fd0>,\n",
       "  <matplotlib.lines.Line2D at 0x7f8828771510>],\n",
       " 'boxes': [<matplotlib.lines.Line2D at 0x7f882875e8d0>],\n",
       " 'medians': [<matplotlib.lines.Line2D at 0x7f8828771a50>],\n",
       " 'fliers': [<matplotlib.lines.Line2D at 0x7f8828771f50>],\n",
       " 'means': []}"
      ]
     },
     "execution_count": 508,
     "metadata": {},
     "output_type": "execute_result"
    },
    {
     "data": {
      "image/png": "[encoded data removed]",
      "text/plain": [
       "<Figure size 432x288 with 1 Axes>"
      ]
     },
     "metadata": {
      "needs_background": "light"
     },
     "output_type": "display_data"
    }
   ],
   "source": [
    "# Check outliers in the avg. temperature data\n",
    "plt.boxplot(df_total['Temperature(Avg.)'])"
   ]
  },
  {
   "cell_type": "markdown",
   "metadata": {},
   "source": [
    "- On average, there are only a few outliers for temperatures below 0°C"
   ]
  },
  {
   "cell_type": "code",
   "execution_count": 509,
   "metadata": {},
   "outputs": [
    {
     "data": {
      "text/plain": [
       "{'whiskers': [<matplotlib.lines.Line2D at 0x7f88289f1f10>,\n",
       "  <matplotlib.lines.Line2D at 0x7f88289f9490>],\n",
       " 'caps': [<matplotlib.lines.Line2D at 0x7f88289f9990>,\n",
       "  <matplotlib.lines.Line2D at 0x7f88289f9e90>],\n",
       " 'boxes': [<matplotlib.lines.Line2D at 0x7f88289f1290>],\n",
       " 'medians': [<matplotlib.lines.Line2D at 0x7f88289e62d0>],\n",
       " 'fliers': [<matplotlib.lines.Line2D at 0x7f8828a01910>],\n",
       " 'means': []}"
      ]
     },
     "execution_count": 509,
     "metadata": {},
     "output_type": "execute_result"
    },
    {
     "data": {
      "image/png": "[encoded data removed]",
      "text/plain": [
       "<Figure size 432x288 with 1 Axes>"
      ]
     },
     "metadata": {
      "needs_background": "light"
     },
     "output_type": "display_data"
    }
   ],
   "source": [
    "# Check outliers in the avg. rainfall data\n",
    "plt.boxplot(df_total['Rainfall(Avg.)'])"
   ]
  },
  {
   "cell_type": "markdown",
   "metadata": {},
   "source": [
    "- The average of rainfall has still quite a lot of outliers"
   ]
  },
  {
   "cell_type": "markdown",
   "metadata": {},
   "source": [
    "### Time series comparisons"
   ]
  },
  {
   "cell_type": "code",
   "execution_count": 510,
   "metadata": {},
   "outputs": [
    {
     "data": {
      "text/plain": [
       "Text(0, 0.5, 'temp')"
      ]
     },
     "execution_count": 510,
     "metadata": {},
     "output_type": "execute_result"
    },
    {
     "data": {
      "image/png": "[encoded data removed]",
      "text/plain": [
       "<Figure size 432x288 with 1 Axes>"
      ]
     },
     "metadata": {
      "needs_background": "light"
     },
     "output_type": "display_data"
    }
   ],
   "source": [
    "# Create scatter point diagram for Temperature\n",
    "plt.plot(df_total['Year'], df_total['Temperature(Celsius)'],  'k.')\n",
    "plt.xlabel('year')\n",
    "plt.ylabel('temp')"
   ]
  },
  {
   "cell_type": "markdown",
   "metadata": {},
   "source": [
    "- The plot shows that the average temperature does not exceed 40°C. The most frequent values are betweel 0 and 30°C"
   ]
  },
  {
   "cell_type": "code",
   "execution_count": 511,
   "metadata": {},
   "outputs": [
    {
     "data": {
      "text/plain": [
       "[1960, 2016, 35, 40]"
      ]
     },
     "execution_count": 511,
     "metadata": {},
     "output_type": "execute_result"
    },
    {
     "data": {
      "image/png": "[encoded data removed]",
      "text/plain": [
       "<Figure size 432x288 with 1 Axes>"
      ]
     },
     "metadata": {
      "needs_background": "light"
     },
     "output_type": "display_data"
    }
   ],
   "source": [
    "# Check change in maximum temperatures\n",
    "plt.plot(df_total['Year'], df_total['Temperature(Celsius)'],  'k.')\n",
    "plt.xlabel('year')\n",
    "plt.ylabel('temp')\n",
    "# Attention: only upper half displayed via axis restriction\n",
    "plt.axis([1960, 2016, 35, 40])"
   ]
  },
  {
   "cell_type": "markdown",
   "metadata": {},
   "source": [
    "- It can be observed, that higher temperatures are more frequent over time, also the maximum temperature rises to over 38°C"
   ]
  },
  {
   "cell_type": "code",
   "execution_count": 512,
   "metadata": {},
   "outputs": [
    {
     "data": {
      "text/plain": [
       "Text(0, 0.5, 'rain')"
      ]
     },
     "execution_count": 512,
     "metadata": {},
     "output_type": "execute_result"
    },
    {
     "data": {
      "image/png": "[encoded data removed]",
      "text/plain": [
       "<Figure size 432x288 with 1 Axes>"
      ]
     },
     "metadata": {
      "needs_background": "light"
     },
     "output_type": "display_data"
    }
   ],
   "source": [
    "# Create scatter point diagram (rainfall)\n",
    "plt.plot(df_total['Year'], df_total['Rainfall(MM)'],  'k.')\n",
    "plt.xlabel('year')\n",
    "plt.ylabel('rain')"
   ]
  },
  {
   "cell_type": "markdown",
   "metadata": {},
   "source": [
    "- The plot shows that the amount of rain varies a lot, but the majority does not exceed 500mm."
   ]
  },
  {
   "cell_type": "code",
   "execution_count": 513,
   "metadata": {},
   "outputs": [
    {
     "data": {
      "text/plain": [
       "Text(0, 0.5, 'land%')"
      ]
     },
     "execution_count": 513,
     "metadata": {},
     "output_type": "execute_result"
    },
    {
     "data": {
      "image/png": "[encoded data removed]",
      "text/plain": [
       "<Figure size 432x288 with 1 Axes>"
      ]
     },
     "metadata": {
      "needs_background": "light"
     },
     "output_type": "display_data"
    }
   ],
   "source": [
    "# Create scatter point diagram (agricultural land)\n",
    "plt.plot(df_total['Year'], df_total['Agricultural land in %'],  'k.')\n",
    "plt.xlabel('year')\n",
    "plt.ylabel('land%')"
   ]
  },
  {
   "cell_type": "markdown",
   "metadata": {},
   "source": [
    "- No explicit statement possible, while the percentage of agricultural land rises for some countries it decreases for others over time\n",
    "- Further analysis needed"
   ]
  },
  {
   "cell_type": "code",
   "execution_count": 514,
   "metadata": {},
   "outputs": [
    {
     "data": {
      "text/plain": [
       "Text(0, 0.5, 'gdp')"
      ]
     },
     "execution_count": 514,
     "metadata": {},
     "output_type": "execute_result"
    },
    {
     "data": {
      "image/png": "[encoded data removed]",
      "text/plain": [
       "<Figure size 432x288 with 1 Axes>"
      ]
     },
     "metadata": {
      "needs_background": "light"
     },
     "output_type": "display_data"
    }
   ],
   "source": [
    "# Create scatter point diagram (GDP)\n",
    "plt.plot(df_total['Year'], df_total['GDP in billion $US'],  'k.')\n",
    "plt.xlabel('year')\n",
    "plt.ylabel('gdp')"
   ]
  },
  {
   "cell_type": "markdown",
   "metadata": {},
   "source": [
    "- No explicit statement possible based on this plot\n",
    "- further analysis neccessary"
   ]
  },
  {
   "cell_type": "code",
   "execution_count": 515,
   "metadata": {},
   "outputs": [
    {
     "data": {
      "text/plain": [
       "Text(0, 0.5, 'temp (avg.)')"
      ]
     },
     "execution_count": 515,
     "metadata": {},
     "output_type": "execute_result"
    },
    {
     "data": {
      "image/png": "[encoded data removed]",
      "text/plain": [
       "<Figure size 432x288 with 1 Axes>"
      ]
     },
     "metadata": {
      "needs_background": "light"
     },
     "output_type": "display_data"
    }
   ],
   "source": [
    "# Create scatter point diagram (average Temperature)\n",
    "plt.plot(df_total['Year'], df_total['Temperature(Avg.)'],  'k.')\n",
    "plt.xlabel('year')\n",
    "plt.ylabel('temp (avg.)')"
   ]
  },
  {
   "cell_type": "markdown",
   "metadata": {},
   "source": [
    "- The average temperature is between -5 and -10°C at its lowest, between 25 and 30°C at its highest\n",
    "- The density of datapoints is highest between 20 and 30°C"
   ]
  },
  {
   "cell_type": "code",
   "execution_count": 516,
   "metadata": {},
   "outputs": [
    {
     "data": {
      "text/plain": [
       "Text(0, 0.5, 'rain (avg.)')"
      ]
     },
     "execution_count": 516,
     "metadata": {},
     "output_type": "execute_result"
    },
    {
     "data": {
      "image/png": "[encoded data removed]",
      "text/plain": [
       "<Figure size 432x288 with 1 Axes>"
      ]
     },
     "metadata": {
      "needs_background": "light"
     },
     "output_type": "display_data"
    }
   ],
   "source": [
    "# Create scatter point diagram (average rainfall)\n",
    "plt.plot(df_total['Year'], df_total['Rainfall(Avg.)'],  'k.')\n",
    "plt.xlabel('year')\n",
    "plt.ylabel('rain (avg.)')"
   ]
  },
  {
   "cell_type": "markdown",
   "metadata": {},
   "source": [
    "- There are some outliers, but it can be stated that the average by will be at about 100mm"
   ]
  },
  {
   "cell_type": "code",
   "execution_count": 517,
   "metadata": {},
   "outputs": [
    {
     "data": {
      "text/plain": [
       "Text(0, 0.5, 'temp (min)')"
      ]
     },
     "execution_count": 517,
     "metadata": {},
     "output_type": "execute_result"
    },
    {
     "data": {
      "image/png": "[encoded data removed]",
      "text/plain": [
       "<Figure size 432x288 with 1 Axes>"
      ]
     },
     "metadata": {
      "needs_background": "light"
     },
     "output_type": "display_data"
    }
   ],
   "source": [
    "# Create scatter point diagram (minimum temperature)\n",
    "plt.plot(df_total['Year'], df_total['Temperature(Min)'],  'k.')\n",
    "plt.xlabel('year')\n",
    "plt.ylabel('temp (min)')"
   ]
  },
  {
   "cell_type": "markdown",
   "metadata": {},
   "source": [
    "- a further look into the minimum temperature shows, that there are countries that experience tempreatures around -30°C, but it is rather rare"
   ]
  },
  {
   "cell_type": "code",
   "execution_count": 518,
   "metadata": {},
   "outputs": [
    {
     "data": {
      "text/plain": [
       "[1960, 2016, -35, -15]"
      ]
     },
     "execution_count": 518,
     "metadata": {},
     "output_type": "execute_result"
    },
    {
     "data": {
      "image/png": "[encoded data removed]",
      "text/plain": [
       "<Figure size 432x288 with 1 Axes>"
      ]
     },
     "metadata": {
      "needs_background": "light"
     },
     "output_type": "display_data"
    }
   ],
   "source": [
    "# Check lower change of the minimum temperature\n",
    "plt.plot(df_total['Year'], df_total['Temperature(Min)'],  'k.')\n",
    "plt.xlabel('year')\n",
    "plt.ylabel('temp (min)')\n",
    "plt.axis([1960, 2016, -35, -15])"
   ]
  },
  {
   "cell_type": "markdown",
   "metadata": {},
   "source": [
    "- No definite statement possible, maybe a slight upward trend over the years"
   ]
  },
  {
   "cell_type": "code",
   "execution_count": null,
   "metadata": {},
   "outputs": [
    {
     "data": {
      "text/plain": [
       "Text(0, 0.5, 'temp (max)')"
      ]
     },
     "execution_count": 519,
     "metadata": {},
     "output_type": "execute_result"
    }
   ],
   "source": [
    "# Create scatter point diagram (maximum temperature)\n",
    "plt.plot(df_total['Year'], df_total['Temperature(Max)'],  'k.')\n",
    "plt.xlabel('year')\n",
    "plt.ylabel('temp (max)')"
   ]
  },
  {
   "cell_type": "markdown",
   "metadata": {},
   "source": [
    "- No definite statement possible, maybe a slight upward trend over the years"
   ]
  },
  {
   "cell_type": "code",
   "execution_count": null,
   "metadata": {},
   "outputs": [],
   "source": [
    "# Check change of the maximum temperature\n",
    "plt.plot(df_total['Year'], df_total['Temperature(Max)'],  'k.')\n",
    "plt.xlabel('year')\n",
    "plt.ylabel('temp (max)')\n",
    "plt.axis([1960, 2016, 30, 40])"
   ]
  },
  {
   "cell_type": "markdown",
   "metadata": {},
   "source": [
    "- a clear upward trend of the maximum temperature can be observed"
   ]
  },
  {
   "cell_type": "markdown",
   "metadata": {},
   "source": [
    "### Statistics especially for Germany"
   ]
  },
  {
   "cell_type": "code",
   "execution_count": null,
   "metadata": {},
   "outputs": [],
   "source": [
    "# Create subset\n",
    "subset_germany = df_total[df_total['Country'] == 'Germany']"
   ]
  },
  {
   "cell_type": "code",
   "execution_count": null,
   "metadata": {},
   "outputs": [],
   "source": [
    "# Check\n",
    "subset_germany.head()"
   ]
  },
  {
   "cell_type": "code",
   "execution_count": null,
   "metadata": {},
   "outputs": [],
   "source": [
    "# Create scatter point diagram maximum temperature (Germany)\n",
    "plt.plot(subset_germany['Year'], subset_germany['Temperature(Max)'],  'k.')\n",
    "plt.xlabel('year')\n",
    "plt.ylabel('temp (max) germany')"
   ]
  },
  {
   "cell_type": "markdown",
   "metadata": {},
   "source": [
    "- For Germany a clear increase in maximum temperature can be stated over time"
   ]
  },
  {
   "cell_type": "code",
   "execution_count": null,
   "metadata": {},
   "outputs": [],
   "source": [
    "# Create scatter point diagram average temperature (Germany)\n",
    "plt.plot(subset_germany['Year'], subset_germany['Temperature(Avg.)'],  'k.')\n",
    "plt.xlabel('year')\n",
    "plt.ylabel('temp (avg) germany')"
   ]
  },
  {
   "cell_type": "markdown",
   "metadata": {},
   "source": [
    "- The average temperature is also significantly rising in Germany"
   ]
  },
  {
   "cell_type": "code",
   "execution_count": null,
   "metadata": {},
   "outputs": [],
   "source": [
    "# Create scatter point diagram average rainfall (Germany)\n",
    "plt.plot(subset_germany['Year'], subset_germany['Rainfall(Avg.)'],  'k.')\n",
    "plt.xlabel('year')\n",
    "plt.ylabel('rain (avg) germany')"
   ]
  },
  {
   "cell_type": "markdown",
   "metadata": {},
   "source": [
    "- No clear trend can be observed, thus it can be stated that rain underlies saisonal variabilty in Germany"
   ]
  },
  {
   "cell_type": "code",
   "execution_count": null,
   "metadata": {},
   "outputs": [],
   "source": [
    "# Create scatter point diagram acrigultural land (Germany)\n",
    "plt.plot(subset_germany['Year'], subset_germany['Agricultural land in %'],  'k.')\n",
    "plt.xlabel('year')\n",
    "plt.ylabel('land% germany')"
   ]
  },
  {
   "cell_type": "markdown",
   "metadata": {},
   "source": [
    "- The amount of agricultural land drastically decreased in Germany over time"
   ]
  },
  {
   "cell_type": "code",
   "execution_count": null,
   "metadata": {},
   "outputs": [],
   "source": [
    "# Create scatter point diagram GDP (Germany)\n",
    "plt.plot(subset_germany['Year'], subset_germany['GDP in billion $US'],  'k.')\n",
    "plt.xlabel('year')\n",
    "plt.ylabel('gpd germany')"
   ]
  },
  {
   "cell_type": "markdown",
   "metadata": {},
   "source": [
    "- The GDP as quite constantly rising over time in Germany"
   ]
  },
  {
   "cell_type": "code",
   "execution_count": null,
   "metadata": {},
   "outputs": [],
   "source": [
    "# Comparison of average temperature and agricultural land (Germany)\n",
    "plt.plot(subset_germany['Temperature(Avg.)'], subset_germany['Agricultural land in %'],  'k.')\n",
    "plt.xlabel('temp germany')\n",
    "plt.ylabel('land% germany')"
   ]
  },
  {
   "cell_type": "markdown",
   "metadata": {},
   "source": [
    "- The plot shows quite a trend to less agricultural land with increasing temperature"
   ]
  },
  {
   "cell_type": "code",
   "execution_count": null,
   "metadata": {},
   "outputs": [],
   "source": [
    "# Comparison of average temperature and rainfall (Germany)\n",
    "plt.plot(subset_germany['Temperature(Avg.)'], subset_germany['Rainfall(Avg.)'],  'k.')\n",
    "plt.xlabel('temp germany')\n",
    "plt.ylabel('rain germany')"
   ]
  },
  {
   "cell_type": "markdown",
   "metadata": {},
   "source": [
    "- No statement regarding a correlation of average temeprature and the amount of rain can be made"
   ]
  },
  {
   "cell_type": "markdown",
   "metadata": {},
   "source": [
    "# Final preparation of the dataset \n",
    "- for application of the analytical methods\n",
    "- reduction of the dataset so that only annual data are included"
   ]
  },
  {
   "cell_type": "code",
   "execution_count": null,
   "metadata": {},
   "outputs": [],
   "source": [
    "# Creating new data set, which should only contain values for the average per year\n",
    "df_avg_year = df_total.copy()"
   ]
  },
  {
   "cell_type": "code",
   "execution_count": null,
   "metadata": {},
   "outputs": [],
   "source": [
    "# After calculating the averages, the columns on a monthly basis are no longer needed and are therefore removed\n",
    "df_avg_year.drop(['Statistics', 'Temperature(Celsius)', 'Rainfall(MM)'], axis=1, inplace=True)"
   ]
  },
  {
   "cell_type": "code",
   "execution_count": null,
   "metadata": {
    "scrolled": true
   },
   "outputs": [],
   "source": [
    "# Check if it worked\n",
    "df_avg_year.head()"
   ]
  },
  {
   "cell_type": "code",
   "execution_count": null,
   "metadata": {},
   "outputs": [],
   "source": [
    "# Remove duplicate rows so that there is only one row per country per year\n",
    "df_avg_year.drop_duplicates(inplace=True)"
   ]
  },
  {
   "cell_type": "code",
   "execution_count": null,
   "metadata": {},
   "outputs": [],
   "source": [
    "# Reset index\n",
    "df_avg_year.reset_index(drop=True)"
   ]
  },
  {
   "cell_type": "code",
   "execution_count": null,
   "metadata": {},
   "outputs": [],
   "source": [
    "# Check for null values\n",
    "null_counts = df_avg_year.isnull().sum()\n",
    "null_counts[null_counts > 0].sort_values(ascending=False)"
   ]
  },
  {
   "cell_type": "code",
   "execution_count": null,
   "metadata": {},
   "outputs": [],
   "source": [
    "# Creation of a CSV file of the complete data set to load it into a new notebook for further work\n",
    "df_avg_year.to_csv('data_average_per_year.csv', index=False)"
   ]
  },
  {
   "cell_type": "code",
   "execution_count": null,
   "metadata": {},
   "outputs": [],
   "source": []
  }
 ],
 "metadata": {
  "kernelspec": {
   "display_name": "Python 3",
   "language": "python",
   "name": "python3"
  },
  "language_info": {
   "codemirror_mode": {
    "name": "ipython",
    "version": 3
   },
   "file_extension": ".py",
   "mimetype": "text/x-python",
   "name": "python",
   "nbconvert_exporter": "python",
   "pygments_lexer": "ipython3",
   "version": "3.7.6"
  }
 },
 "nbformat": 4,
 "nbformat_minor": 4
}
