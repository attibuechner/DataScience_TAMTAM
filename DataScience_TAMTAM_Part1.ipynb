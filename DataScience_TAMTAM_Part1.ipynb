{
 "cells": [
  {
   "cell_type": "markdown",
   "metadata": {},
   "source": [
    "# The datasets\n",
    "\n",
    "- This notebook analyses weather data, the percentage of agricultural land, rainfall data and worldwide GDP data of a timeframe from 1961 to 2015. All used datasets are public without any copyright.\n",
    "- https://climateknowledgeportal.worldbank.org/download-data \n",
    "   These datasets contain worldwide weather data, where one captures the years 1961-1990 and the second one covers years from 1991 until 2016\n",
    "- http://www.foodsecurityportal.org/api/countries/agricultural-land-pe\n",
    "    This dataset gives information about the percentage of agricultural land, covering a time frame from 1961 to 2015"
   ]
  },
  {
   "cell_type": "code",
   "execution_count": 161,
   "metadata": {},
   "outputs": [],
   "source": [
    "# Import libraries, that are needed to fulfill analysis of the data\n",
    "import pandas as pd\n",
    "import numpy as np\n",
    "import csv\n",
    "import matplotlib.pyplot as plt"
   ]
  },
  {
   "cell_type": "code",
   "execution_count": 162,
   "metadata": {},
   "outputs": [],
   "source": [
    "# Import the weather datasets\n",
    "df = pd.read_csv('weather_data_91_16.csv', names=range(6), header=None)\n",
    "df1 = pd.read_csv('weather_data_61_90.csv', names=range(6), header=None)"
   ]
  },
  {
   "cell_type": "code",
   "execution_count": 163,
   "metadata": {},
   "outputs": [],
   "source": [
    "# Import the agricultural land dataset\n",
    "df2 = pd.read_csv('agricultural_land.csv')"
   ]
  },
  {
   "cell_type": "markdown",
   "metadata": {},
   "source": [
    "# Weather data"
   ]
  },
  {
   "cell_type": "markdown",
   "metadata": {},
   "source": [
    "## Get overview of the dataset and prepare it for merging: weather data 1991-2016"
   ]
  },
  {
   "cell_type": "code",
   "execution_count": 164,
   "metadata": {},
   "outputs": [
    {
     "name": "stdout",
     "output_type": "stream",
     "text": [
      "<class 'pandas.core.frame.DataFrame'>\n",
      "RangeIndex: 61153 entries, 0 to 61152\n",
      "Data columns (total 6 columns):\n",
      " #   Column  Non-Null Count  Dtype \n",
      "---  ------  --------------  ----- \n",
      " 0   0       61153 non-null  object\n",
      " 1   1       61153 non-null  object\n",
      " 2   2       61153 non-null  object\n",
      " 3   3       61153 non-null  object\n",
      " 4   4       61153 non-null  object\n",
      " 5   5       1560 non-null   object\n",
      "dtypes: object(6)\n",
      "memory usage: 2.8+ MB\n"
     ]
    }
   ],
   "source": [
    "df.info()"
   ]
  },
  {
   "cell_type": "code",
   "execution_count": 165,
   "metadata": {},
   "outputs": [
    {
     "data": {
      "text/html": [
       "<div>\n",
       "<style scoped>\n",
       "    .dataframe tbody tr th:only-of-type {\n",
       "        vertical-align: middle;\n",
       "    }\n",
       "\n",
       "    .dataframe tbody tr th {\n",
       "        vertical-align: top;\n",
       "    }\n",
       "\n",
       "    .dataframe thead th {\n",
       "        text-align: right;\n",
       "    }\n",
       "</style>\n",
       "<table border=\"1\" class=\"dataframe\">\n",
       "  <thead>\n",
       "    <tr style=\"text-align: right;\">\n",
       "      <th></th>\n",
       "      <th>0</th>\n",
       "      <th>1</th>\n",
       "      <th>2</th>\n",
       "      <th>3</th>\n",
       "      <th>4</th>\n",
       "      <th>5</th>\n",
       "    </tr>\n",
       "  </thead>\n",
       "  <tbody>\n",
       "    <tr>\n",
       "      <th>0</th>\n",
       "      <td>Temperature - (Celsius)</td>\n",
       "      <td>Year</td>\n",
       "      <td>Statistics</td>\n",
       "      <td>Country</td>\n",
       "      <td>ISO3</td>\n",
       "      <td>NaN</td>\n",
       "    </tr>\n",
       "    <tr>\n",
       "      <th>1</th>\n",
       "      <td>-0.0311</td>\n",
       "      <td>1991</td>\n",
       "      <td>Jan Average</td>\n",
       "      <td>Afghanistan</td>\n",
       "      <td>AFG</td>\n",
       "      <td>NaN</td>\n",
       "    </tr>\n",
       "    <tr>\n",
       "      <th>2</th>\n",
       "      <td>1.43654</td>\n",
       "      <td>1991</td>\n",
       "      <td>Feb Average</td>\n",
       "      <td>Afghanistan</td>\n",
       "      <td>AFG</td>\n",
       "      <td>NaN</td>\n",
       "    </tr>\n",
       "    <tr>\n",
       "      <th>3</th>\n",
       "      <td>6.88685</td>\n",
       "      <td>1991</td>\n",
       "      <td>Mar Average</td>\n",
       "      <td>Afghanistan</td>\n",
       "      <td>AFG</td>\n",
       "      <td>NaN</td>\n",
       "    </tr>\n",
       "    <tr>\n",
       "      <th>4</th>\n",
       "      <td>12.9397</td>\n",
       "      <td>1991</td>\n",
       "      <td>Apr Average</td>\n",
       "      <td>Afghanistan</td>\n",
       "      <td>AFG</td>\n",
       "      <td>NaN</td>\n",
       "    </tr>\n",
       "  </tbody>\n",
       "</table>\n",
       "</div>"
      ],
      "text/plain": [
       "                         0      1             2             3      4    5\n",
       "0  Temperature - (Celsius)   Year    Statistics       Country   ISO3  NaN\n",
       "1                  -0.0311   1991   Jan Average   Afghanistan    AFG  NaN\n",
       "2                  1.43654   1991   Feb Average   Afghanistan    AFG  NaN\n",
       "3                  6.88685   1991   Mar Average   Afghanistan    AFG  NaN\n",
       "4                  12.9397   1991   Apr Average   Afghanistan    AFG  NaN"
      ]
     },
     "execution_count": 165,
     "metadata": {},
     "output_type": "execute_result"
    }
   ],
   "source": [
    "# Show first 5 rows of df\n",
    "df.head()"
   ]
  },
  {
   "cell_type": "code",
   "execution_count": 166,
   "metadata": {},
   "outputs": [
    {
     "data": {
      "text/html": [
       "<div>\n",
       "<style scoped>\n",
       "    .dataframe tbody tr th:only-of-type {\n",
       "        vertical-align: middle;\n",
       "    }\n",
       "\n",
       "    .dataframe tbody tr th {\n",
       "        vertical-align: top;\n",
       "    }\n",
       "\n",
       "    .dataframe thead th {\n",
       "        text-align: right;\n",
       "    }\n",
       "</style>\n",
       "<table border=\"1\" class=\"dataframe\">\n",
       "  <thead>\n",
       "    <tr style=\"text-align: right;\">\n",
       "      <th></th>\n",
       "      <th>0</th>\n",
       "      <th>1</th>\n",
       "      <th>2</th>\n",
       "      <th>3</th>\n",
       "      <th>4</th>\n",
       "      <th>5</th>\n",
       "    </tr>\n",
       "  </thead>\n",
       "  <tbody>\n",
       "    <tr>\n",
       "      <th>61148</th>\n",
       "      <td>18.7555</td>\n",
       "      <td>2016</td>\n",
       "      <td>Aug Average</td>\n",
       "      <td>Zimbabwe</td>\n",
       "      <td>ZWE</td>\n",
       "      <td>NaN</td>\n",
       "    </tr>\n",
       "    <tr>\n",
       "      <th>61149</th>\n",
       "      <td>22.9919</td>\n",
       "      <td>2016</td>\n",
       "      <td>Sep Average</td>\n",
       "      <td>Zimbabwe</td>\n",
       "      <td>ZWE</td>\n",
       "      <td>NaN</td>\n",
       "    </tr>\n",
       "    <tr>\n",
       "      <th>61150</th>\n",
       "      <td>25.8664</td>\n",
       "      <td>2016</td>\n",
       "      <td>Oct Average</td>\n",
       "      <td>Zimbabwe</td>\n",
       "      <td>ZWE</td>\n",
       "      <td>NaN</td>\n",
       "    </tr>\n",
       "    <tr>\n",
       "      <th>61151</th>\n",
       "      <td>25.8515</td>\n",
       "      <td>2016</td>\n",
       "      <td>Nov Average</td>\n",
       "      <td>Zimbabwe</td>\n",
       "      <td>ZWE</td>\n",
       "      <td>NaN</td>\n",
       "    </tr>\n",
       "    <tr>\n",
       "      <th>61152</th>\n",
       "      <td>25.0693</td>\n",
       "      <td>2016</td>\n",
       "      <td>Dec Average</td>\n",
       "      <td>Zimbabwe</td>\n",
       "      <td>ZWE</td>\n",
       "      <td>NaN</td>\n",
       "    </tr>\n",
       "  </tbody>\n",
       "</table>\n",
       "</div>"
      ],
      "text/plain": [
       "             0      1             2          3     4    5\n",
       "61148  18.7555   2016   Aug Average   Zimbabwe   ZWE  NaN\n",
       "61149  22.9919   2016   Sep Average   Zimbabwe   ZWE  NaN\n",
       "61150  25.8664   2016   Oct Average   Zimbabwe   ZWE  NaN\n",
       "61151  25.8515   2016   Nov Average   Zimbabwe   ZWE  NaN\n",
       "61152  25.0693   2016   Dec Average   Zimbabwe   ZWE  NaN"
      ]
     },
     "execution_count": 166,
     "metadata": {},
     "output_type": "execute_result"
    }
   ],
   "source": [
    "# Show last 5 rows of df\n",
    "df.tail()"
   ]
  },
  {
   "cell_type": "code",
   "execution_count": 167,
   "metadata": {},
   "outputs": [
    {
     "data": {
      "text/plain": [
       "0        0\n",
       "1        0\n",
       "2        0\n",
       "3        0\n",
       "4        0\n",
       "5    59593\n",
       "dtype: int64"
      ]
     },
     "execution_count": 167,
     "metadata": {},
     "output_type": "execute_result"
    }
   ],
   "source": [
    "# Count null values\n",
    "df.isna().sum()"
   ]
  },
  {
   "cell_type": "code",
   "execution_count": 168,
   "metadata": {
    "scrolled": true
   },
   "outputs": [
    {
     "data": {
      "text/html": [
       "<div>\n",
       "<style scoped>\n",
       "    .dataframe tbody tr th:only-of-type {\n",
       "        vertical-align: middle;\n",
       "    }\n",
       "\n",
       "    .dataframe tbody tr th {\n",
       "        vertical-align: top;\n",
       "    }\n",
       "\n",
       "    .dataframe thead th {\n",
       "        text-align: right;\n",
       "    }\n",
       "</style>\n",
       "<table border=\"1\" class=\"dataframe\">\n",
       "  <thead>\n",
       "    <tr style=\"text-align: right;\">\n",
       "      <th></th>\n",
       "      <th>Temperature - (Celsius)</th>\n",
       "      <th>Year</th>\n",
       "      <th>Statistics</th>\n",
       "      <th>Country</th>\n",
       "      <th>ISO3</th>\n",
       "      <th>NaN</th>\n",
       "    </tr>\n",
       "  </thead>\n",
       "  <tbody>\n",
       "    <tr>\n",
       "      <th>0</th>\n",
       "      <td>-0.0311</td>\n",
       "      <td>1991</td>\n",
       "      <td>Jan Average</td>\n",
       "      <td>Afghanistan</td>\n",
       "      <td>AFG</td>\n",
       "      <td>NaN</td>\n",
       "    </tr>\n",
       "    <tr>\n",
       "      <th>1</th>\n",
       "      <td>1.43654</td>\n",
       "      <td>1991</td>\n",
       "      <td>Feb Average</td>\n",
       "      <td>Afghanistan</td>\n",
       "      <td>AFG</td>\n",
       "      <td>NaN</td>\n",
       "    </tr>\n",
       "    <tr>\n",
       "      <th>2</th>\n",
       "      <td>6.88685</td>\n",
       "      <td>1991</td>\n",
       "      <td>Mar Average</td>\n",
       "      <td>Afghanistan</td>\n",
       "      <td>AFG</td>\n",
       "      <td>NaN</td>\n",
       "    </tr>\n",
       "    <tr>\n",
       "      <th>3</th>\n",
       "      <td>12.9397</td>\n",
       "      <td>1991</td>\n",
       "      <td>Apr Average</td>\n",
       "      <td>Afghanistan</td>\n",
       "      <td>AFG</td>\n",
       "      <td>NaN</td>\n",
       "    </tr>\n",
       "    <tr>\n",
       "      <th>4</th>\n",
       "      <td>17.0755</td>\n",
       "      <td>1991</td>\n",
       "      <td>May Average</td>\n",
       "      <td>Afghanistan</td>\n",
       "      <td>AFG</td>\n",
       "      <td>NaN</td>\n",
       "    </tr>\n",
       "  </tbody>\n",
       "</table>\n",
       "</div>"
      ],
      "text/plain": [
       "0 Temperature - (Celsius)   Year    Statistics       Country  ISO3  NaN\n",
       "0                 -0.0311   1991   Jan Average   Afghanistan   AFG  NaN\n",
       "1                 1.43654   1991   Feb Average   Afghanistan   AFG  NaN\n",
       "2                 6.88685   1991   Mar Average   Afghanistan   AFG  NaN\n",
       "3                 12.9397   1991   Apr Average   Afghanistan   AFG  NaN\n",
       "4                 17.0755   1991   May Average   Afghanistan   AFG  NaN"
      ]
     },
     "execution_count": 168,
     "metadata": {},
     "output_type": "execute_result"
    }
   ],
   "source": [
    "# Define header\n",
    "headers = df.iloc[0]\n",
    "df = pd.DataFrame(df.values[1:], columns=headers)\n",
    "df.head()"
   ]
  },
  {
   "cell_type": "code",
   "execution_count": 169,
   "metadata": {},
   "outputs": [
    {
     "data": {
      "text/html": [
       "<div>\n",
       "<style scoped>\n",
       "    .dataframe tbody tr th:only-of-type {\n",
       "        vertical-align: middle;\n",
       "    }\n",
       "\n",
       "    .dataframe tbody tr th {\n",
       "        vertical-align: top;\n",
       "    }\n",
       "\n",
       "    .dataframe thead th {\n",
       "        text-align: right;\n",
       "    }\n",
       "</style>\n",
       "<table border=\"1\" class=\"dataframe\">\n",
       "  <thead>\n",
       "    <tr style=\"text-align: right;\">\n",
       "      <th></th>\n",
       "      <th>Temperature(Celsius)</th>\n",
       "      <th>Year</th>\n",
       "      <th>Statistics</th>\n",
       "      <th>Country</th>\n",
       "      <th>ISO3</th>\n",
       "      <th>NaN</th>\n",
       "    </tr>\n",
       "  </thead>\n",
       "  <tbody>\n",
       "    <tr>\n",
       "      <th>0</th>\n",
       "      <td>-0.0311</td>\n",
       "      <td>1991</td>\n",
       "      <td>Jan Average</td>\n",
       "      <td>Afghanistan</td>\n",
       "      <td>AFG</td>\n",
       "      <td>NaN</td>\n",
       "    </tr>\n",
       "    <tr>\n",
       "      <th>1</th>\n",
       "      <td>1.43654</td>\n",
       "      <td>1991</td>\n",
       "      <td>Feb Average</td>\n",
       "      <td>Afghanistan</td>\n",
       "      <td>AFG</td>\n",
       "      <td>NaN</td>\n",
       "    </tr>\n",
       "    <tr>\n",
       "      <th>2</th>\n",
       "      <td>6.88685</td>\n",
       "      <td>1991</td>\n",
       "      <td>Mar Average</td>\n",
       "      <td>Afghanistan</td>\n",
       "      <td>AFG</td>\n",
       "      <td>NaN</td>\n",
       "    </tr>\n",
       "    <tr>\n",
       "      <th>3</th>\n",
       "      <td>12.9397</td>\n",
       "      <td>1991</td>\n",
       "      <td>Apr Average</td>\n",
       "      <td>Afghanistan</td>\n",
       "      <td>AFG</td>\n",
       "      <td>NaN</td>\n",
       "    </tr>\n",
       "    <tr>\n",
       "      <th>4</th>\n",
       "      <td>17.0755</td>\n",
       "      <td>1991</td>\n",
       "      <td>May Average</td>\n",
       "      <td>Afghanistan</td>\n",
       "      <td>AFG</td>\n",
       "      <td>NaN</td>\n",
       "    </tr>\n",
       "  </tbody>\n",
       "</table>\n",
       "</div>"
      ],
      "text/plain": [
       "0 Temperature(Celsius)   Year    Statistics       Country  ISO3  NaN\n",
       "0              -0.0311   1991   Jan Average   Afghanistan   AFG  NaN\n",
       "1              1.43654   1991   Feb Average   Afghanistan   AFG  NaN\n",
       "2              6.88685   1991   Mar Average   Afghanistan   AFG  NaN\n",
       "3              12.9397   1991   Apr Average   Afghanistan   AFG  NaN\n",
       "4              17.0755   1991   May Average   Afghanistan   AFG  NaN"
      ]
     },
     "execution_count": 169,
     "metadata": {},
     "output_type": "execute_result"
    }
   ],
   "source": [
    "# Rename columns\n",
    "df.rename(columns={\"Temperature - (Celsius)\": \"Temperature(Celsius)\", \" Country\" : \"Country\", \" Statistics\" : \"Statistics\", \" Year\" : \"Year\"}, inplace=True)\n",
    "df.head()"
   ]
  },
  {
   "cell_type": "code",
   "execution_count": 170,
   "metadata": {},
   "outputs": [
    {
     "name": "stdout",
     "output_type": "stream",
     "text": [
      "['Afghanistan', 'Albania', 'Algeria', 'Andorra', 'Angola', 'Antigua and Barbuda', 'Argentina', 'Armenia', 'Australia', 'Austria', 'Azerbaijan', 'Bahamas', 'Bahrain', 'Bangladesh', 'Barbados', 'Belarus', 'Belgium', 'Belize', 'Benin', 'Bhutan', 'Bolivia', 'Bosnia and Herzegovina', 'Botswana', 'Brazil', 'Brunei', 'Bulgaria', 'Burkina Faso', 'Burundi', 'Cambodia', 'Cameroon', 'Canada', 'Cape Verde', 'Central African Republic', 'Chad', 'Chile', 'China', 'Colombia', 'Comoros', 'Congo (Democratic Republic of the)', 'Congo (Republic of the)', 'Costa Rica', \"Cote d'Ivoire\", 'Croatia', 'Cuba', 'Cyprus', 'Czech Republic', 'Denmark', 'Djibouti', 'Dominica', 'Dominican Republic', 'Ecuador', 'Egypt', 'El Salvador', 'Equatorial Guinea', 'Eritrea', 'Estonia', 'Ethiopia', 'Faroe Islands', 'Federated States of Micronesia', 'Fiji', 'Finland', 'France', 'Gabon', 'Gambia', 'Georgia', 'Germany', 'Ghana', 'Greece', 'Greenland', 'Grenada', 'Guatemala', 'Guinea', 'Guinea-Bissau', 'Guyana', 'Haiti', 'Honduras', 'Hungary', 'Iceland', 'India', 'Indonesia', 'Iran', 'Iraq', 'Ireland', 'Israel', 'Italy', 'Jamaica', 'Japan', 'Jordan', 'Kazakhstan', 'Kenya', 'Kiribati', 'Korea', 'Kuwait', 'Kyrgyzstan', 'Laos', 'Latvia', 'Lebanon', 'Lesotho', 'Liberia', 'Libya', 'Liechtenstein', 'Lithuania', 'Luxembourg', 'Macedonia', 'Madagascar', 'Malawi', 'Malaysia', 'Maldives', 'Mali', 'Malta', 'Marshall Islands', 'Mauritania', 'Mauritius', 'Mexico', 'Moldova', 'Monaco', 'Mongolia', 'Morocco', 'Mozambique', 'Myanmar (Burma)', 'Namibia', 'Nepal', 'Netherlands', 'New Caledonia', 'New Zealand', 'Nicaragua', 'Niger', 'Nigeria', 'Northern Mariana Islands', 'Norway', 'Oman', 'Pakistan', 'Palau', 'Panama', 'Papua New Guinea', 'Paraguay', 'Peru', 'Philippines', 'Poland', 'Portugal', 'Puerto Rico', 'Qatar', 'Republic of Montenegro', 'Republic of Serbia', 'Romania', 'Russia', 'Rwanda', 'Samoa', 'Sao Tome and Principe', 'Saudi Arabia', 'Senegal', 'Seychelles', 'Sierra Leone', 'Singapore', 'Slovakia', 'Slovenia', 'Solomon Islands', 'Somalia', 'South Africa', 'South Sudan', 'Spain', 'Sri Lanka', 'St. Kitts and Nevis', 'St. Lucia', 'St. Vincent and the Grenadines', 'Sudan', 'Suriname', 'Swaziland', 'Sweden', 'Switzerland', 'Syria', 'Tajikistan', 'Tanzania', 'Thailand', 'Timor Leste', 'Togo', 'Tonga', 'Trinidad and Tobago', 'Tunisia', 'Turkey', 'Turkmenistan', 'Tuvalu', 'Uganda', 'Ukraine', 'United Arab Emirates', 'United Kingdom', 'United States', 'Uruguay', 'Uzbekistan', 'Vanuatu', 'Venezuela', 'Vietnam', 'Yemen', 'Zambia', 'Zimbabwe']\n"
     ]
    }
   ],
   "source": [
    "# Get rid of blanks in strings in column 'Country'\n",
    "df['Country'] = df['Country'].str.strip()\n",
    "print(df['Country'].unique().tolist())"
   ]
  },
  {
   "cell_type": "code",
   "execution_count": 171,
   "metadata": {},
   "outputs": [
    {
     "data": {
      "text/plain": [
       "['Temperature(Celsius)', 'Year', 'Statistics', 'Country', ' ISO3', nan]"
      ]
     },
     "execution_count": 171,
     "metadata": {},
     "output_type": "execute_result"
    }
   ],
   "source": [
    "# Check columns\n",
    "df.columns.values.tolist()"
   ]
  },
  {
   "cell_type": "code",
   "execution_count": 172,
   "metadata": {},
   "outputs": [],
   "source": [
    "# Delete column ISO3, because we don't need it for further analysis\n",
    "df.drop([' ISO3'], axis=1, inplace=True)\n"
   ]
  },
  {
   "cell_type": "code",
   "execution_count": 173,
   "metadata": {},
   "outputs": [],
   "source": [
    "# Delete NaN, majority is Null values\n",
    "df.drop([np.nan], axis=1, inplace=True)"
   ]
  },
  {
   "cell_type": "code",
   "execution_count": 174,
   "metadata": {},
   "outputs": [
    {
     "data": {
      "text/html": [
       "<div>\n",
       "<style scoped>\n",
       "    .dataframe tbody tr th:only-of-type {\n",
       "        vertical-align: middle;\n",
       "    }\n",
       "\n",
       "    .dataframe tbody tr th {\n",
       "        vertical-align: top;\n",
       "    }\n",
       "\n",
       "    .dataframe thead th {\n",
       "        text-align: right;\n",
       "    }\n",
       "</style>\n",
       "<table border=\"1\" class=\"dataframe\">\n",
       "  <thead>\n",
       "    <tr style=\"text-align: right;\">\n",
       "      <th></th>\n",
       "      <th>Temperature(Celsius)</th>\n",
       "      <th>Year</th>\n",
       "      <th>Statistics</th>\n",
       "      <th>Country</th>\n",
       "    </tr>\n",
       "  </thead>\n",
       "  <tbody>\n",
       "    <tr>\n",
       "      <th>0</th>\n",
       "      <td>-0.0311</td>\n",
       "      <td>1991</td>\n",
       "      <td>Jan Average</td>\n",
       "      <td>Afghanistan</td>\n",
       "    </tr>\n",
       "    <tr>\n",
       "      <th>1</th>\n",
       "      <td>1.43654</td>\n",
       "      <td>1991</td>\n",
       "      <td>Feb Average</td>\n",
       "      <td>Afghanistan</td>\n",
       "    </tr>\n",
       "    <tr>\n",
       "      <th>2</th>\n",
       "      <td>6.88685</td>\n",
       "      <td>1991</td>\n",
       "      <td>Mar Average</td>\n",
       "      <td>Afghanistan</td>\n",
       "    </tr>\n",
       "    <tr>\n",
       "      <th>3</th>\n",
       "      <td>12.9397</td>\n",
       "      <td>1991</td>\n",
       "      <td>Apr Average</td>\n",
       "      <td>Afghanistan</td>\n",
       "    </tr>\n",
       "    <tr>\n",
       "      <th>4</th>\n",
       "      <td>17.0755</td>\n",
       "      <td>1991</td>\n",
       "      <td>May Average</td>\n",
       "      <td>Afghanistan</td>\n",
       "    </tr>\n",
       "  </tbody>\n",
       "</table>\n",
       "</div>"
      ],
      "text/plain": [
       "0 Temperature(Celsius)   Year    Statistics      Country\n",
       "0              -0.0311   1991   Jan Average  Afghanistan\n",
       "1              1.43654   1991   Feb Average  Afghanistan\n",
       "2              6.88685   1991   Mar Average  Afghanistan\n",
       "3              12.9397   1991   Apr Average  Afghanistan\n",
       "4              17.0755   1991   May Average  Afghanistan"
      ]
     },
     "execution_count": 174,
     "metadata": {},
     "output_type": "execute_result"
    }
   ],
   "source": [
    "# Check if it worked\n",
    "df.head()"
   ]
  },
  {
   "cell_type": "code",
   "execution_count": 175,
   "metadata": {},
   "outputs": [
    {
     "data": {
      "text/plain": [
       "0\n",
       "Temperature(Celsius)    0\n",
       "Year                    0\n",
       "Statistics              0\n",
       "Country                 0\n",
       "dtype: int64"
      ]
     },
     "execution_count": 175,
     "metadata": {},
     "output_type": "execute_result"
    }
   ],
   "source": [
    "# Count null values again\n",
    "df.isna().sum()"
   ]
  },
  {
   "cell_type": "code",
   "execution_count": 176,
   "metadata": {
    "scrolled": true
   },
   "outputs": [
    {
     "name": "stdout",
     "output_type": "stream",
     "text": [
      "Int64Index([  300,   301,   302,   303,   304,   305,   306,   307,   308,\n",
      "              309,\n",
      "            ...\n",
      "            61142, 61143, 61144, 61145, 61146, 61147, 61148, 61149, 61150,\n",
      "            61151],\n",
      "           dtype='int64', length=2352)\n"
     ]
    }
   ],
   "source": [
    "# Drop rows with entries for 2016 (we only observe a time frame 1961-2015)\n",
    "indexNames = df[ df['Year']==' 2016'].index\n",
    "df.drop(indexNames, inplace=True)\n",
    "print(indexNames)"
   ]
  },
  {
   "cell_type": "code",
   "execution_count": 177,
   "metadata": {},
   "outputs": [
    {
     "data": {
      "text/html": [
       "<div>\n",
       "<style scoped>\n",
       "    .dataframe tbody tr th:only-of-type {\n",
       "        vertical-align: middle;\n",
       "    }\n",
       "\n",
       "    .dataframe tbody tr th {\n",
       "        vertical-align: top;\n",
       "    }\n",
       "\n",
       "    .dataframe thead th {\n",
       "        text-align: right;\n",
       "    }\n",
       "</style>\n",
       "<table border=\"1\" class=\"dataframe\">\n",
       "  <thead>\n",
       "    <tr style=\"text-align: right;\">\n",
       "      <th></th>\n",
       "      <th>Temperature(Celsius)</th>\n",
       "      <th>Year</th>\n",
       "      <th>Statistics</th>\n",
       "      <th>Country</th>\n",
       "    </tr>\n",
       "  </thead>\n",
       "  <tbody>\n",
       "    <tr>\n",
       "      <th>61135</th>\n",
       "      <td>19.4544</td>\n",
       "      <td>2015</td>\n",
       "      <td>Aug Average</td>\n",
       "      <td>Zimbabwe</td>\n",
       "    </tr>\n",
       "    <tr>\n",
       "      <th>61136</th>\n",
       "      <td>22.0932</td>\n",
       "      <td>2015</td>\n",
       "      <td>Sep Average</td>\n",
       "      <td>Zimbabwe</td>\n",
       "    </tr>\n",
       "    <tr>\n",
       "      <th>61137</th>\n",
       "      <td>25.9479</td>\n",
       "      <td>2015</td>\n",
       "      <td>Oct Average</td>\n",
       "      <td>Zimbabwe</td>\n",
       "    </tr>\n",
       "    <tr>\n",
       "      <th>61138</th>\n",
       "      <td>25.8475</td>\n",
       "      <td>2015</td>\n",
       "      <td>Nov Average</td>\n",
       "      <td>Zimbabwe</td>\n",
       "    </tr>\n",
       "    <tr>\n",
       "      <th>61139</th>\n",
       "      <td>26.1233</td>\n",
       "      <td>2015</td>\n",
       "      <td>Dec Average</td>\n",
       "      <td>Zimbabwe</td>\n",
       "    </tr>\n",
       "  </tbody>\n",
       "</table>\n",
       "</div>"
      ],
      "text/plain": [
       "0     Temperature(Celsius)   Year    Statistics   Country\n",
       "61135              19.4544   2015   Aug Average  Zimbabwe\n",
       "61136              22.0932   2015   Sep Average  Zimbabwe\n",
       "61137              25.9479   2015   Oct Average  Zimbabwe\n",
       "61138              25.8475   2015   Nov Average  Zimbabwe\n",
       "61139              26.1233   2015   Dec Average  Zimbabwe"
      ]
     },
     "execution_count": 177,
     "metadata": {},
     "output_type": "execute_result"
    }
   ],
   "source": [
    "# Check if it worked\n",
    "df.tail()"
   ]
  },
  {
   "cell_type": "code",
   "execution_count": 178,
   "metadata": {},
   "outputs": [
    {
     "data": {
      "text/plain": [
       "0\n",
       "Temperature(Celsius)     float64\n",
       "Year                       int64\n",
       "Statistics                object\n",
       "Country                 category\n",
       "dtype: object"
      ]
     },
     "execution_count": 178,
     "metadata": {},
     "output_type": "execute_result"
    }
   ],
   "source": [
    "# Change datatypes\n",
    "df['Year'] = df['Year'].astype('int')\n",
    "df['Temperature(Celsius)'] = df['Temperature(Celsius)'].astype('float')\n",
    "df['Country'] = df['Country'].astype('category')\n",
    "\n",
    "# Show changes\n",
    "df.dtypes"
   ]
  },
  {
   "cell_type": "code",
   "execution_count": 179,
   "metadata": {},
   "outputs": [
    {
     "data": {
      "text/plain": [
       "<matplotlib.axes._subplots.AxesSubplot at 0x7f93946e42d0>"
      ]
     },
     "execution_count": 179,
     "metadata": {},
     "output_type": "execute_result"
    },
    {
     "data": {
      "image/png": "[encoded data removed]",
      "text/plain": [
       "<Figure size 432x288 with 1 Axes>"
      ]
     },
     "metadata": {
      "needs_background": "light"
     },
     "output_type": "display_data"
    }
   ],
   "source": [
    "# Visualization of the temperature development over the observed period (1990-2015)\n",
    "df_plot = df.groupby(['Year']).mean()\n",
    "df_plot.plot()"
   ]
  },
  {
   "cell_type": "markdown",
   "metadata": {},
   "source": [
    "## Get overview of the dataset and prepare it for merging: weather data 1961-1990"
   ]
  },
  {
   "cell_type": "code",
   "execution_count": 180,
   "metadata": {},
   "outputs": [
    {
     "name": "stdout",
     "output_type": "stream",
     "text": [
      "<class 'pandas.core.frame.DataFrame'>\n",
      "RangeIndex: 70561 entries, 0 to 70560\n",
      "Data columns (total 6 columns):\n",
      " #   Column  Non-Null Count  Dtype \n",
      "---  ------  --------------  ----- \n",
      " 0   0       70561 non-null  object\n",
      " 1   1       70561 non-null  object\n",
      " 2   2       70561 non-null  object\n",
      " 3   3       70561 non-null  object\n",
      " 4   4       70561 non-null  object\n",
      " 5   5       1800 non-null   object\n",
      "dtypes: object(6)\n",
      "memory usage: 3.2+ MB\n"
     ]
    }
   ],
   "source": [
    "df1.info()"
   ]
  },
  {
   "cell_type": "code",
   "execution_count": 181,
   "metadata": {},
   "outputs": [
    {
     "data": {
      "text/html": [
       "<div>\n",
       "<style scoped>\n",
       "    .dataframe tbody tr th:only-of-type {\n",
       "        vertical-align: middle;\n",
       "    }\n",
       "\n",
       "    .dataframe tbody tr th {\n",
       "        vertical-align: top;\n",
       "    }\n",
       "\n",
       "    .dataframe thead th {\n",
       "        text-align: right;\n",
       "    }\n",
       "</style>\n",
       "<table border=\"1\" class=\"dataframe\">\n",
       "  <thead>\n",
       "    <tr style=\"text-align: right;\">\n",
       "      <th></th>\n",
       "      <th>0</th>\n",
       "      <th>1</th>\n",
       "      <th>2</th>\n",
       "      <th>3</th>\n",
       "      <th>4</th>\n",
       "      <th>5</th>\n",
       "    </tr>\n",
       "  </thead>\n",
       "  <tbody>\n",
       "    <tr>\n",
       "      <th>0</th>\n",
       "      <td>Temperature - (Celsius)</td>\n",
       "      <td>Year</td>\n",
       "      <td>Statistics</td>\n",
       "      <td>Country</td>\n",
       "      <td>ISO3</td>\n",
       "      <td>NaN</td>\n",
       "    </tr>\n",
       "    <tr>\n",
       "      <th>1</th>\n",
       "      <td>1.39097</td>\n",
       "      <td>1961</td>\n",
       "      <td>Jan Average</td>\n",
       "      <td>Afghanistan</td>\n",
       "      <td>AFG</td>\n",
       "      <td>NaN</td>\n",
       "    </tr>\n",
       "    <tr>\n",
       "      <th>2</th>\n",
       "      <td>0.90369</td>\n",
       "      <td>1961</td>\n",
       "      <td>Feb Average</td>\n",
       "      <td>Afghanistan</td>\n",
       "      <td>AFG</td>\n",
       "      <td>NaN</td>\n",
       "    </tr>\n",
       "    <tr>\n",
       "      <th>3</th>\n",
       "      <td>8.00043</td>\n",
       "      <td>1961</td>\n",
       "      <td>Mar Average</td>\n",
       "      <td>Afghanistan</td>\n",
       "      <td>AFG</td>\n",
       "      <td>NaN</td>\n",
       "    </tr>\n",
       "    <tr>\n",
       "      <th>4</th>\n",
       "      <td>12.3588</td>\n",
       "      <td>1961</td>\n",
       "      <td>Apr Average</td>\n",
       "      <td>Afghanistan</td>\n",
       "      <td>AFG</td>\n",
       "      <td>NaN</td>\n",
       "    </tr>\n",
       "  </tbody>\n",
       "</table>\n",
       "</div>"
      ],
      "text/plain": [
       "                         0      1             2             3      4    5\n",
       "0  Temperature - (Celsius)   Year    Statistics       Country   ISO3  NaN\n",
       "1                  1.39097   1961   Jan Average   Afghanistan    AFG  NaN\n",
       "2                  0.90369   1961   Feb Average   Afghanistan    AFG  NaN\n",
       "3                  8.00043   1961   Mar Average   Afghanistan    AFG  NaN\n",
       "4                  12.3588   1961   Apr Average   Afghanistan    AFG  NaN"
      ]
     },
     "execution_count": 181,
     "metadata": {},
     "output_type": "execute_result"
    }
   ],
   "source": [
    "# Show first 5 rows of df\n",
    "df1.head()"
   ]
  },
  {
   "cell_type": "code",
   "execution_count": 182,
   "metadata": {},
   "outputs": [
    {
     "data": {
      "text/html": [
       "<div>\n",
       "<style scoped>\n",
       "    .dataframe tbody tr th:only-of-type {\n",
       "        vertical-align: middle;\n",
       "    }\n",
       "\n",
       "    .dataframe tbody tr th {\n",
       "        vertical-align: top;\n",
       "    }\n",
       "\n",
       "    .dataframe thead th {\n",
       "        text-align: right;\n",
       "    }\n",
       "</style>\n",
       "<table border=\"1\" class=\"dataframe\">\n",
       "  <thead>\n",
       "    <tr style=\"text-align: right;\">\n",
       "      <th></th>\n",
       "      <th>0</th>\n",
       "      <th>1</th>\n",
       "      <th>2</th>\n",
       "      <th>3</th>\n",
       "      <th>4</th>\n",
       "      <th>5</th>\n",
       "    </tr>\n",
       "  </thead>\n",
       "  <tbody>\n",
       "    <tr>\n",
       "      <th>70556</th>\n",
       "      <td>17.8869</td>\n",
       "      <td>1990</td>\n",
       "      <td>Aug Average</td>\n",
       "      <td>Zimbabwe</td>\n",
       "      <td>ZWE</td>\n",
       "      <td>NaN</td>\n",
       "    </tr>\n",
       "    <tr>\n",
       "      <th>70557</th>\n",
       "      <td>20.5122</td>\n",
       "      <td>1990</td>\n",
       "      <td>Sep Average</td>\n",
       "      <td>Zimbabwe</td>\n",
       "      <td>ZWE</td>\n",
       "      <td>NaN</td>\n",
       "    </tr>\n",
       "    <tr>\n",
       "      <th>70558</th>\n",
       "      <td>24.7041</td>\n",
       "      <td>1990</td>\n",
       "      <td>Oct Average</td>\n",
       "      <td>Zimbabwe</td>\n",
       "      <td>ZWE</td>\n",
       "      <td>NaN</td>\n",
       "    </tr>\n",
       "    <tr>\n",
       "      <th>70559</th>\n",
       "      <td>25.6733</td>\n",
       "      <td>1990</td>\n",
       "      <td>Nov Average</td>\n",
       "      <td>Zimbabwe</td>\n",
       "      <td>ZWE</td>\n",
       "      <td>NaN</td>\n",
       "    </tr>\n",
       "    <tr>\n",
       "      <th>70560</th>\n",
       "      <td>24.7548</td>\n",
       "      <td>1990</td>\n",
       "      <td>Dec Average</td>\n",
       "      <td>Zimbabwe</td>\n",
       "      <td>ZWE</td>\n",
       "      <td>NaN</td>\n",
       "    </tr>\n",
       "  </tbody>\n",
       "</table>\n",
       "</div>"
      ],
      "text/plain": [
       "             0      1             2          3     4    5\n",
       "70556  17.8869   1990   Aug Average   Zimbabwe   ZWE  NaN\n",
       "70557  20.5122   1990   Sep Average   Zimbabwe   ZWE  NaN\n",
       "70558  24.7041   1990   Oct Average   Zimbabwe   ZWE  NaN\n",
       "70559  25.6733   1990   Nov Average   Zimbabwe   ZWE  NaN\n",
       "70560  24.7548   1990   Dec Average   Zimbabwe   ZWE  NaN"
      ]
     },
     "execution_count": 182,
     "metadata": {},
     "output_type": "execute_result"
    }
   ],
   "source": [
    "# Show last 5 rows of df\n",
    "df1.tail()"
   ]
  },
  {
   "cell_type": "code",
   "execution_count": 183,
   "metadata": {},
   "outputs": [
    {
     "data": {
      "text/plain": [
       "0        0\n",
       "1        0\n",
       "2        0\n",
       "3        0\n",
       "4        0\n",
       "5    68761\n",
       "dtype: int64"
      ]
     },
     "execution_count": 183,
     "metadata": {},
     "output_type": "execute_result"
    }
   ],
   "source": [
    "# Count null values\n",
    "df1.isna().sum()"
   ]
  },
  {
   "cell_type": "code",
   "execution_count": 184,
   "metadata": {},
   "outputs": [
    {
     "data": {
      "text/html": [
       "<div>\n",
       "<style scoped>\n",
       "    .dataframe tbody tr th:only-of-type {\n",
       "        vertical-align: middle;\n",
       "    }\n",
       "\n",
       "    .dataframe tbody tr th {\n",
       "        vertical-align: top;\n",
       "    }\n",
       "\n",
       "    .dataframe thead th {\n",
       "        text-align: right;\n",
       "    }\n",
       "</style>\n",
       "<table border=\"1\" class=\"dataframe\">\n",
       "  <thead>\n",
       "    <tr style=\"text-align: right;\">\n",
       "      <th></th>\n",
       "      <th>Temperature - (Celsius)</th>\n",
       "      <th>Year</th>\n",
       "      <th>Statistics</th>\n",
       "      <th>Country</th>\n",
       "      <th>ISO3</th>\n",
       "      <th>NaN</th>\n",
       "    </tr>\n",
       "  </thead>\n",
       "  <tbody>\n",
       "    <tr>\n",
       "      <th>0</th>\n",
       "      <td>1.39097</td>\n",
       "      <td>1961</td>\n",
       "      <td>Jan Average</td>\n",
       "      <td>Afghanistan</td>\n",
       "      <td>AFG</td>\n",
       "      <td>NaN</td>\n",
       "    </tr>\n",
       "    <tr>\n",
       "      <th>1</th>\n",
       "      <td>0.90369</td>\n",
       "      <td>1961</td>\n",
       "      <td>Feb Average</td>\n",
       "      <td>Afghanistan</td>\n",
       "      <td>AFG</td>\n",
       "      <td>NaN</td>\n",
       "    </tr>\n",
       "    <tr>\n",
       "      <th>2</th>\n",
       "      <td>8.00043</td>\n",
       "      <td>1961</td>\n",
       "      <td>Mar Average</td>\n",
       "      <td>Afghanistan</td>\n",
       "      <td>AFG</td>\n",
       "      <td>NaN</td>\n",
       "    </tr>\n",
       "    <tr>\n",
       "      <th>3</th>\n",
       "      <td>12.3588</td>\n",
       "      <td>1961</td>\n",
       "      <td>Apr Average</td>\n",
       "      <td>Afghanistan</td>\n",
       "      <td>AFG</td>\n",
       "      <td>NaN</td>\n",
       "    </tr>\n",
       "    <tr>\n",
       "      <th>4</th>\n",
       "      <td>19.2618</td>\n",
       "      <td>1961</td>\n",
       "      <td>May Average</td>\n",
       "      <td>Afghanistan</td>\n",
       "      <td>AFG</td>\n",
       "      <td>NaN</td>\n",
       "    </tr>\n",
       "  </tbody>\n",
       "</table>\n",
       "</div>"
      ],
      "text/plain": [
       "0 Temperature - (Celsius)   Year    Statistics       Country  ISO3  NaN\n",
       "0                 1.39097   1961   Jan Average   Afghanistan   AFG  NaN\n",
       "1                 0.90369   1961   Feb Average   Afghanistan   AFG  NaN\n",
       "2                 8.00043   1961   Mar Average   Afghanistan   AFG  NaN\n",
       "3                 12.3588   1961   Apr Average   Afghanistan   AFG  NaN\n",
       "4                 19.2618   1961   May Average   Afghanistan   AFG  NaN"
      ]
     },
     "execution_count": 184,
     "metadata": {},
     "output_type": "execute_result"
    }
   ],
   "source": [
    "# Define header\n",
    "headers = df1.iloc[0]\n",
    "df1 = pd.DataFrame(df1.values[1:], columns=headers)\n",
    "df1.head()"
   ]
  },
  {
   "cell_type": "code",
   "execution_count": 185,
   "metadata": {},
   "outputs": [
    {
     "data": {
      "text/html": [
       "<div>\n",
       "<style scoped>\n",
       "    .dataframe tbody tr th:only-of-type {\n",
       "        vertical-align: middle;\n",
       "    }\n",
       "\n",
       "    .dataframe tbody tr th {\n",
       "        vertical-align: top;\n",
       "    }\n",
       "\n",
       "    .dataframe thead th {\n",
       "        text-align: right;\n",
       "    }\n",
       "</style>\n",
       "<table border=\"1\" class=\"dataframe\">\n",
       "  <thead>\n",
       "    <tr style=\"text-align: right;\">\n",
       "      <th></th>\n",
       "      <th>Temperature(Celsius)</th>\n",
       "      <th>Year</th>\n",
       "      <th>Statistics</th>\n",
       "      <th>Country</th>\n",
       "      <th>ISO3</th>\n",
       "      <th>NaN</th>\n",
       "    </tr>\n",
       "  </thead>\n",
       "  <tbody>\n",
       "    <tr>\n",
       "      <th>0</th>\n",
       "      <td>1.39097</td>\n",
       "      <td>1961</td>\n",
       "      <td>Jan Average</td>\n",
       "      <td>Afghanistan</td>\n",
       "      <td>AFG</td>\n",
       "      <td>NaN</td>\n",
       "    </tr>\n",
       "    <tr>\n",
       "      <th>1</th>\n",
       "      <td>0.90369</td>\n",
       "      <td>1961</td>\n",
       "      <td>Feb Average</td>\n",
       "      <td>Afghanistan</td>\n",
       "      <td>AFG</td>\n",
       "      <td>NaN</td>\n",
       "    </tr>\n",
       "    <tr>\n",
       "      <th>2</th>\n",
       "      <td>8.00043</td>\n",
       "      <td>1961</td>\n",
       "      <td>Mar Average</td>\n",
       "      <td>Afghanistan</td>\n",
       "      <td>AFG</td>\n",
       "      <td>NaN</td>\n",
       "    </tr>\n",
       "    <tr>\n",
       "      <th>3</th>\n",
       "      <td>12.3588</td>\n",
       "      <td>1961</td>\n",
       "      <td>Apr Average</td>\n",
       "      <td>Afghanistan</td>\n",
       "      <td>AFG</td>\n",
       "      <td>NaN</td>\n",
       "    </tr>\n",
       "    <tr>\n",
       "      <th>4</th>\n",
       "      <td>19.2618</td>\n",
       "      <td>1961</td>\n",
       "      <td>May Average</td>\n",
       "      <td>Afghanistan</td>\n",
       "      <td>AFG</td>\n",
       "      <td>NaN</td>\n",
       "    </tr>\n",
       "  </tbody>\n",
       "</table>\n",
       "</div>"
      ],
      "text/plain": [
       "0 Temperature(Celsius)   Year    Statistics       Country  ISO3  NaN\n",
       "0              1.39097   1961   Jan Average   Afghanistan   AFG  NaN\n",
       "1              0.90369   1961   Feb Average   Afghanistan   AFG  NaN\n",
       "2              8.00043   1961   Mar Average   Afghanistan   AFG  NaN\n",
       "3              12.3588   1961   Apr Average   Afghanistan   AFG  NaN\n",
       "4              19.2618   1961   May Average   Afghanistan   AFG  NaN"
      ]
     },
     "execution_count": 185,
     "metadata": {},
     "output_type": "execute_result"
    }
   ],
   "source": [
    "# Rename columns\n",
    "df1.rename(columns={\"Temperature - (Celsius)\": \"Temperature(Celsius)\", \" Country\" : \"Country\", \" Statistics\" : \"Statistics\", \" Year\" : \"Year\"}, inplace=True)\n",
    "df1.head()"
   ]
  },
  {
   "cell_type": "code",
   "execution_count": 186,
   "metadata": {},
   "outputs": [
    {
     "name": "stdout",
     "output_type": "stream",
     "text": [
      "['Afghanistan', 'Albania', 'Algeria', 'Andorra', 'Angola', 'Antigua and Barbuda', 'Argentina', 'Armenia', 'Australia', 'Austria', 'Azerbaijan', 'Bahamas', 'Bahrain', 'Bangladesh', 'Barbados', 'Belarus', 'Belgium', 'Belize', 'Benin', 'Bhutan', 'Bolivia', 'Bosnia and Herzegovina', 'Botswana', 'Brazil', 'Brunei', 'Bulgaria', 'Burkina Faso', 'Burundi', 'Cambodia', 'Cameroon', 'Canada', 'Cape Verde', 'Central African Republic', 'Chad', 'Chile', 'China', 'Colombia', 'Comoros', 'Congo (Democratic Republic of the)', 'Congo (Republic of the)', 'Costa Rica', \"Cote d'Ivoire\", 'Croatia', 'Cuba', 'Cyprus', 'Czech Republic', 'Denmark', 'Djibouti', 'Dominica', 'Dominican Republic', 'Ecuador', 'Egypt', 'El Salvador', 'Equatorial Guinea', 'Eritrea', 'Estonia', 'Ethiopia', 'Faroe Islands', 'Federated States of Micronesia', 'Fiji', 'Finland', 'France', 'Gabon', 'Gambia', 'Georgia', 'Germany', 'Ghana', 'Greece', 'Greenland', 'Grenada', 'Guatemala', 'Guinea', 'Guinea-Bissau', 'Guyana', 'Haiti', 'Honduras', 'Hungary', 'Iceland', 'India', 'Indonesia', 'Iran', 'Iraq', 'Ireland', 'Israel', 'Italy', 'Jamaica', 'Japan', 'Jordan', 'Kazakhstan', 'Kenya', 'Kiribati', 'Korea', 'Kuwait', 'Kyrgyzstan', 'Laos', 'Latvia', 'Lebanon', 'Lesotho', 'Liberia', 'Libya', 'Liechtenstein', 'Lithuania', 'Luxembourg', 'Macedonia', 'Madagascar', 'Malawi', 'Malaysia', 'Maldives', 'Mali', 'Malta', 'Marshall Islands', 'Mauritania', 'Mauritius', 'Mexico', 'Moldova', 'Monaco', 'Mongolia', 'Morocco', 'Mozambique', 'Myanmar (Burma)', 'Namibia', 'Nepal', 'Netherlands', 'New Caledonia', 'New Zealand', 'Nicaragua', 'Niger', 'Nigeria', 'Northern Mariana Islands', 'Norway', 'Oman', 'Pakistan', 'Palau', 'Panama', 'Papua New Guinea', 'Paraguay', 'Peru', 'Philippines', 'Poland', 'Portugal', 'Puerto Rico', 'Qatar', 'Republic of Montenegro', 'Republic of Serbia', 'Romania', 'Russia', 'Rwanda', 'Samoa', 'Sao Tome and Principe', 'Saudi Arabia', 'Senegal', 'Seychelles', 'Sierra Leone', 'Singapore', 'Slovakia', 'Slovenia', 'Solomon Islands', 'Somalia', 'South Africa', 'South Sudan', 'Spain', 'Sri Lanka', 'St. Kitts and Nevis', 'St. Lucia', 'St. Vincent and the Grenadines', 'Sudan', 'Suriname', 'Swaziland', 'Sweden', 'Switzerland', 'Syria', 'Tajikistan', 'Tanzania', 'Thailand', 'Timor Leste', 'Togo', 'Tonga', 'Trinidad and Tobago', 'Tunisia', 'Turkey', 'Turkmenistan', 'Tuvalu', 'Uganda', 'Ukraine', 'United Arab Emirates', 'United Kingdom', 'United States', 'Uruguay', 'Uzbekistan', 'Vanuatu', 'Venezuela', 'Vietnam', 'Yemen', 'Zambia', 'Zimbabwe']\n"
     ]
    }
   ],
   "source": [
    "# Get rid of blanks in strings in column 'Country'\n",
    "df1['Country'] = df1['Country'].str.strip()\n",
    "print(df1['Country'].unique().tolist())"
   ]
  },
  {
   "cell_type": "code",
   "execution_count": 187,
   "metadata": {},
   "outputs": [],
   "source": [
    "# Delete column ISO3, because we don't need it\n",
    "df1.drop([' ISO3'], axis=1, inplace=True)"
   ]
  },
  {
   "cell_type": "code",
   "execution_count": 188,
   "metadata": {},
   "outputs": [],
   "source": [
    "# Delete NaN, majority is Null values\n",
    "df1.drop([np.nan], axis=1, inplace=True)"
   ]
  },
  {
   "cell_type": "code",
   "execution_count": 189,
   "metadata": {},
   "outputs": [
    {
     "data": {
      "text/html": [
       "<div>\n",
       "<style scoped>\n",
       "    .dataframe tbody tr th:only-of-type {\n",
       "        vertical-align: middle;\n",
       "    }\n",
       "\n",
       "    .dataframe tbody tr th {\n",
       "        vertical-align: top;\n",
       "    }\n",
       "\n",
       "    .dataframe thead th {\n",
       "        text-align: right;\n",
       "    }\n",
       "</style>\n",
       "<table border=\"1\" class=\"dataframe\">\n",
       "  <thead>\n",
       "    <tr style=\"text-align: right;\">\n",
       "      <th></th>\n",
       "      <th>Temperature(Celsius)</th>\n",
       "      <th>Year</th>\n",
       "      <th>Statistics</th>\n",
       "      <th>Country</th>\n",
       "    </tr>\n",
       "  </thead>\n",
       "  <tbody>\n",
       "    <tr>\n",
       "      <th>0</th>\n",
       "      <td>1.39097</td>\n",
       "      <td>1961</td>\n",
       "      <td>Jan Average</td>\n",
       "      <td>Afghanistan</td>\n",
       "    </tr>\n",
       "    <tr>\n",
       "      <th>1</th>\n",
       "      <td>0.90369</td>\n",
       "      <td>1961</td>\n",
       "      <td>Feb Average</td>\n",
       "      <td>Afghanistan</td>\n",
       "    </tr>\n",
       "    <tr>\n",
       "      <th>2</th>\n",
       "      <td>8.00043</td>\n",
       "      <td>1961</td>\n",
       "      <td>Mar Average</td>\n",
       "      <td>Afghanistan</td>\n",
       "    </tr>\n",
       "    <tr>\n",
       "      <th>3</th>\n",
       "      <td>12.3588</td>\n",
       "      <td>1961</td>\n",
       "      <td>Apr Average</td>\n",
       "      <td>Afghanistan</td>\n",
       "    </tr>\n",
       "    <tr>\n",
       "      <th>4</th>\n",
       "      <td>19.2618</td>\n",
       "      <td>1961</td>\n",
       "      <td>May Average</td>\n",
       "      <td>Afghanistan</td>\n",
       "    </tr>\n",
       "  </tbody>\n",
       "</table>\n",
       "</div>"
      ],
      "text/plain": [
       "0 Temperature(Celsius)   Year    Statistics      Country\n",
       "0              1.39097   1961   Jan Average  Afghanistan\n",
       "1              0.90369   1961   Feb Average  Afghanistan\n",
       "2              8.00043   1961   Mar Average  Afghanistan\n",
       "3              12.3588   1961   Apr Average  Afghanistan\n",
       "4              19.2618   1961   May Average  Afghanistan"
      ]
     },
     "execution_count": 189,
     "metadata": {},
     "output_type": "execute_result"
    }
   ],
   "source": [
    "# Check if it worked\n",
    "df1.head()"
   ]
  },
  {
   "cell_type": "code",
   "execution_count": 190,
   "metadata": {},
   "outputs": [
    {
     "data": {
      "text/plain": [
       "0\n",
       "Temperature(Celsius)     float64\n",
       "Year                       int64\n",
       "Statistics                object\n",
       "Country                 category\n",
       "dtype: object"
      ]
     },
     "execution_count": 190,
     "metadata": {},
     "output_type": "execute_result"
    }
   ],
   "source": [
    "# Change datatypes\n",
    "df1['Year'] = df1['Year'].astype('int')\n",
    "df1['Temperature(Celsius)'] = df1['Temperature(Celsius)'].astype('float')\n",
    "df1['Country'] = df1['Country'].astype('category')\n",
    "\n",
    "# Show changes\n",
    "df1.dtypes"
   ]
  },
  {
   "cell_type": "code",
   "execution_count": 191,
   "metadata": {},
   "outputs": [
    {
     "data": {
      "text/plain": [
       "<matplotlib.axes._subplots.AxesSubplot at 0x7f9399643e90>"
      ]
     },
     "execution_count": 191,
     "metadata": {},
     "output_type": "execute_result"
    },
    {
     "data": {
      "image/png": "[encoded data removed]",
      "text/plain": [
       "<Figure size 432x288 with 1 Axes>"
      ]
     },
     "metadata": {
      "needs_background": "light"
     },
     "output_type": "display_data"
    }
   ],
   "source": [
    "# Visualization of the temperature development over the observed period (1961-1990)\n",
    "df1_plot = df1.groupby(['Year']).mean()\n",
    "df1_plot.plot()"
   ]
  },
  {
   "cell_type": "markdown",
   "metadata": {},
   "source": [
    "## Merge the weather datasets by country"
   ]
  },
  {
   "cell_type": "code",
   "execution_count": 192,
   "metadata": {
    "scrolled": true
   },
   "outputs": [
    {
     "name": "stdout",
     "output_type": "stream",
     "text": [
      "0      Temperature(Celsius)  Year    Statistics      Country\n",
      "0                   1.39097  1961   Jan Average  Afghanistan\n",
      "1                   0.90369  1961   Feb Average  Afghanistan\n",
      "2                   8.00043  1961   Mar Average  Afghanistan\n",
      "3                  12.35880  1961   Apr Average  Afghanistan\n",
      "4                  19.26180  1961   May Average  Afghanistan\n",
      "...                     ...   ...           ...          ...\n",
      "61135              19.45440  2015   Aug Average     Zimbabwe\n",
      "61136              22.09320  2015   Sep Average     Zimbabwe\n",
      "61137              25.94790  2015   Oct Average     Zimbabwe\n",
      "61138              25.84750  2015   Nov Average     Zimbabwe\n",
      "61139              26.12330  2015   Dec Average     Zimbabwe\n",
      "\n",
      "[129360 rows x 4 columns]\n"
     ]
    }
   ],
   "source": [
    "# Connect the weather datasets by country\n",
    "df_complete = pd.concat([df1,df])\n",
    "print(df_complete)"
   ]
  },
  {
   "cell_type": "code",
   "execution_count": 193,
   "metadata": {
    "scrolled": true
   },
   "outputs": [
    {
     "data": {
      "text/html": [
       "<div>\n",
       "<style scoped>\n",
       "    .dataframe tbody tr th:only-of-type {\n",
       "        vertical-align: middle;\n",
       "    }\n",
       "\n",
       "    .dataframe tbody tr th {\n",
       "        vertical-align: top;\n",
       "    }\n",
       "\n",
       "    .dataframe thead th {\n",
       "        text-align: right;\n",
       "    }\n",
       "</style>\n",
       "<table border=\"1\" class=\"dataframe\">\n",
       "  <thead>\n",
       "    <tr style=\"text-align: right;\">\n",
       "      <th></th>\n",
       "      <th>Temperature(Celsius)</th>\n",
       "      <th>Year</th>\n",
       "      <th>Statistics</th>\n",
       "      <th>Country</th>\n",
       "    </tr>\n",
       "  </thead>\n",
       "  <tbody>\n",
       "    <tr>\n",
       "      <th>0</th>\n",
       "      <td>1.39097</td>\n",
       "      <td>1961</td>\n",
       "      <td>Jan Average</td>\n",
       "      <td>Afghanistan</td>\n",
       "    </tr>\n",
       "    <tr>\n",
       "      <th>1</th>\n",
       "      <td>0.90369</td>\n",
       "      <td>1961</td>\n",
       "      <td>Feb Average</td>\n",
       "      <td>Afghanistan</td>\n",
       "    </tr>\n",
       "    <tr>\n",
       "      <th>2</th>\n",
       "      <td>8.00043</td>\n",
       "      <td>1961</td>\n",
       "      <td>Mar Average</td>\n",
       "      <td>Afghanistan</td>\n",
       "    </tr>\n",
       "    <tr>\n",
       "      <th>3</th>\n",
       "      <td>12.35880</td>\n",
       "      <td>1961</td>\n",
       "      <td>Apr Average</td>\n",
       "      <td>Afghanistan</td>\n",
       "    </tr>\n",
       "    <tr>\n",
       "      <th>4</th>\n",
       "      <td>19.26180</td>\n",
       "      <td>1961</td>\n",
       "      <td>May Average</td>\n",
       "      <td>Afghanistan</td>\n",
       "    </tr>\n",
       "    <tr>\n",
       "      <th>...</th>\n",
       "      <td>...</td>\n",
       "      <td>...</td>\n",
       "      <td>...</td>\n",
       "      <td>...</td>\n",
       "    </tr>\n",
       "    <tr>\n",
       "      <th>129355</th>\n",
       "      <td>19.45440</td>\n",
       "      <td>2015</td>\n",
       "      <td>Aug Average</td>\n",
       "      <td>Zimbabwe</td>\n",
       "    </tr>\n",
       "    <tr>\n",
       "      <th>129356</th>\n",
       "      <td>22.09320</td>\n",
       "      <td>2015</td>\n",
       "      <td>Sep Average</td>\n",
       "      <td>Zimbabwe</td>\n",
       "    </tr>\n",
       "    <tr>\n",
       "      <th>129357</th>\n",
       "      <td>25.94790</td>\n",
       "      <td>2015</td>\n",
       "      <td>Oct Average</td>\n",
       "      <td>Zimbabwe</td>\n",
       "    </tr>\n",
       "    <tr>\n",
       "      <th>129358</th>\n",
       "      <td>25.84750</td>\n",
       "      <td>2015</td>\n",
       "      <td>Nov Average</td>\n",
       "      <td>Zimbabwe</td>\n",
       "    </tr>\n",
       "    <tr>\n",
       "      <th>129359</th>\n",
       "      <td>26.12330</td>\n",
       "      <td>2015</td>\n",
       "      <td>Dec Average</td>\n",
       "      <td>Zimbabwe</td>\n",
       "    </tr>\n",
       "  </tbody>\n",
       "</table>\n",
       "<p>129360 rows × 4 columns</p>\n",
       "</div>"
      ],
      "text/plain": [
       "0       Temperature(Celsius)  Year    Statistics      Country\n",
       "0                    1.39097  1961   Jan Average  Afghanistan\n",
       "1                    0.90369  1961   Feb Average  Afghanistan\n",
       "2                    8.00043  1961   Mar Average  Afghanistan\n",
       "3                   12.35880  1961   Apr Average  Afghanistan\n",
       "4                   19.26180  1961   May Average  Afghanistan\n",
       "...                      ...   ...           ...          ...\n",
       "129355              19.45440  2015   Aug Average     Zimbabwe\n",
       "129356              22.09320  2015   Sep Average     Zimbabwe\n",
       "129357              25.94790  2015   Oct Average     Zimbabwe\n",
       "129358              25.84750  2015   Nov Average     Zimbabwe\n",
       "129359              26.12330  2015   Dec Average     Zimbabwe\n",
       "\n",
       "[129360 rows x 4 columns]"
      ]
     },
     "execution_count": 193,
     "metadata": {},
     "output_type": "execute_result"
    }
   ],
   "source": [
    "# Reset index\n",
    "df_complete.reset_index(drop=True)"
   ]
  },
  {
   "cell_type": "code",
   "execution_count": 194,
   "metadata": {},
   "outputs": [
    {
     "data": {
      "text/html": [
       "<div>\n",
       "<style scoped>\n",
       "    .dataframe tbody tr th:only-of-type {\n",
       "        vertical-align: middle;\n",
       "    }\n",
       "\n",
       "    .dataframe tbody tr th {\n",
       "        vertical-align: top;\n",
       "    }\n",
       "\n",
       "    .dataframe thead th {\n",
       "        text-align: right;\n",
       "    }\n",
       "</style>\n",
       "<table border=\"1\" class=\"dataframe\">\n",
       "  <thead>\n",
       "    <tr style=\"text-align: right;\">\n",
       "      <th></th>\n",
       "      <th>Temperature(Celsius)</th>\n",
       "      <th>Year</th>\n",
       "      <th>Statistics</th>\n",
       "      <th>Country</th>\n",
       "    </tr>\n",
       "  </thead>\n",
       "  <tbody>\n",
       "    <tr>\n",
       "      <th>61040</th>\n",
       "      <td>23.2777</td>\n",
       "      <td>2007</td>\n",
       "      <td>Sep Average</td>\n",
       "      <td>Zimbabwe</td>\n",
       "    </tr>\n",
       "    <tr>\n",
       "      <th>61041</th>\n",
       "      <td>24.4320</td>\n",
       "      <td>2007</td>\n",
       "      <td>Oct Average</td>\n",
       "      <td>Zimbabwe</td>\n",
       "    </tr>\n",
       "    <tr>\n",
       "      <th>61042</th>\n",
       "      <td>25.6187</td>\n",
       "      <td>2007</td>\n",
       "      <td>Nov Average</td>\n",
       "      <td>Zimbabwe</td>\n",
       "    </tr>\n",
       "    <tr>\n",
       "      <th>61043</th>\n",
       "      <td>24.0639</td>\n",
       "      <td>2007</td>\n",
       "      <td>Dec Average</td>\n",
       "      <td>Zimbabwe</td>\n",
       "    </tr>\n",
       "    <tr>\n",
       "      <th>61044</th>\n",
       "      <td>24.3343</td>\n",
       "      <td>2008</td>\n",
       "      <td>Jan Average</td>\n",
       "      <td>Zimbabwe</td>\n",
       "    </tr>\n",
       "    <tr>\n",
       "      <th>...</th>\n",
       "      <td>...</td>\n",
       "      <td>...</td>\n",
       "      <td>...</td>\n",
       "      <td>...</td>\n",
       "    </tr>\n",
       "    <tr>\n",
       "      <th>61135</th>\n",
       "      <td>19.4544</td>\n",
       "      <td>2015</td>\n",
       "      <td>Aug Average</td>\n",
       "      <td>Zimbabwe</td>\n",
       "    </tr>\n",
       "    <tr>\n",
       "      <th>61136</th>\n",
       "      <td>22.0932</td>\n",
       "      <td>2015</td>\n",
       "      <td>Sep Average</td>\n",
       "      <td>Zimbabwe</td>\n",
       "    </tr>\n",
       "    <tr>\n",
       "      <th>61137</th>\n",
       "      <td>25.9479</td>\n",
       "      <td>2015</td>\n",
       "      <td>Oct Average</td>\n",
       "      <td>Zimbabwe</td>\n",
       "    </tr>\n",
       "    <tr>\n",
       "      <th>61138</th>\n",
       "      <td>25.8475</td>\n",
       "      <td>2015</td>\n",
       "      <td>Nov Average</td>\n",
       "      <td>Zimbabwe</td>\n",
       "    </tr>\n",
       "    <tr>\n",
       "      <th>61139</th>\n",
       "      <td>26.1233</td>\n",
       "      <td>2015</td>\n",
       "      <td>Dec Average</td>\n",
       "      <td>Zimbabwe</td>\n",
       "    </tr>\n",
       "  </tbody>\n",
       "</table>\n",
       "<p>100 rows × 4 columns</p>\n",
       "</div>"
      ],
      "text/plain": [
       "0      Temperature(Celsius)  Year    Statistics   Country\n",
       "61040               23.2777  2007   Sep Average  Zimbabwe\n",
       "61041               24.4320  2007   Oct Average  Zimbabwe\n",
       "61042               25.6187  2007   Nov Average  Zimbabwe\n",
       "61043               24.0639  2007   Dec Average  Zimbabwe\n",
       "61044               24.3343  2008   Jan Average  Zimbabwe\n",
       "...                     ...   ...           ...       ...\n",
       "61135               19.4544  2015   Aug Average  Zimbabwe\n",
       "61136               22.0932  2015   Sep Average  Zimbabwe\n",
       "61137               25.9479  2015   Oct Average  Zimbabwe\n",
       "61138               25.8475  2015   Nov Average  Zimbabwe\n",
       "61139               26.1233  2015   Dec Average  Zimbabwe\n",
       "\n",
       "[100 rows x 4 columns]"
      ]
     },
     "execution_count": 194,
     "metadata": {},
     "output_type": "execute_result"
    }
   ],
   "source": [
    "# Check if it worked\n",
    "df_complete.tail(100)"
   ]
  },
  {
   "cell_type": "code",
   "execution_count": 195,
   "metadata": {},
   "outputs": [
    {
     "data": {
      "text/plain": [
       "<matplotlib.axes._subplots.AxesSubplot at 0x7f9399f1e790>"
      ]
     },
     "execution_count": 195,
     "metadata": {},
     "output_type": "execute_result"
    },
    {
     "data": {
      "image/png": "[encoded data removed]",
      "text/plain": [
       "<Figure size 432x288 with 1 Axes>"
      ]
     },
     "metadata": {
      "needs_background": "light"
     },
     "output_type": "display_data"
    }
   ],
   "source": [
    "# Check temperature development over the entire observed period (1961-2015)\n",
    "df_plot = df_complete.groupby(['Year']).mean()\n",
    "df_plot.plot()"
   ]
  },
  {
   "cell_type": "code",
   "execution_count": 196,
   "metadata": {},
   "outputs": [
    {
     "data": {
      "text/plain": [
       "Text(0, 0.5, 'Frequency')"
      ]
     },
     "execution_count": 196,
     "metadata": {},
     "output_type": "execute_result"
    },
    {
     "data": {
      "image/png": "[encoded data removed]",
      "text/plain": [
       "<Figure size 504x432 with 1 Axes>"
      ]
     },
     "metadata": {
      "needs_background": "light"
     },
     "output_type": "display_data"
    }
   ],
   "source": [
    "# Check frequency of the temperature values\n",
    "hist_plot = df_complete['Temperature(Celsius)'].hist(figsize=(7, 6))\n",
    "hist_plot.set_xlabel('Temperature')\n",
    "hist_plot.set_ylabel('Frequency')"
   ]
  },
  {
   "cell_type": "code",
   "execution_count": 197,
   "metadata": {},
   "outputs": [
    {
     "data": {
      "text/html": [
       "<div>\n",
       "<style scoped>\n",
       "    .dataframe tbody tr th:only-of-type {\n",
       "        vertical-align: middle;\n",
       "    }\n",
       "\n",
       "    .dataframe tbody tr th {\n",
       "        vertical-align: top;\n",
       "    }\n",
       "\n",
       "    .dataframe thead th {\n",
       "        text-align: right;\n",
       "    }\n",
       "</style>\n",
       "<table border=\"1\" class=\"dataframe\">\n",
       "  <thead>\n",
       "    <tr style=\"text-align: right;\">\n",
       "      <th></th>\n",
       "      <th>Temperature(Celsius)</th>\n",
       "      <th>Year</th>\n",
       "      <th>Statistics</th>\n",
       "      <th>Country</th>\n",
       "    </tr>\n",
       "  </thead>\n",
       "  <tbody>\n",
       "    <tr>\n",
       "      <th>0</th>\n",
       "      <td>1.39097</td>\n",
       "      <td>1961</td>\n",
       "      <td>Jan Average</td>\n",
       "      <td>Afghanistan</td>\n",
       "    </tr>\n",
       "    <tr>\n",
       "      <th>1</th>\n",
       "      <td>0.90369</td>\n",
       "      <td>1961</td>\n",
       "      <td>Feb Average</td>\n",
       "      <td>Afghanistan</td>\n",
       "    </tr>\n",
       "    <tr>\n",
       "      <th>2</th>\n",
       "      <td>8.00043</td>\n",
       "      <td>1961</td>\n",
       "      <td>Mar Average</td>\n",
       "      <td>Afghanistan</td>\n",
       "    </tr>\n",
       "    <tr>\n",
       "      <th>3</th>\n",
       "      <td>12.35880</td>\n",
       "      <td>1961</td>\n",
       "      <td>Apr Average</td>\n",
       "      <td>Afghanistan</td>\n",
       "    </tr>\n",
       "    <tr>\n",
       "      <th>4</th>\n",
       "      <td>19.26180</td>\n",
       "      <td>1961</td>\n",
       "      <td>May Average</td>\n",
       "      <td>Afghanistan</td>\n",
       "    </tr>\n",
       "  </tbody>\n",
       "</table>\n",
       "</div>"
      ],
      "text/plain": [
       "0  Temperature(Celsius)  Year    Statistics      Country\n",
       "0               1.39097  1961   Jan Average  Afghanistan\n",
       "1               0.90369  1961   Feb Average  Afghanistan\n",
       "2               8.00043  1961   Mar Average  Afghanistan\n",
       "3              12.35880  1961   Apr Average  Afghanistan\n",
       "4              19.26180  1961   May Average  Afghanistan"
      ]
     },
     "execution_count": 197,
     "metadata": {},
     "output_type": "execute_result"
    }
   ],
   "source": [
    "# Rename columns for convenience and easier merge\n",
    "df_complete.rename(columns={\"Temperature - (Celsius)\": \"Temperature(Celsius)\", \" Country\" : \"Country\", \" Statistics\" : \"Statistics\", \" Year\" : \"Year\"}, inplace=True)\n",
    "df_complete.head()"
   ]
  },
  {
   "cell_type": "markdown",
   "metadata": {},
   "source": [
    "# Agricultural land data"
   ]
  },
  {
   "cell_type": "markdown",
   "metadata": {},
   "source": [
    "## Get overview of dataset and prepare it for merging: agricultural land by country 1961-2015\n",
    "- Definition of agricultural land in this dataset:\n",
    "    - Percentage of total land that is arable, used for permanent crops, and used for permanent pastures\n",
    "    - Arable land includes all land used for temporary crops, temporary meadows for mowing or for pasture, land used for market or kitchen gardens, and land that is temporarily fallow \n",
    "    - Areas that are cropped multiple times are only counted once"
   ]
  },
  {
   "cell_type": "code",
   "execution_count": 198,
   "metadata": {},
   "outputs": [
    {
     "data": {
      "text/html": [
       "<div>\n",
       "<style scoped>\n",
       "    .dataframe tbody tr th:only-of-type {\n",
       "        vertical-align: middle;\n",
       "    }\n",
       "\n",
       "    .dataframe tbody tr th {\n",
       "        vertical-align: top;\n",
       "    }\n",
       "\n",
       "    .dataframe thead th {\n",
       "        text-align: right;\n",
       "    }\n",
       "</style>\n",
       "<table border=\"1\" class=\"dataframe\">\n",
       "  <thead>\n",
       "    <tr style=\"text-align: right;\">\n",
       "      <th></th>\n",
       "      <th>Country</th>\n",
       "      <th>1961</th>\n",
       "      <th>1962</th>\n",
       "      <th>1963</th>\n",
       "      <th>1964</th>\n",
       "      <th>1965</th>\n",
       "      <th>1966</th>\n",
       "      <th>1967</th>\n",
       "      <th>1968</th>\n",
       "      <th>1969</th>\n",
       "      <th>...</th>\n",
       "      <th>2006</th>\n",
       "      <th>2007</th>\n",
       "      <th>2008</th>\n",
       "      <th>2009</th>\n",
       "      <th>2010</th>\n",
       "      <th>2011</th>\n",
       "      <th>2012</th>\n",
       "      <th>2013</th>\n",
       "      <th>2014</th>\n",
       "      <th>2015</th>\n",
       "    </tr>\n",
       "  </thead>\n",
       "  <tbody>\n",
       "    <tr>\n",
       "      <th>0</th>\n",
       "      <td>Afghanistan</td>\n",
       "      <td>57.745918</td>\n",
       "      <td>57.837821</td>\n",
       "      <td>57.914407</td>\n",
       "      <td>58.010906</td>\n",
       "      <td>58.013969</td>\n",
       "      <td>58.072175</td>\n",
       "      <td>58.173268</td>\n",
       "      <td>58.174800</td>\n",
       "      <td>58.199308</td>\n",
       "      <td>...</td>\n",
       "      <td>58.067580</td>\n",
       "      <td>58.067580</td>\n",
       "      <td>58.067580</td>\n",
       "      <td>58.067580</td>\n",
       "      <td>58.069111</td>\n",
       "      <td>58.067580</td>\n",
       "      <td>58.067580</td>\n",
       "      <td>58.067580</td>\n",
       "      <td>58.067580</td>\n",
       "      <td>58.067580</td>\n",
       "    </tr>\n",
       "    <tr>\n",
       "      <th>1</th>\n",
       "      <td>Albania</td>\n",
       "      <td>44.963504</td>\n",
       "      <td>44.963504</td>\n",
       "      <td>45.000000</td>\n",
       "      <td>44.890511</td>\n",
       "      <td>45.145985</td>\n",
       "      <td>45.255474</td>\n",
       "      <td>45.401460</td>\n",
       "      <td>45.255474</td>\n",
       "      <td>45.072993</td>\n",
       "      <td>...</td>\n",
       "      <td>40.875912</td>\n",
       "      <td>40.839416</td>\n",
       "      <td>43.102190</td>\n",
       "      <td>43.843066</td>\n",
       "      <td>43.843066</td>\n",
       "      <td>43.832117</td>\n",
       "      <td>43.843066</td>\n",
       "      <td>43.332117</td>\n",
       "      <td>42.857299</td>\n",
       "      <td>42.857664</td>\n",
       "    </tr>\n",
       "    <tr>\n",
       "      <th>2</th>\n",
       "      <td>Algeria</td>\n",
       "      <td>19.091505</td>\n",
       "      <td>18.851764</td>\n",
       "      <td>18.688018</td>\n",
       "      <td>18.542746</td>\n",
       "      <td>18.544006</td>\n",
       "      <td>18.544006</td>\n",
       "      <td>18.579274</td>\n",
       "      <td>18.559121</td>\n",
       "      <td>18.559121</td>\n",
       "      <td>...</td>\n",
       "      <td>17.290300</td>\n",
       "      <td>17.320111</td>\n",
       "      <td>17.344043</td>\n",
       "      <td>17.373853</td>\n",
       "      <td>17.371334</td>\n",
       "      <td>17.377212</td>\n",
       "      <td>17.381490</td>\n",
       "      <td>17.395534</td>\n",
       "      <td>17.395266</td>\n",
       "      <td>17.405930</td>\n",
       "    </tr>\n",
       "    <tr>\n",
       "      <th>3</th>\n",
       "      <td>American Samoa</td>\n",
       "      <td>15.000000</td>\n",
       "      <td>15.000000</td>\n",
       "      <td>15.000000</td>\n",
       "      <td>15.000000</td>\n",
       "      <td>15.000000</td>\n",
       "      <td>15.000000</td>\n",
       "      <td>15.000000</td>\n",
       "      <td>15.000000</td>\n",
       "      <td>15.000000</td>\n",
       "      <td>...</td>\n",
       "      <td>25.000000</td>\n",
       "      <td>24.000000</td>\n",
       "      <td>24.000000</td>\n",
       "      <td>24.500000</td>\n",
       "      <td>24.500000</td>\n",
       "      <td>24.500000</td>\n",
       "      <td>24.500000</td>\n",
       "      <td>24.500000</td>\n",
       "      <td>24.500000</td>\n",
       "      <td>24.500000</td>\n",
       "    </tr>\n",
       "    <tr>\n",
       "      <th>4</th>\n",
       "      <td>Andorra</td>\n",
       "      <td>55.319149</td>\n",
       "      <td>55.319149</td>\n",
       "      <td>55.319149</td>\n",
       "      <td>55.319149</td>\n",
       "      <td>55.319149</td>\n",
       "      <td>55.319149</td>\n",
       "      <td>55.319149</td>\n",
       "      <td>55.319149</td>\n",
       "      <td>55.319149</td>\n",
       "      <td>...</td>\n",
       "      <td>46.340426</td>\n",
       "      <td>44.191489</td>\n",
       "      <td>44.170213</td>\n",
       "      <td>44.191489</td>\n",
       "      <td>42.063830</td>\n",
       "      <td>42.063830</td>\n",
       "      <td>39.914894</td>\n",
       "      <td>40.021277</td>\n",
       "      <td>40.021277</td>\n",
       "      <td>40.021277</td>\n",
       "    </tr>\n",
       "  </tbody>\n",
       "</table>\n",
       "<p>5 rows × 56 columns</p>\n",
       "</div>"
      ],
      "text/plain": [
       "          Country       1961       1962       1963       1964       1965  \\\n",
       "0     Afghanistan  57.745918  57.837821  57.914407  58.010906  58.013969   \n",
       "1         Albania  44.963504  44.963504  45.000000  44.890511  45.145985   \n",
       "2         Algeria  19.091505  18.851764  18.688018  18.542746  18.544006   \n",
       "3  American Samoa  15.000000  15.000000  15.000000  15.000000  15.000000   \n",
       "4         Andorra  55.319149  55.319149  55.319149  55.319149  55.319149   \n",
       "\n",
       "        1966       1967       1968       1969  ...       2006       2007  \\\n",
       "0  58.072175  58.173268  58.174800  58.199308  ...  58.067580  58.067580   \n",
       "1  45.255474  45.401460  45.255474  45.072993  ...  40.875912  40.839416   \n",
       "2  18.544006  18.579274  18.559121  18.559121  ...  17.290300  17.320111   \n",
       "3  15.000000  15.000000  15.000000  15.000000  ...  25.000000  24.000000   \n",
       "4  55.319149  55.319149  55.319149  55.319149  ...  46.340426  44.191489   \n",
       "\n",
       "        2008       2009       2010       2011       2012       2013  \\\n",
       "0  58.067580  58.067580  58.069111  58.067580  58.067580  58.067580   \n",
       "1  43.102190  43.843066  43.843066  43.832117  43.843066  43.332117   \n",
       "2  17.344043  17.373853  17.371334  17.377212  17.381490  17.395534   \n",
       "3  24.000000  24.500000  24.500000  24.500000  24.500000  24.500000   \n",
       "4  44.170213  44.191489  42.063830  42.063830  39.914894  40.021277   \n",
       "\n",
       "        2014       2015  \n",
       "0  58.067580  58.067580  \n",
       "1  42.857299  42.857664  \n",
       "2  17.395266  17.405930  \n",
       "3  24.500000  24.500000  \n",
       "4  40.021277  40.021277  \n",
       "\n",
       "[5 rows x 56 columns]"
      ]
     },
     "execution_count": 198,
     "metadata": {},
     "output_type": "execute_result"
    }
   ],
   "source": [
    "# Show first 5 rows of df2\n",
    "df2.head()"
   ]
  },
  {
   "cell_type": "code",
   "execution_count": 199,
   "metadata": {},
   "outputs": [
    {
     "data": {
      "text/html": [
       "<div>\n",
       "<style scoped>\n",
       "    .dataframe tbody tr th:only-of-type {\n",
       "        vertical-align: middle;\n",
       "    }\n",
       "\n",
       "    .dataframe tbody tr th {\n",
       "        vertical-align: top;\n",
       "    }\n",
       "\n",
       "    .dataframe thead th {\n",
       "        text-align: right;\n",
       "    }\n",
       "</style>\n",
       "<table border=\"1\" class=\"dataframe\">\n",
       "  <thead>\n",
       "    <tr style=\"text-align: right;\">\n",
       "      <th></th>\n",
       "      <th>Country</th>\n",
       "      <th>1961</th>\n",
       "      <th>1962</th>\n",
       "      <th>1963</th>\n",
       "      <th>1964</th>\n",
       "      <th>1965</th>\n",
       "      <th>1966</th>\n",
       "      <th>1967</th>\n",
       "      <th>1968</th>\n",
       "      <th>1969</th>\n",
       "      <th>...</th>\n",
       "      <th>2006</th>\n",
       "      <th>2007</th>\n",
       "      <th>2008</th>\n",
       "      <th>2009</th>\n",
       "      <th>2010</th>\n",
       "      <th>2011</th>\n",
       "      <th>2012</th>\n",
       "      <th>2013</th>\n",
       "      <th>2014</th>\n",
       "      <th>2015</th>\n",
       "    </tr>\n",
       "  </thead>\n",
       "  <tbody>\n",
       "    <tr>\n",
       "      <th>149</th>\n",
       "      <td>Switzerland</td>\n",
       "      <td>43.925825</td>\n",
       "      <td>43.852459</td>\n",
       "      <td>43.493220</td>\n",
       "      <td>43.270593</td>\n",
       "      <td>43.047966</td>\n",
       "      <td>42.898705</td>\n",
       "      <td>42.724145</td>\n",
       "      <td>42.655839</td>\n",
       "      <td>42.688727</td>\n",
       "      <td>...</td>\n",
       "      <td>39.142647</td>\n",
       "      <td>39.060128</td>\n",
       "      <td>38.986740</td>\n",
       "      <td>38.908290</td>\n",
       "      <td>38.834902</td>\n",
       "      <td>38.758984</td>\n",
       "      <td>38.685596</td>\n",
       "      <td>38.609677</td>\n",
       "      <td>38.533758</td>\n",
       "      <td>38.182002</td>\n",
       "    </tr>\n",
       "    <tr>\n",
       "      <th>150</th>\n",
       "      <td>The former Yugoslav Republic of Macedonia</td>\n",
       "      <td>NaN</td>\n",
       "      <td>NaN</td>\n",
       "      <td>NaN</td>\n",
       "      <td>NaN</td>\n",
       "      <td>NaN</td>\n",
       "      <td>NaN</td>\n",
       "      <td>NaN</td>\n",
       "      <td>NaN</td>\n",
       "      <td>NaN</td>\n",
       "      <td>...</td>\n",
       "      <td>48.132127</td>\n",
       "      <td>42.647642</td>\n",
       "      <td>42.132382</td>\n",
       "      <td>40.166534</td>\n",
       "      <td>44.369548</td>\n",
       "      <td>44.329897</td>\n",
       "      <td>50.237906</td>\n",
       "      <td>49.960349</td>\n",
       "      <td>50.079302</td>\n",
       "      <td>50.079302</td>\n",
       "    </tr>\n",
       "    <tr>\n",
       "      <th>151</th>\n",
       "      <td>United Arab Emirates</td>\n",
       "      <td>2.488038</td>\n",
       "      <td>2.488038</td>\n",
       "      <td>2.488038</td>\n",
       "      <td>2.488038</td>\n",
       "      <td>2.500000</td>\n",
       "      <td>2.511962</td>\n",
       "      <td>2.511962</td>\n",
       "      <td>2.511962</td>\n",
       "      <td>2.511962</td>\n",
       "      <td>...</td>\n",
       "      <td>6.502392</td>\n",
       "      <td>6.430622</td>\n",
       "      <td>6.514354</td>\n",
       "      <td>4.699761</td>\n",
       "      <td>4.752392</td>\n",
       "      <td>4.706938</td>\n",
       "      <td>4.565789</td>\n",
       "      <td>4.572967</td>\n",
       "      <td>4.572967</td>\n",
       "      <td>4.572967</td>\n",
       "    </tr>\n",
       "    <tr>\n",
       "      <th>152</th>\n",
       "      <td>United Kingdom</td>\n",
       "      <td>81.841855</td>\n",
       "      <td>81.755053</td>\n",
       "      <td>81.622783</td>\n",
       "      <td>81.440913</td>\n",
       "      <td>80.953168</td>\n",
       "      <td>80.808498</td>\n",
       "      <td>80.825032</td>\n",
       "      <td>80.295953</td>\n",
       "      <td>80.105816</td>\n",
       "      <td>...</td>\n",
       "      <td>73.732071</td>\n",
       "      <td>72.942587</td>\n",
       "      <td>73.095523</td>\n",
       "      <td>71.611623</td>\n",
       "      <td>71.194147</td>\n",
       "      <td>70.946141</td>\n",
       "      <td>71.020543</td>\n",
       "      <td>71.302443</td>\n",
       "      <td>71.227214</td>\n",
       "      <td>70.838672</td>\n",
       "    </tr>\n",
       "    <tr>\n",
       "      <th>153</th>\n",
       "      <td>World</td>\n",
       "      <td>90.555241</td>\n",
       "      <td>90.555241</td>\n",
       "      <td>90.555241</td>\n",
       "      <td>90.553954</td>\n",
       "      <td>90.555241</td>\n",
       "      <td>90.555241</td>\n",
       "      <td>90.555241</td>\n",
       "      <td>90.555241</td>\n",
       "      <td>90.535287</td>\n",
       "      <td>...</td>\n",
       "      <td>73.539484</td>\n",
       "      <td>73.513736</td>\n",
       "      <td>73.472540</td>\n",
       "      <td>73.171297</td>\n",
       "      <td>73.114653</td>\n",
       "      <td>73.062514</td>\n",
       "      <td>72.990937</td>\n",
       "      <td>72.935645</td>\n",
       "      <td>72.695293</td>\n",
       "      <td>72.674052</td>\n",
       "    </tr>\n",
       "  </tbody>\n",
       "</table>\n",
       "<p>5 rows × 56 columns</p>\n",
       "</div>"
      ],
      "text/plain": [
       "                                       Country       1961       1962  \\\n",
       "149                                Switzerland  43.925825  43.852459   \n",
       "150  The former Yugoslav Republic of Macedonia        NaN        NaN   \n",
       "151                       United Arab Emirates   2.488038   2.488038   \n",
       "152                             United Kingdom  81.841855  81.755053   \n",
       "153                                      World  90.555241  90.555241   \n",
       "\n",
       "          1963       1964       1965       1966       1967       1968  \\\n",
       "149  43.493220  43.270593  43.047966  42.898705  42.724145  42.655839   \n",
       "150        NaN        NaN        NaN        NaN        NaN        NaN   \n",
       "151   2.488038   2.488038   2.500000   2.511962   2.511962   2.511962   \n",
       "152  81.622783  81.440913  80.953168  80.808498  80.825032  80.295953   \n",
       "153  90.555241  90.553954  90.555241  90.555241  90.555241  90.555241   \n",
       "\n",
       "          1969  ...       2006       2007       2008       2009       2010  \\\n",
       "149  42.688727  ...  39.142647  39.060128  38.986740  38.908290  38.834902   \n",
       "150        NaN  ...  48.132127  42.647642  42.132382  40.166534  44.369548   \n",
       "151   2.511962  ...   6.502392   6.430622   6.514354   4.699761   4.752392   \n",
       "152  80.105816  ...  73.732071  72.942587  73.095523  71.611623  71.194147   \n",
       "153  90.535287  ...  73.539484  73.513736  73.472540  73.171297  73.114653   \n",
       "\n",
       "          2011       2012       2013       2014       2015  \n",
       "149  38.758984  38.685596  38.609677  38.533758  38.182002  \n",
       "150  44.329897  50.237906  49.960349  50.079302  50.079302  \n",
       "151   4.706938   4.565789   4.572967   4.572967   4.572967  \n",
       "152  70.946141  71.020543  71.302443  71.227214  70.838672  \n",
       "153  73.062514  72.990937  72.935645  72.695293  72.674052  \n",
       "\n",
       "[5 rows x 56 columns]"
      ]
     },
     "execution_count": 199,
     "metadata": {},
     "output_type": "execute_result"
    }
   ],
   "source": [
    "# Show last 5 rows of df2\n",
    "df2.tail()"
   ]
  },
  {
   "cell_type": "code",
   "execution_count": 200,
   "metadata": {
    "scrolled": true
   },
   "outputs": [
    {
     "data": {
      "text/plain": [
       "Country     0\n",
       "1961       23\n",
       "1962       23\n",
       "1963       23\n",
       "1964       23\n",
       "1965       23\n",
       "1966       23\n",
       "1967       23\n",
       "1968       23\n",
       "1969       23\n",
       "1970       23\n",
       "1971       23\n",
       "1972       23\n",
       "1973       23\n",
       "1974       23\n",
       "1975       23\n",
       "1976       23\n",
       "1977       23\n",
       "1978       23\n",
       "1979       23\n",
       "1980       23\n",
       "1981       23\n",
       "1982       24\n",
       "1983       24\n",
       "1984       24\n",
       "1985       24\n",
       "1986       24\n",
       "1987       24\n",
       "1988       24\n",
       "1989       24\n",
       "1990       24\n",
       "1991       21\n",
       "1992        6\n",
       "1993        4\n",
       "1994        4\n",
       "1995        4\n",
       "1996        4\n",
       "1997        4\n",
       "1998        4\n",
       "1999        4\n",
       "2000        2\n",
       "2001        2\n",
       "2002        2\n",
       "2003        2\n",
       "2004        2\n",
       "2005        2\n",
       "2006        1\n",
       "2007        0\n",
       "2008        0\n",
       "2009        0\n",
       "2010        0\n",
       "2011        0\n",
       "2012        0\n",
       "2013        0\n",
       "2014        0\n",
       "2015        0\n",
       "dtype: int64"
      ]
     },
     "execution_count": 200,
     "metadata": {},
     "output_type": "execute_result"
    }
   ],
   "source": [
    "# Count null values\n",
    "df2.isna().sum()"
   ]
  },
  {
   "cell_type": "code",
   "execution_count": 201,
   "metadata": {},
   "outputs": [
    {
     "data": {
      "text/plain": [
       "Country    category\n",
       "1961        float64\n",
       "1962        float64\n",
       "1963        float64\n",
       "1964        float64\n",
       "1965        float64\n",
       "1966        float64\n",
       "1967        float64\n",
       "1968        float64\n",
       "1969        float64\n",
       "1970        float64\n",
       "1971        float64\n",
       "1972        float64\n",
       "1973        float64\n",
       "1974        float64\n",
       "1975        float64\n",
       "1976        float64\n",
       "1977        float64\n",
       "1978        float64\n",
       "1979        float64\n",
       "1980        float64\n",
       "1981        float64\n",
       "1982        float64\n",
       "1983        float64\n",
       "1984        float64\n",
       "1985        float64\n",
       "1986        float64\n",
       "1987        float64\n",
       "1988        float64\n",
       "1989        float64\n",
       "1990        float64\n",
       "1991        float64\n",
       "1992        float64\n",
       "1993        float64\n",
       "1994        float64\n",
       "1995        float64\n",
       "1996        float64\n",
       "1997        float64\n",
       "1998        float64\n",
       "1999        float64\n",
       "2000        float64\n",
       "2001        float64\n",
       "2002        float64\n",
       "2003        float64\n",
       "2004        float64\n",
       "2005        float64\n",
       "2006        float64\n",
       "2007        float64\n",
       "2008        float64\n",
       "2009        float64\n",
       "2010        float64\n",
       "2011        float64\n",
       "2012        float64\n",
       "2013        float64\n",
       "2014        float64\n",
       "2015        float64\n",
       "dtype: object"
      ]
     },
     "execution_count": 201,
     "metadata": {},
     "output_type": "execute_result"
    }
   ],
   "source": [
    "# Change datatypes\n",
    "df2['Country'] = df2['Country'].astype('category')\n",
    "\n",
    "# Show changes\n",
    "df2.dtypes"
   ]
  },
  {
   "cell_type": "code",
   "execution_count": 202,
   "metadata": {},
   "outputs": [],
   "source": [
    "# Change the shape of dataframe\n",
    "df2_ro = df2.melt(id_vars=[\"Country\"], \n",
    "        var_name=\"Year\", \n",
    "        value_name=\"Agricultural land in %\")\n",
    "# Reorder the data, first by country, then by year\n",
    "df2_ro.sort_values(by=['Country', 'Year'], inplace=True)"
   ]
  },
  {
   "cell_type": "code",
   "execution_count": 203,
   "metadata": {},
   "outputs": [
    {
     "data": {
      "text/html": [
       "<div>\n",
       "<style scoped>\n",
       "    .dataframe tbody tr th:only-of-type {\n",
       "        vertical-align: middle;\n",
       "    }\n",
       "\n",
       "    .dataframe tbody tr th {\n",
       "        vertical-align: top;\n",
       "    }\n",
       "\n",
       "    .dataframe thead th {\n",
       "        text-align: right;\n",
       "    }\n",
       "</style>\n",
       "<table border=\"1\" class=\"dataframe\">\n",
       "  <thead>\n",
       "    <tr style=\"text-align: right;\">\n",
       "      <th></th>\n",
       "      <th>Country</th>\n",
       "      <th>Year</th>\n",
       "      <th>Agricultural land in %</th>\n",
       "    </tr>\n",
       "  </thead>\n",
       "  <tbody>\n",
       "    <tr>\n",
       "      <th>0</th>\n",
       "      <td>Afghanistan</td>\n",
       "      <td>1961</td>\n",
       "      <td>57.745918</td>\n",
       "    </tr>\n",
       "    <tr>\n",
       "      <th>1</th>\n",
       "      <td>Afghanistan</td>\n",
       "      <td>1962</td>\n",
       "      <td>57.837821</td>\n",
       "    </tr>\n",
       "    <tr>\n",
       "      <th>2</th>\n",
       "      <td>Afghanistan</td>\n",
       "      <td>1963</td>\n",
       "      <td>57.914407</td>\n",
       "    </tr>\n",
       "    <tr>\n",
       "      <th>3</th>\n",
       "      <td>Afghanistan</td>\n",
       "      <td>1964</td>\n",
       "      <td>58.010906</td>\n",
       "    </tr>\n",
       "    <tr>\n",
       "      <th>4</th>\n",
       "      <td>Afghanistan</td>\n",
       "      <td>1965</td>\n",
       "      <td>58.013969</td>\n",
       "    </tr>\n",
       "    <tr>\n",
       "      <th>...</th>\n",
       "      <td>...</td>\n",
       "      <td>...</td>\n",
       "      <td>...</td>\n",
       "    </tr>\n",
       "    <tr>\n",
       "      <th>8465</th>\n",
       "      <td>World</td>\n",
       "      <td>2011</td>\n",
       "      <td>73.062514</td>\n",
       "    </tr>\n",
       "    <tr>\n",
       "      <th>8466</th>\n",
       "      <td>World</td>\n",
       "      <td>2012</td>\n",
       "      <td>72.990937</td>\n",
       "    </tr>\n",
       "    <tr>\n",
       "      <th>8467</th>\n",
       "      <td>World</td>\n",
       "      <td>2013</td>\n",
       "      <td>72.935645</td>\n",
       "    </tr>\n",
       "    <tr>\n",
       "      <th>8468</th>\n",
       "      <td>World</td>\n",
       "      <td>2014</td>\n",
       "      <td>72.695293</td>\n",
       "    </tr>\n",
       "    <tr>\n",
       "      <th>8469</th>\n",
       "      <td>World</td>\n",
       "      <td>2015</td>\n",
       "      <td>72.674052</td>\n",
       "    </tr>\n",
       "  </tbody>\n",
       "</table>\n",
       "<p>8470 rows × 3 columns</p>\n",
       "</div>"
      ],
      "text/plain": [
       "          Country  Year  Agricultural land in %\n",
       "0     Afghanistan  1961               57.745918\n",
       "1     Afghanistan  1962               57.837821\n",
       "2     Afghanistan  1963               57.914407\n",
       "3     Afghanistan  1964               58.010906\n",
       "4     Afghanistan  1965               58.013969\n",
       "...           ...   ...                     ...\n",
       "8465        World  2011               73.062514\n",
       "8466        World  2012               72.990937\n",
       "8467        World  2013               72.935645\n",
       "8468        World  2014               72.695293\n",
       "8469        World  2015               72.674052\n",
       "\n",
       "[8470 rows x 3 columns]"
      ]
     },
     "execution_count": 203,
     "metadata": {},
     "output_type": "execute_result"
    }
   ],
   "source": [
    "# Reset index\n",
    "df2_ro.reset_index(drop=True)"
   ]
  },
  {
   "cell_type": "code",
   "execution_count": 204,
   "metadata": {},
   "outputs": [
    {
     "name": "stdout",
     "output_type": "stream",
     "text": [
      "<class 'pandas.core.frame.DataFrame'>\n",
      "Int64Index: 8470 entries, 0 to 8469\n",
      "Data columns (total 3 columns):\n",
      " #   Column                  Non-Null Count  Dtype   \n",
      "---  ------                  --------------  -----   \n",
      " 0   Country                 8470 non-null   category\n",
      " 1   Year                    8470 non-null   object  \n",
      " 2   Agricultural land in %  7703 non-null   float64 \n",
      "dtypes: category(1), float64(1), object(1)\n",
      "memory usage: 221.3+ KB\n"
     ]
    }
   ],
   "source": [
    "# Check dataset\n",
    "df2_ro.info()"
   ]
  },
  {
   "cell_type": "code",
   "execution_count": 205,
   "metadata": {},
   "outputs": [
    {
     "data": {
      "text/plain": [
       "Country                   category\n",
       "Year                         int64\n",
       "Agricultural land in %     float64\n",
       "dtype: object"
      ]
     },
     "execution_count": 205,
     "metadata": {},
     "output_type": "execute_result"
    }
   ],
   "source": [
    "# Change type of column 'Year' and 'Agricultural land in %'\n",
    "df2_ro['Year'] = df2_ro['Year'].astype('int')\n",
    "df2_ro['Agricultural land in %'] = df2_ro['Agricultural land in %'].astype('float')\n",
    "df2_ro.dtypes"
   ]
  },
  {
   "cell_type": "code",
   "execution_count": 206,
   "metadata": {},
   "outputs": [
    {
     "data": {
      "text/plain": [
       "<matplotlib.axes._subplots.AxesSubplot at 0x7f939997eb50>"
      ]
     },
     "execution_count": 206,
     "metadata": {},
     "output_type": "execute_result"
    },
    {
     "data": {
      "image/png": "[encoded data removed]",
      "text/plain": [
       "<Figure size 432x288 with 1 Axes>"
      ]
     },
     "metadata": {
      "needs_background": "light"
     },
     "output_type": "display_data"
    }
   ],
   "source": [
    "# Get overview about development of the data over the observed period\n",
    "df2_plot = df2_ro.groupby(['Year']).mean()\n",
    "df2_plot.plot()"
   ]
  },
  {
   "cell_type": "markdown",
   "metadata": {},
   "source": [
    "# Merge weather data and agricultural land data"
   ]
  },
  {
   "cell_type": "code",
   "execution_count": 207,
   "metadata": {},
   "outputs": [],
   "source": [
    "# Merging the datasets using the key parameters 'Country' and 'Year'\n",
    "# inner join by default\n",
    "df_merge = pd.merge(df_complete, df2_ro, on=['Country', 'Year'])"
   ]
  },
  {
   "cell_type": "code",
   "execution_count": 208,
   "metadata": {},
   "outputs": [
    {
     "data": {
      "text/html": [
       "<div>\n",
       "<style scoped>\n",
       "    .dataframe tbody tr th:only-of-type {\n",
       "        vertical-align: middle;\n",
       "    }\n",
       "\n",
       "    .dataframe tbody tr th {\n",
       "        vertical-align: top;\n",
       "    }\n",
       "\n",
       "    .dataframe thead th {\n",
       "        text-align: right;\n",
       "    }\n",
       "</style>\n",
       "<table border=\"1\" class=\"dataframe\">\n",
       "  <thead>\n",
       "    <tr style=\"text-align: right;\">\n",
       "      <th></th>\n",
       "      <th>Temperature(Celsius)</th>\n",
       "      <th>Year</th>\n",
       "      <th>Statistics</th>\n",
       "      <th>Country</th>\n",
       "      <th>Agricultural land in %</th>\n",
       "    </tr>\n",
       "  </thead>\n",
       "  <tbody>\n",
       "    <tr>\n",
       "      <th>0</th>\n",
       "      <td>1.39097</td>\n",
       "      <td>1961</td>\n",
       "      <td>Jan Average</td>\n",
       "      <td>Afghanistan</td>\n",
       "      <td>57.745918</td>\n",
       "    </tr>\n",
       "    <tr>\n",
       "      <th>1</th>\n",
       "      <td>0.90369</td>\n",
       "      <td>1961</td>\n",
       "      <td>Feb Average</td>\n",
       "      <td>Afghanistan</td>\n",
       "      <td>57.745918</td>\n",
       "    </tr>\n",
       "    <tr>\n",
       "      <th>2</th>\n",
       "      <td>8.00043</td>\n",
       "      <td>1961</td>\n",
       "      <td>Mar Average</td>\n",
       "      <td>Afghanistan</td>\n",
       "      <td>57.745918</td>\n",
       "    </tr>\n",
       "    <tr>\n",
       "      <th>3</th>\n",
       "      <td>12.35880</td>\n",
       "      <td>1961</td>\n",
       "      <td>Apr Average</td>\n",
       "      <td>Afghanistan</td>\n",
       "      <td>57.745918</td>\n",
       "    </tr>\n",
       "    <tr>\n",
       "      <th>4</th>\n",
       "      <td>19.26180</td>\n",
       "      <td>1961</td>\n",
       "      <td>May Average</td>\n",
       "      <td>Afghanistan</td>\n",
       "      <td>57.745918</td>\n",
       "    </tr>\n",
       "  </tbody>\n",
       "</table>\n",
       "</div>"
      ],
      "text/plain": [
       "   Temperature(Celsius)  Year    Statistics      Country  \\\n",
       "0               1.39097  1961   Jan Average  Afghanistan   \n",
       "1               0.90369  1961   Feb Average  Afghanistan   \n",
       "2               8.00043  1961   Mar Average  Afghanistan   \n",
       "3              12.35880  1961   Apr Average  Afghanistan   \n",
       "4              19.26180  1961   May Average  Afghanistan   \n",
       "\n",
       "   Agricultural land in %  \n",
       "0               57.745918  \n",
       "1               57.745918  \n",
       "2               57.745918  \n",
       "3               57.745918  \n",
       "4               57.745918  "
      ]
     },
     "execution_count": 208,
     "metadata": {},
     "output_type": "execute_result"
    }
   ],
   "source": [
    "# Check\n",
    "df_merge.head()"
   ]
  },
  {
   "cell_type": "code",
   "execution_count": 209,
   "metadata": {},
   "outputs": [
    {
     "data": {
      "text/html": [
       "<div>\n",
       "<style scoped>\n",
       "    .dataframe tbody tr th:only-of-type {\n",
       "        vertical-align: middle;\n",
       "    }\n",
       "\n",
       "    .dataframe tbody tr th {\n",
       "        vertical-align: top;\n",
       "    }\n",
       "\n",
       "    .dataframe thead th {\n",
       "        text-align: right;\n",
       "    }\n",
       "</style>\n",
       "<table border=\"1\" class=\"dataframe\">\n",
       "  <thead>\n",
       "    <tr style=\"text-align: right;\">\n",
       "      <th></th>\n",
       "      <th>Temperature(Celsius)</th>\n",
       "      <th>Year</th>\n",
       "      <th>Statistics</th>\n",
       "      <th>Country</th>\n",
       "      <th>Agricultural land in %</th>\n",
       "    </tr>\n",
       "  </thead>\n",
       "  <tbody>\n",
       "    <tr>\n",
       "      <th>86455</th>\n",
       "      <td>14.87570</td>\n",
       "      <td>2015</td>\n",
       "      <td>Aug Average</td>\n",
       "      <td>United Kingdom</td>\n",
       "      <td>70.838672</td>\n",
       "    </tr>\n",
       "    <tr>\n",
       "      <th>86456</th>\n",
       "      <td>11.92190</td>\n",
       "      <td>2015</td>\n",
       "      <td>Sep Average</td>\n",
       "      <td>United Kingdom</td>\n",
       "      <td>70.838672</td>\n",
       "    </tr>\n",
       "    <tr>\n",
       "      <th>86457</th>\n",
       "      <td>9.93445</td>\n",
       "      <td>2015</td>\n",
       "      <td>Oct Average</td>\n",
       "      <td>United Kingdom</td>\n",
       "      <td>70.838672</td>\n",
       "    </tr>\n",
       "    <tr>\n",
       "      <th>86458</th>\n",
       "      <td>8.04995</td>\n",
       "      <td>2015</td>\n",
       "      <td>Nov Average</td>\n",
       "      <td>United Kingdom</td>\n",
       "      <td>70.838672</td>\n",
       "    </tr>\n",
       "    <tr>\n",
       "      <th>86459</th>\n",
       "      <td>7.05677</td>\n",
       "      <td>2015</td>\n",
       "      <td>Dec Average</td>\n",
       "      <td>United Kingdom</td>\n",
       "      <td>70.838672</td>\n",
       "    </tr>\n",
       "  </tbody>\n",
       "</table>\n",
       "</div>"
      ],
      "text/plain": [
       "       Temperature(Celsius)  Year    Statistics         Country  \\\n",
       "86455              14.87570  2015   Aug Average  United Kingdom   \n",
       "86456              11.92190  2015   Sep Average  United Kingdom   \n",
       "86457               9.93445  2015   Oct Average  United Kingdom   \n",
       "86458               8.04995  2015   Nov Average  United Kingdom   \n",
       "86459               7.05677  2015   Dec Average  United Kingdom   \n",
       "\n",
       "       Agricultural land in %  \n",
       "86455               70.838672  \n",
       "86456               70.838672  \n",
       "86457               70.838672  \n",
       "86458               70.838672  \n",
       "86459               70.838672  "
      ]
     },
     "execution_count": 209,
     "metadata": {},
     "output_type": "execute_result"
    }
   ],
   "source": [
    "# Check\n",
    "df_merge.tail()"
   ]
  },
  {
   "cell_type": "code",
   "execution_count": 210,
   "metadata": {},
   "outputs": [
    {
     "data": {
      "text/plain": [
       "Temperature(Celsius)         0\n",
       "Year                         0\n",
       "Statistics                   0\n",
       "Country                      0\n",
       "Agricultural land in %    7068\n",
       "dtype: int64"
      ]
     },
     "execution_count": 210,
     "metadata": {},
     "output_type": "execute_result"
    }
   ],
   "source": [
    "# Count null values\n",
    "df_merge.isnull().sum()"
   ]
  },
  {
   "cell_type": "markdown",
   "metadata": {},
   "source": [
    "There are 7068 null values in the column \"Agricultural land in %\". A deeper analysis of the null values is needed, to decide how to handle the affected rows."
   ]
  },
  {
   "cell_type": "code",
   "execution_count": 211,
   "metadata": {},
   "outputs": [],
   "source": [
    "# Change data type\n",
    "df_merge['Country'] = df_merge['Country'].astype('category')"
   ]
  },
  {
   "cell_type": "code",
   "execution_count": 212,
   "metadata": {},
   "outputs": [
    {
     "name": "stdout",
     "output_type": "stream",
     "text": [
      "<class 'pandas.core.frame.DataFrame'>\n",
      "Int64Index: 86460 entries, 0 to 86459\n",
      "Data columns (total 5 columns):\n",
      " #   Column                  Non-Null Count  Dtype   \n",
      "---  ------                  --------------  -----   \n",
      " 0   Temperature(Celsius)    86460 non-null  float64 \n",
      " 1   Year                    86460 non-null  int64   \n",
      " 2   Statistics              86460 non-null  object  \n",
      " 3   Country                 86460 non-null  category\n",
      " 4   Agricultural land in %  79392 non-null  float64 \n",
      "dtypes: category(1), float64(2), int64(1), object(1)\n",
      "memory usage: 3.5+ MB\n"
     ]
    }
   ],
   "source": [
    "# Check info\n",
    "df_merge.info()"
   ]
  },
  {
   "cell_type": "code",
   "execution_count": 213,
   "metadata": {},
   "outputs": [],
   "source": [
    "# Creation of a CSV file of the merged dataset to load it into a new notebook for further work\n",
    "df_merge.to_csv('weather_agricult.csv', index=False)"
   ]
  }
 ],
 "metadata": {
  "kernelspec": {
   "display_name": "Python 3",
   "language": "python",
   "name": "python3"
  },
  "language_info": {
   "codemirror_mode": {
    "name": "ipython",
    "version": 3
   },
   "file_extension": ".py",
   "mimetype": "text/x-python",
   "name": "python",
   "nbconvert_exporter": "python",
   "pygments_lexer": "ipython3",
   "version": "3.7.6"
  }
 },
 "nbformat": 4,
 "nbformat_minor": 4
}
