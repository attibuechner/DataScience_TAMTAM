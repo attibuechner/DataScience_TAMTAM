{
 "cells": [
  {
   "cell_type": "code",
   "execution_count": 323,
   "metadata": {},
   "outputs": [],
   "source": [
    "# Import libraries, that are needed to fulfill analysis of the data\n",
    "import pandas as pd\n",
    "import numpy as np\n",
    "import csv\n",
    "import matplotlib.pyplot as plt"
   ]
  },
  {
   "cell_type": "markdown",
   "metadata": {},
   "source": [
    "## Import dataset\n",
    "- final data set containing all variables under consideration (see notebook 2)"
   ]
  },
  {
   "cell_type": "code",
   "execution_count": 324,
   "metadata": {},
   "outputs": [],
   "source": [
    "# Import the merged dataset with weather, agricultural, GDP and rainfall data, which was created in the second notebook\n",
    "df_avg_year = pd.read_csv('data_average_per_year.csv')"
   ]
  },
  {
   "cell_type": "markdown",
   "metadata": {},
   "source": [
    "## Get overview of the merged dataset"
   ]
  },
  {
   "cell_type": "code",
   "execution_count": 325,
   "metadata": {},
   "outputs": [
    {
     "data": {
      "text/html": [
       "<div>\n",
       "<style scoped>\n",
       "    .dataframe tbody tr th:only-of-type {\n",
       "        vertical-align: middle;\n",
       "    }\n",
       "\n",
       "    .dataframe tbody tr th {\n",
       "        vertical-align: top;\n",
       "    }\n",
       "\n",
       "    .dataframe thead th {\n",
       "        text-align: right;\n",
       "    }\n",
       "</style>\n",
       "<table border=\"1\" class=\"dataframe\">\n",
       "  <thead>\n",
       "    <tr style=\"text-align: right;\">\n",
       "      <th></th>\n",
       "      <th>Country</th>\n",
       "      <th>Year</th>\n",
       "      <th>Agricultural land in %</th>\n",
       "      <th>GDP in billion $US</th>\n",
       "      <th>Temperature(Avg.)</th>\n",
       "      <th>Rainfall(Avg.)</th>\n",
       "      <th>Temperature(Min)</th>\n",
       "      <th>Temperature(Max)</th>\n",
       "    </tr>\n",
       "  </thead>\n",
       "  <tbody>\n",
       "    <tr>\n",
       "      <th>0</th>\n",
       "      <td>Algeria</td>\n",
       "      <td>1961</td>\n",
       "      <td>19.091505</td>\n",
       "      <td>2.434777</td>\n",
       "      <td>22.821850</td>\n",
       "      <td>4.962476</td>\n",
       "      <td>11.3273</td>\n",
       "      <td>32.8581</td>\n",
       "    </tr>\n",
       "    <tr>\n",
       "      <th>1</th>\n",
       "      <td>Algeria</td>\n",
       "      <td>1962</td>\n",
       "      <td>18.851764</td>\n",
       "      <td>2.001469</td>\n",
       "      <td>22.531092</td>\n",
       "      <td>7.942018</td>\n",
       "      <td>12.3891</td>\n",
       "      <td>32.6300</td>\n",
       "    </tr>\n",
       "    <tr>\n",
       "      <th>2</th>\n",
       "      <td>Algeria</td>\n",
       "      <td>1963</td>\n",
       "      <td>18.688018</td>\n",
       "      <td>2.703015</td>\n",
       "      <td>22.573142</td>\n",
       "      <td>7.836509</td>\n",
       "      <td>13.5216</td>\n",
       "      <td>32.6186</td>\n",
       "    </tr>\n",
       "    <tr>\n",
       "      <th>3</th>\n",
       "      <td>Algeria</td>\n",
       "      <td>1964</td>\n",
       "      <td>18.542746</td>\n",
       "      <td>2.909352</td>\n",
       "      <td>22.629875</td>\n",
       "      <td>6.863724</td>\n",
       "      <td>11.8319</td>\n",
       "      <td>32.3364</td>\n",
       "    </tr>\n",
       "    <tr>\n",
       "      <th>4</th>\n",
       "      <td>Algeria</td>\n",
       "      <td>1965</td>\n",
       "      <td>18.544006</td>\n",
       "      <td>3.136259</td>\n",
       "      <td>22.416617</td>\n",
       "      <td>6.552506</td>\n",
       "      <td>12.1461</td>\n",
       "      <td>32.7202</td>\n",
       "    </tr>\n",
       "  </tbody>\n",
       "</table>\n",
       "</div>"
      ],
      "text/plain": [
       "   Country  Year  Agricultural land in %  GDP in billion $US  \\\n",
       "0  Algeria  1961               19.091505            2.434777   \n",
       "1  Algeria  1962               18.851764            2.001469   \n",
       "2  Algeria  1963               18.688018            2.703015   \n",
       "3  Algeria  1964               18.542746            2.909352   \n",
       "4  Algeria  1965               18.544006            3.136259   \n",
       "\n",
       "   Temperature(Avg.)  Rainfall(Avg.)  Temperature(Min)  Temperature(Max)  \n",
       "0          22.821850        4.962476           11.3273           32.8581  \n",
       "1          22.531092        7.942018           12.3891           32.6300  \n",
       "2          22.573142        7.836509           13.5216           32.6186  \n",
       "3          22.629875        6.863724           11.8319           32.3364  \n",
       "4          22.416617        6.552506           12.1461           32.7202  "
      ]
     },
     "execution_count": 325,
     "metadata": {},
     "output_type": "execute_result"
    }
   ],
   "source": [
    "# Look at the prepared dataframe\n",
    "df_avg_year.head()"
   ]
  },
  {
   "cell_type": "code",
   "execution_count": 326,
   "metadata": {},
   "outputs": [
    {
     "data": {
      "text/plain": [
       "Country                   0\n",
       "Year                      0\n",
       "Agricultural land in %    0\n",
       "GDP in billion $US        0\n",
       "Temperature(Avg.)         0\n",
       "Rainfall(Avg.)            0\n",
       "Temperature(Min)          0\n",
       "Temperature(Max)          0\n",
       "dtype: int64"
      ]
     },
     "execution_count": 326,
     "metadata": {},
     "output_type": "execute_result"
    }
   ],
   "source": [
    "# Check again for null values\n",
    "null_counts = df_avg_year.isnull().sum()\n",
    "null_counts"
   ]
  },
  {
   "cell_type": "markdown",
   "metadata": {},
   "source": [
    "# Individual perspective per country\n",
    "- since temperature is selected as a dependent variable in the following analysis, the different temperature data per country are examined in more detail here\n",
    "- separate analysis are carried out for particularly conspicuous temperature data from individual countries"
   ]
  },
  {
   "cell_type": "code",
   "execution_count": 327,
   "metadata": {},
   "outputs": [
    {
     "data": {
      "image/png": "[encoded data removed]",
      "text/plain": [
       "<Figure size 1440x1080 with 90 Axes>"
      ]
     },
     "metadata": {
      "needs_background": "light"
     },
     "output_type": "display_data"
    }
   ],
   "source": [
    "# Visualization of the individual temperature as histogram for each country\n",
    "df_avg_year['Agricultural land in %'].hist(by=df_avg_year['Country'],figsize=(20,15))\n",
    "plt.show()"
   ]
  },
  {
   "cell_type": "markdown",
   "metadata": {},
   "source": [
    "# Deeper analysis for individual countries\n",
    "- individual countries show particularly conspicuous distributions of the frequency of individual temperature values\n",
    "- for particularly conspicuous temperature frequencies, individual visualizations are carried out for some countries"
   ]
  },
  {
   "cell_type": "code",
   "execution_count": 328,
   "metadata": {},
   "outputs": [],
   "source": [
    "# Argentina shows a striking histogram, closer analysis makes sense\n",
    "# Create subset for Argentina\n",
    "subset_argentina = df_avg_year[df_avg_year['Country'] == 'Argentina']"
   ]
  },
  {
   "cell_type": "code",
   "execution_count": 329,
   "metadata": {},
   "outputs": [
    {
     "data": {
      "text/html": [
       "<div>\n",
       "<style scoped>\n",
       "    .dataframe tbody tr th:only-of-type {\n",
       "        vertical-align: middle;\n",
       "    }\n",
       "\n",
       "    .dataframe tbody tr th {\n",
       "        vertical-align: top;\n",
       "    }\n",
       "\n",
       "    .dataframe thead th {\n",
       "        text-align: right;\n",
       "    }\n",
       "</style>\n",
       "<table border=\"1\" class=\"dataframe\">\n",
       "  <thead>\n",
       "    <tr style=\"text-align: right;\">\n",
       "      <th></th>\n",
       "      <th>Country</th>\n",
       "      <th>Year</th>\n",
       "      <th>Agricultural land in %</th>\n",
       "      <th>GDP in billion $US</th>\n",
       "      <th>Temperature(Avg.)</th>\n",
       "      <th>Rainfall(Avg.)</th>\n",
       "      <th>Temperature(Min)</th>\n",
       "      <th>Temperature(Max)</th>\n",
       "    </tr>\n",
       "  </thead>\n",
       "  <tbody>\n",
       "    <tr>\n",
       "      <th>60</th>\n",
       "      <td>Argentina</td>\n",
       "      <td>1961</td>\n",
       "      <td>50.363395</td>\n",
       "      <td>2774.878865</td>\n",
       "      <td>14.377203</td>\n",
       "      <td>48.121892</td>\n",
       "      <td>6.99971</td>\n",
       "      <td>20.7042</td>\n",
       "    </tr>\n",
       "    <tr>\n",
       "      <th>61</th>\n",
       "      <td>Argentina</td>\n",
       "      <td>1962</td>\n",
       "      <td>49.853655</td>\n",
       "      <td>24.450605</td>\n",
       "      <td>14.317740</td>\n",
       "      <td>34.798900</td>\n",
       "      <td>5.29234</td>\n",
       "      <td>20.6562</td>\n",
       "    </tr>\n",
       "    <tr>\n",
       "      <th>62</th>\n",
       "      <td>Argentina</td>\n",
       "      <td>1963</td>\n",
       "      <td>49.283989</td>\n",
       "      <td>18.272124</td>\n",
       "      <td>14.186253</td>\n",
       "      <td>50.893292</td>\n",
       "      <td>8.27449</td>\n",
       "      <td>20.6802</td>\n",
       "    </tr>\n",
       "    <tr>\n",
       "      <th>63</th>\n",
       "      <td>Argentina</td>\n",
       "      <td>1964</td>\n",
       "      <td>48.707380</td>\n",
       "      <td>25.605249</td>\n",
       "      <td>13.816357</td>\n",
       "      <td>41.050217</td>\n",
       "      <td>5.99390</td>\n",
       "      <td>21.1687</td>\n",
       "    </tr>\n",
       "    <tr>\n",
       "      <th>64</th>\n",
       "      <td>Argentina</td>\n",
       "      <td>1965</td>\n",
       "      <td>48.153061</td>\n",
       "      <td>28.344706</td>\n",
       "      <td>14.315731</td>\n",
       "      <td>45.325800</td>\n",
       "      <td>6.55712</td>\n",
       "      <td>21.0101</td>\n",
       "    </tr>\n",
       "  </tbody>\n",
       "</table>\n",
       "</div>"
      ],
      "text/plain": [
       "      Country  Year  Agricultural land in %  GDP in billion $US  \\\n",
       "60  Argentina  1961               50.363395         2774.878865   \n",
       "61  Argentina  1962               49.853655           24.450605   \n",
       "62  Argentina  1963               49.283989           18.272124   \n",
       "63  Argentina  1964               48.707380           25.605249   \n",
       "64  Argentina  1965               48.153061           28.344706   \n",
       "\n",
       "    Temperature(Avg.)  Rainfall(Avg.)  Temperature(Min)  Temperature(Max)  \n",
       "60          14.377203       48.121892           6.99971           20.7042  \n",
       "61          14.317740       34.798900           5.29234           20.6562  \n",
       "62          14.186253       50.893292           8.27449           20.6802  \n",
       "63          13.816357       41.050217           5.99390           21.1687  \n",
       "64          14.315731       45.325800           6.55712           21.0101  "
      ]
     },
     "execution_count": 329,
     "metadata": {},
     "output_type": "execute_result"
    }
   ],
   "source": [
    "# Look at the data\n",
    "subset_argentina.head()"
   ]
  },
  {
   "cell_type": "code",
   "execution_count": 330,
   "metadata": {},
   "outputs": [],
   "source": [
    "# Plots ????"
   ]
  },
  {
   "cell_type": "code",
   "execution_count": 331,
   "metadata": {},
   "outputs": [],
   "source": [
    "# Mali shows a striking histogram, closer analysis makes sense\n",
    "# Create subset for Mali\n",
    "subset_mali = df_avg_year[df_avg_year['Country'] == 'Mali']"
   ]
  },
  {
   "cell_type": "code",
   "execution_count": 332,
   "metadata": {},
   "outputs": [
    {
     "data": {
      "text/html": [
       "<div>\n",
       "<style scoped>\n",
       "    .dataframe tbody tr th:only-of-type {\n",
       "        vertical-align: middle;\n",
       "    }\n",
       "\n",
       "    .dataframe tbody tr th {\n",
       "        vertical-align: top;\n",
       "    }\n",
       "\n",
       "    .dataframe thead th {\n",
       "        text-align: right;\n",
       "    }\n",
       "</style>\n",
       "<table border=\"1\" class=\"dataframe\">\n",
       "  <thead>\n",
       "    <tr style=\"text-align: right;\">\n",
       "      <th></th>\n",
       "      <th>Country</th>\n",
       "      <th>Year</th>\n",
       "      <th>Agricultural land in %</th>\n",
       "      <th>GDP in billion $US</th>\n",
       "      <th>Temperature(Avg.)</th>\n",
       "      <th>Rainfall(Avg.)</th>\n",
       "      <th>Temperature(Min)</th>\n",
       "      <th>Temperature(Max)</th>\n",
       "    </tr>\n",
       "  </thead>\n",
       "  <tbody>\n",
       "    <tr>\n",
       "      <th>1620</th>\n",
       "      <td>Mali</td>\n",
       "      <td>1961</td>\n",
       "      <td>25.977921</td>\n",
       "      <td>358.581943</td>\n",
       "      <td>27.742200</td>\n",
       "      <td>29.292410</td>\n",
       "      <td>20.3635</td>\n",
       "      <td>33.5011</td>\n",
       "    </tr>\n",
       "    <tr>\n",
       "      <th>1621</th>\n",
       "      <td>Mali</td>\n",
       "      <td>1962</td>\n",
       "      <td>25.982019</td>\n",
       "      <td>358.581943</td>\n",
       "      <td>27.900700</td>\n",
       "      <td>30.342112</td>\n",
       "      <td>20.9852</td>\n",
       "      <td>33.1115</td>\n",
       "    </tr>\n",
       "    <tr>\n",
       "      <th>1622</th>\n",
       "      <td>Mali</td>\n",
       "      <td>1963</td>\n",
       "      <td>25.986117</td>\n",
       "      <td>358.581943</td>\n",
       "      <td>28.213942</td>\n",
       "      <td>28.670733</td>\n",
       "      <td>21.6125</td>\n",
       "      <td>33.1997</td>\n",
       "    </tr>\n",
       "    <tr>\n",
       "      <th>1623</th>\n",
       "      <td>Mali</td>\n",
       "      <td>1964</td>\n",
       "      <td>25.990215</td>\n",
       "      <td>358.581943</td>\n",
       "      <td>27.974933</td>\n",
       "      <td>32.285747</td>\n",
       "      <td>21.4159</td>\n",
       "      <td>32.6644</td>\n",
       "    </tr>\n",
       "    <tr>\n",
       "      <th>1624</th>\n",
       "      <td>Mali</td>\n",
       "      <td>1965</td>\n",
       "      <td>25.994312</td>\n",
       "      <td>358.581943</td>\n",
       "      <td>27.751933</td>\n",
       "      <td>30.251379</td>\n",
       "      <td>20.4957</td>\n",
       "      <td>33.1280</td>\n",
       "    </tr>\n",
       "  </tbody>\n",
       "</table>\n",
       "</div>"
      ],
      "text/plain": [
       "     Country  Year  Agricultural land in %  GDP in billion $US  \\\n",
       "1620    Mali  1961               25.977921          358.581943   \n",
       "1621    Mali  1962               25.982019          358.581943   \n",
       "1622    Mali  1963               25.986117          358.581943   \n",
       "1623    Mali  1964               25.990215          358.581943   \n",
       "1624    Mali  1965               25.994312          358.581943   \n",
       "\n",
       "      Temperature(Avg.)  Rainfall(Avg.)  Temperature(Min)  Temperature(Max)  \n",
       "1620          27.742200       29.292410           20.3635           33.5011  \n",
       "1621          27.900700       30.342112           20.9852           33.1115  \n",
       "1622          28.213942       28.670733           21.6125           33.1997  \n",
       "1623          27.974933       32.285747           21.4159           32.6644  \n",
       "1624          27.751933       30.251379           20.4957           33.1280  "
      ]
     },
     "execution_count": 332,
     "metadata": {},
     "output_type": "execute_result"
    }
   ],
   "source": [
    "subset_mali.head()"
   ]
  },
  {
   "cell_type": "code",
   "execution_count": 333,
   "metadata": {},
   "outputs": [],
   "source": [
    "# Plots???"
   ]
  },
  {
   "cell_type": "markdown",
   "metadata": {},
   "source": [
    "# Global perspective\n",
    "- visualization of the development of the data from a global perspective (aggregated over all countries)\n",
    "\n",
    "Since the data is not available for all countries for all years, the following analytical methods are applied to the average data, aggregated across all countries. This allows a view from a global perspective."
   ]
  },
  {
   "cell_type": "code",
   "execution_count": 334,
   "metadata": {},
   "outputs": [],
   "source": [
    "# Creation of a subset to visualize the development of the average temperature across all countries over time\n",
    "df_temp_dev = df_avg_year.pivot(index='Country', columns='Year', values='Temperature(Avg.)')"
   ]
  },
  {
   "cell_type": "code",
   "execution_count": 335,
   "metadata": {},
   "outputs": [
    {
     "data": {
      "text/html": [
       "<div>\n",
       "<style scoped>\n",
       "    .dataframe tbody tr th:only-of-type {\n",
       "        vertical-align: middle;\n",
       "    }\n",
       "\n",
       "    .dataframe tbody tr th {\n",
       "        vertical-align: top;\n",
       "    }\n",
       "\n",
       "    .dataframe thead th {\n",
       "        text-align: right;\n",
       "    }\n",
       "</style>\n",
       "<table border=\"1\" class=\"dataframe\">\n",
       "  <thead>\n",
       "    <tr style=\"text-align: right;\">\n",
       "      <th>Year</th>\n",
       "      <th>1961</th>\n",
       "      <th>1962</th>\n",
       "      <th>1963</th>\n",
       "      <th>1964</th>\n",
       "      <th>1965</th>\n",
       "      <th>1966</th>\n",
       "      <th>1967</th>\n",
       "      <th>1968</th>\n",
       "      <th>1969</th>\n",
       "      <th>1970</th>\n",
       "      <th>...</th>\n",
       "      <th>2006</th>\n",
       "      <th>2007</th>\n",
       "      <th>2008</th>\n",
       "      <th>2009</th>\n",
       "      <th>2010</th>\n",
       "      <th>2011</th>\n",
       "      <th>2012</th>\n",
       "      <th>2013</th>\n",
       "      <th>2014</th>\n",
       "      <th>2015</th>\n",
       "    </tr>\n",
       "    <tr>\n",
       "      <th>Country</th>\n",
       "      <th></th>\n",
       "      <th></th>\n",
       "      <th></th>\n",
       "      <th></th>\n",
       "      <th></th>\n",
       "      <th></th>\n",
       "      <th></th>\n",
       "      <th></th>\n",
       "      <th></th>\n",
       "      <th></th>\n",
       "      <th></th>\n",
       "      <th></th>\n",
       "      <th></th>\n",
       "      <th></th>\n",
       "      <th></th>\n",
       "      <th></th>\n",
       "      <th></th>\n",
       "      <th></th>\n",
       "      <th></th>\n",
       "      <th></th>\n",
       "      <th></th>\n",
       "    </tr>\n",
       "  </thead>\n",
       "  <tbody>\n",
       "    <tr>\n",
       "      <th>Algeria</th>\n",
       "      <td>22.821850</td>\n",
       "      <td>22.531092</td>\n",
       "      <td>22.573142</td>\n",
       "      <td>22.629875</td>\n",
       "      <td>22.416617</td>\n",
       "      <td>22.717400</td>\n",
       "      <td>22.391058</td>\n",
       "      <td>22.640567</td>\n",
       "      <td>22.653417</td>\n",
       "      <td>22.664983</td>\n",
       "      <td>...</td>\n",
       "      <td>23.670150</td>\n",
       "      <td>23.439533</td>\n",
       "      <td>23.282325</td>\n",
       "      <td>23.763258</td>\n",
       "      <td>24.085758</td>\n",
       "      <td>23.645283</td>\n",
       "      <td>23.631542</td>\n",
       "      <td>23.331608</td>\n",
       "      <td>23.877250</td>\n",
       "      <td>23.656875</td>\n",
       "    </tr>\n",
       "    <tr>\n",
       "      <th>Andorra</th>\n",
       "      <td>11.726597</td>\n",
       "      <td>10.541921</td>\n",
       "      <td>10.142039</td>\n",
       "      <td>11.021691</td>\n",
       "      <td>10.653587</td>\n",
       "      <td>11.246103</td>\n",
       "      <td>11.184950</td>\n",
       "      <td>11.005779</td>\n",
       "      <td>10.489219</td>\n",
       "      <td>10.987002</td>\n",
       "      <td>...</td>\n",
       "      <td>12.447481</td>\n",
       "      <td>11.851174</td>\n",
       "      <td>11.741287</td>\n",
       "      <td>12.268427</td>\n",
       "      <td>11.141372</td>\n",
       "      <td>12.653303</td>\n",
       "      <td>12.028118</td>\n",
       "      <td>11.583379</td>\n",
       "      <td>12.831938</td>\n",
       "      <td>12.573667</td>\n",
       "    </tr>\n",
       "    <tr>\n",
       "      <th>Argentina</th>\n",
       "      <td>14.377203</td>\n",
       "      <td>14.317740</td>\n",
       "      <td>14.186253</td>\n",
       "      <td>13.816357</td>\n",
       "      <td>14.315731</td>\n",
       "      <td>14.121293</td>\n",
       "      <td>14.446836</td>\n",
       "      <td>14.573787</td>\n",
       "      <td>14.666767</td>\n",
       "      <td>14.597797</td>\n",
       "      <td>...</td>\n",
       "      <td>14.863774</td>\n",
       "      <td>13.939900</td>\n",
       "      <td>14.817419</td>\n",
       "      <td>14.845897</td>\n",
       "      <td>14.364311</td>\n",
       "      <td>14.669653</td>\n",
       "      <td>15.008062</td>\n",
       "      <td>14.867685</td>\n",
       "      <td>14.846941</td>\n",
       "      <td>14.962130</td>\n",
       "    </tr>\n",
       "    <tr>\n",
       "      <th>Australia</th>\n",
       "      <td>21.639133</td>\n",
       "      <td>21.498942</td>\n",
       "      <td>21.413783</td>\n",
       "      <td>21.314983</td>\n",
       "      <td>21.780050</td>\n",
       "      <td>21.026875</td>\n",
       "      <td>21.352000</td>\n",
       "      <td>21.150642</td>\n",
       "      <td>21.525333</td>\n",
       "      <td>21.404800</td>\n",
       "      <td>...</td>\n",
       "      <td>21.909517</td>\n",
       "      <td>22.129900</td>\n",
       "      <td>21.830917</td>\n",
       "      <td>22.257358</td>\n",
       "      <td>21.685558</td>\n",
       "      <td>21.458775</td>\n",
       "      <td>21.651075</td>\n",
       "      <td>22.661508</td>\n",
       "      <td>22.475333</td>\n",
       "      <td>22.296192</td>\n",
       "    </tr>\n",
       "    <tr>\n",
       "      <th>Austria</th>\n",
       "      <td>6.887542</td>\n",
       "      <td>5.180842</td>\n",
       "      <td>5.493532</td>\n",
       "      <td>6.014180</td>\n",
       "      <td>5.373588</td>\n",
       "      <td>6.543029</td>\n",
       "      <td>6.528450</td>\n",
       "      <td>6.109064</td>\n",
       "      <td>5.743198</td>\n",
       "      <td>5.648705</td>\n",
       "      <td>...</td>\n",
       "      <td>7.142133</td>\n",
       "      <td>7.766454</td>\n",
       "      <td>7.574853</td>\n",
       "      <td>7.366118</td>\n",
       "      <td>6.357192</td>\n",
       "      <td>7.764766</td>\n",
       "      <td>7.524998</td>\n",
       "      <td>7.175280</td>\n",
       "      <td>8.275609</td>\n",
       "      <td>8.170463</td>\n",
       "    </tr>\n",
       "  </tbody>\n",
       "</table>\n",
       "<p>5 rows × 55 columns</p>\n",
       "</div>"
      ],
      "text/plain": [
       "Year            1961       1962       1963       1964       1965       1966  \\\n",
       "Country                                                                       \n",
       "Algeria    22.821850  22.531092  22.573142  22.629875  22.416617  22.717400   \n",
       "Andorra    11.726597  10.541921  10.142039  11.021691  10.653587  11.246103   \n",
       "Argentina  14.377203  14.317740  14.186253  13.816357  14.315731  14.121293   \n",
       "Australia  21.639133  21.498942  21.413783  21.314983  21.780050  21.026875   \n",
       "Austria     6.887542   5.180842   5.493532   6.014180   5.373588   6.543029   \n",
       "\n",
       "Year            1967       1968       1969       1970  ...       2006  \\\n",
       "Country                                                ...              \n",
       "Algeria    22.391058  22.640567  22.653417  22.664983  ...  23.670150   \n",
       "Andorra    11.184950  11.005779  10.489219  10.987002  ...  12.447481   \n",
       "Argentina  14.446836  14.573787  14.666767  14.597797  ...  14.863774   \n",
       "Australia  21.352000  21.150642  21.525333  21.404800  ...  21.909517   \n",
       "Austria     6.528450   6.109064   5.743198   5.648705  ...   7.142133   \n",
       "\n",
       "Year            2007       2008       2009       2010       2011       2012  \\\n",
       "Country                                                                       \n",
       "Algeria    23.439533  23.282325  23.763258  24.085758  23.645283  23.631542   \n",
       "Andorra    11.851174  11.741287  12.268427  11.141372  12.653303  12.028118   \n",
       "Argentina  13.939900  14.817419  14.845897  14.364311  14.669653  15.008062   \n",
       "Australia  22.129900  21.830917  22.257358  21.685558  21.458775  21.651075   \n",
       "Austria     7.766454   7.574853   7.366118   6.357192   7.764766   7.524998   \n",
       "\n",
       "Year            2013       2014       2015  \n",
       "Country                                     \n",
       "Algeria    23.331608  23.877250  23.656875  \n",
       "Andorra    11.583379  12.831938  12.573667  \n",
       "Argentina  14.867685  14.846941  14.962130  \n",
       "Australia  22.661508  22.475333  22.296192  \n",
       "Austria     7.175280   8.275609   8.170463  \n",
       "\n",
       "[5 rows x 55 columns]"
      ]
     },
     "execution_count": 335,
     "metadata": {},
     "output_type": "execute_result"
    }
   ],
   "source": [
    "# Check if it worked\n",
    "df_temp_dev.head()"
   ]
  },
  {
   "cell_type": "code",
   "execution_count": 336,
   "metadata": {},
   "outputs": [
    {
     "data": {
      "text/plain": [
       "<matplotlib.axes._subplots.AxesSubplot at 0x7fad3cde2c10>"
      ]
     },
     "execution_count": 336,
     "metadata": {},
     "output_type": "execute_result"
    },
    {
     "data": {
      "image/png": "[encoded data removed]",
      "text/plain": [
       "<Figure size 432x288 with 1 Axes>"
      ]
     },
     "metadata": {
      "needs_background": "light"
     },
     "output_type": "display_data"
    }
   ],
   "source": [
    "# Visualization of the development of the average temperature across all countries over time\n",
    "temp_plot = df_temp_dev.mean(axis=0)\n",
    "temp_plot.plot()"
   ]
  },
  {
   "cell_type": "markdown",
   "metadata": {},
   "source": [
    "- A clear upwards trend in global temperature can be observed"
   ]
  },
  {
   "cell_type": "code",
   "execution_count": 337,
   "metadata": {},
   "outputs": [],
   "source": [
    "# Creation of a subset to visualize the development of the share of agricultural land across all countries over time\n",
    "df_agr_dev = df_avg_year.pivot(index='Country', columns='Year', values='Agricultural land in %')"
   ]
  },
  {
   "cell_type": "code",
   "execution_count": 338,
   "metadata": {},
   "outputs": [
    {
     "data": {
      "text/plain": [
       "<matplotlib.axes._subplots.AxesSubplot at 0x7fad20e700d0>"
      ]
     },
     "execution_count": 338,
     "metadata": {},
     "output_type": "execute_result"
    },
    {
     "data": {
      "image/png": "[encoded data removed]",
      "text/plain": [
       "<Figure size 432x288 with 1 Axes>"
      ]
     },
     "metadata": {
      "needs_background": "light"
     },
     "output_type": "display_data"
    }
   ],
   "source": [
    "# Visualization of the development of the share of agricultural land across all countries over time\n",
    "agr_plot = df_agr_dev.mean(axis=0)\n",
    "agr_plot.plot()"
   ]
  },
  {
   "cell_type": "markdown",
   "metadata": {},
   "source": [
    "- The percentage of agricultural land hast drastically risen in the early 90s, but is somehow constant for the past 25 years"
   ]
  },
  {
   "cell_type": "code",
   "execution_count": 339,
   "metadata": {},
   "outputs": [],
   "source": [
    "# Creation of a subset to visualize the development of GDP across all countries over time\n",
    "df_gdp_dev = df_avg_year.pivot(index='Country', columns='Year', values='GDP in billion $US')"
   ]
  },
  {
   "cell_type": "code",
   "execution_count": 340,
   "metadata": {},
   "outputs": [
    {
     "data": {
      "text/plain": [
       "<matplotlib.axes._subplots.AxesSubplot at 0x7fad20e8c810>"
      ]
     },
     "execution_count": 340,
     "metadata": {},
     "output_type": "execute_result"
    },
    {
     "data": {
      "image/png": "[encoded data removed]",
      "text/plain": [
       "<Figure size 432x288 with 1 Axes>"
      ]
     },
     "metadata": {
      "needs_background": "light"
     },
     "output_type": "display_data"
    }
   ],
   "source": [
    "# Visualization of the development of GDP across all countries over time\n",
    "gdp_plot = df_gdp_dev.mean(axis=0)\n",
    "gdp_plot.plot()"
   ]
  },
  {
   "cell_type": "markdown",
   "metadata": {},
   "source": [
    "- Worldwide GDP is rising over time with an increasing slope"
   ]
  },
  {
   "cell_type": "code",
   "execution_count": 341,
   "metadata": {},
   "outputs": [],
   "source": [
    "# Creation of a subset to visualize the development of rainfall across all countries over time\n",
    "df_rain_dev = df_avg_year.pivot(index='Country', columns='Year', values='Rainfall(Avg.)')"
   ]
  },
  {
   "cell_type": "code",
   "execution_count": 342,
   "metadata": {},
   "outputs": [
    {
     "data": {
      "text/plain": [
       "<matplotlib.axes._subplots.AxesSubplot at 0x7fad1fbedb50>"
      ]
     },
     "execution_count": 342,
     "metadata": {},
     "output_type": "execute_result"
    },
    {
     "data": {
      "image/png": "[encoded data removed]",
      "text/plain": [
       "<Figure size 432x288 with 1 Axes>"
      ]
     },
     "metadata": {
      "needs_background": "light"
     },
     "output_type": "display_data"
    }
   ],
   "source": [
    "# Visualization of the development of rainfall across all countries over time\n",
    "rain_plot = df_rain_dev.mean(axis=0)\n",
    "rain_plot.plot()"
   ]
  },
  {
   "cell_type": "markdown",
   "metadata": {},
   "source": [
    "- Rainfall underlies strong seasonal variability such no clear trend can be stated"
   ]
  },
  {
   "cell_type": "code",
   "execution_count": 343,
   "metadata": {},
   "outputs": [],
   "source": [
    "# Calculation of the average of all variables per year across all countries \n",
    "# Idea/Goal: considering the development over time from a global perspective\n",
    "df_avg_total = df_avg_year.groupby(['Year']).mean()"
   ]
  },
  {
   "cell_type": "code",
   "execution_count": 344,
   "metadata": {},
   "outputs": [
    {
     "data": {
      "text/html": [
       "<div>\n",
       "<style scoped>\n",
       "    .dataframe tbody tr th:only-of-type {\n",
       "        vertical-align: middle;\n",
       "    }\n",
       "\n",
       "    .dataframe tbody tr th {\n",
       "        vertical-align: top;\n",
       "    }\n",
       "\n",
       "    .dataframe thead th {\n",
       "        text-align: right;\n",
       "    }\n",
       "</style>\n",
       "<table border=\"1\" class=\"dataframe\">\n",
       "  <thead>\n",
       "    <tr style=\"text-align: right;\">\n",
       "      <th></th>\n",
       "      <th>Agricultural land in %</th>\n",
       "      <th>GDP in billion $US</th>\n",
       "      <th>Temperature(Avg.)</th>\n",
       "      <th>Rainfall(Avg.)</th>\n",
       "      <th>Temperature(Min)</th>\n",
       "      <th>Temperature(Max)</th>\n",
       "    </tr>\n",
       "    <tr>\n",
       "      <th>Year</th>\n",
       "      <th></th>\n",
       "      <th></th>\n",
       "      <th></th>\n",
       "      <th></th>\n",
       "      <th></th>\n",
       "      <th></th>\n",
       "    </tr>\n",
       "  </thead>\n",
       "  <tbody>\n",
       "    <tr>\n",
       "      <th>1961</th>\n",
       "      <td>36.890236</td>\n",
       "      <td>829.095768</td>\n",
       "      <td>19.209938</td>\n",
       "      <td>105.902617</td>\n",
       "      <td>13.668278</td>\n",
       "      <td>24.103289</td>\n",
       "    </tr>\n",
       "    <tr>\n",
       "      <th>1962</th>\n",
       "      <td>36.972024</td>\n",
       "      <td>794.869938</td>\n",
       "      <td>18.955687</td>\n",
       "      <td>105.292499</td>\n",
       "      <td>13.354653</td>\n",
       "      <td>24.055408</td>\n",
       "    </tr>\n",
       "    <tr>\n",
       "      <th>1963</th>\n",
       "      <td>37.186663</td>\n",
       "      <td>795.579495</td>\n",
       "      <td>18.980646</td>\n",
       "      <td>108.732038</td>\n",
       "      <td>13.104857</td>\n",
       "      <td>24.081296</td>\n",
       "    </tr>\n",
       "    <tr>\n",
       "      <th>1964</th>\n",
       "      <td>37.320988</td>\n",
       "      <td>796.633743</td>\n",
       "      <td>18.990590</td>\n",
       "      <td>102.708413</td>\n",
       "      <td>13.175111</td>\n",
       "      <td>24.114922</td>\n",
       "    </tr>\n",
       "    <tr>\n",
       "      <th>1965</th>\n",
       "      <td>37.350315</td>\n",
       "      <td>56.416164</td>\n",
       "      <td>18.854335</td>\n",
       "      <td>103.845735</td>\n",
       "      <td>13.313065</td>\n",
       "      <td>23.734884</td>\n",
       "    </tr>\n",
       "  </tbody>\n",
       "</table>\n",
       "</div>"
      ],
      "text/plain": [
       "      Agricultural land in %  GDP in billion $US  Temperature(Avg.)  \\\n",
       "Year                                                                  \n",
       "1961               36.890236          829.095768          19.209938   \n",
       "1962               36.972024          794.869938          18.955687   \n",
       "1963               37.186663          795.579495          18.980646   \n",
       "1964               37.320988          796.633743          18.990590   \n",
       "1965               37.350315           56.416164          18.854335   \n",
       "\n",
       "      Rainfall(Avg.)  Temperature(Min)  Temperature(Max)  \n",
       "Year                                                      \n",
       "1961      105.902617         13.668278         24.103289  \n",
       "1962      105.292499         13.354653         24.055408  \n",
       "1963      108.732038         13.104857         24.081296  \n",
       "1964      102.708413         13.175111         24.114922  \n",
       "1965      103.845735         13.313065         23.734884  "
      ]
     },
     "execution_count": 344,
     "metadata": {},
     "output_type": "execute_result"
    }
   ],
   "source": [
    "# Check if it worked\n",
    "df_avg_total.head()"
   ]
  },
  {
   "cell_type": "code",
   "execution_count": 345,
   "metadata": {},
   "outputs": [
    {
     "data": {
      "text/html": [
       "<div>\n",
       "<style scoped>\n",
       "    .dataframe tbody tr th:only-of-type {\n",
       "        vertical-align: middle;\n",
       "    }\n",
       "\n",
       "    .dataframe tbody tr th {\n",
       "        vertical-align: top;\n",
       "    }\n",
       "\n",
       "    .dataframe thead th {\n",
       "        text-align: right;\n",
       "    }\n",
       "</style>\n",
       "<table border=\"1\" class=\"dataframe\">\n",
       "  <thead>\n",
       "    <tr style=\"text-align: right;\">\n",
       "      <th></th>\n",
       "      <th>Agricultural land in %</th>\n",
       "      <th>GDP in billion $US</th>\n",
       "      <th>Temperature(Avg.)</th>\n",
       "      <th>Rainfall(Avg.)</th>\n",
       "      <th>Temperature(Min)</th>\n",
       "      <th>Temperature(Max)</th>\n",
       "    </tr>\n",
       "    <tr>\n",
       "      <th>Year</th>\n",
       "      <th></th>\n",
       "      <th></th>\n",
       "      <th></th>\n",
       "      <th></th>\n",
       "      <th></th>\n",
       "      <th></th>\n",
       "    </tr>\n",
       "  </thead>\n",
       "  <tbody>\n",
       "    <tr>\n",
       "      <th>2011</th>\n",
       "      <td>40.229761</td>\n",
       "      <td>556.182855</td>\n",
       "      <td>19.656787</td>\n",
       "      <td>107.950493</td>\n",
       "      <td>13.930658</td>\n",
       "      <td>24.707745</td>\n",
       "    </tr>\n",
       "    <tr>\n",
       "      <th>2012</th>\n",
       "      <td>40.241963</td>\n",
       "      <td>562.387927</td>\n",
       "      <td>19.568188</td>\n",
       "      <td>104.582968</td>\n",
       "      <td>13.470413</td>\n",
       "      <td>24.974404</td>\n",
       "    </tr>\n",
       "    <tr>\n",
       "      <th>2013</th>\n",
       "      <td>40.308723</td>\n",
       "      <td>575.909756</td>\n",
       "      <td>19.551115</td>\n",
       "      <td>101.854178</td>\n",
       "      <td>13.956644</td>\n",
       "      <td>25.063800</td>\n",
       "    </tr>\n",
       "    <tr>\n",
       "      <th>2014</th>\n",
       "      <td>40.164575</td>\n",
       "      <td>592.043212</td>\n",
       "      <td>19.872881</td>\n",
       "      <td>99.624681</td>\n",
       "      <td>14.482449</td>\n",
       "      <td>24.927780</td>\n",
       "    </tr>\n",
       "    <tr>\n",
       "      <th>2015</th>\n",
       "      <td>40.074023</td>\n",
       "      <td>549.571952</td>\n",
       "      <td>19.914742</td>\n",
       "      <td>93.628297</td>\n",
       "      <td>14.263313</td>\n",
       "      <td>25.239578</td>\n",
       "    </tr>\n",
       "  </tbody>\n",
       "</table>\n",
       "</div>"
      ],
      "text/plain": [
       "      Agricultural land in %  GDP in billion $US  Temperature(Avg.)  \\\n",
       "Year                                                                  \n",
       "2011               40.229761          556.182855          19.656787   \n",
       "2012               40.241963          562.387927          19.568188   \n",
       "2013               40.308723          575.909756          19.551115   \n",
       "2014               40.164575          592.043212          19.872881   \n",
       "2015               40.074023          549.571952          19.914742   \n",
       "\n",
       "      Rainfall(Avg.)  Temperature(Min)  Temperature(Max)  \n",
       "Year                                                      \n",
       "2011      107.950493         13.930658         24.707745  \n",
       "2012      104.582968         13.470413         24.974404  \n",
       "2013      101.854178         13.956644         25.063800  \n",
       "2014       99.624681         14.482449         24.927780  \n",
       "2015       93.628297         14.263313         25.239578  "
      ]
     },
     "execution_count": 345,
     "metadata": {},
     "output_type": "execute_result"
    }
   ],
   "source": [
    "# Check if it worked\n",
    "df_avg_total.tail()"
   ]
  },
  {
   "cell_type": "code",
   "execution_count": 346,
   "metadata": {},
   "outputs": [
    {
     "name": "stdout",
     "output_type": "stream",
     "text": [
      "<class 'pandas.core.frame.DataFrame'>\n",
      "Int64Index: 55 entries, 1961 to 2015\n",
      "Data columns (total 6 columns):\n",
      " #   Column                  Non-Null Count  Dtype  \n",
      "---  ------                  --------------  -----  \n",
      " 0   Agricultural land in %  55 non-null     float64\n",
      " 1   GDP in billion $US      55 non-null     float64\n",
      " 2   Temperature(Avg.)       55 non-null     float64\n",
      " 3   Rainfall(Avg.)          55 non-null     float64\n",
      " 4   Temperature(Min)        55 non-null     float64\n",
      " 5   Temperature(Max)        55 non-null     float64\n",
      "dtypes: float64(6)\n",
      "memory usage: 3.0 KB\n"
     ]
    }
   ],
   "source": [
    "# Get information about \n",
    "df_avg_total.info()"
   ]
  },
  {
   "cell_type": "markdown",
   "metadata": {},
   "source": [
    "# Statistical Tests"
   ]
  },
  {
   "cell_type": "markdown",
   "metadata": {},
   "source": [
    "Check assumptions for linear regression in order to apply methods"
   ]
  },
  {
   "cell_type": "markdown",
   "metadata": {},
   "source": [
    "## Normality Test"
   ]
  },
  {
   "cell_type": "code",
   "execution_count": 347,
   "metadata": {},
   "outputs": [],
   "source": [
    "from scipy.stats import shapiro"
   ]
  },
  {
   "cell_type": "code",
   "execution_count": 348,
   "metadata": {},
   "outputs": [
    {
     "data": {
      "text/plain": [
       "False"
      ]
     },
     "execution_count": 348,
     "metadata": {},
     "output_type": "execute_result"
    }
   ],
   "source": [
    "# Shapiro Wilk Test\n",
    "stat, p_value = shapiro(df_avg_total)\n",
    "p_value > 0.05 "
   ]
  },
  {
   "cell_type": "markdown",
   "metadata": {},
   "source": [
    "- Not normally distributed"
   ]
  },
  {
   "cell_type": "markdown",
   "metadata": {},
   "source": [
    "## Correlation Test"
   ]
  },
  {
   "cell_type": "code",
   "execution_count": 349,
   "metadata": {},
   "outputs": [
    {
     "data": {
      "text/html": [
       "<div>\n",
       "<style scoped>\n",
       "    .dataframe tbody tr th:only-of-type {\n",
       "        vertical-align: middle;\n",
       "    }\n",
       "\n",
       "    .dataframe tbody tr th {\n",
       "        vertical-align: top;\n",
       "    }\n",
       "\n",
       "    .dataframe thead th {\n",
       "        text-align: right;\n",
       "    }\n",
       "</style>\n",
       "<table border=\"1\" class=\"dataframe\">\n",
       "  <thead>\n",
       "    <tr style=\"text-align: right;\">\n",
       "      <th></th>\n",
       "      <th>Agricultural land in %</th>\n",
       "      <th>GDP in billion $US</th>\n",
       "      <th>Temperature(Avg.)</th>\n",
       "      <th>Rainfall(Avg.)</th>\n",
       "      <th>Temperature(Min)</th>\n",
       "      <th>Temperature(Max)</th>\n",
       "    </tr>\n",
       "  </thead>\n",
       "  <tbody>\n",
       "    <tr>\n",
       "      <th>Agricultural land in %</th>\n",
       "      <td>1.000000</td>\n",
       "      <td>0.175511</td>\n",
       "      <td>0.820384</td>\n",
       "      <td>-0.090173</td>\n",
       "      <td>0.593971</td>\n",
       "      <td>0.777567</td>\n",
       "    </tr>\n",
       "    <tr>\n",
       "      <th>GDP in billion $US</th>\n",
       "      <td>0.175511</td>\n",
       "      <td>1.000000</td>\n",
       "      <td>0.409924</td>\n",
       "      <td>0.057832</td>\n",
       "      <td>0.157398</td>\n",
       "      <td>0.376430</td>\n",
       "    </tr>\n",
       "    <tr>\n",
       "      <th>Temperature(Avg.)</th>\n",
       "      <td>0.820384</td>\n",
       "      <td>0.409924</td>\n",
       "      <td>1.000000</td>\n",
       "      <td>-0.039204</td>\n",
       "      <td>0.750763</td>\n",
       "      <td>0.910502</td>\n",
       "    </tr>\n",
       "    <tr>\n",
       "      <th>Rainfall(Avg.)</th>\n",
       "      <td>-0.090173</td>\n",
       "      <td>0.057832</td>\n",
       "      <td>-0.039204</td>\n",
       "      <td>1.000000</td>\n",
       "      <td>-0.001856</td>\n",
       "      <td>-0.095060</td>\n",
       "    </tr>\n",
       "    <tr>\n",
       "      <th>Temperature(Min)</th>\n",
       "      <td>0.593971</td>\n",
       "      <td>0.157398</td>\n",
       "      <td>0.750763</td>\n",
       "      <td>-0.001856</td>\n",
       "      <td>1.000000</td>\n",
       "      <td>0.575712</td>\n",
       "    </tr>\n",
       "    <tr>\n",
       "      <th>Temperature(Max)</th>\n",
       "      <td>0.777567</td>\n",
       "      <td>0.376430</td>\n",
       "      <td>0.910502</td>\n",
       "      <td>-0.095060</td>\n",
       "      <td>0.575712</td>\n",
       "      <td>1.000000</td>\n",
       "    </tr>\n",
       "  </tbody>\n",
       "</table>\n",
       "</div>"
      ],
      "text/plain": [
       "                        Agricultural land in %  GDP in billion $US  \\\n",
       "Agricultural land in %                1.000000            0.175511   \n",
       "GDP in billion $US                    0.175511            1.000000   \n",
       "Temperature(Avg.)                     0.820384            0.409924   \n",
       "Rainfall(Avg.)                       -0.090173            0.057832   \n",
       "Temperature(Min)                      0.593971            0.157398   \n",
       "Temperature(Max)                      0.777567            0.376430   \n",
       "\n",
       "                        Temperature(Avg.)  Rainfall(Avg.)  Temperature(Min)  \\\n",
       "Agricultural land in %           0.820384       -0.090173          0.593971   \n",
       "GDP in billion $US               0.409924        0.057832          0.157398   \n",
       "Temperature(Avg.)                1.000000       -0.039204          0.750763   \n",
       "Rainfall(Avg.)                  -0.039204        1.000000         -0.001856   \n",
       "Temperature(Min)                 0.750763       -0.001856          1.000000   \n",
       "Temperature(Max)                 0.910502       -0.095060          0.575712   \n",
       "\n",
       "                        Temperature(Max)  \n",
       "Agricultural land in %          0.777567  \n",
       "GDP in billion $US              0.376430  \n",
       "Temperature(Avg.)               0.910502  \n",
       "Rainfall(Avg.)                 -0.095060  \n",
       "Temperature(Min)                0.575712  \n",
       "Temperature(Max)                1.000000  "
      ]
     },
     "execution_count": 349,
     "metadata": {},
     "output_type": "execute_result"
    }
   ],
   "source": [
    "# Create correlation matrix\n",
    "df_avg_total.corr() "
   ]
  },
  {
   "cell_type": "markdown",
   "metadata": {},
   "source": [
    "- Highest correlation regarding avg. Temperature: GDP, Agricultural land (excluded:Temperature (Min/Max)\n",
    "- Assumptions for Pearson Correlation Coefficient: no extreme outliers, linear relationship, homoscedascity, normal distribution (negligible because of n>30), pairwise features for one item (assumption met), continuous variables (assumption met)"
   ]
  },
  {
   "cell_type": "code",
   "execution_count": 350,
   "metadata": {},
   "outputs": [],
   "source": [
    "from scipy.stats import pearsonr"
   ]
  },
  {
   "cell_type": "code",
   "execution_count": 351,
   "metadata": {},
   "outputs": [
    {
     "data": {
      "text/plain": [
       "<matplotlib.axes._subplots.AxesSubplot at 0x7fad20e95250>"
      ]
     },
     "execution_count": 351,
     "metadata": {},
     "output_type": "execute_result"
    },
    {
     "data": {
      "image/png": "[encoded data removed]",
      "text/plain": [
       "<Figure size 432x288 with 1 Axes>"
      ]
     },
     "metadata": {
      "needs_background": "light"
     },
     "output_type": "display_data"
    }
   ],
   "source": [
    "# Check outliers\n",
    "df_avg_total.boxplot('Agricultural land in %') "
   ]
  },
  {
   "cell_type": "markdown",
   "metadata": {},
   "source": [
    "- No extreme outliers"
   ]
  },
  {
   "cell_type": "code",
   "execution_count": 352,
   "metadata": {},
   "outputs": [
    {
     "data": {
      "text/plain": [
       "<matplotlib.axes._subplots.AxesSubplot at 0x7fad36810d10>"
      ]
     },
     "execution_count": 352,
     "metadata": {},
     "output_type": "execute_result"
    },
    {
     "data": {
      "image/png": "[encoded data removed]",
      "text/plain": [
       "<Figure size 432x288 with 1 Axes>"
      ]
     },
     "metadata": {
      "needs_background": "light"
     },
     "output_type": "display_data"
    }
   ],
   "source": [
    "# Check outliers\n",
    "df_avg_total.boxplot('Temperature(Avg.)') "
   ]
  },
  {
   "cell_type": "markdown",
   "metadata": {},
   "source": [
    "- No extreme outliers"
   ]
  },
  {
   "cell_type": "code",
   "execution_count": 353,
   "metadata": {},
   "outputs": [
    {
     "data": {
      "text/plain": [
       "<matplotlib.axes._subplots.AxesSubplot at 0x7fad1fd75e50>"
      ]
     },
     "execution_count": 353,
     "metadata": {},
     "output_type": "execute_result"
    },
    {
     "data": {
      "image/png": "[encoded data removed]",
      "text/plain": [
       "<Figure size 432x288 with 1 Axes>"
      ]
     },
     "metadata": {
      "needs_background": "light"
     },
     "output_type": "display_data"
    }
   ],
   "source": [
    "# Check outliers\n",
    "df_avg_total.boxplot('GDP in billion $US') "
   ]
  },
  {
   "cell_type": "markdown",
   "metadata": {},
   "source": [
    "- Only a few outliers "
   ]
  },
  {
   "cell_type": "code",
   "execution_count": 354,
   "metadata": {},
   "outputs": [
    {
     "data": {
      "text/plain": [
       "<matplotlib.axes._subplots.AxesSubplot at 0x7fad1ff7c410>"
      ]
     },
     "execution_count": 354,
     "metadata": {},
     "output_type": "execute_result"
    },
    {
     "data": {
      "image/png": "[encoded data removed]",
      "text/plain": [
       "<Figure size 432x288 with 1 Axes>"
      ]
     },
     "metadata": {
      "needs_background": "light"
     },
     "output_type": "display_data"
    }
   ],
   "source": [
    "# Check linear relationship\n",
    "df_avg_total.plot(x='Agricultural land in %', y='Temperature(Avg.)', style='k.') "
   ]
  },
  {
   "cell_type": "markdown",
   "metadata": {},
   "source": [
    "- Appears to be linear"
   ]
  },
  {
   "cell_type": "code",
   "execution_count": 355,
   "metadata": {},
   "outputs": [
    {
     "data": {
      "text/plain": [
       "<matplotlib.axes._subplots.AxesSubplot at 0x7fad20e0ef50>"
      ]
     },
     "execution_count": 355,
     "metadata": {},
     "output_type": "execute_result"
    },
    {
     "data": {
      "image/png": "[encoded data removed]",
      "text/plain": [
       "<Figure size 432x288 with 1 Axes>"
      ]
     },
     "metadata": {
      "needs_background": "light"
     },
     "output_type": "display_data"
    }
   ],
   "source": [
    "# Check linear relationship\n",
    "df_avg_total.plot(x='GDP in billion $US', y='Temperature(Avg.)', style='k.')"
   ]
  },
  {
   "cell_type": "markdown",
   "metadata": {},
   "source": [
    "-  Appears to be slightly linear"
   ]
  },
  {
   "cell_type": "code",
   "execution_count": 356,
   "metadata": {},
   "outputs": [
    {
     "data": {
      "text/plain": [
       "<matplotlib.axes._subplots.AxesSubplot at 0x7fad3b452710>"
      ]
     },
     "execution_count": 356,
     "metadata": {},
     "output_type": "execute_result"
    },
    {
     "data": {
      "image/png": "[encoded data removed]",
      "text/plain": [
       "<Figure size 432x288 with 1 Axes>"
      ]
     },
     "metadata": {
      "needs_background": "light"
     },
     "output_type": "display_data"
    }
   ],
   "source": [
    "# Check homoscedascity\n",
    "df_avg_total['Agricultural land in %'].plot(style='k.') "
   ]
  },
  {
   "cell_type": "markdown",
   "metadata": {},
   "source": [
    "- Appears to be homoscedastic"
   ]
  },
  {
   "cell_type": "code",
   "execution_count": 357,
   "metadata": {},
   "outputs": [
    {
     "data": {
      "text/plain": [
       "<matplotlib.axes._subplots.AxesSubplot at 0x7fad3b2b8e50>"
      ]
     },
     "execution_count": 357,
     "metadata": {},
     "output_type": "execute_result"
    },
    {
     "data": {
      "image/png": "[encoded data removed]",
      "text/plain": [
       "<Figure size 432x288 with 1 Axes>"
      ]
     },
     "metadata": {
      "needs_background": "light"
     },
     "output_type": "display_data"
    }
   ],
   "source": [
    "# Check homoscedascity\n",
    "df_avg_total['GDP in billion $US'].plot(style='k.') "
   ]
  },
  {
   "cell_type": "markdown",
   "metadata": {},
   "source": [
    "- Appears to be heteroscedastic"
   ]
  },
  {
   "cell_type": "code",
   "execution_count": 358,
   "metadata": {},
   "outputs": [],
   "source": [
    "# Try log function to reduce heteroscedasticity\n",
    "data_log = df_avg_total.copy()\n",
    "data_log['Agricultural land in %'] = np.log(data_log['Agricultural land in %'])\n",
    "data_log['GDP in billion $US'] = np.log(data_log['GDP in billion $US'])"
   ]
  },
  {
   "cell_type": "code",
   "execution_count": 359,
   "metadata": {},
   "outputs": [
    {
     "data": {
      "text/plain": [
       "<matplotlib.axes._subplots.AxesSubplot at 0x7fad3cee1950>"
      ]
     },
     "execution_count": 359,
     "metadata": {},
     "output_type": "execute_result"
    },
    {
     "data": {
      "image/png": "[encoded data removed]",
      "text/plain": [
       "<Figure size 432x288 with 1 Axes>"
      ]
     },
     "metadata": {
      "needs_background": "light"
     },
     "output_type": "display_data"
    }
   ],
   "source": [
    "# Check linear relationship again\n",
    "data_log.plot(x='Agricultural land in %', y='Temperature(Avg.)', style='k.') "
   ]
  },
  {
   "cell_type": "markdown",
   "metadata": {},
   "source": [
    "- No improvement"
   ]
  },
  {
   "cell_type": "code",
   "execution_count": 360,
   "metadata": {},
   "outputs": [
    {
     "data": {
      "text/plain": [
       "<matplotlib.axes._subplots.AxesSubplot at 0x7fad207e5890>"
      ]
     },
     "execution_count": 360,
     "metadata": {},
     "output_type": "execute_result"
    },
    {
     "data": {
      "image/png": "[encoded data removed]",
      "text/plain": [
       "<Figure size 432x288 with 1 Axes>"
      ]
     },
     "metadata": {
      "needs_background": "light"
     },
     "output_type": "display_data"
    }
   ],
   "source": [
    "# Check linear relationship again\n",
    "data_log.plot(x='GDP in billion $US', y='Temperature(Avg.)', style='k.') "
   ]
  },
  {
   "cell_type": "markdown",
   "metadata": {},
   "source": [
    "- Better than before -> improvement"
   ]
  },
  {
   "cell_type": "code",
   "execution_count": 361,
   "metadata": {},
   "outputs": [
    {
     "data": {
      "text/plain": [
       "<matplotlib.axes._subplots.AxesSubplot at 0x7fad20856210>"
      ]
     },
     "execution_count": 361,
     "metadata": {},
     "output_type": "execute_result"
    },
    {
     "data": {
      "image/png": "[encoded data removed]",
      "text/plain": [
       "<Figure size 432x288 with 1 Axes>"
      ]
     },
     "metadata": {
      "needs_background": "light"
     },
     "output_type": "display_data"
    }
   ],
   "source": [
    "# Check homoscedascity again\n",
    "data_log['Agricultural land in %'].plot(style='k.') "
   ]
  },
  {
   "cell_type": "markdown",
   "metadata": {},
   "source": [
    "- No improvement"
   ]
  },
  {
   "cell_type": "code",
   "execution_count": 362,
   "metadata": {},
   "outputs": [
    {
     "data": {
      "text/plain": [
       "<matplotlib.axes._subplots.AxesSubplot at 0x7fad3c03ecd0>"
      ]
     },
     "execution_count": 362,
     "metadata": {},
     "output_type": "execute_result"
    },
    {
     "data": {
      "image/png": "[encoded data removed]",
      "text/plain": [
       "<Figure size 432x288 with 1 Axes>"
      ]
     },
     "metadata": {
      "needs_background": "light"
     },
     "output_type": "display_data"
    }
   ],
   "source": [
    "# Check homoscedascity again\n",
    "data_log['GDP in billion $US'].plot(style='k.') "
   ]
  },
  {
   "cell_type": "markdown",
   "metadata": {},
   "source": [
    "- No improvement"
   ]
  },
  {
   "cell_type": "code",
   "execution_count": 363,
   "metadata": {},
   "outputs": [
    {
     "data": {
      "text/plain": [
       "(0.820383854877354, 1.7965928294543063e-14)"
      ]
     },
     "execution_count": 363,
     "metadata": {},
     "output_type": "execute_result"
    }
   ],
   "source": [
    "# Calculate r with original data (log try not successful)\n",
    "pearsonr(df_avg_total['Agricultural land in %'],df_avg_total['Temperature(Avg.)']) "
   ]
  },
  {
   "cell_type": "markdown",
   "metadata": {},
   "source": [
    "- High positiv correlation betwees agricultural land and average temperature"
   ]
  },
  {
   "cell_type": "code",
   "execution_count": 364,
   "metadata": {},
   "outputs": [
    {
     "data": {
      "text/plain": [
       "(0.40992351047408243, 0.0018830835373849961)"
      ]
     },
     "execution_count": 364,
     "metadata": {},
     "output_type": "execute_result"
    }
   ],
   "source": [
    "pearsonr(df_avg_total['GDP in billion $US'], df_avg_total['Temperature(Avg.)'])"
   ]
  },
  {
   "cell_type": "markdown",
   "metadata": {},
   "source": [
    "- Positiv correlation betwees GDP and average temperature"
   ]
  },
  {
   "cell_type": "markdown",
   "metadata": {},
   "source": [
    "### Multicollinearity and Autocorrelation\n",
    "- Test multicollinearity with Variance Inflation Factor (VIF)"
   ]
  },
  {
   "cell_type": "code",
   "execution_count": 365,
   "metadata": {},
   "outputs": [
    {
     "data": {
      "text/html": [
       "<div>\n",
       "<style scoped>\n",
       "    .dataframe tbody tr th:only-of-type {\n",
       "        vertical-align: middle;\n",
       "    }\n",
       "\n",
       "    .dataframe tbody tr th {\n",
       "        vertical-align: top;\n",
       "    }\n",
       "\n",
       "    .dataframe thead th {\n",
       "        text-align: right;\n",
       "    }\n",
       "</style>\n",
       "<table border=\"1\" class=\"dataframe\">\n",
       "  <thead>\n",
       "    <tr style=\"text-align: right;\">\n",
       "      <th></th>\n",
       "      <th>features</th>\n",
       "      <th>VIF</th>\n",
       "    </tr>\n",
       "  </thead>\n",
       "  <tbody>\n",
       "    <tr>\n",
       "      <th>0</th>\n",
       "      <td>Agricultural land in %</td>\n",
       "      <td>4494.537899</td>\n",
       "    </tr>\n",
       "    <tr>\n",
       "      <th>1</th>\n",
       "      <td>GDP in billion $US</td>\n",
       "      <td>2.376167</td>\n",
       "    </tr>\n",
       "    <tr>\n",
       "      <th>2</th>\n",
       "      <td>Temperature(Avg.)</td>\n",
       "      <td>44560.454322</td>\n",
       "    </tr>\n",
       "    <tr>\n",
       "      <th>3</th>\n",
       "      <td>Rainfall(Avg.)</td>\n",
       "      <td>624.722896</td>\n",
       "    </tr>\n",
       "    <tr>\n",
       "      <th>4</th>\n",
       "      <td>Temperature(Min)</td>\n",
       "      <td>4697.956539</td>\n",
       "    </tr>\n",
       "    <tr>\n",
       "      <th>5</th>\n",
       "      <td>Temperature(Max)</td>\n",
       "      <td>25210.170772</td>\n",
       "    </tr>\n",
       "  </tbody>\n",
       "</table>\n",
       "</div>"
      ],
      "text/plain": [
       "                 features           VIF\n",
       "0  Agricultural land in %   4494.537899\n",
       "1      GDP in billion $US      2.376167\n",
       "2       Temperature(Avg.)  44560.454322\n",
       "3          Rainfall(Avg.)    624.722896\n",
       "4        Temperature(Min)   4697.956539\n",
       "5        Temperature(Max)  25210.170772"
      ]
     },
     "execution_count": 365,
     "metadata": {},
     "output_type": "execute_result"
    }
   ],
   "source": [
    "from statsmodels.stats.outliers_influence import variance_inflation_factor\n",
    "vif = pd.DataFrame()\n",
    "vif[\"features\"] = df_avg_total.columns\n",
    "vif[\"VIF\"] = [variance_inflation_factor(df_avg_total.values, i) for i in range(df_avg_total.shape[1])]\n",
    "vif"
   ]
  },
  {
   "cell_type": "markdown",
   "metadata": {},
   "source": [
    "- An extremely high multicollinearity of the independent variable 'Agricultural land in %' can be observed"
   ]
  },
  {
   "cell_type": "code",
   "execution_count": 366,
   "metadata": {},
   "outputs": [
    {
     "data": {
      "text/plain": [
       "0.9921322616688153"
      ]
     },
     "execution_count": 366,
     "metadata": {},
     "output_type": "execute_result"
    }
   ],
   "source": [
    "# test autocorrelation\n",
    "df_avg_total['Agricultural land in %'].autocorr() "
   ]
  },
  {
   "cell_type": "markdown",
   "metadata": {},
   "source": [
    "- High autocorrelation"
   ]
  },
  {
   "cell_type": "code",
   "execution_count": 367,
   "metadata": {},
   "outputs": [
    {
     "data": {
      "text/plain": [
       "0.8925758479677051"
      ]
     },
     "execution_count": 367,
     "metadata": {},
     "output_type": "execute_result"
    }
   ],
   "source": [
    "df_avg_total['GDP in billion $US'].autocorr() "
   ]
  },
  {
   "cell_type": "markdown",
   "metadata": {},
   "source": [
    "- High autocorrelation"
   ]
  },
  {
   "cell_type": "markdown",
   "metadata": {},
   "source": [
    "### Conclusion:\n",
    "Not all assumptions were met. \n",
    "Especially a high multicollinearity and autocorrelation was tested.\n",
    "Despite the insufficient database, a linear regression gets implemented next."
   ]
  },
  {
   "cell_type": "markdown",
   "metadata": {},
   "source": [
    "# Applied Methods"
   ]
  },
  {
   "cell_type": "markdown",
   "metadata": {},
   "source": [
    "## Linear Regression"
   ]
  },
  {
   "cell_type": "markdown",
   "metadata": {},
   "source": [
    "### Simple Linear Regression"
   ]
  },
  {
   "cell_type": "code",
   "execution_count": 368,
   "metadata": {},
   "outputs": [],
   "source": [
    "from sklearn.model_selection import train_test_split\n",
    "from sklearn.linear_model import LinearRegression\n",
    "from sklearn import metrics"
   ]
  },
  {
   "cell_type": "code",
   "execution_count": 369,
   "metadata": {},
   "outputs": [],
   "source": [
    "# Dataset for linear regression\n",
    "data_lr = df_avg_total"
   ]
  },
  {
   "cell_type": "code",
   "execution_count": 370,
   "metadata": {},
   "outputs": [
    {
     "data": {
      "text/html": [
       "<div>\n",
       "<style scoped>\n",
       "    .dataframe tbody tr th:only-of-type {\n",
       "        vertical-align: middle;\n",
       "    }\n",
       "\n",
       "    .dataframe tbody tr th {\n",
       "        vertical-align: top;\n",
       "    }\n",
       "\n",
       "    .dataframe thead th {\n",
       "        text-align: right;\n",
       "    }\n",
       "</style>\n",
       "<table border=\"1\" class=\"dataframe\">\n",
       "  <thead>\n",
       "    <tr style=\"text-align: right;\">\n",
       "      <th></th>\n",
       "      <th>Agricultural land in %</th>\n",
       "      <th>GDP in billion $US</th>\n",
       "      <th>Temperature(Avg.)</th>\n",
       "      <th>Rainfall(Avg.)</th>\n",
       "      <th>Temperature(Min)</th>\n",
       "      <th>Temperature(Max)</th>\n",
       "    </tr>\n",
       "    <tr>\n",
       "      <th>Year</th>\n",
       "      <th></th>\n",
       "      <th></th>\n",
       "      <th></th>\n",
       "      <th></th>\n",
       "      <th></th>\n",
       "      <th></th>\n",
       "    </tr>\n",
       "  </thead>\n",
       "  <tbody>\n",
       "    <tr>\n",
       "      <th>1961</th>\n",
       "      <td>36.890236</td>\n",
       "      <td>829.095768</td>\n",
       "      <td>19.209938</td>\n",
       "      <td>105.902617</td>\n",
       "      <td>13.668278</td>\n",
       "      <td>24.103289</td>\n",
       "    </tr>\n",
       "    <tr>\n",
       "      <th>1962</th>\n",
       "      <td>36.972024</td>\n",
       "      <td>794.869938</td>\n",
       "      <td>18.955687</td>\n",
       "      <td>105.292499</td>\n",
       "      <td>13.354653</td>\n",
       "      <td>24.055408</td>\n",
       "    </tr>\n",
       "    <tr>\n",
       "      <th>1963</th>\n",
       "      <td>37.186663</td>\n",
       "      <td>795.579495</td>\n",
       "      <td>18.980646</td>\n",
       "      <td>108.732038</td>\n",
       "      <td>13.104857</td>\n",
       "      <td>24.081296</td>\n",
       "    </tr>\n",
       "    <tr>\n",
       "      <th>1964</th>\n",
       "      <td>37.320988</td>\n",
       "      <td>796.633743</td>\n",
       "      <td>18.990590</td>\n",
       "      <td>102.708413</td>\n",
       "      <td>13.175111</td>\n",
       "      <td>24.114922</td>\n",
       "    </tr>\n",
       "    <tr>\n",
       "      <th>1965</th>\n",
       "      <td>37.350315</td>\n",
       "      <td>56.416164</td>\n",
       "      <td>18.854335</td>\n",
       "      <td>103.845735</td>\n",
       "      <td>13.313065</td>\n",
       "      <td>23.734884</td>\n",
       "    </tr>\n",
       "    <tr>\n",
       "      <th>1966</th>\n",
       "      <td>37.422487</td>\n",
       "      <td>56.078305</td>\n",
       "      <td>19.096815</td>\n",
       "      <td>109.118108</td>\n",
       "      <td>13.573965</td>\n",
       "      <td>24.056406</td>\n",
       "    </tr>\n",
       "    <tr>\n",
       "      <th>1967</th>\n",
       "      <td>37.466726</td>\n",
       "      <td>18.464393</td>\n",
       "      <td>18.917389</td>\n",
       "      <td>99.890753</td>\n",
       "      <td>13.310143</td>\n",
       "      <td>24.088052</td>\n",
       "    </tr>\n",
       "    <tr>\n",
       "      <th>1968</th>\n",
       "      <td>37.522787</td>\n",
       "      <td>19.261822</td>\n",
       "      <td>18.870486</td>\n",
       "      <td>103.517841</td>\n",
       "      <td>13.165824</td>\n",
       "      <td>23.773694</td>\n",
       "    </tr>\n",
       "    <tr>\n",
       "      <th>1969</th>\n",
       "      <td>37.738694</td>\n",
       "      <td>20.825057</td>\n",
       "      <td>19.148685</td>\n",
       "      <td>106.483362</td>\n",
       "      <td>13.406693</td>\n",
       "      <td>24.371366</td>\n",
       "    </tr>\n",
       "    <tr>\n",
       "      <th>1970</th>\n",
       "      <td>37.662114</td>\n",
       "      <td>19.203894</td>\n",
       "      <td>19.049279</td>\n",
       "      <td>109.023246</td>\n",
       "      <td>13.505669</td>\n",
       "      <td>24.165221</td>\n",
       "    </tr>\n",
       "    <tr>\n",
       "      <th>1971</th>\n",
       "      <td>37.621817</td>\n",
       "      <td>21.490060</td>\n",
       "      <td>18.794026</td>\n",
       "      <td>103.203927</td>\n",
       "      <td>13.580738</td>\n",
       "      <td>23.865881</td>\n",
       "    </tr>\n",
       "    <tr>\n",
       "      <th>1972</th>\n",
       "      <td>37.689790</td>\n",
       "      <td>25.592866</td>\n",
       "      <td>18.958231</td>\n",
       "      <td>103.706227</td>\n",
       "      <td>13.691125</td>\n",
       "      <td>23.944464</td>\n",
       "    </tr>\n",
       "    <tr>\n",
       "      <th>1973</th>\n",
       "      <td>37.932769</td>\n",
       "      <td>32.690859</td>\n",
       "      <td>19.115286</td>\n",
       "      <td>106.323097</td>\n",
       "      <td>13.587259</td>\n",
       "      <td>24.531885</td>\n",
       "    </tr>\n",
       "    <tr>\n",
       "      <th>1974</th>\n",
       "      <td>37.961239</td>\n",
       "      <td>38.030160</td>\n",
       "      <td>18.855502</td>\n",
       "      <td>105.253272</td>\n",
       "      <td>13.938866</td>\n",
       "      <td>23.822141</td>\n",
       "    </tr>\n",
       "    <tr>\n",
       "      <th>1975</th>\n",
       "      <td>38.093105</td>\n",
       "      <td>42.679731</td>\n",
       "      <td>18.905286</td>\n",
       "      <td>106.270273</td>\n",
       "      <td>13.615856</td>\n",
       "      <td>24.128791</td>\n",
       "    </tr>\n",
       "    <tr>\n",
       "      <th>1976</th>\n",
       "      <td>38.246421</td>\n",
       "      <td>45.405478</td>\n",
       "      <td>18.775900</td>\n",
       "      <td>101.614548</td>\n",
       "      <td>13.338364</td>\n",
       "      <td>23.908835</td>\n",
       "    </tr>\n",
       "    <tr>\n",
       "      <th>1977</th>\n",
       "      <td>38.374194</td>\n",
       "      <td>51.629114</td>\n",
       "      <td>19.121513</td>\n",
       "      <td>101.139087</td>\n",
       "      <td>13.690658</td>\n",
       "      <td>23.880463</td>\n",
       "    </tr>\n",
       "    <tr>\n",
       "      <th>1978</th>\n",
       "      <td>38.470600</td>\n",
       "      <td>62.714367</td>\n",
       "      <td>18.975829</td>\n",
       "      <td>102.646494</td>\n",
       "      <td>13.544676</td>\n",
       "      <td>23.918722</td>\n",
       "    </tr>\n",
       "    <tr>\n",
       "      <th>1979</th>\n",
       "      <td>38.498727</td>\n",
       "      <td>73.363927</td>\n",
       "      <td>19.108172</td>\n",
       "      <td>109.993740</td>\n",
       "      <td>13.472168</td>\n",
       "      <td>24.033228</td>\n",
       "    </tr>\n",
       "    <tr>\n",
       "      <th>1980</th>\n",
       "      <td>38.608112</td>\n",
       "      <td>83.310124</td>\n",
       "      <td>19.128159</td>\n",
       "      <td>104.193340</td>\n",
       "      <td>13.453444</td>\n",
       "      <td>24.318188</td>\n",
       "    </tr>\n",
       "    <tr>\n",
       "      <th>1981</th>\n",
       "      <td>38.671997</td>\n",
       "      <td>83.392565</td>\n",
       "      <td>19.120611</td>\n",
       "      <td>109.254543</td>\n",
       "      <td>13.278421</td>\n",
       "      <td>24.136462</td>\n",
       "    </tr>\n",
       "    <tr>\n",
       "      <th>1982</th>\n",
       "      <td>38.794987</td>\n",
       "      <td>80.699380</td>\n",
       "      <td>19.190726</td>\n",
       "      <td>101.964143</td>\n",
       "      <td>13.706729</td>\n",
       "      <td>24.355361</td>\n",
       "    </tr>\n",
       "    <tr>\n",
       "      <th>1983</th>\n",
       "      <td>38.789338</td>\n",
       "      <td>79.821568</td>\n",
       "      <td>19.388501</td>\n",
       "      <td>99.495332</td>\n",
       "      <td>13.511993</td>\n",
       "      <td>24.985225</td>\n",
       "    </tr>\n",
       "    <tr>\n",
       "      <th>1984</th>\n",
       "      <td>39.082343</td>\n",
       "      <td>79.817754</td>\n",
       "      <td>19.055955</td>\n",
       "      <td>105.810921</td>\n",
       "      <td>13.663528</td>\n",
       "      <td>24.163028</td>\n",
       "    </tr>\n",
       "    <tr>\n",
       "      <th>1985</th>\n",
       "      <td>39.232051</td>\n",
       "      <td>83.198568</td>\n",
       "      <td>19.053782</td>\n",
       "      <td>99.346643</td>\n",
       "      <td>12.973087</td>\n",
       "      <td>24.315301</td>\n",
       "    </tr>\n",
       "    <tr>\n",
       "      <th>1986</th>\n",
       "      <td>39.319293</td>\n",
       "      <td>106.096699</td>\n",
       "      <td>19.077649</td>\n",
       "      <td>100.406269</td>\n",
       "      <td>13.146590</td>\n",
       "      <td>24.229388</td>\n",
       "    </tr>\n",
       "    <tr>\n",
       "      <th>1987</th>\n",
       "      <td>39.474546</td>\n",
       "      <td>125.923915</td>\n",
       "      <td>19.453470</td>\n",
       "      <td>102.091028</td>\n",
       "      <td>13.579467</td>\n",
       "      <td>24.573357</td>\n",
       "    </tr>\n",
       "    <tr>\n",
       "      <th>1988</th>\n",
       "      <td>39.637108</td>\n",
       "      <td>143.835694</td>\n",
       "      <td>19.426429</td>\n",
       "      <td>110.587353</td>\n",
       "      <td>14.146041</td>\n",
       "      <td>24.600727</td>\n",
       "    </tr>\n",
       "    <tr>\n",
       "      <th>1989</th>\n",
       "      <td>39.705566</td>\n",
       "      <td>148.259743</td>\n",
       "      <td>19.334562</td>\n",
       "      <td>101.686290</td>\n",
       "      <td>13.787920</td>\n",
       "      <td>24.381375</td>\n",
       "    </tr>\n",
       "    <tr>\n",
       "      <th>1990</th>\n",
       "      <td>39.659915</td>\n",
       "      <td>170.713050</td>\n",
       "      <td>19.605944</td>\n",
       "      <td>102.551220</td>\n",
       "      <td>14.126439</td>\n",
       "      <td>24.654494</td>\n",
       "    </tr>\n",
       "    <tr>\n",
       "      <th>1991</th>\n",
       "      <td>39.397597</td>\n",
       "      <td>183.183597</td>\n",
       "      <td>19.305940</td>\n",
       "      <td>97.871808</td>\n",
       "      <td>13.778510</td>\n",
       "      <td>24.514740</td>\n",
       "    </tr>\n",
       "    <tr>\n",
       "      <th>1992</th>\n",
       "      <td>39.326038</td>\n",
       "      <td>195.695099</td>\n",
       "      <td>19.275672</td>\n",
       "      <td>95.751184</td>\n",
       "      <td>13.833440</td>\n",
       "      <td>24.557015</td>\n",
       "    </tr>\n",
       "    <tr>\n",
       "      <th>1993</th>\n",
       "      <td>39.319126</td>\n",
       "      <td>196.346371</td>\n",
       "      <td>19.274626</td>\n",
       "      <td>103.872885</td>\n",
       "      <td>13.996191</td>\n",
       "      <td>24.222554</td>\n",
       "    </tr>\n",
       "    <tr>\n",
       "      <th>1994</th>\n",
       "      <td>39.126821</td>\n",
       "      <td>213.154927</td>\n",
       "      <td>19.528770</td>\n",
       "      <td>98.904238</td>\n",
       "      <td>13.956970</td>\n",
       "      <td>24.876466</td>\n",
       "    </tr>\n",
       "    <tr>\n",
       "      <th>1995</th>\n",
       "      <td>39.134299</td>\n",
       "      <td>241.500661</td>\n",
       "      <td>19.517668</td>\n",
       "      <td>105.690018</td>\n",
       "      <td>13.951531</td>\n",
       "      <td>24.821894</td>\n",
       "    </tr>\n",
       "    <tr>\n",
       "      <th>1996</th>\n",
       "      <td>39.241977</td>\n",
       "      <td>241.979996</td>\n",
       "      <td>19.249270</td>\n",
       "      <td>106.928403</td>\n",
       "      <td>13.779977</td>\n",
       "      <td>24.343750</td>\n",
       "    </tr>\n",
       "    <tr>\n",
       "      <th>1997</th>\n",
       "      <td>39.336558</td>\n",
       "      <td>234.296643</td>\n",
       "      <td>19.598461</td>\n",
       "      <td>102.205560</td>\n",
       "      <td>14.188587</td>\n",
       "      <td>24.709332</td>\n",
       "    </tr>\n",
       "    <tr>\n",
       "      <th>1998</th>\n",
       "      <td>39.396922</td>\n",
       "      <td>231.185412</td>\n",
       "      <td>19.866750</td>\n",
       "      <td>108.026270</td>\n",
       "      <td>14.474212</td>\n",
       "      <td>25.051680</td>\n",
       "    </tr>\n",
       "    <tr>\n",
       "      <th>1999</th>\n",
       "      <td>39.485184</td>\n",
       "      <td>237.600404</td>\n",
       "      <td>19.595472</td>\n",
       "      <td>111.441693</td>\n",
       "      <td>14.177911</td>\n",
       "      <td>24.707635</td>\n",
       "    </tr>\n",
       "    <tr>\n",
       "      <th>2000</th>\n",
       "      <td>39.710054</td>\n",
       "      <td>236.942293</td>\n",
       "      <td>19.366140</td>\n",
       "      <td>107.419268</td>\n",
       "      <td>13.778972</td>\n",
       "      <td>24.433389</td>\n",
       "    </tr>\n",
       "    <tr>\n",
       "      <th>2001</th>\n",
       "      <td>39.732009</td>\n",
       "      <td>231.433617</td>\n",
       "      <td>19.464054</td>\n",
       "      <td>104.002773</td>\n",
       "      <td>13.677236</td>\n",
       "      <td>24.672369</td>\n",
       "    </tr>\n",
       "    <tr>\n",
       "      <th>2002</th>\n",
       "      <td>39.589568</td>\n",
       "      <td>239.661185</td>\n",
       "      <td>19.602240</td>\n",
       "      <td>104.489637</td>\n",
       "      <td>14.050345</td>\n",
       "      <td>24.596563</td>\n",
       "    </tr>\n",
       "    <tr>\n",
       "      <th>2003</th>\n",
       "      <td>39.699642</td>\n",
       "      <td>277.127468</td>\n",
       "      <td>19.626651</td>\n",
       "      <td>104.721512</td>\n",
       "      <td>13.704675</td>\n",
       "      <td>25.096601</td>\n",
       "    </tr>\n",
       "    <tr>\n",
       "      <th>2004</th>\n",
       "      <td>39.668535</td>\n",
       "      <td>316.759093</td>\n",
       "      <td>19.496066</td>\n",
       "      <td>101.338957</td>\n",
       "      <td>14.019481</td>\n",
       "      <td>24.675580</td>\n",
       "    </tr>\n",
       "    <tr>\n",
       "      <th>2005</th>\n",
       "      <td>39.726236</td>\n",
       "      <td>339.093672</td>\n",
       "      <td>19.533304</td>\n",
       "      <td>101.403172</td>\n",
       "      <td>13.768267</td>\n",
       "      <td>24.807213</td>\n",
       "    </tr>\n",
       "    <tr>\n",
       "      <th>2006</th>\n",
       "      <td>39.603136</td>\n",
       "      <td>365.910859</td>\n",
       "      <td>19.624689</td>\n",
       "      <td>105.710185</td>\n",
       "      <td>13.760647</td>\n",
       "      <td>25.087071</td>\n",
       "    </tr>\n",
       "    <tr>\n",
       "      <th>2007</th>\n",
       "      <td>40.096448</td>\n",
       "      <td>419.081641</td>\n",
       "      <td>19.639392</td>\n",
       "      <td>111.136865</td>\n",
       "      <td>14.033461</td>\n",
       "      <td>24.595119</td>\n",
       "    </tr>\n",
       "    <tr>\n",
       "      <th>2008</th>\n",
       "      <td>40.224087</td>\n",
       "      <td>468.592757</td>\n",
       "      <td>19.485814</td>\n",
       "      <td>110.659074</td>\n",
       "      <td>13.843252</td>\n",
       "      <td>24.605922</td>\n",
       "    </tr>\n",
       "    <tr>\n",
       "      <th>2009</th>\n",
       "      <td>40.101568</td>\n",
       "      <td>446.692048</td>\n",
       "      <td>19.735278</td>\n",
       "      <td>100.218983</td>\n",
       "      <td>13.849661</td>\n",
       "      <td>24.947305</td>\n",
       "    </tr>\n",
       "    <tr>\n",
       "      <th>2010</th>\n",
       "      <td>40.219523</td>\n",
       "      <td>491.960944</td>\n",
       "      <td>19.639531</td>\n",
       "      <td>111.547997</td>\n",
       "      <td>13.746854</td>\n",
       "      <td>25.359723</td>\n",
       "    </tr>\n",
       "    <tr>\n",
       "      <th>2011</th>\n",
       "      <td>40.229761</td>\n",
       "      <td>556.182855</td>\n",
       "      <td>19.656787</td>\n",
       "      <td>107.950493</td>\n",
       "      <td>13.930658</td>\n",
       "      <td>24.707745</td>\n",
       "    </tr>\n",
       "    <tr>\n",
       "      <th>2012</th>\n",
       "      <td>40.241963</td>\n",
       "      <td>562.387927</td>\n",
       "      <td>19.568188</td>\n",
       "      <td>104.582968</td>\n",
       "      <td>13.470413</td>\n",
       "      <td>24.974404</td>\n",
       "    </tr>\n",
       "    <tr>\n",
       "      <th>2013</th>\n",
       "      <td>40.308723</td>\n",
       "      <td>575.909756</td>\n",
       "      <td>19.551115</td>\n",
       "      <td>101.854178</td>\n",
       "      <td>13.956644</td>\n",
       "      <td>25.063800</td>\n",
       "    </tr>\n",
       "    <tr>\n",
       "      <th>2014</th>\n",
       "      <td>40.164575</td>\n",
       "      <td>592.043212</td>\n",
       "      <td>19.872881</td>\n",
       "      <td>99.624681</td>\n",
       "      <td>14.482449</td>\n",
       "      <td>24.927780</td>\n",
       "    </tr>\n",
       "    <tr>\n",
       "      <th>2015</th>\n",
       "      <td>40.074023</td>\n",
       "      <td>549.571952</td>\n",
       "      <td>19.914742</td>\n",
       "      <td>93.628297</td>\n",
       "      <td>14.263313</td>\n",
       "      <td>25.239578</td>\n",
       "    </tr>\n",
       "  </tbody>\n",
       "</table>\n",
       "</div>"
      ],
      "text/plain": [
       "      Agricultural land in %  GDP in billion $US  Temperature(Avg.)  \\\n",
       "Year                                                                  \n",
       "1961               36.890236          829.095768          19.209938   \n",
       "1962               36.972024          794.869938          18.955687   \n",
       "1963               37.186663          795.579495          18.980646   \n",
       "1964               37.320988          796.633743          18.990590   \n",
       "1965               37.350315           56.416164          18.854335   \n",
       "1966               37.422487           56.078305          19.096815   \n",
       "1967               37.466726           18.464393          18.917389   \n",
       "1968               37.522787           19.261822          18.870486   \n",
       "1969               37.738694           20.825057          19.148685   \n",
       "1970               37.662114           19.203894          19.049279   \n",
       "1971               37.621817           21.490060          18.794026   \n",
       "1972               37.689790           25.592866          18.958231   \n",
       "1973               37.932769           32.690859          19.115286   \n",
       "1974               37.961239           38.030160          18.855502   \n",
       "1975               38.093105           42.679731          18.905286   \n",
       "1976               38.246421           45.405478          18.775900   \n",
       "1977               38.374194           51.629114          19.121513   \n",
       "1978               38.470600           62.714367          18.975829   \n",
       "1979               38.498727           73.363927          19.108172   \n",
       "1980               38.608112           83.310124          19.128159   \n",
       "1981               38.671997           83.392565          19.120611   \n",
       "1982               38.794987           80.699380          19.190726   \n",
       "1983               38.789338           79.821568          19.388501   \n",
       "1984               39.082343           79.817754          19.055955   \n",
       "1985               39.232051           83.198568          19.053782   \n",
       "1986               39.319293          106.096699          19.077649   \n",
       "1987               39.474546          125.923915          19.453470   \n",
       "1988               39.637108          143.835694          19.426429   \n",
       "1989               39.705566          148.259743          19.334562   \n",
       "1990               39.659915          170.713050          19.605944   \n",
       "1991               39.397597          183.183597          19.305940   \n",
       "1992               39.326038          195.695099          19.275672   \n",
       "1993               39.319126          196.346371          19.274626   \n",
       "1994               39.126821          213.154927          19.528770   \n",
       "1995               39.134299          241.500661          19.517668   \n",
       "1996               39.241977          241.979996          19.249270   \n",
       "1997               39.336558          234.296643          19.598461   \n",
       "1998               39.396922          231.185412          19.866750   \n",
       "1999               39.485184          237.600404          19.595472   \n",
       "2000               39.710054          236.942293          19.366140   \n",
       "2001               39.732009          231.433617          19.464054   \n",
       "2002               39.589568          239.661185          19.602240   \n",
       "2003               39.699642          277.127468          19.626651   \n",
       "2004               39.668535          316.759093          19.496066   \n",
       "2005               39.726236          339.093672          19.533304   \n",
       "2006               39.603136          365.910859          19.624689   \n",
       "2007               40.096448          419.081641          19.639392   \n",
       "2008               40.224087          468.592757          19.485814   \n",
       "2009               40.101568          446.692048          19.735278   \n",
       "2010               40.219523          491.960944          19.639531   \n",
       "2011               40.229761          556.182855          19.656787   \n",
       "2012               40.241963          562.387927          19.568188   \n",
       "2013               40.308723          575.909756          19.551115   \n",
       "2014               40.164575          592.043212          19.872881   \n",
       "2015               40.074023          549.571952          19.914742   \n",
       "\n",
       "      Rainfall(Avg.)  Temperature(Min)  Temperature(Max)  \n",
       "Year                                                      \n",
       "1961      105.902617         13.668278         24.103289  \n",
       "1962      105.292499         13.354653         24.055408  \n",
       "1963      108.732038         13.104857         24.081296  \n",
       "1964      102.708413         13.175111         24.114922  \n",
       "1965      103.845735         13.313065         23.734884  \n",
       "1966      109.118108         13.573965         24.056406  \n",
       "1967       99.890753         13.310143         24.088052  \n",
       "1968      103.517841         13.165824         23.773694  \n",
       "1969      106.483362         13.406693         24.371366  \n",
       "1970      109.023246         13.505669         24.165221  \n",
       "1971      103.203927         13.580738         23.865881  \n",
       "1972      103.706227         13.691125         23.944464  \n",
       "1973      106.323097         13.587259         24.531885  \n",
       "1974      105.253272         13.938866         23.822141  \n",
       "1975      106.270273         13.615856         24.128791  \n",
       "1976      101.614548         13.338364         23.908835  \n",
       "1977      101.139087         13.690658         23.880463  \n",
       "1978      102.646494         13.544676         23.918722  \n",
       "1979      109.993740         13.472168         24.033228  \n",
       "1980      104.193340         13.453444         24.318188  \n",
       "1981      109.254543         13.278421         24.136462  \n",
       "1982      101.964143         13.706729         24.355361  \n",
       "1983       99.495332         13.511993         24.985225  \n",
       "1984      105.810921         13.663528         24.163028  \n",
       "1985       99.346643         12.973087         24.315301  \n",
       "1986      100.406269         13.146590         24.229388  \n",
       "1987      102.091028         13.579467         24.573357  \n",
       "1988      110.587353         14.146041         24.600727  \n",
       "1989      101.686290         13.787920         24.381375  \n",
       "1990      102.551220         14.126439         24.654494  \n",
       "1991       97.871808         13.778510         24.514740  \n",
       "1992       95.751184         13.833440         24.557015  \n",
       "1993      103.872885         13.996191         24.222554  \n",
       "1994       98.904238         13.956970         24.876466  \n",
       "1995      105.690018         13.951531         24.821894  \n",
       "1996      106.928403         13.779977         24.343750  \n",
       "1997      102.205560         14.188587         24.709332  \n",
       "1998      108.026270         14.474212         25.051680  \n",
       "1999      111.441693         14.177911         24.707635  \n",
       "2000      107.419268         13.778972         24.433389  \n",
       "2001      104.002773         13.677236         24.672369  \n",
       "2002      104.489637         14.050345         24.596563  \n",
       "2003      104.721512         13.704675         25.096601  \n",
       "2004      101.338957         14.019481         24.675580  \n",
       "2005      101.403172         13.768267         24.807213  \n",
       "2006      105.710185         13.760647         25.087071  \n",
       "2007      111.136865         14.033461         24.595119  \n",
       "2008      110.659074         13.843252         24.605922  \n",
       "2009      100.218983         13.849661         24.947305  \n",
       "2010      111.547997         13.746854         25.359723  \n",
       "2011      107.950493         13.930658         24.707745  \n",
       "2012      104.582968         13.470413         24.974404  \n",
       "2013      101.854178         13.956644         25.063800  \n",
       "2014       99.624681         14.482449         24.927780  \n",
       "2015       93.628297         14.263313         25.239578  "
      ]
     },
     "execution_count": 370,
     "metadata": {},
     "output_type": "execute_result"
    }
   ],
   "source": [
    "# Show data\n",
    "data_lr"
   ]
  },
  {
   "cell_type": "code",
   "execution_count": 371,
   "metadata": {},
   "outputs": [
    {
     "data": {
      "text/plain": [
       "(55, 6)"
      ]
     },
     "execution_count": 371,
     "metadata": {},
     "output_type": "execute_result"
    }
   ],
   "source": [
    "# Show count of rows and columns\n",
    "data_lr.shape"
   ]
  },
  {
   "cell_type": "code",
   "execution_count": 372,
   "metadata": {},
   "outputs": [
    {
     "data": {
      "text/plain": [
       "Index(['Agricultural land in %', 'GDP in billion $US', 'Temperature(Avg.)',\n",
       "       'Rainfall(Avg.)', 'Temperature(Min)', 'Temperature(Max)'],\n",
       "      dtype='object')"
      ]
     },
     "execution_count": 372,
     "metadata": {},
     "output_type": "execute_result"
    }
   ],
   "source": [
    "# Show column names\n",
    "data_lr.columns"
   ]
  },
  {
   "cell_type": "code",
   "execution_count": 373,
   "metadata": {},
   "outputs": [
    {
     "data": {
      "text/plain": [
       "Int64Index([1961, 1962, 1963, 1964, 1965, 1966, 1967, 1968, 1969, 1970, 1971,\n",
       "            1972, 1973, 1974, 1975, 1976, 1977, 1978, 1979, 1980, 1981, 1982,\n",
       "            1983, 1984, 1985, 1986, 1987, 1988, 1989, 1990, 1991, 1992, 1993,\n",
       "            1994, 1995, 1996, 1997, 1998, 1999, 2000, 2001, 2002, 2003, 2004,\n",
       "            2005, 2006, 2007, 2008, 2009, 2010, 2011, 2012, 2013, 2014, 2015],\n",
       "           dtype='int64', name='Year')"
      ]
     },
     "execution_count": 373,
     "metadata": {},
     "output_type": "execute_result"
    }
   ],
   "source": [
    "# Show years\n",
    "data_lr.index"
   ]
  },
  {
   "cell_type": "code",
   "execution_count": 374,
   "metadata": {},
   "outputs": [
    {
     "data": {
      "text/html": [
       "<div>\n",
       "<style scoped>\n",
       "    .dataframe tbody tr th:only-of-type {\n",
       "        vertical-align: middle;\n",
       "    }\n",
       "\n",
       "    .dataframe tbody tr th {\n",
       "        vertical-align: top;\n",
       "    }\n",
       "\n",
       "    .dataframe thead th {\n",
       "        text-align: right;\n",
       "    }\n",
       "</style>\n",
       "<table border=\"1\" class=\"dataframe\">\n",
       "  <thead>\n",
       "    <tr style=\"text-align: right;\">\n",
       "      <th></th>\n",
       "      <th>Agricultural land in %</th>\n",
       "      <th>GDP in billion $US</th>\n",
       "      <th>Temperature(Avg.)</th>\n",
       "      <th>Rainfall(Avg.)</th>\n",
       "      <th>Temperature(Min)</th>\n",
       "      <th>Temperature(Max)</th>\n",
       "    </tr>\n",
       "  </thead>\n",
       "  <tbody>\n",
       "    <tr>\n",
       "      <th>count</th>\n",
       "      <td>55.000000</td>\n",
       "      <td>55.000000</td>\n",
       "      <td>55.000000</td>\n",
       "      <td>55.000000</td>\n",
       "      <td>55.000000</td>\n",
       "      <td>55.000000</td>\n",
       "    </tr>\n",
       "    <tr>\n",
       "      <th>mean</th>\n",
       "      <td>38.919115</td>\n",
       "      <td>247.807065</td>\n",
       "      <td>19.300161</td>\n",
       "      <td>104.236972</td>\n",
       "      <td>13.707005</td>\n",
       "      <td>24.452492</td>\n",
       "    </tr>\n",
       "    <tr>\n",
       "      <th>std</th>\n",
       "      <td>1.004768</td>\n",
       "      <td>229.852404</td>\n",
       "      <td>0.305102</td>\n",
       "      <td>4.015552</td>\n",
       "      <td>0.336003</td>\n",
       "      <td>0.415952</td>\n",
       "    </tr>\n",
       "    <tr>\n",
       "      <th>min</th>\n",
       "      <td>36.890236</td>\n",
       "      <td>18.464393</td>\n",
       "      <td>18.775900</td>\n",
       "      <td>93.628297</td>\n",
       "      <td>12.973087</td>\n",
       "      <td>23.734884</td>\n",
       "    </tr>\n",
       "    <tr>\n",
       "      <th>25%</th>\n",
       "      <td>38.027172</td>\n",
       "      <td>68.039147</td>\n",
       "      <td>19.054869</td>\n",
       "      <td>101.650419</td>\n",
       "      <td>13.488919</td>\n",
       "      <td>24.109105</td>\n",
       "    </tr>\n",
       "    <tr>\n",
       "      <th>50%</th>\n",
       "      <td>39.241977</td>\n",
       "      <td>195.695099</td>\n",
       "      <td>19.275672</td>\n",
       "      <td>104.002773</td>\n",
       "      <td>13.704675</td>\n",
       "      <td>24.433389</td>\n",
       "    </tr>\n",
       "    <tr>\n",
       "      <th>75%</th>\n",
       "      <td>39.684088</td>\n",
       "      <td>352.502266</td>\n",
       "      <td>19.559652</td>\n",
       "      <td>106.705883</td>\n",
       "      <td>13.945199</td>\n",
       "      <td>24.708539</td>\n",
       "    </tr>\n",
       "    <tr>\n",
       "      <th>max</th>\n",
       "      <td>40.308723</td>\n",
       "      <td>829.095768</td>\n",
       "      <td>19.914742</td>\n",
       "      <td>111.547997</td>\n",
       "      <td>14.482449</td>\n",
       "      <td>25.359723</td>\n",
       "    </tr>\n",
       "  </tbody>\n",
       "</table>\n",
       "</div>"
      ],
      "text/plain": [
       "       Agricultural land in %  GDP in billion $US  Temperature(Avg.)  \\\n",
       "count               55.000000           55.000000          55.000000   \n",
       "mean                38.919115          247.807065          19.300161   \n",
       "std                  1.004768          229.852404           0.305102   \n",
       "min                 36.890236           18.464393          18.775900   \n",
       "25%                 38.027172           68.039147          19.054869   \n",
       "50%                 39.241977          195.695099          19.275672   \n",
       "75%                 39.684088          352.502266          19.559652   \n",
       "max                 40.308723          829.095768          19.914742   \n",
       "\n",
       "       Rainfall(Avg.)  Temperature(Min)  Temperature(Max)  \n",
       "count       55.000000         55.000000         55.000000  \n",
       "mean       104.236972         13.707005         24.452492  \n",
       "std          4.015552          0.336003          0.415952  \n",
       "min         93.628297         12.973087         23.734884  \n",
       "25%        101.650419         13.488919         24.109105  \n",
       "50%        104.002773         13.704675         24.433389  \n",
       "75%        106.705883         13.945199         24.708539  \n",
       "max        111.547997         14.482449         25.359723  "
      ]
     },
     "execution_count": 374,
     "metadata": {},
     "output_type": "execute_result"
    }
   ],
   "source": [
    "# Show statistics\n",
    "data_lr.describe()"
   ]
  },
  {
   "cell_type": "code",
   "execution_count": 375,
   "metadata": {},
   "outputs": [
    {
     "data": {
      "text/plain": [
       "array([<matplotlib.axes._subplots.AxesSubplot object at 0x7fad3c0a3a50>,\n",
       "       <matplotlib.axes._subplots.AxesSubplot object at 0x7fad3ca228d0>,\n",
       "       <matplotlib.axes._subplots.AxesSubplot object at 0x7fad20837790>,\n",
       "       <matplotlib.axes._subplots.AxesSubplot object at 0x7fad20828dd0>,\n",
       "       <matplotlib.axes._subplots.AxesSubplot object at 0x7fad20999fd0>,\n",
       "       <matplotlib.axes._subplots.AxesSubplot object at 0x7fad2097db10>],\n",
       "      dtype=object)"
      ]
     },
     "execution_count": 375,
     "metadata": {},
     "output_type": "execute_result"
    },
    {
     "data": {
      "image/png": "[encoded data removed]",
      "text/plain": [
       "<Figure size 720x1080 with 6 Axes>"
      ]
     },
     "metadata": {
      "needs_background": "light"
     },
     "output_type": "display_data"
    }
   ],
   "source": [
    "# Plot features based on years\n",
    "data_lr.plot(subplots=True, figsize=(10,15))"
   ]
  },
  {
   "cell_type": "code",
   "execution_count": 376,
   "metadata": {},
   "outputs": [
    {
     "data": {
      "text/html": [
       "<div>\n",
       "<style scoped>\n",
       "    .dataframe tbody tr th:only-of-type {\n",
       "        vertical-align: middle;\n",
       "    }\n",
       "\n",
       "    .dataframe tbody tr th {\n",
       "        vertical-align: top;\n",
       "    }\n",
       "\n",
       "    .dataframe thead th {\n",
       "        text-align: right;\n",
       "    }\n",
       "</style>\n",
       "<table border=\"1\" class=\"dataframe\">\n",
       "  <thead>\n",
       "    <tr style=\"text-align: right;\">\n",
       "      <th></th>\n",
       "      <th>Agricultural land in %</th>\n",
       "      <th>GDP in billion $US</th>\n",
       "      <th>Temperature(Avg.)</th>\n",
       "      <th>Rainfall(Avg.)</th>\n",
       "      <th>Temperature(Min)</th>\n",
       "      <th>Temperature(Max)</th>\n",
       "    </tr>\n",
       "  </thead>\n",
       "  <tbody>\n",
       "    <tr>\n",
       "      <th>Agricultural land in %</th>\n",
       "      <td>1.000000</td>\n",
       "      <td>0.175511</td>\n",
       "      <td>0.820384</td>\n",
       "      <td>-0.090173</td>\n",
       "      <td>0.593971</td>\n",
       "      <td>0.777567</td>\n",
       "    </tr>\n",
       "    <tr>\n",
       "      <th>GDP in billion $US</th>\n",
       "      <td>0.175511</td>\n",
       "      <td>1.000000</td>\n",
       "      <td>0.409924</td>\n",
       "      <td>0.057832</td>\n",
       "      <td>0.157398</td>\n",
       "      <td>0.376430</td>\n",
       "    </tr>\n",
       "    <tr>\n",
       "      <th>Temperature(Avg.)</th>\n",
       "      <td>0.820384</td>\n",
       "      <td>0.409924</td>\n",
       "      <td>1.000000</td>\n",
       "      <td>-0.039204</td>\n",
       "      <td>0.750763</td>\n",
       "      <td>0.910502</td>\n",
       "    </tr>\n",
       "    <tr>\n",
       "      <th>Rainfall(Avg.)</th>\n",
       "      <td>-0.090173</td>\n",
       "      <td>0.057832</td>\n",
       "      <td>-0.039204</td>\n",
       "      <td>1.000000</td>\n",
       "      <td>-0.001856</td>\n",
       "      <td>-0.095060</td>\n",
       "    </tr>\n",
       "    <tr>\n",
       "      <th>Temperature(Min)</th>\n",
       "      <td>0.593971</td>\n",
       "      <td>0.157398</td>\n",
       "      <td>0.750763</td>\n",
       "      <td>-0.001856</td>\n",
       "      <td>1.000000</td>\n",
       "      <td>0.575712</td>\n",
       "    </tr>\n",
       "    <tr>\n",
       "      <th>Temperature(Max)</th>\n",
       "      <td>0.777567</td>\n",
       "      <td>0.376430</td>\n",
       "      <td>0.910502</td>\n",
       "      <td>-0.095060</td>\n",
       "      <td>0.575712</td>\n",
       "      <td>1.000000</td>\n",
       "    </tr>\n",
       "  </tbody>\n",
       "</table>\n",
       "</div>"
      ],
      "text/plain": [
       "                        Agricultural land in %  GDP in billion $US  \\\n",
       "Agricultural land in %                1.000000            0.175511   \n",
       "GDP in billion $US                    0.175511            1.000000   \n",
       "Temperature(Avg.)                     0.820384            0.409924   \n",
       "Rainfall(Avg.)                       -0.090173            0.057832   \n",
       "Temperature(Min)                      0.593971            0.157398   \n",
       "Temperature(Max)                      0.777567            0.376430   \n",
       "\n",
       "                        Temperature(Avg.)  Rainfall(Avg.)  Temperature(Min)  \\\n",
       "Agricultural land in %           0.820384       -0.090173          0.593971   \n",
       "GDP in billion $US               0.409924        0.057832          0.157398   \n",
       "Temperature(Avg.)                1.000000       -0.039204          0.750763   \n",
       "Rainfall(Avg.)                  -0.039204        1.000000         -0.001856   \n",
       "Temperature(Min)                 0.750763       -0.001856          1.000000   \n",
       "Temperature(Max)                 0.910502       -0.095060          0.575712   \n",
       "\n",
       "                        Temperature(Max)  \n",
       "Agricultural land in %          0.777567  \n",
       "GDP in billion $US              0.376430  \n",
       "Temperature(Avg.)               0.910502  \n",
       "Rainfall(Avg.)                 -0.095060  \n",
       "Temperature(Min)                0.575712  \n",
       "Temperature(Max)                1.000000  "
      ]
     },
     "execution_count": 376,
     "metadata": {},
     "output_type": "execute_result"
    }
   ],
   "source": [
    "# Create correlation matrix again\n",
    "data_lr.corr()"
   ]
  },
  {
   "cell_type": "code",
   "execution_count": 377,
   "metadata": {},
   "outputs": [
    {
     "data": {
      "text/plain": [
       "Index(['Temperature(Avg.)', 'Temperature(Max)', 'Agricultural land in %',\n",
       "       'Temperature(Min)', 'GDP in billion $US', 'Rainfall(Avg.)'],\n",
       "      dtype='object')"
      ]
     },
     "execution_count": 377,
     "metadata": {},
     "output_type": "execute_result"
    }
   ],
   "source": [
    "# Show features rank with largest correlation of avg. temp.\n",
    "data_lr.corr().abs().nlargest(6, 'Temperature(Avg.)').index"
   ]
  },
  {
   "cell_type": "code",
   "execution_count": 378,
   "metadata": {},
   "outputs": [
    {
     "data": {
      "text/plain": [
       "Text(0, 0.5, 'Temperature(Avg.)')"
      ]
     },
     "execution_count": 378,
     "metadata": {},
     "output_type": "execute_result"
    },
    {
     "data": {
      "image/png": "[encoded data removed]",
      "text/plain": [
       "<Figure size 432x288 with 1 Axes>"
      ]
     },
     "metadata": {
      "needs_background": "light"
     },
     "output_type": "display_data"
    }
   ],
   "source": [
    "# Plot correlation of land and avg. temp.\n",
    "data_lr.plot(x='Agricultural land in %', y='Temperature(Avg.)', style='gv')\n",
    "plt.xlabel('Agricultural land in %')\n",
    "plt.ylabel('Temperature(Avg.)')"
   ]
  },
  {
   "cell_type": "markdown",
   "metadata": {},
   "source": [
    "- A slightly linear relationship can be observed"
   ]
  },
  {
   "cell_type": "code",
   "execution_count": 379,
   "metadata": {},
   "outputs": [],
   "source": [
    "# Define x and y variables for simple linear regression: first look at correlation of land and avg. temp. (TAMTAM choice)\n",
    "x_var = data_lr['Agricultural land in %'].values.reshape(-1,1)\n",
    "y_var = data_lr['Temperature(Avg.)'].values.reshape(-1,1)"
   ]
  },
  {
   "cell_type": "code",
   "execution_count": 380,
   "metadata": {},
   "outputs": [],
   "source": [
    "# Split data into train and test datasets (80/20)\n",
    "x_train, x_test, y_train, y_test = train_test_split(x_var, y_var, test_size=0.2, shuffle=False)"
   ]
  },
  {
   "cell_type": "code",
   "execution_count": 381,
   "metadata": {
    "scrolled": true
   },
   "outputs": [
    {
     "data": {
      "text/plain": [
       "((44, 1), (11, 1), (44, 1), (11, 1))"
      ]
     },
     "execution_count": 381,
     "metadata": {},
     "output_type": "execute_result"
    }
   ],
   "source": [
    "# Show count of rows and columns in train and test datasets\n",
    "x_train.shape, x_test.shape, y_train.shape, y_test.shape"
   ]
  },
  {
   "cell_type": "code",
   "execution_count": 382,
   "metadata": {},
   "outputs": [
    {
     "data": {
      "text/plain": [
       "(array([[36.89023637],\n",
       "        [36.97202418],\n",
       "        [37.18666271],\n",
       "        [37.3209883 ],\n",
       "        [37.35031467],\n",
       "        [37.42248683],\n",
       "        [37.46672632],\n",
       "        [37.52278707],\n",
       "        [37.73869358],\n",
       "        [37.66211449],\n",
       "        [37.6218175 ],\n",
       "        [37.68979011],\n",
       "        [37.93276876],\n",
       "        [37.96123946],\n",
       "        [38.09310526],\n",
       "        [38.24642066],\n",
       "        [38.37419369],\n",
       "        [38.47059997],\n",
       "        [38.49872678],\n",
       "        [38.60811205],\n",
       "        [38.67199681],\n",
       "        [38.79498678],\n",
       "        [38.78933825],\n",
       "        [39.08234279],\n",
       "        [39.23205052],\n",
       "        [39.31929285],\n",
       "        [39.47454624],\n",
       "        [39.63710802],\n",
       "        [39.70556603],\n",
       "        [39.65991485],\n",
       "        [39.39759689],\n",
       "        [39.32603822],\n",
       "        [39.31912592],\n",
       "        [39.12682139],\n",
       "        [39.13429856],\n",
       "        [39.24197724],\n",
       "        [39.33655845],\n",
       "        [39.39692152],\n",
       "        [39.48518372],\n",
       "        [39.71005354],\n",
       "        [39.73200932],\n",
       "        [39.58956792],\n",
       "        [39.69964165],\n",
       "        [39.66853483]]),\n",
       " array([[39.7262357 ],\n",
       "        [39.603136  ],\n",
       "        [40.09644826],\n",
       "        [40.22408701],\n",
       "        [40.1015682 ],\n",
       "        [40.21952286],\n",
       "        [40.22976119],\n",
       "        [40.24196271],\n",
       "        [40.30872286],\n",
       "        [40.16457476],\n",
       "        [40.07402331]]),\n",
       " array([[19.20993822],\n",
       "        [18.95568698],\n",
       "        [18.98064618],\n",
       "        [18.99058982],\n",
       "        [18.85433481],\n",
       "        [19.09681504],\n",
       "        [18.9173892 ],\n",
       "        [18.8704862 ],\n",
       "        [19.14868483],\n",
       "        [19.0492791 ],\n",
       "        [18.79402558],\n",
       "        [18.95823111],\n",
       "        [19.11528585],\n",
       "        [18.85550192],\n",
       "        [18.90528577],\n",
       "        [18.77589955],\n",
       "        [19.12151279],\n",
       "        [18.9758285 ],\n",
       "        [19.10817232],\n",
       "        [19.12815882],\n",
       "        [19.12061099],\n",
       "        [19.19072555],\n",
       "        [19.38850101],\n",
       "        [19.05595547],\n",
       "        [19.05378249],\n",
       "        [19.07764917],\n",
       "        [19.45346972],\n",
       "        [19.426429  ],\n",
       "        [19.33456229],\n",
       "        [19.60594377],\n",
       "        [19.30594025],\n",
       "        [19.27567187],\n",
       "        [19.27462561],\n",
       "        [19.5287696 ],\n",
       "        [19.51766799],\n",
       "        [19.24927041],\n",
       "        [19.5984615 ],\n",
       "        [19.86674962],\n",
       "        [19.59547218],\n",
       "        [19.36613975],\n",
       "        [19.46405369],\n",
       "        [19.60224047],\n",
       "        [19.62665081],\n",
       "        [19.49606603]]),\n",
       " array([[19.53330402],\n",
       "        [19.62468873],\n",
       "        [19.63939209],\n",
       "        [19.48581354],\n",
       "        [19.73527839],\n",
       "        [19.63953051],\n",
       "        [19.65678746],\n",
       "        [19.56818782],\n",
       "        [19.55111538],\n",
       "        [19.8728805 ],\n",
       "        [19.91474193]]))"
      ]
     },
     "execution_count": 382,
     "metadata": {},
     "output_type": "execute_result"
    }
   ],
   "source": [
    "# Show train and test datasets\n",
    "x_train, x_test, y_train, y_test"
   ]
  },
  {
   "cell_type": "code",
   "execution_count": 383,
   "metadata": {},
   "outputs": [],
   "source": [
    "# Create linear regression model\n",
    "lin_reg = LinearRegression()"
   ]
  },
  {
   "cell_type": "code",
   "execution_count": 384,
   "metadata": {},
   "outputs": [
    {
     "data": {
      "text/plain": [
       "LinearRegression(copy_X=True, fit_intercept=True, n_jobs=None, normalize=False)"
      ]
     },
     "execution_count": 384,
     "metadata": {},
     "output_type": "execute_result"
    }
   ],
   "source": [
    "# Apply model on train dataset -> train model\n",
    "lin_reg.fit(x_train, y_train)"
   ]
  },
  {
   "cell_type": "code",
   "execution_count": 385,
   "metadata": {},
   "outputs": [
    {
     "data": {
      "text/plain": [
       "-0.9574890867539869"
      ]
     },
     "execution_count": 385,
     "metadata": {},
     "output_type": "execute_result"
    }
   ],
   "source": [
    "# Calculate R-Squared (value of 1 = perfect fit)\n",
    "lin_reg.score(x_test,y_test)"
   ]
  },
  {
   "cell_type": "markdown",
   "metadata": {},
   "source": [
    "- A negative R^2 is really confusing, since R^2 is by definition [0,1]"
   ]
  },
  {
   "cell_type": "code",
   "execution_count": 386,
   "metadata": {},
   "outputs": [
    {
     "data": {
      "text/plain": [
       "array([10.60825447])"
      ]
     },
     "execution_count": 386,
     "metadata": {},
     "output_type": "execute_result"
    }
   ],
   "source": [
    "# Calculate intercept of feature (expected mean value of temperature when Agricultural land is 0)\n",
    "lin_reg.intercept_"
   ]
  },
  {
   "cell_type": "code",
   "execution_count": 387,
   "metadata": {},
   "outputs": [
    {
     "data": {
      "text/plain": [
       "array([[0.22271863]])"
      ]
     },
     "execution_count": 387,
     "metadata": {},
     "output_type": "execute_result"
    }
   ],
   "source": [
    "# Calculate coefficient of feature\n",
    "lin_reg.coef_"
   ]
  },
  {
   "cell_type": "code",
   "execution_count": 388,
   "metadata": {},
   "outputs": [],
   "source": [
    "# Make prediction based on model\n",
    "y_pred = lin_reg.predict(x_test)"
   ]
  },
  {
   "cell_type": "code",
   "execution_count": 389,
   "metadata": {},
   "outputs": [
    {
     "data": {
      "text/html": [
       "<div>\n",
       "<style scoped>\n",
       "    .dataframe tbody tr th:only-of-type {\n",
       "        vertical-align: middle;\n",
       "    }\n",
       "\n",
       "    .dataframe tbody tr th {\n",
       "        vertical-align: top;\n",
       "    }\n",
       "\n",
       "    .dataframe thead th {\n",
       "        text-align: right;\n",
       "    }\n",
       "</style>\n",
       "<table border=\"1\" class=\"dataframe\">\n",
       "  <thead>\n",
       "    <tr style=\"text-align: right;\">\n",
       "      <th></th>\n",
       "      <th>Actual Temp.</th>\n",
       "      <th>Predicted Temp.</th>\n",
       "    </tr>\n",
       "  </thead>\n",
       "  <tbody>\n",
       "    <tr>\n",
       "      <th>0</th>\n",
       "      <td>19.533304</td>\n",
       "      <td>19.456027</td>\n",
       "    </tr>\n",
       "    <tr>\n",
       "      <th>1</th>\n",
       "      <td>19.624689</td>\n",
       "      <td>19.428611</td>\n",
       "    </tr>\n",
       "    <tr>\n",
       "      <th>2</th>\n",
       "      <td>19.639392</td>\n",
       "      <td>19.538481</td>\n",
       "    </tr>\n",
       "    <tr>\n",
       "      <th>3</th>\n",
       "      <td>19.485814</td>\n",
       "      <td>19.566908</td>\n",
       "    </tr>\n",
       "    <tr>\n",
       "      <th>4</th>\n",
       "      <td>19.735278</td>\n",
       "      <td>19.539621</td>\n",
       "    </tr>\n",
       "    <tr>\n",
       "      <th>5</th>\n",
       "      <td>19.639531</td>\n",
       "      <td>19.565892</td>\n",
       "    </tr>\n",
       "    <tr>\n",
       "      <th>6</th>\n",
       "      <td>19.656787</td>\n",
       "      <td>19.568172</td>\n",
       "    </tr>\n",
       "    <tr>\n",
       "      <th>7</th>\n",
       "      <td>19.568188</td>\n",
       "      <td>19.570889</td>\n",
       "    </tr>\n",
       "    <tr>\n",
       "      <th>8</th>\n",
       "      <td>19.551115</td>\n",
       "      <td>19.585758</td>\n",
       "    </tr>\n",
       "    <tr>\n",
       "      <th>9</th>\n",
       "      <td>19.872881</td>\n",
       "      <td>19.553654</td>\n",
       "    </tr>\n",
       "    <tr>\n",
       "      <th>10</th>\n",
       "      <td>19.914742</td>\n",
       "      <td>19.533486</td>\n",
       "    </tr>\n",
       "  </tbody>\n",
       "</table>\n",
       "</div>"
      ],
      "text/plain": [
       "    Actual Temp.  Predicted Temp.\n",
       "0      19.533304        19.456027\n",
       "1      19.624689        19.428611\n",
       "2      19.639392        19.538481\n",
       "3      19.485814        19.566908\n",
       "4      19.735278        19.539621\n",
       "5      19.639531        19.565892\n",
       "6      19.656787        19.568172\n",
       "7      19.568188        19.570889\n",
       "8      19.551115        19.585758\n",
       "9      19.872881        19.553654\n",
       "10     19.914742        19.533486"
      ]
     },
     "execution_count": 389,
     "metadata": {},
     "output_type": "execute_result"
    }
   ],
   "source": [
    "# Create table to compare actual and predicted values\n",
    "table_act_pred = pd.DataFrame({'Actual Temp.': y_test.flatten(), 'Predicted Temp.': y_pred.flatten()})\n",
    "table_act_pred"
   ]
  },
  {
   "cell_type": "markdown",
   "metadata": {},
   "source": [
    "- Actual and predicted temperature show an upward trend, but the predicted temperature is lower than the actual temperature"
   ]
  },
  {
   "cell_type": "code",
   "execution_count": 390,
   "metadata": {},
   "outputs": [
    {
     "data": {
      "text/plain": [
       "Text(0, 0.5, 'Predicted Temp.')"
      ]
     },
     "execution_count": 390,
     "metadata": {},
     "output_type": "execute_result"
    },
    {
     "data": {
      "image/png": "[encoded data removed]",
      "text/plain": [
       "<Figure size 432x288 with 1 Axes>"
      ]
     },
     "metadata": {
      "needs_background": "light"
     },
     "output_type": "display_data"
    }
   ],
   "source": [
    "# Plot comparison\n",
    "plt.plot(y_test, y_pred, 'gx')\n",
    "plt.xlabel('Actual Temp.')\n",
    "plt.ylabel('Predicted Temp.')"
   ]
  },
  {
   "cell_type": "markdown",
   "metadata": {},
   "source": [
    "- High variance (see chart below)"
   ]
  },
  {
   "cell_type": "code",
   "execution_count": 391,
   "metadata": {},
   "outputs": [
    {
     "data": {
      "text/plain": [
       "[<matplotlib.lines.Line2D at 0x7fad207ce7d0>]"
      ]
     },
     "execution_count": 391,
     "metadata": {},
     "output_type": "execute_result"
    },
    {
     "data": {
      "image/png": "[encoded data removed]",
      "text/plain": [
       "<Figure size 432x288 with 1 Axes>"
      ]
     },
     "metadata": {
      "needs_background": "light"
     },
     "output_type": "display_data"
    }
   ],
   "source": [
    "# Plot comparison with additional reference line\n",
    "plt.plot(y_test, y_test, 'k-')\n",
    "plt.plot(y_test, y_pred, 'gx')"
   ]
  },
  {
   "cell_type": "markdown",
   "metadata": {},
   "source": [
    "- The green crosses are far away from the linear line, thus a high variance is present"
   ]
  },
  {
   "cell_type": "code",
   "execution_count": 392,
   "metadata": {},
   "outputs": [
    {
     "data": {
      "text/plain": [
       "0.1410090484761061"
      ]
     },
     "execution_count": 392,
     "metadata": {},
     "output_type": "execute_result"
    }
   ],
   "source": [
    "# Calculate Mean Absolute Error (absolute difference between actuals and predictions)\n",
    "metrics.mean_absolute_error(y_test, y_pred)"
   ]
  },
  {
   "cell_type": "code",
   "execution_count": 393,
   "metadata": {},
   "outputs": [
    {
     "data": {
      "text/plain": [
       "0.03283673756557171"
      ]
     },
     "execution_count": 393,
     "metadata": {},
     "output_type": "execute_result"
    }
   ],
   "source": [
    "# Calculate Mean Squared Error (squared difference between actuals and predictions) -> the closer to 0 the better\n",
    "metrics.mean_squared_error(y_test, y_pred)"
   ]
  },
  {
   "cell_type": "code",
   "execution_count": 394,
   "metadata": {},
   "outputs": [
    {
     "data": {
      "text/plain": [
       "0.18120909901429263"
      ]
     },
     "execution_count": 394,
     "metadata": {},
     "output_type": "execute_result"
    }
   ],
   "source": [
    "# calculate Root Mean Squared Error\n",
    "np.sqrt(metrics.mean_squared_error(y_test, y_pred))"
   ]
  },
  {
   "cell_type": "markdown",
   "metadata": {},
   "source": [
    "#### Interpretation: \n",
    "R-Squared: -0.9574890867539869 -> model explains -95.7% of the variance in the dependent variable... extremely bad!\n",
    "\n",
    "Coefficient: 0.22271863 -> Agricultural land increases by 1, predicted value of avg. Temperature increases by 0.22271863\n",
    "\n",
    "Mean Absolute Error: 0.1410090484761061 -> min avg. Temp.: 18.775900, max avg. Temp.: 19.914742, difference slighty high!\n",
    "\n",
    "Root Mean Squared Error: 0.18120909901429263 -> ~ 0.93% of mean of avg. Temp. (19.300161) -> algorithmn quite accurate"
   ]
  },
  {
   "cell_type": "markdown",
   "metadata": {},
   "source": [
    "### Multiple Linear Regression"
   ]
  },
  {
   "cell_type": "code",
   "execution_count": 395,
   "metadata": {},
   "outputs": [
    {
     "data": {
      "text/plain": [
       "Index(['Temperature(Avg.)', 'Temperature(Max)', 'Agricultural land in %',\n",
       "       'Temperature(Min)', 'GDP in billion $US', 'Rainfall(Avg.)'],\n",
       "      dtype='object')"
      ]
     },
     "execution_count": 395,
     "metadata": {},
     "output_type": "execute_result"
    }
   ],
   "source": [
    "# Show features with largest correlation of avg. temp.\n",
    "data_lr.corr().abs().nlargest(6, 'Temperature(Avg.)').index"
   ]
  },
  {
   "cell_type": "code",
   "execution_count": 396,
   "metadata": {},
   "outputs": [],
   "source": [
    "# Define x and y variables for multiple linear regression: largest correlation features (temp. excluded)\n",
    "x_mvar = data_lr[['Agricultural land in %', 'GDP in billion $US']].values\n",
    "y_mvar = data_lr['Temperature(Avg.)'].values"
   ]
  },
  {
   "cell_type": "code",
   "execution_count": 397,
   "metadata": {},
   "outputs": [
    {
     "data": {
      "text/plain": [
       "array([[ 36.89023637, 829.09576796],\n",
       "       [ 36.97202418, 794.86993805],\n",
       "       [ 37.18666271, 795.57949529],\n",
       "       [ 37.3209883 , 796.63374343],\n",
       "       [ 37.35031467,  56.41616383],\n",
       "       [ 37.42248683,  56.07830511],\n",
       "       [ 37.46672632,  18.46439309],\n",
       "       [ 37.52278707,  19.26182212],\n",
       "       [ 37.73869358,  20.82505705],\n",
       "       [ 37.66211449,  19.20389426],\n",
       "       [ 37.6218175 ,  21.49006016],\n",
       "       [ 37.68979011,  25.59286587],\n",
       "       [ 37.93276876,  32.69085924],\n",
       "       [ 37.96123946,  38.03015968],\n",
       "       [ 38.09310526,  42.67973138],\n",
       "       [ 38.24642066,  45.40547831],\n",
       "       [ 38.37419369,  51.62911378],\n",
       "       [ 38.47059997,  62.7143673 ],\n",
       "       [ 38.49872678,  73.3639267 ],\n",
       "       [ 38.60811205,  83.31012424],\n",
       "       [ 38.67199681,  83.39256506],\n",
       "       [ 38.79498678,  80.69937975],\n",
       "       [ 38.78933825,  79.82156759],\n",
       "       [ 39.08234279,  79.81775406],\n",
       "       [ 39.23205052,  83.1985681 ],\n",
       "       [ 39.31929285, 106.09669895],\n",
       "       [ 39.47454624, 125.92391474],\n",
       "       [ 39.63710802, 143.83569357],\n",
       "       [ 39.70556603, 148.25974334],\n",
       "       [ 39.65991485, 170.71305041],\n",
       "       [ 39.39759689, 183.18359732],\n",
       "       [ 39.32603822, 195.69509864],\n",
       "       [ 39.31912592, 196.34637149],\n",
       "       [ 39.12682139, 213.15492656],\n",
       "       [ 39.13429856, 241.50066068],\n",
       "       [ 39.24197724, 241.97999624],\n",
       "       [ 39.33655845, 234.29664318],\n",
       "       [ 39.39692152, 231.18541215],\n",
       "       [ 39.48518372, 237.6004042 ],\n",
       "       [ 39.71005354, 236.94229303],\n",
       "       [ 39.73200932, 231.43361745],\n",
       "       [ 39.58956792, 239.66118459],\n",
       "       [ 39.69964165, 277.12746789],\n",
       "       [ 39.66853483, 316.75909268],\n",
       "       [ 39.7262357 , 339.09367227],\n",
       "       [ 39.603136  , 365.91085937],\n",
       "       [ 40.09644826, 419.08164149],\n",
       "       [ 40.22408701, 468.59275689],\n",
       "       [ 40.1015682 , 446.69204794],\n",
       "       [ 40.21952286, 491.96094385],\n",
       "       [ 40.22976119, 556.18285458],\n",
       "       [ 40.24196271, 562.38792707],\n",
       "       [ 40.30872286, 575.90975592],\n",
       "       [ 40.16457476, 592.0432124 ],\n",
       "       [ 40.07402331, 549.57195217]])"
      ]
     },
     "execution_count": 397,
     "metadata": {},
     "output_type": "execute_result"
    }
   ],
   "source": [
    "# Show x variable features\n",
    "x_mvar"
   ]
  },
  {
   "cell_type": "code",
   "execution_count": 398,
   "metadata": {},
   "outputs": [
    {
     "data": {
      "text/plain": [
       "array([19.20993822, 18.95568698, 18.98064618, 18.99058982, 18.85433481,\n",
       "       19.09681504, 18.9173892 , 18.8704862 , 19.14868483, 19.0492791 ,\n",
       "       18.79402558, 18.95823111, 19.11528585, 18.85550192, 18.90528577,\n",
       "       18.77589955, 19.12151279, 18.9758285 , 19.10817232, 19.12815882,\n",
       "       19.12061099, 19.19072555, 19.38850101, 19.05595547, 19.05378249,\n",
       "       19.07764917, 19.45346972, 19.426429  , 19.33456229, 19.60594377,\n",
       "       19.30594025, 19.27567187, 19.27462561, 19.5287696 , 19.51766799,\n",
       "       19.24927041, 19.5984615 , 19.86674962, 19.59547218, 19.36613975,\n",
       "       19.46405369, 19.60224047, 19.62665081, 19.49606603, 19.53330402,\n",
       "       19.62468873, 19.63939209, 19.48581354, 19.73527839, 19.63953051,\n",
       "       19.65678746, 19.56818782, 19.55111538, 19.8728805 , 19.91474193])"
      ]
     },
     "execution_count": 398,
     "metadata": {},
     "output_type": "execute_result"
    }
   ],
   "source": [
    "# Show y variable\n",
    "y_mvar"
   ]
  },
  {
   "cell_type": "code",
   "execution_count": 399,
   "metadata": {},
   "outputs": [],
   "source": [
    "# Split data into train and test datasets (60/40)\n",
    "x_mtrain, x_mtest, y_mtrain, y_mtest = train_test_split(x_mvar, y_mvar, test_size=0.4, shuffle=False)"
   ]
  },
  {
   "cell_type": "code",
   "execution_count": 400,
   "metadata": {},
   "outputs": [
    {
     "data": {
      "text/plain": [
       "(array([[ 36.89023637, 829.09576796],\n",
       "        [ 36.97202418, 794.86993805],\n",
       "        [ 37.18666271, 795.57949529],\n",
       "        [ 37.3209883 , 796.63374343],\n",
       "        [ 37.35031467,  56.41616383],\n",
       "        [ 37.42248683,  56.07830511],\n",
       "        [ 37.46672632,  18.46439309],\n",
       "        [ 37.52278707,  19.26182212],\n",
       "        [ 37.73869358,  20.82505705],\n",
       "        [ 37.66211449,  19.20389426],\n",
       "        [ 37.6218175 ,  21.49006016],\n",
       "        [ 37.68979011,  25.59286587],\n",
       "        [ 37.93276876,  32.69085924],\n",
       "        [ 37.96123946,  38.03015968],\n",
       "        [ 38.09310526,  42.67973138],\n",
       "        [ 38.24642066,  45.40547831],\n",
       "        [ 38.37419369,  51.62911378],\n",
       "        [ 38.47059997,  62.7143673 ],\n",
       "        [ 38.49872678,  73.3639267 ],\n",
       "        [ 38.60811205,  83.31012424],\n",
       "        [ 38.67199681,  83.39256506],\n",
       "        [ 38.79498678,  80.69937975],\n",
       "        [ 38.78933825,  79.82156759],\n",
       "        [ 39.08234279,  79.81775406],\n",
       "        [ 39.23205052,  83.1985681 ],\n",
       "        [ 39.31929285, 106.09669895],\n",
       "        [ 39.47454624, 125.92391474],\n",
       "        [ 39.63710802, 143.83569357],\n",
       "        [ 39.70556603, 148.25974334],\n",
       "        [ 39.65991485, 170.71305041],\n",
       "        [ 39.39759689, 183.18359732],\n",
       "        [ 39.32603822, 195.69509864],\n",
       "        [ 39.31912592, 196.34637149]]),\n",
       " array([[ 39.12682139, 213.15492656],\n",
       "        [ 39.13429856, 241.50066068],\n",
       "        [ 39.24197724, 241.97999624],\n",
       "        [ 39.33655845, 234.29664318],\n",
       "        [ 39.39692152, 231.18541215],\n",
       "        [ 39.48518372, 237.6004042 ],\n",
       "        [ 39.71005354, 236.94229303],\n",
       "        [ 39.73200932, 231.43361745],\n",
       "        [ 39.58956792, 239.66118459],\n",
       "        [ 39.69964165, 277.12746789],\n",
       "        [ 39.66853483, 316.75909268],\n",
       "        [ 39.7262357 , 339.09367227],\n",
       "        [ 39.603136  , 365.91085937],\n",
       "        [ 40.09644826, 419.08164149],\n",
       "        [ 40.22408701, 468.59275689],\n",
       "        [ 40.1015682 , 446.69204794],\n",
       "        [ 40.21952286, 491.96094385],\n",
       "        [ 40.22976119, 556.18285458],\n",
       "        [ 40.24196271, 562.38792707],\n",
       "        [ 40.30872286, 575.90975592],\n",
       "        [ 40.16457476, 592.0432124 ],\n",
       "        [ 40.07402331, 549.57195217]]),\n",
       " array([19.20993822, 18.95568698, 18.98064618, 18.99058982, 18.85433481,\n",
       "        19.09681504, 18.9173892 , 18.8704862 , 19.14868483, 19.0492791 ,\n",
       "        18.79402558, 18.95823111, 19.11528585, 18.85550192, 18.90528577,\n",
       "        18.77589955, 19.12151279, 18.9758285 , 19.10817232, 19.12815882,\n",
       "        19.12061099, 19.19072555, 19.38850101, 19.05595547, 19.05378249,\n",
       "        19.07764917, 19.45346972, 19.426429  , 19.33456229, 19.60594377,\n",
       "        19.30594025, 19.27567187, 19.27462561]),\n",
       " array([19.5287696 , 19.51766799, 19.24927041, 19.5984615 , 19.86674962,\n",
       "        19.59547218, 19.36613975, 19.46405369, 19.60224047, 19.62665081,\n",
       "        19.49606603, 19.53330402, 19.62468873, 19.63939209, 19.48581354,\n",
       "        19.73527839, 19.63953051, 19.65678746, 19.56818782, 19.55111538,\n",
       "        19.8728805 , 19.91474193]))"
      ]
     },
     "execution_count": 400,
     "metadata": {},
     "output_type": "execute_result"
    }
   ],
   "source": [
    "# Show train and test datasets\n",
    "x_mtrain, x_mtest, y_mtrain, y_mtest"
   ]
  },
  {
   "cell_type": "code",
   "execution_count": 401,
   "metadata": {},
   "outputs": [],
   "source": [
    "# Create linear regression model\n",
    "mlin_reg = LinearRegression()"
   ]
  },
  {
   "cell_type": "code",
   "execution_count": 402,
   "metadata": {},
   "outputs": [
    {
     "data": {
      "text/plain": [
       "LinearRegression(copy_X=True, fit_intercept=True, n_jobs=None, normalize=False)"
      ]
     },
     "execution_count": 402,
     "metadata": {},
     "output_type": "execute_result"
    }
   ],
   "source": [
    "# Apply model on train dataset -> train model\n",
    "mlin_reg.fit(x_mtrain, y_mtrain)"
   ]
  },
  {
   "cell_type": "code",
   "execution_count": 403,
   "metadata": {},
   "outputs": [
    {
     "data": {
      "text/plain": [
       "-1.2434070396432255"
      ]
     },
     "execution_count": 403,
     "metadata": {},
     "output_type": "execute_result"
    }
   ],
   "source": [
    "# Calculate R-Squared (value of 1 = perfect fit)\n",
    "mlin_reg.score(x_mtest,y_mtest)"
   ]
  },
  {
   "cell_type": "markdown",
   "metadata": {},
   "source": [
    "- worse than simple linear regression"
   ]
  },
  {
   "cell_type": "code",
   "execution_count": 404,
   "metadata": {},
   "outputs": [
    {
     "data": {
      "text/plain": [
       "11.909179745466663"
      ]
     },
     "execution_count": 404,
     "metadata": {},
     "output_type": "execute_result"
    }
   ],
   "source": [
    "# Calculate intercept of feature (expected mean value of temperature when Agricultural land and GDP are 0)\n",
    "mlin_reg.intercept_"
   ]
  },
  {
   "cell_type": "code",
   "execution_count": 405,
   "metadata": {},
   "outputs": [
    {
     "data": {
      "text/plain": [
       "array([0.18635954, 0.00027803])"
      ]
     },
     "execution_count": 405,
     "metadata": {},
     "output_type": "execute_result"
    }
   ],
   "source": [
    "# Calculate coefficients of features\n",
    "mlin_reg.coef_"
   ]
  },
  {
   "cell_type": "code",
   "execution_count": 406,
   "metadata": {},
   "outputs": [],
   "source": [
    "# Make prediction based on model\n",
    "y_mpred = mlin_reg.predict(x_mtest)"
   ]
  },
  {
   "cell_type": "code",
   "execution_count": 407,
   "metadata": {},
   "outputs": [
    {
     "data": {
      "text/html": [
       "<div>\n",
       "<style scoped>\n",
       "    .dataframe tbody tr th:only-of-type {\n",
       "        vertical-align: middle;\n",
       "    }\n",
       "\n",
       "    .dataframe tbody tr th {\n",
       "        vertical-align: top;\n",
       "    }\n",
       "\n",
       "    .dataframe thead th {\n",
       "        text-align: right;\n",
       "    }\n",
       "</style>\n",
       "<table border=\"1\" class=\"dataframe\">\n",
       "  <thead>\n",
       "    <tr style=\"text-align: right;\">\n",
       "      <th></th>\n",
       "      <th>Actual Temp.</th>\n",
       "      <th>Predicted Temp.</th>\n",
       "    </tr>\n",
       "  </thead>\n",
       "  <tbody>\n",
       "    <tr>\n",
       "      <th>0</th>\n",
       "      <td>19.528770</td>\n",
       "      <td>19.260099</td>\n",
       "    </tr>\n",
       "    <tr>\n",
       "      <th>1</th>\n",
       "      <td>19.517668</td>\n",
       "      <td>19.269374</td>\n",
       "    </tr>\n",
       "    <tr>\n",
       "      <th>2</th>\n",
       "      <td>19.249270</td>\n",
       "      <td>19.289574</td>\n",
       "    </tr>\n",
       "    <tr>\n",
       "      <th>3</th>\n",
       "      <td>19.598461</td>\n",
       "      <td>19.305064</td>\n",
       "    </tr>\n",
       "    <tr>\n",
       "      <th>4</th>\n",
       "      <td>19.866750</td>\n",
       "      <td>19.315448</td>\n",
       "    </tr>\n",
       "    <tr>\n",
       "      <th>5</th>\n",
       "      <td>19.595472</td>\n",
       "      <td>19.333680</td>\n",
       "    </tr>\n",
       "    <tr>\n",
       "      <th>6</th>\n",
       "      <td>19.366140</td>\n",
       "      <td>19.375404</td>\n",
       "    </tr>\n",
       "    <tr>\n",
       "      <th>7</th>\n",
       "      <td>19.464054</td>\n",
       "      <td>19.377964</td>\n",
       "    </tr>\n",
       "    <tr>\n",
       "      <th>8</th>\n",
       "      <td>19.602240</td>\n",
       "      <td>19.353706</td>\n",
       "    </tr>\n",
       "    <tr>\n",
       "      <th>9</th>\n",
       "      <td>19.626651</td>\n",
       "      <td>19.384636</td>\n",
       "    </tr>\n",
       "    <tr>\n",
       "      <th>10</th>\n",
       "      <td>19.496066</td>\n",
       "      <td>19.389858</td>\n",
       "    </tr>\n",
       "    <tr>\n",
       "      <th>11</th>\n",
       "      <td>19.533304</td>\n",
       "      <td>19.406821</td>\n",
       "    </tr>\n",
       "    <tr>\n",
       "      <th>12</th>\n",
       "      <td>19.624689</td>\n",
       "      <td>19.391336</td>\n",
       "    </tr>\n",
       "    <tr>\n",
       "      <th>13</th>\n",
       "      <td>19.639392</td>\n",
       "      <td>19.498052</td>\n",
       "    </tr>\n",
       "    <tr>\n",
       "      <th>14</th>\n",
       "      <td>19.485814</td>\n",
       "      <td>19.535604</td>\n",
       "    </tr>\n",
       "    <tr>\n",
       "      <th>15</th>\n",
       "      <td>19.735278</td>\n",
       "      <td>19.506683</td>\n",
       "    </tr>\n",
       "    <tr>\n",
       "      <th>16</th>\n",
       "      <td>19.639531</td>\n",
       "      <td>19.541251</td>\n",
       "    </tr>\n",
       "    <tr>\n",
       "      <th>17</th>\n",
       "      <td>19.656787</td>\n",
       "      <td>19.561014</td>\n",
       "    </tr>\n",
       "    <tr>\n",
       "      <th>18</th>\n",
       "      <td>19.568188</td>\n",
       "      <td>19.565014</td>\n",
       "    </tr>\n",
       "    <tr>\n",
       "      <th>19</th>\n",
       "      <td>19.551115</td>\n",
       "      <td>19.581214</td>\n",
       "    </tr>\n",
       "    <tr>\n",
       "      <th>20</th>\n",
       "      <td>19.872881</td>\n",
       "      <td>19.558837</td>\n",
       "    </tr>\n",
       "    <tr>\n",
       "      <th>21</th>\n",
       "      <td>19.914742</td>\n",
       "      <td>19.530153</td>\n",
       "    </tr>\n",
       "  </tbody>\n",
       "</table>\n",
       "</div>"
      ],
      "text/plain": [
       "    Actual Temp.  Predicted Temp.\n",
       "0      19.528770        19.260099\n",
       "1      19.517668        19.269374\n",
       "2      19.249270        19.289574\n",
       "3      19.598461        19.305064\n",
       "4      19.866750        19.315448\n",
       "5      19.595472        19.333680\n",
       "6      19.366140        19.375404\n",
       "7      19.464054        19.377964\n",
       "8      19.602240        19.353706\n",
       "9      19.626651        19.384636\n",
       "10     19.496066        19.389858\n",
       "11     19.533304        19.406821\n",
       "12     19.624689        19.391336\n",
       "13     19.639392        19.498052\n",
       "14     19.485814        19.535604\n",
       "15     19.735278        19.506683\n",
       "16     19.639531        19.541251\n",
       "17     19.656787        19.561014\n",
       "18     19.568188        19.565014\n",
       "19     19.551115        19.581214\n",
       "20     19.872881        19.558837\n",
       "21     19.914742        19.530153"
      ]
     },
     "execution_count": 407,
     "metadata": {},
     "output_type": "execute_result"
    }
   ],
   "source": [
    "# Create table to compare actual and predicted values\n",
    "mtable_act_pred = pd.DataFrame({'Actual Temp.': y_mtest.flatten(), 'Predicted Temp.': y_mpred.flatten()})\n",
    "mtable_act_pred"
   ]
  },
  {
   "cell_type": "markdown",
   "metadata": {},
   "source": [
    "- Results are not better than for simple linear regression\n",
    "- An upward trend is predicted, but prediction does not match actual values"
   ]
  },
  {
   "cell_type": "code",
   "execution_count": 408,
   "metadata": {},
   "outputs": [
    {
     "data": {
      "text/plain": [
       "Text(0, 0.5, 'Predicted Temp.')"
      ]
     },
     "execution_count": 408,
     "metadata": {},
     "output_type": "execute_result"
    },
    {
     "data": {
      "image/png": "[encoded data removed]",
      "text/plain": [
       "<Figure size 432x288 with 1 Axes>"
      ]
     },
     "metadata": {
      "needs_background": "light"
     },
     "output_type": "display_data"
    }
   ],
   "source": [
    "# plot comparison\n",
    "plt.plot(y_mtest, y_mpred, 'gx')\n",
    "plt.xlabel('Actual Temp.')\n",
    "plt.ylabel('Predicted Temp.')"
   ]
  },
  {
   "cell_type": "code",
   "execution_count": 409,
   "metadata": {},
   "outputs": [
    {
     "data": {
      "text/plain": [
       "[<matplotlib.lines.Line2D at 0x7fad3ccdc090>]"
      ]
     },
     "execution_count": 409,
     "metadata": {},
     "output_type": "execute_result"
    },
    {
     "data": {
      "image/png": "[encoded data removed]",
      "text/plain": [
       "<Figure size 432x288 with 1 Axes>"
      ]
     },
     "metadata": {
      "needs_background": "light"
     },
     "output_type": "display_data"
    }
   ],
   "source": [
    "# plot comparison with additional reference line\n",
    "plt.plot(y_mtest, y_mtest, 'k-', label='actual')\n",
    "plt.plot(y_mtest, y_mpred, 'gx', label='predicted')"
   ]
  },
  {
   "cell_type": "markdown",
   "metadata": {},
   "source": [
    "- values are still quite far away from the line\n",
    "- high variance"
   ]
  },
  {
   "cell_type": "code",
   "execution_count": 410,
   "metadata": {},
   "outputs": [
    {
     "data": {
      "text/plain": [
       "0.18460873868938743"
      ]
     },
     "execution_count": 410,
     "metadata": {},
     "output_type": "execute_result"
    }
   ],
   "source": [
    "# Calculate Mean Absolute Error (absolute difference between actuals and predictions)\n",
    "metrics.mean_absolute_error(y_mtest, y_mpred)"
   ]
  },
  {
   "cell_type": "code",
   "execution_count": 411,
   "metadata": {},
   "outputs": [
    {
     "data": {
      "text/plain": [
       "0.052025913746645565"
      ]
     },
     "execution_count": 411,
     "metadata": {},
     "output_type": "execute_result"
    }
   ],
   "source": [
    "# Calculate Mean Squared Error (squared difference between actuals and predictions) -> the closer to 0 the better\n",
    "metrics.mean_squared_error(y_mtest, y_mpred)"
   ]
  },
  {
   "cell_type": "code",
   "execution_count": 412,
   "metadata": {},
   "outputs": [
    {
     "data": {
      "text/plain": [
       "0.22809189759096127"
      ]
     },
     "execution_count": 412,
     "metadata": {},
     "output_type": "execute_result"
    }
   ],
   "source": [
    "# Calculate Root Mean Squared Error\n",
    "np.sqrt(metrics.mean_squared_error(y_mtest, y_mpred))"
   ]
  },
  {
   "cell_type": "markdown",
   "metadata": {},
   "source": [
    "#### Interpretation: \n",
    "R-Squared: -1.2434070396432255 -> model explains -124% of the variance in dependent variable... extremely bad!\n",
    "\n",
    "Coefficients: 0.18635954, 0.00027803 -> Agricultural land increases by 1, predicted value of avg. Temperature increases by 0.18635954; GDP increases by 1, predicted value of avg. Temperature increases by 0.00027803 \n",
    "\n",
    "Mean Absolute Error: 0.18460873868938743 -> min avg. Temp.: 18.775900, max avg. Temp.: 19.914742, difference high!\n",
    "\n",
    "Root Mean Squared Error: 0.22809189759096127 -> ~ 2.3% of mean of avg. Temp. (19.3) -> algorithmn quite accurate"
   ]
  },
  {
   "cell_type": "markdown",
   "metadata": {},
   "source": [
    "### Polynomial Regression"
   ]
  },
  {
   "cell_type": "code",
   "execution_count": 413,
   "metadata": {},
   "outputs": [],
   "source": [
    "from sklearn.preprocessing import PolynomialFeatures\n",
    "from sklearn.preprocessing import StandardScaler\n",
    "from sklearn.pipeline import Pipeline"
   ]
  },
  {
   "cell_type": "code",
   "execution_count": 414,
   "metadata": {},
   "outputs": [],
   "source": [
    "# Define variables\n",
    "x_pvar = data_lr[['Agricultural land in %','GDP in billion $US']].values\n",
    "y_pvar = data_lr['Temperature(Avg.)'].values"
   ]
  },
  {
   "cell_type": "code",
   "execution_count": 415,
   "metadata": {},
   "outputs": [],
   "source": [
    "# include ploynomial features, create new matrix consisting polynomial combination of features\n",
    "pipe = Pipeline([('scale', StandardScaler()), ('poly', PolynomialFeatures(degree=2)), ('method', LinearRegression())])"
   ]
  },
  {
   "cell_type": "code",
   "execution_count": 416,
   "metadata": {},
   "outputs": [],
   "source": [
    "# Train and Test data\n",
    "x_ptrain, x_ptest, y_ptrain, y_ptest = train_test_split(x_pvar, y_pvar, test_size=0.2, shuffle=False)"
   ]
  },
  {
   "cell_type": "code",
   "execution_count": 417,
   "metadata": {},
   "outputs": [
    {
     "data": {
      "text/plain": [
       "(array([[ 36.89023637, 829.09576796],\n",
       "        [ 36.97202418, 794.86993805],\n",
       "        [ 37.18666271, 795.57949529],\n",
       "        [ 37.3209883 , 796.63374343],\n",
       "        [ 37.35031467,  56.41616383],\n",
       "        [ 37.42248683,  56.07830511],\n",
       "        [ 37.46672632,  18.46439309],\n",
       "        [ 37.52278707,  19.26182212],\n",
       "        [ 37.73869358,  20.82505705],\n",
       "        [ 37.66211449,  19.20389426],\n",
       "        [ 37.6218175 ,  21.49006016],\n",
       "        [ 37.68979011,  25.59286587],\n",
       "        [ 37.93276876,  32.69085924],\n",
       "        [ 37.96123946,  38.03015968],\n",
       "        [ 38.09310526,  42.67973138],\n",
       "        [ 38.24642066,  45.40547831],\n",
       "        [ 38.37419369,  51.62911378],\n",
       "        [ 38.47059997,  62.7143673 ],\n",
       "        [ 38.49872678,  73.3639267 ],\n",
       "        [ 38.60811205,  83.31012424],\n",
       "        [ 38.67199681,  83.39256506],\n",
       "        [ 38.79498678,  80.69937975],\n",
       "        [ 38.78933825,  79.82156759],\n",
       "        [ 39.08234279,  79.81775406],\n",
       "        [ 39.23205052,  83.1985681 ],\n",
       "        [ 39.31929285, 106.09669895],\n",
       "        [ 39.47454624, 125.92391474],\n",
       "        [ 39.63710802, 143.83569357],\n",
       "        [ 39.70556603, 148.25974334],\n",
       "        [ 39.65991485, 170.71305041],\n",
       "        [ 39.39759689, 183.18359732],\n",
       "        [ 39.32603822, 195.69509864],\n",
       "        [ 39.31912592, 196.34637149],\n",
       "        [ 39.12682139, 213.15492656],\n",
       "        [ 39.13429856, 241.50066068],\n",
       "        [ 39.24197724, 241.97999624],\n",
       "        [ 39.33655845, 234.29664318],\n",
       "        [ 39.39692152, 231.18541215],\n",
       "        [ 39.48518372, 237.6004042 ],\n",
       "        [ 39.71005354, 236.94229303],\n",
       "        [ 39.73200932, 231.43361745],\n",
       "        [ 39.58956792, 239.66118459],\n",
       "        [ 39.69964165, 277.12746789],\n",
       "        [ 39.66853483, 316.75909268]]),\n",
       " array([[ 39.7262357 , 339.09367227],\n",
       "        [ 39.603136  , 365.91085937],\n",
       "        [ 40.09644826, 419.08164149],\n",
       "        [ 40.22408701, 468.59275689],\n",
       "        [ 40.1015682 , 446.69204794],\n",
       "        [ 40.21952286, 491.96094385],\n",
       "        [ 40.22976119, 556.18285458],\n",
       "        [ 40.24196271, 562.38792707],\n",
       "        [ 40.30872286, 575.90975592],\n",
       "        [ 40.16457476, 592.0432124 ],\n",
       "        [ 40.07402331, 549.57195217]]),\n",
       " array([19.20993822, 18.95568698, 18.98064618, 18.99058982, 18.85433481,\n",
       "        19.09681504, 18.9173892 , 18.8704862 , 19.14868483, 19.0492791 ,\n",
       "        18.79402558, 18.95823111, 19.11528585, 18.85550192, 18.90528577,\n",
       "        18.77589955, 19.12151279, 18.9758285 , 19.10817232, 19.12815882,\n",
       "        19.12061099, 19.19072555, 19.38850101, 19.05595547, 19.05378249,\n",
       "        19.07764917, 19.45346972, 19.426429  , 19.33456229, 19.60594377,\n",
       "        19.30594025, 19.27567187, 19.27462561, 19.5287696 , 19.51766799,\n",
       "        19.24927041, 19.5984615 , 19.86674962, 19.59547218, 19.36613975,\n",
       "        19.46405369, 19.60224047, 19.62665081, 19.49606603]),\n",
       " array([19.53330402, 19.62468873, 19.63939209, 19.48581354, 19.73527839,\n",
       "        19.63953051, 19.65678746, 19.56818782, 19.55111538, 19.8728805 ,\n",
       "        19.91474193]))"
      ]
     },
     "execution_count": 417,
     "metadata": {},
     "output_type": "execute_result"
    }
   ],
   "source": [
    "x_ptrain, x_ptest, y_ptrain, y_ptest"
   ]
  },
  {
   "cell_type": "code",
   "execution_count": 418,
   "metadata": {},
   "outputs": [
    {
     "data": {
      "text/plain": [
       "Pipeline(memory=None,\n",
       "         steps=[('scale',\n",
       "                 StandardScaler(copy=True, with_mean=True, with_std=True)),\n",
       "                ('poly',\n",
       "                 PolynomialFeatures(degree=2, include_bias=True,\n",
       "                                    interaction_only=False, order='C')),\n",
       "                ('method',\n",
       "                 LinearRegression(copy_X=True, fit_intercept=True, n_jobs=None,\n",
       "                                  normalize=False))],\n",
       "         verbose=False)"
      ]
     },
     "execution_count": 418,
     "metadata": {},
     "output_type": "execute_result"
    }
   ],
   "source": [
    "# Fit model\n",
    "pipe.fit(x_ptrain, y_ptrain)"
   ]
  },
  {
   "cell_type": "code",
   "execution_count": 419,
   "metadata": {},
   "outputs": [],
   "source": [
    "# Apply model\n",
    "y_ppred = pipe.predict(x_ptest)"
   ]
  },
  {
   "cell_type": "code",
   "execution_count": 420,
   "metadata": {},
   "outputs": [
    {
     "data": {
      "text/html": [
       "<div>\n",
       "<style scoped>\n",
       "    .dataframe tbody tr th:only-of-type {\n",
       "        vertical-align: middle;\n",
       "    }\n",
       "\n",
       "    .dataframe tbody tr th {\n",
       "        vertical-align: top;\n",
       "    }\n",
       "\n",
       "    .dataframe thead th {\n",
       "        text-align: right;\n",
       "    }\n",
       "</style>\n",
       "<table border=\"1\" class=\"dataframe\">\n",
       "  <thead>\n",
       "    <tr style=\"text-align: right;\">\n",
       "      <th></th>\n",
       "      <th>Actual Temp.</th>\n",
       "      <th>Predicted Temp.</th>\n",
       "    </tr>\n",
       "  </thead>\n",
       "  <tbody>\n",
       "    <tr>\n",
       "      <th>0</th>\n",
       "      <td>19.533304</td>\n",
       "      <td>19.606589</td>\n",
       "    </tr>\n",
       "    <tr>\n",
       "      <th>1</th>\n",
       "      <td>19.624689</td>\n",
       "      <td>19.595349</td>\n",
       "    </tr>\n",
       "    <tr>\n",
       "      <th>2</th>\n",
       "      <td>19.639392</td>\n",
       "      <td>19.659786</td>\n",
       "    </tr>\n",
       "    <tr>\n",
       "      <th>3</th>\n",
       "      <td>19.485814</td>\n",
       "      <td>19.651200</td>\n",
       "    </tr>\n",
       "    <tr>\n",
       "      <th>4</th>\n",
       "      <td>19.735278</td>\n",
       "      <td>19.646504</td>\n",
       "    </tr>\n",
       "    <tr>\n",
       "      <th>5</th>\n",
       "      <td>19.639531</td>\n",
       "      <td>19.629164</td>\n",
       "    </tr>\n",
       "    <tr>\n",
       "      <th>6</th>\n",
       "      <td>19.656787</td>\n",
       "      <td>19.549879</td>\n",
       "    </tr>\n",
       "    <tr>\n",
       "      <th>7</th>\n",
       "      <td>19.568188</td>\n",
       "      <td>19.542227</td>\n",
       "    </tr>\n",
       "    <tr>\n",
       "      <th>8</th>\n",
       "      <td>19.551115</td>\n",
       "      <td>19.530898</td>\n",
       "    </tr>\n",
       "    <tr>\n",
       "      <th>9</th>\n",
       "      <td>19.872881</td>\n",
       "      <td>19.480599</td>\n",
       "    </tr>\n",
       "    <tr>\n",
       "      <th>10</th>\n",
       "      <td>19.914742</td>\n",
       "      <td>19.536185</td>\n",
       "    </tr>\n",
       "  </tbody>\n",
       "</table>\n",
       "</div>"
      ],
      "text/plain": [
       "    Actual Temp.  Predicted Temp.\n",
       "0      19.533304        19.606589\n",
       "1      19.624689        19.595349\n",
       "2      19.639392        19.659786\n",
       "3      19.485814        19.651200\n",
       "4      19.735278        19.646504\n",
       "5      19.639531        19.629164\n",
       "6      19.656787        19.549879\n",
       "7      19.568188        19.542227\n",
       "8      19.551115        19.530898\n",
       "9      19.872881        19.480599\n",
       "10     19.914742        19.536185"
      ]
     },
     "execution_count": 420,
     "metadata": {},
     "output_type": "execute_result"
    }
   ],
   "source": [
    "# Compare actual and predicted value\n",
    "ptable_act_pred = pd.DataFrame({'Actual Temp.': y_ptest.flatten(), 'Predicted Temp.': y_ppred.flatten()})\n",
    "ptable_act_pred"
   ]
  },
  {
   "cell_type": "markdown",
   "metadata": {},
   "source": [
    "- no accurate prediction, a slight downward trend is predicted"
   ]
  },
  {
   "cell_type": "code",
   "execution_count": 421,
   "metadata": {},
   "outputs": [
    {
     "data": {
      "text/plain": [
       "[<matplotlib.lines.Line2D at 0x7fad3a615d90>]"
      ]
     },
     "execution_count": 421,
     "metadata": {},
     "output_type": "execute_result"
    },
    {
     "data": {
      "image/png": "[encoded data removed]",
      "text/plain": [
       "<Figure size 432x288 with 1 Axes>"
      ]
     },
     "metadata": {
      "needs_background": "light"
     },
     "output_type": "display_data"
    }
   ],
   "source": [
    "# Plot comparison of actual and predicted values\n",
    "plt.plot(y_ptest, y_ptest, 'k-', label='actual')\n",
    "plt.plot(y_ptest, y_ppred, 'gx', label='predicted')"
   ]
  },
  {
   "cell_type": "markdown",
   "metadata": {},
   "source": [
    "### OLS -  Ordinary Least Squares Regression"
   ]
  },
  {
   "cell_type": "code",
   "execution_count": 422,
   "metadata": {},
   "outputs": [],
   "source": [
    "import statsmodels.api as sm"
   ]
  },
  {
   "cell_type": "code",
   "execution_count": 423,
   "metadata": {},
   "outputs": [],
   "source": [
    "# Define variables\n",
    "x_olsvar = data_lr[['Agricultural land in %','GDP in billion $US']].values\n",
    "y_olsvar = data_lr['Temperature(Avg.)'].values"
   ]
  },
  {
   "cell_type": "code",
   "execution_count": 424,
   "metadata": {},
   "outputs": [],
   "source": [
    "# Split data\n",
    "x_olstrain, x_olstest, y_olstrain, y_olstest = train_test_split(x_olsvar, y_olsvar, test_size=0.3, shuffle=False)"
   ]
  },
  {
   "cell_type": "code",
   "execution_count": 425,
   "metadata": {},
   "outputs": [],
   "source": [
    "# Fit model\n",
    "ols_model = sm.OLS(y_olstrain, x_olstrain).fit()"
   ]
  },
  {
   "cell_type": "code",
   "execution_count": 426,
   "metadata": {},
   "outputs": [],
   "source": [
    "# Predict model\n",
    "y_olspred = ols_model.predict(x_olstest)"
   ]
  },
  {
   "cell_type": "code",
   "execution_count": 427,
   "metadata": {},
   "outputs": [
    {
     "data": {
      "text/plain": [
       "array([19.70412836, 19.81493967, 19.82195696, 19.75721925, 19.83785064,\n",
       "       19.8501347 , 19.89428364, 19.85209859, 20.13333258, 20.23106697,\n",
       "       20.15514757, 20.24512752, 20.29504259, 20.30541346, 20.34789083,\n",
       "       20.28782962, 20.21336313])"
      ]
     },
     "execution_count": 427,
     "metadata": {},
     "output_type": "execute_result"
    }
   ],
   "source": [
    "y_olspred"
   ]
  },
  {
   "cell_type": "code",
   "execution_count": 428,
   "metadata": {},
   "outputs": [
    {
     "data": {
      "text/plain": [
       "array([19.59547218, 19.36613975, 19.46405369, 19.60224047, 19.62665081,\n",
       "       19.49606603, 19.53330402, 19.62468873, 19.63939209, 19.48581354,\n",
       "       19.73527839, 19.63953051, 19.65678746, 19.56818782, 19.55111538,\n",
       "       19.8728805 , 19.91474193])"
      ]
     },
     "execution_count": 428,
     "metadata": {},
     "output_type": "execute_result"
    }
   ],
   "source": [
    "y_olstest"
   ]
  },
  {
   "cell_type": "code",
   "execution_count": 429,
   "metadata": {},
   "outputs": [
    {
     "data": {
      "text/html": [
       "<table class=\"simpletable\">\n",
       "<caption>OLS Regression Results</caption>\n",
       "<tr>\n",
       "  <th>Dep. Variable:</th>            <td>y</td>        <th>  R-squared (uncentered):</th>      <td>   1.000</td> \n",
       "</tr>\n",
       "<tr>\n",
       "  <th>Model:</th>                   <td>OLS</td>       <th>  Adj. R-squared (uncentered):</th> <td>   1.000</td> \n",
       "</tr>\n",
       "<tr>\n",
       "  <th>Method:</th>             <td>Least Squares</td>  <th>  F-statistic:       </th>          <td>9.275e+04</td>\n",
       "</tr>\n",
       "<tr>\n",
       "  <th>Date:</th>             <td>Fri, 26 Jun 2020</td> <th>  Prob (F-statistic):</th>          <td>1.52e-67</td> \n",
       "</tr>\n",
       "<tr>\n",
       "  <th>Time:</th>                 <td>19:23:58</td>     <th>  Log-Likelihood:    </th>          <td> -3.7316</td> \n",
       "</tr>\n",
       "<tr>\n",
       "  <th>No. Observations:</th>      <td>    38</td>      <th>  AIC:               </th>          <td>   11.46</td> \n",
       "</tr>\n",
       "<tr>\n",
       "  <th>Df Residuals:</th>          <td>    36</td>      <th>  BIC:               </th>          <td>   14.74</td> \n",
       "</tr>\n",
       "<tr>\n",
       "  <th>Df Model:</th>              <td>     2</td>      <th>                     </th>              <td> </td>    \n",
       "</tr>\n",
       "<tr>\n",
       "  <th>Covariance Type:</th>      <td>nonrobust</td>    <th>                     </th>              <td> </td>    \n",
       "</tr>\n",
       "</table>\n",
       "<table class=\"simpletable\">\n",
       "<tr>\n",
       "   <td></td>     <th>coef</th>     <th>std err</th>      <th>t</th>      <th>P>|t|</th>  <th>[0.025</th>    <th>0.975]</th>  \n",
       "</tr>\n",
       "<tr>\n",
       "  <th>x1</th> <td>    0.4948</td> <td>    0.001</td> <td>  338.989</td> <td> 0.000</td> <td>    0.492</td> <td>    0.498</td>\n",
       "</tr>\n",
       "<tr>\n",
       "  <th>x2</th> <td>    0.0007</td> <td>    0.000</td> <td>    3.571</td> <td> 0.001</td> <td>    0.000</td> <td>    0.001</td>\n",
       "</tr>\n",
       "</table>\n",
       "<table class=\"simpletable\">\n",
       "<tr>\n",
       "  <th>Omnibus:</th>       <td> 2.611</td> <th>  Durbin-Watson:     </th> <td>   0.563</td>\n",
       "</tr>\n",
       "<tr>\n",
       "  <th>Prob(Omnibus):</th> <td> 0.271</td> <th>  Jarque-Bera (JB):  </th> <td>   1.406</td>\n",
       "</tr>\n",
       "<tr>\n",
       "  <th>Skew:</th>          <td> 0.100</td> <th>  Prob(JB):          </th> <td>   0.495</td>\n",
       "</tr>\n",
       "<tr>\n",
       "  <th>Kurtosis:</th>      <td> 2.079</td> <th>  Cond. No.          </th> <td>    9.49</td>\n",
       "</tr>\n",
       "</table><br/><br/>Warnings:<br/>[1] Standard Errors assume that the covariance matrix of the errors is correctly specified."
      ],
      "text/plain": [
       "<class 'statsmodels.iolib.summary.Summary'>\n",
       "\"\"\"\n",
       "                                 OLS Regression Results                                \n",
       "=======================================================================================\n",
       "Dep. Variable:                      y   R-squared (uncentered):                   1.000\n",
       "Model:                            OLS   Adj. R-squared (uncentered):              1.000\n",
       "Method:                 Least Squares   F-statistic:                          9.275e+04\n",
       "Date:                Fri, 26 Jun 2020   Prob (F-statistic):                    1.52e-67\n",
       "Time:                        19:23:58   Log-Likelihood:                         -3.7316\n",
       "No. Observations:                  38   AIC:                                      11.46\n",
       "Df Residuals:                      36   BIC:                                      14.74\n",
       "Df Model:                           2                                                  \n",
       "Covariance Type:            nonrobust                                                  \n",
       "==============================================================================\n",
       "                 coef    std err          t      P>|t|      [0.025      0.975]\n",
       "------------------------------------------------------------------------------\n",
       "x1             0.4948      0.001    338.989      0.000       0.492       0.498\n",
       "x2             0.0007      0.000      3.571      0.001       0.000       0.001\n",
       "==============================================================================\n",
       "Omnibus:                        2.611   Durbin-Watson:                   0.563\n",
       "Prob(Omnibus):                  0.271   Jarque-Bera (JB):                1.406\n",
       "Skew:                           0.100   Prob(JB):                        0.495\n",
       "Kurtosis:                       2.079   Cond. No.                         9.49\n",
       "==============================================================================\n",
       "\n",
       "Warnings:\n",
       "[1] Standard Errors assume that the covariance matrix of the errors is correctly specified.\n",
       "\"\"\""
      ]
     },
     "execution_count": 429,
     "metadata": {},
     "output_type": "execute_result"
    }
   ],
   "source": [
    "# Get a summary of model\n",
    "ols_model.summary()"
   ]
  },
  {
   "cell_type": "code",
   "execution_count": 430,
   "metadata": {},
   "outputs": [
    {
     "data": {
      "text/html": [
       "<div>\n",
       "<style scoped>\n",
       "    .dataframe tbody tr th:only-of-type {\n",
       "        vertical-align: middle;\n",
       "    }\n",
       "\n",
       "    .dataframe tbody tr th {\n",
       "        vertical-align: top;\n",
       "    }\n",
       "\n",
       "    .dataframe thead th {\n",
       "        text-align: right;\n",
       "    }\n",
       "</style>\n",
       "<table border=\"1\" class=\"dataframe\">\n",
       "  <thead>\n",
       "    <tr style=\"text-align: right;\">\n",
       "      <th></th>\n",
       "      <th>Actual Temp.</th>\n",
       "      <th>Predicted Temp.</th>\n",
       "    </tr>\n",
       "  </thead>\n",
       "  <tbody>\n",
       "    <tr>\n",
       "      <th>0</th>\n",
       "      <td>19.595472</td>\n",
       "      <td>19.704128</td>\n",
       "    </tr>\n",
       "    <tr>\n",
       "      <th>1</th>\n",
       "      <td>19.366140</td>\n",
       "      <td>19.814940</td>\n",
       "    </tr>\n",
       "    <tr>\n",
       "      <th>2</th>\n",
       "      <td>19.464054</td>\n",
       "      <td>19.821957</td>\n",
       "    </tr>\n",
       "    <tr>\n",
       "      <th>3</th>\n",
       "      <td>19.602240</td>\n",
       "      <td>19.757219</td>\n",
       "    </tr>\n",
       "    <tr>\n",
       "      <th>4</th>\n",
       "      <td>19.626651</td>\n",
       "      <td>19.837851</td>\n",
       "    </tr>\n",
       "    <tr>\n",
       "      <th>5</th>\n",
       "      <td>19.496066</td>\n",
       "      <td>19.850135</td>\n",
       "    </tr>\n",
       "    <tr>\n",
       "      <th>6</th>\n",
       "      <td>19.533304</td>\n",
       "      <td>19.894284</td>\n",
       "    </tr>\n",
       "    <tr>\n",
       "      <th>7</th>\n",
       "      <td>19.624689</td>\n",
       "      <td>19.852099</td>\n",
       "    </tr>\n",
       "    <tr>\n",
       "      <th>8</th>\n",
       "      <td>19.639392</td>\n",
       "      <td>20.133333</td>\n",
       "    </tr>\n",
       "    <tr>\n",
       "      <th>9</th>\n",
       "      <td>19.485814</td>\n",
       "      <td>20.231067</td>\n",
       "    </tr>\n",
       "    <tr>\n",
       "      <th>10</th>\n",
       "      <td>19.735278</td>\n",
       "      <td>20.155148</td>\n",
       "    </tr>\n",
       "    <tr>\n",
       "      <th>11</th>\n",
       "      <td>19.639531</td>\n",
       "      <td>20.245128</td>\n",
       "    </tr>\n",
       "    <tr>\n",
       "      <th>12</th>\n",
       "      <td>19.656787</td>\n",
       "      <td>20.295043</td>\n",
       "    </tr>\n",
       "    <tr>\n",
       "      <th>13</th>\n",
       "      <td>19.568188</td>\n",
       "      <td>20.305413</td>\n",
       "    </tr>\n",
       "    <tr>\n",
       "      <th>14</th>\n",
       "      <td>19.551115</td>\n",
       "      <td>20.347891</td>\n",
       "    </tr>\n",
       "    <tr>\n",
       "      <th>15</th>\n",
       "      <td>19.872881</td>\n",
       "      <td>20.287830</td>\n",
       "    </tr>\n",
       "    <tr>\n",
       "      <th>16</th>\n",
       "      <td>19.914742</td>\n",
       "      <td>20.213363</td>\n",
       "    </tr>\n",
       "  </tbody>\n",
       "</table>\n",
       "</div>"
      ],
      "text/plain": [
       "    Actual Temp.  Predicted Temp.\n",
       "0      19.595472        19.704128\n",
       "1      19.366140        19.814940\n",
       "2      19.464054        19.821957\n",
       "3      19.602240        19.757219\n",
       "4      19.626651        19.837851\n",
       "5      19.496066        19.850135\n",
       "6      19.533304        19.894284\n",
       "7      19.624689        19.852099\n",
       "8      19.639392        20.133333\n",
       "9      19.485814        20.231067\n",
       "10     19.735278        20.155148\n",
       "11     19.639531        20.245128\n",
       "12     19.656787        20.295043\n",
       "13     19.568188        20.305413\n",
       "14     19.551115        20.347891\n",
       "15     19.872881        20.287830\n",
       "16     19.914742        20.213363"
      ]
     },
     "execution_count": 430,
     "metadata": {},
     "output_type": "execute_result"
    }
   ],
   "source": [
    "# Compare predicted and actual values\n",
    "olstable_act_pred = pd.DataFrame({'Actual Temp.': y_olstest.flatten(), 'Predicted Temp.': y_olspred.flatten()})\n",
    "olstable_act_pred"
   ]
  },
  {
   "cell_type": "markdown",
   "metadata": {},
   "source": [
    "- Values are increasing, but too high compared to actual values"
   ]
  },
  {
   "cell_type": "code",
   "execution_count": 431,
   "metadata": {},
   "outputs": [
    {
     "data": {
      "text/plain": [
       "[<matplotlib.lines.Line2D at 0x7fad3a615550>]"
      ]
     },
     "execution_count": 431,
     "metadata": {},
     "output_type": "execute_result"
    },
    {
     "data": {
      "image/png": "[encoded data removed]",
      "text/plain": [
       "<Figure size 432x288 with 1 Axes>"
      ]
     },
     "metadata": {
      "needs_background": "light"
     },
     "output_type": "display_data"
    }
   ],
   "source": [
    "# Plot comparison\n",
    "plt.plot(y_olstest, y_olstest, 'k-', label='actual')\n",
    "plt.plot(y_olstest, y_olspred, 'gx', label='predicted')"
   ]
  },
  {
   "cell_type": "markdown",
   "metadata": {},
   "source": [
    "- All predicted values are too high\n",
    "- extremly high variance, values only vary above reference line"
   ]
  },
  {
   "cell_type": "code",
   "execution_count": null,
   "metadata": {},
   "outputs": [],
   "source": []
  }
 ],
 "metadata": {
  "kernelspec": {
   "display_name": "Python 3",
   "language": "python",
   "name": "python3"
  },
  "language_info": {
   "codemirror_mode": {
    "name": "ipython",
    "version": 3
   },
   "file_extension": ".py",
   "mimetype": "text/x-python",
   "name": "python",
   "nbconvert_exporter": "python",
   "pygments_lexer": "ipython3",
   "version": "3.7.6"
  }
 },
 "nbformat": 4,
 "nbformat_minor": 4
}
